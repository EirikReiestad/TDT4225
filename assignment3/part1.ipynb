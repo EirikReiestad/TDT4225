{
 "cells": [
  {
   "cell_type": "markdown",
   "metadata": {},
   "source": [
    "### Initialize"
   ]
  },
  {
   "cell_type": "code",
   "execution_count": 1,
   "metadata": {},
   "outputs": [],
   "source": [
    "import os\n",
    "import pymongo\n",
    "from datetime import datetime\n",
    "from program import Program"
   ]
  },
  {
   "cell_type": "code",
   "execution_count": 2,
   "metadata": {},
   "outputs": [
    {
     "name": "stdout",
     "output_type": "stream",
     "text": [
      "You are connected to the database: assignment3\n",
      "-----------------------------------------------\n",
      "\n"
     ]
    }
   ],
   "source": [
    "program = Program()"
   ]
  },
  {
   "cell_type": "code",
   "execution_count": 3,
   "metadata": {},
   "outputs": [],
   "source": [
    "program.drop_coll('User')\n",
    "program.drop_coll('Activity')\n",
    "program.drop_coll('TrackPoint')"
   ]
  },
  {
   "cell_type": "markdown",
   "metadata": {},
   "source": [
    "### Create Collections"
   ]
  },
  {
   "cell_type": "code",
   "execution_count": 4,
   "metadata": {},
   "outputs": [
    {
     "name": "stdout",
     "output_type": "stream",
     "text": [
      "Created collection:  Collection(Database(MongoClient(host=['tdt4225-35.idi.ntnu.no:27017'], document_class=dict, tz_aware=False, connect=True), 'assignment3'), 'User')\n",
      "Created collection:  Collection(Database(MongoClient(host=['tdt4225-35.idi.ntnu.no:27017'], document_class=dict, tz_aware=False, connect=True), 'assignment3'), 'Activity')\n",
      "Created collection:  Collection(Database(MongoClient(host=['tdt4225-35.idi.ntnu.no:27017'], document_class=dict, tz_aware=False, connect=True), 'assignment3'), 'TrackPoint')\n"
     ]
    }
   ],
   "source": [
    "program.create_coll('User')\n",
    "program.create_coll('Activity')\n",
    "program.create_coll('TrackPoint')"
   ]
  },
  {
   "cell_type": "markdown",
   "metadata": {},
   "source": [
    "### Insert Documents"
   ]
  },
  {
   "cell_type": "code",
   "execution_count": 5,
   "metadata": {},
   "outputs": [],
   "source": [
    "user_label = []\n",
    "with open(\"./dataset/labeled_ids.txt\", \"r\", encoding=\"UTF-8\") as labeled_ids:\n",
    "    for line in labeled_ids:\n",
    "        user_label.append(line.strip())\n",
    "\n",
    "trackpoint_counter = 1\n",
    "activity_counter = 1\n",
    "\n",
    "# Loop through all the folders containing data for each user\n",
    "# As each folder correspond to a user, add the user to the User table\n",
    "directory_path = \"./dataset/Data\"\n",
    "folders = os.listdir(directory_path)\n",
    "for user_id in folders:\n",
    "    # If user saves transportation mode\n",
    "    if user_id in user_label:\n",
    "        # Insert into User table with has_labels=TRUE\n",
    "        user = {\"_id\": user_id, \"has_labels\": True}\n",
    "\n",
    "        program.insert_doc(\"User\", user)\n",
    "\n",
    "        activities = []\n",
    "\n",
    "        # Insert the user's labeled activities\n",
    "        with open(\n",
    "            \"./dataset/Data/\" + user_id + \"/labels.txt\", \"r\", encoding=\"UTF-8\"\n",
    "        ) as labels:\n",
    "            values = []\n",
    "            labels.readline()\n",
    "            for line in labels:\n",
    "                # Process each line based on labels.txt format\n",
    "                line = line.strip().split(\"\\t\")\n",
    "                start_date_time = line[0].replace(\"/\", \"-\")\n",
    "                end_date_time = line[1].replace(\"/\", \"-\")\n",
    "                transportation_mode = line[2]\n",
    "\n",
    "                start_date_time = datetime.strptime(start_date_time, \"%Y-%m-%d %H:%M:%S\")\n",
    "                end_date_time = datetime.strptime(end_date_time, \"%Y-%m-%d %H:%M:%S\")\n",
    "\n",
    "                activity = {\n",
    "                    \"_id\": activity_counter,\n",
    "                    \"user_id\": user_id,\n",
    "                    \"transportation_mode\": transportation_mode,\n",
    "                    \"start_date_time\": start_date_time,\n",
    "                    \"end_date_time\": end_date_time,\n",
    "                }\n",
    "\n",
    "                activities.append(activity)\n",
    "                activity_counter += 1\n",
    "\n",
    "        # Insert all labeled activites as a batch\n",
    "        program.insert_many_docs(\"Activity\", activities)\n",
    "\n",
    "    else:\n",
    "        # If user does not save transportation mode, set has_labels=FALSE\n",
    "        user = {\"_id\": user_id, \"has_labels\": False}\n",
    "\n",
    "        program.insert_doc(\"User\", user)\n",
    "\n",
    "    # Retrieve files in current user's Trajectory folder\n",
    "    # Each file corresponds to an activity\n",
    "    trajectory_path = \"./dataset/Data/\" + user_id + \"/Trajectory/\"\n",
    "    files = os.listdir(trajectory_path)\n",
    "\n",
    "    for file in files:\n",
    "        # Read the file\n",
    "        with open(trajectory_path + file, \"r\", encoding=\"UTF-8\") as f:\n",
    "            lines = f.readlines()\n",
    "\n",
    "        # Process the file to retrieve start and end time\n",
    "        # Start time: Date of the first trackpoint\n",
    "        # End time: Date of the last trackpoint\n",
    "        start_date_time = lines[6].split(\",\")[5] + \" \" + lines[6].split(\",\")[6]\n",
    "        end_date_time = lines[-1].split(\",\")[5] + \" \" + lines[-1].split(\",\")[6]\n",
    "\n",
    "        start_date_time = datetime.strptime(start_date_time.strip(), \"%Y-%m-%d %H:%M:%S\")\n",
    "        end_date_time = datetime.strptime(end_date_time.strip(), \"%Y-%m-%d %H:%M:%S\")\n",
    "\n",
    "        # If user saves transportation mode, then retrieve the activity in\n",
    "        # Activity table which has exact matches on starttime and end time\n",
    "        if user_id in user_label:\n",
    "\n",
    "            # We choose the most recent added activity by using the ASCENDING sort and then the loop\n",
    "            # This is for example if a user starts driving the car, but drives slow in the beginning\n",
    "            # it might have been perceived as walking in the beginning and added to the Activity list\n",
    "            # after the user speeds up, a new activity is added with the same endtime and starttime,\n",
    "            # but with another transportation mode\n",
    "            rows = program.query(\n",
    "                 \"Activity\",\n",
    "                {\n",
    "                    \"user_id\": user_id,\n",
    "                    \"start_date_time\": start_date_time,\n",
    "                    \"end_date_time\": end_date_time,\n",
    "                },\n",
    "            )\n",
    "            activity_id = []\n",
    "            for row in rows:\n",
    "                activity_id.append(row['_id'])\n",
    "\n",
    "            # If there is no match, then this file of trackpoint is skipped\n",
    "            # Because user who saves transportation mode is not allowed\n",
    "            # To have transportation mode equals to NULL\n",
    "            # Thus, we cannot add a new Activity row for it\n",
    "            if not activity_id:\n",
    "                continue\n",
    "\n",
    "        # If file includes more than 2500 (+6 to count for headers) trackpoints\n",
    "        if len(lines) > 2500 + 6:\n",
    "            # If user saves transportation mode, delete the activity that this\n",
    "            # file belongs to as it will not have any trackpoints, thus is not relevant\n",
    "            if user_id in user_label:\n",
    "\n",
    "                program.delete_many_docs('Activity', {\n",
    "                    '_id': {\n",
    "                        '%in': activity_id\n",
    "                    }\n",
    "                })\n",
    "            # Thereafter, skip this file\n",
    "            continue\n",
    "\n",
    "        if user_id in user_label:\n",
    "            activity_id = activity_id[0]\n",
    "        else:\n",
    "            # If user does not save transportation, it means no activity has been added\n",
    "            # and therefore we add a new activity with transportation_mode = None (NULL)\n",
    "            activity = {\n",
    "                \"_id\": activity_counter,\n",
    "                \"user_id\": user_id,\n",
    "                \"transportation_mode\": None,\n",
    "                \"start_date_time\": start_date_time,\n",
    "                \"end_date_time\": end_date_time,\n",
    "            }\n",
    "            program.insert_doc('Activity', activity)\n",
    "            activity_id = activity_counter\n",
    "            activity_counter += 1\n",
    "\n",
    "        values = []\n",
    "        # Then process each line of the activity file, but skip the headers (first 6 lines)\n",
    "        trackpoints = []\n",
    "        for line in lines[6:]:\n",
    "            line = line.strip().split(\",\")\n",
    "            lat = line[0]\n",
    "            lon = line[1]\n",
    "            altitude = line[3]\n",
    "            date_days = line[4]\n",
    "            date_time = line[5] + \" \" + line[6]\n",
    "\n",
    "            date_time = datetime.strptime(date_time.strip(), \"%Y-%m-%d %H:%M:%S\")\n",
    "\n",
    "            trackpoint = {\n",
    "                '_id': trackpoint_counter,\n",
    "                'activity_id': activity_id,\n",
    "                'lat': lat,\n",
    "                'lon': lon,\n",
    "                'altitude': altitude,\n",
    "                'date_days': date_days,\n",
    "                'date_time': date_time\n",
    "            }\n",
    "            trackpoints.append(trackpoint)\n",
    "            trackpoint_counter += 1\n",
    "\n",
    "        program.insert_many_docs('TrackPoint',trackpoints)\n",
    "\n",
    "# Then we clean up the activities which do not have any trackpoints\n",
    "# As there could exists trackpoints in the labels.txt for each user that does not have any\n",
    "# corresponding file in the user's Trajectory folder\n",
    "\n",
    "activity_ids = program.field_query_unique('TrackPoint', 'activity_id')\n",
    "program.delete_many_docs('Activity', {\n",
    "    '_id': {\n",
    "        \"$nin\": activity_ids\n",
    "    }\n",
    "})"
   ]
  },
  {
   "cell_type": "code",
   "execution_count": 9,
   "metadata": {},
   "outputs": [
    {
     "data": {
      "text/plain": [
       "182"
      ]
     },
     "execution_count": 9,
     "metadata": {},
     "output_type": "execute_result"
    }
   ],
   "source": [
    "collection = program.db['User']\n",
    "documents = collection.find()\n",
    "users = list(documents)\n",
    "len(users)"
   ]
  },
  {
   "cell_type": "code",
   "execution_count": 10,
   "metadata": {},
   "outputs": [
    {
     "data": {
      "text/plain": [
       "7877"
      ]
     },
     "execution_count": 10,
     "metadata": {},
     "output_type": "execute_result"
    }
   ],
   "source": [
    "collection = program.db['Activity']\n",
    "documents = collection.find({})\n",
    "activities = list(documents)\n",
    "len(activities)"
   ]
  },
  {
   "cell_type": "code",
   "execution_count": 11,
   "metadata": {},
   "outputs": [
    {
     "ename": "KeyboardInterrupt",
     "evalue": "",
     "output_type": "error",
     "traceback": [
      "\u001b[0;31m---------------------------------------------------------------------------\u001b[0m",
      "\u001b[0;31mKeyboardInterrupt\u001b[0m                         Traceback (most recent call last)",
      "\u001b[1;32m/home/eirik/Documents/university/TDT4225/assignment3/part1.ipynb Cell 11\u001b[0m line \u001b[0;36m3\n\u001b[1;32m      <a href='vscode-notebook-cell:/home/eirik/Documents/university/TDT4225/assignment3/part1.ipynb#X13sZmlsZQ%3D%3D?line=0'>1</a>\u001b[0m collection \u001b[39m=\u001b[39m program\u001b[39m.\u001b[39mdb[\u001b[39m'\u001b[39m\u001b[39mTrackPoint\u001b[39m\u001b[39m'\u001b[39m]\n\u001b[1;32m      <a href='vscode-notebook-cell:/home/eirik/Documents/university/TDT4225/assignment3/part1.ipynb#X13sZmlsZQ%3D%3D?line=1'>2</a>\u001b[0m documents \u001b[39m=\u001b[39m collection\u001b[39m.\u001b[39mfind({})\n\u001b[0;32m----> <a href='vscode-notebook-cell:/home/eirik/Documents/university/TDT4225/assignment3/part1.ipynb#X13sZmlsZQ%3D%3D?line=2'>3</a>\u001b[0m trackpoints \u001b[39m=\u001b[39m \u001b[39mlist\u001b[39;49m(documents)\n\u001b[1;32m      <a href='vscode-notebook-cell:/home/eirik/Documents/university/TDT4225/assignment3/part1.ipynb#X13sZmlsZQ%3D%3D?line=3'>4</a>\u001b[0m \u001b[39mlen\u001b[39m(trackpoints)\n",
      "File \u001b[0;32m~/Documents/university/TDT4225/.venv/lib/python3.11/site-packages/pymongo/cursor.py:1262\u001b[0m, in \u001b[0;36mCursor.next\u001b[0;34m(self)\u001b[0m\n\u001b[1;32m   1260\u001b[0m \u001b[39mif\u001b[39;00m \u001b[39mself\u001b[39m\u001b[39m.\u001b[39m__empty:\n\u001b[1;32m   1261\u001b[0m     \u001b[39mraise\u001b[39;00m \u001b[39mStopIteration\u001b[39;00m\n\u001b[0;32m-> 1262\u001b[0m \u001b[39mif\u001b[39;00m \u001b[39mlen\u001b[39m(\u001b[39mself\u001b[39m\u001b[39m.\u001b[39m__data) \u001b[39mor\u001b[39;00m \u001b[39mself\u001b[39;49m\u001b[39m.\u001b[39;49m_refresh():\n\u001b[1;32m   1263\u001b[0m     \u001b[39mreturn\u001b[39;00m \u001b[39mself\u001b[39m\u001b[39m.\u001b[39m__data\u001b[39m.\u001b[39mpopleft()\n\u001b[1;32m   1264\u001b[0m \u001b[39melse\u001b[39;00m:\n",
      "File \u001b[0;32m~/Documents/university/TDT4225/.venv/lib/python3.11/site-packages/pymongo/cursor.py:1202\u001b[0m, in \u001b[0;36mCursor._refresh\u001b[0;34m(self)\u001b[0m\n\u001b[1;32m   1187\u001b[0m     \u001b[39m# Exhaust cursors don't send getMore messages.\u001b[39;00m\n\u001b[1;32m   1188\u001b[0m     g \u001b[39m=\u001b[39m \u001b[39mself\u001b[39m\u001b[39m.\u001b[39m_getmore_class(\n\u001b[1;32m   1189\u001b[0m         \u001b[39mself\u001b[39m\u001b[39m.\u001b[39m__dbname,\n\u001b[1;32m   1190\u001b[0m         \u001b[39mself\u001b[39m\u001b[39m.\u001b[39m__collname,\n\u001b[0;32m   (...)\u001b[0m\n\u001b[1;32m   1200\u001b[0m         \u001b[39mself\u001b[39m\u001b[39m.\u001b[39m__comment,\n\u001b[1;32m   1201\u001b[0m     )\n\u001b[0;32m-> 1202\u001b[0m     \u001b[39mself\u001b[39;49m\u001b[39m.\u001b[39;49m__send_message(g)\n\u001b[1;32m   1204\u001b[0m \u001b[39mreturn\u001b[39;00m \u001b[39mlen\u001b[39m(\u001b[39mself\u001b[39m\u001b[39m.\u001b[39m__data)\n",
      "File \u001b[0;32m~/Documents/university/TDT4225/.venv/lib/python3.11/site-packages/pymongo/cursor.py:1060\u001b[0m, in \u001b[0;36mCursor.__send_message\u001b[0;34m(self, operation)\u001b[0m\n\u001b[1;32m   1057\u001b[0m     \u001b[39mraise\u001b[39;00m InvalidOperation(\u001b[39m\"\u001b[39m\u001b[39mexhaust cursors do not support auto encryption\u001b[39m\u001b[39m\"\u001b[39m)\n\u001b[1;32m   1059\u001b[0m \u001b[39mtry\u001b[39;00m:\n\u001b[0;32m-> 1060\u001b[0m     response \u001b[39m=\u001b[39m client\u001b[39m.\u001b[39;49m_run_operation(\n\u001b[1;32m   1061\u001b[0m         operation, \u001b[39mself\u001b[39;49m\u001b[39m.\u001b[39;49m_unpack_response, address\u001b[39m=\u001b[39;49m\u001b[39mself\u001b[39;49m\u001b[39m.\u001b[39;49m__address\n\u001b[1;32m   1062\u001b[0m     )\n\u001b[1;32m   1063\u001b[0m \u001b[39mexcept\u001b[39;00m OperationFailure \u001b[39mas\u001b[39;00m exc:\n\u001b[1;32m   1064\u001b[0m     \u001b[39mif\u001b[39;00m exc\u001b[39m.\u001b[39mcode \u001b[39min\u001b[39;00m _CURSOR_CLOSED_ERRORS \u001b[39mor\u001b[39;00m \u001b[39mself\u001b[39m\u001b[39m.\u001b[39m__exhaust:\n\u001b[1;32m   1065\u001b[0m         \u001b[39m# Don't send killCursors because the cursor is already closed.\u001b[39;00m\n",
      "File \u001b[0;32m~/Documents/university/TDT4225/.venv/lib/python3.11/site-packages/pymongo/_csot.py:108\u001b[0m, in \u001b[0;36mapply.<locals>.csot_wrapper\u001b[0;34m(self, *args, **kwargs)\u001b[0m\n\u001b[1;32m    106\u001b[0m         \u001b[39mwith\u001b[39;00m _TimeoutContext(timeout):\n\u001b[1;32m    107\u001b[0m             \u001b[39mreturn\u001b[39;00m func(\u001b[39mself\u001b[39m, \u001b[39m*\u001b[39margs, \u001b[39m*\u001b[39m\u001b[39m*\u001b[39mkwargs)\n\u001b[0;32m--> 108\u001b[0m \u001b[39mreturn\u001b[39;00m func(\u001b[39mself\u001b[39;49m, \u001b[39m*\u001b[39;49margs, \u001b[39m*\u001b[39;49m\u001b[39m*\u001b[39;49mkwargs)\n",
      "File \u001b[0;32m~/Documents/university/TDT4225/.venv/lib/python3.11/site-packages/pymongo/mongo_client.py:1388\u001b[0m, in \u001b[0;36mMongoClient._run_operation\u001b[0;34m(self, operation, unpack_res, address)\u001b[0m\n\u001b[1;32m   1383\u001b[0m     operation\u001b[39m.\u001b[39mreset()  \u001b[39m# Reset op in case of retry.\u001b[39;00m\n\u001b[1;32m   1384\u001b[0m     \u001b[39mreturn\u001b[39;00m server\u001b[39m.\u001b[39mrun_operation(\n\u001b[1;32m   1385\u001b[0m         conn, operation, read_preference, \u001b[39mself\u001b[39m\u001b[39m.\u001b[39m_event_listeners, unpack_res\n\u001b[1;32m   1386\u001b[0m     )\n\u001b[0;32m-> 1388\u001b[0m \u001b[39mreturn\u001b[39;00m \u001b[39mself\u001b[39;49m\u001b[39m.\u001b[39;49m_retryable_read(\n\u001b[1;32m   1389\u001b[0m     _cmd,\n\u001b[1;32m   1390\u001b[0m     operation\u001b[39m.\u001b[39;49mread_preference,\n\u001b[1;32m   1391\u001b[0m     operation\u001b[39m.\u001b[39;49msession,\n\u001b[1;32m   1392\u001b[0m     address\u001b[39m=\u001b[39;49maddress,\n\u001b[1;32m   1393\u001b[0m     retryable\u001b[39m=\u001b[39;49m\u001b[39misinstance\u001b[39;49m(operation, message\u001b[39m.\u001b[39;49m_Query),\n\u001b[1;32m   1394\u001b[0m )\n",
      "File \u001b[0;32m~/Documents/university/TDT4225/.venv/lib/python3.11/site-packages/pymongo/_csot.py:108\u001b[0m, in \u001b[0;36mapply.<locals>.csot_wrapper\u001b[0;34m(self, *args, **kwargs)\u001b[0m\n\u001b[1;32m    106\u001b[0m         \u001b[39mwith\u001b[39;00m _TimeoutContext(timeout):\n\u001b[1;32m    107\u001b[0m             \u001b[39mreturn\u001b[39;00m func(\u001b[39mself\u001b[39m, \u001b[39m*\u001b[39margs, \u001b[39m*\u001b[39m\u001b[39m*\u001b[39mkwargs)\n\u001b[0;32m--> 108\u001b[0m \u001b[39mreturn\u001b[39;00m func(\u001b[39mself\u001b[39;49m, \u001b[39m*\u001b[39;49margs, \u001b[39m*\u001b[39;49m\u001b[39m*\u001b[39;49mkwargs)\n",
      "File \u001b[0;32m~/Documents/university/TDT4225/.venv/lib/python3.11/site-packages/pymongo/mongo_client.py:1535\u001b[0m, in \u001b[0;36mMongoClient._retryable_read\u001b[0;34m(self, func, read_pref, session, address, retryable)\u001b[0m\n\u001b[1;32m   1533\u001b[0m             \u001b[39massert\u001b[39;00m last_error \u001b[39mis\u001b[39;00m \u001b[39mnot\u001b[39;00m \u001b[39mNone\u001b[39;00m\n\u001b[1;32m   1534\u001b[0m             \u001b[39mraise\u001b[39;00m last_error\n\u001b[0;32m-> 1535\u001b[0m         \u001b[39mreturn\u001b[39;00m func(session, server, conn, read_pref)\n\u001b[1;32m   1536\u001b[0m \u001b[39mexcept\u001b[39;00m ServerSelectionTimeoutError:\n\u001b[1;32m   1537\u001b[0m     \u001b[39mif\u001b[39;00m retrying:\n\u001b[1;32m   1538\u001b[0m         \u001b[39m# The application may think the write was never attempted\u001b[39;00m\n\u001b[1;32m   1539\u001b[0m         \u001b[39m# if we raise ServerSelectionTimeoutError on the retry\u001b[39;00m\n\u001b[1;32m   1540\u001b[0m         \u001b[39m# attempt. Raise the original exception instead.\u001b[39;00m\n",
      "File \u001b[0;32m~/Documents/university/TDT4225/.venv/lib/python3.11/site-packages/pymongo/mongo_client.py:1384\u001b[0m, in \u001b[0;36mMongoClient._run_operation.<locals>._cmd\u001b[0;34m(session, server, conn, read_preference)\u001b[0m\n\u001b[1;32m   1377\u001b[0m \u001b[39mdef\u001b[39;00m \u001b[39m_cmd\u001b[39m(\n\u001b[1;32m   1378\u001b[0m     session: Optional[ClientSession],\n\u001b[1;32m   1379\u001b[0m     server: Server,\n\u001b[1;32m   1380\u001b[0m     conn: Connection,\n\u001b[1;32m   1381\u001b[0m     read_preference: _ServerMode,\n\u001b[1;32m   1382\u001b[0m ) \u001b[39m-\u001b[39m\u001b[39m>\u001b[39m Response:\n\u001b[1;32m   1383\u001b[0m     operation\u001b[39m.\u001b[39mreset()  \u001b[39m# Reset op in case of retry.\u001b[39;00m\n\u001b[0;32m-> 1384\u001b[0m     \u001b[39mreturn\u001b[39;00m server\u001b[39m.\u001b[39;49mrun_operation(\n\u001b[1;32m   1385\u001b[0m         conn, operation, read_preference, \u001b[39mself\u001b[39;49m\u001b[39m.\u001b[39;49m_event_listeners, unpack_res\n\u001b[1;32m   1386\u001b[0m     )\n",
      "File \u001b[0;32m~/Documents/university/TDT4225/.venv/lib/python3.11/site-packages/pymongo/helpers.py:315\u001b[0m, in \u001b[0;36m_handle_reauth.<locals>.inner\u001b[0;34m(*args, **kwargs)\u001b[0m\n\u001b[1;32m    312\u001b[0m \u001b[39mfrom\u001b[39;00m \u001b[39mpymongo\u001b[39;00m\u001b[39m.\u001b[39;00m\u001b[39mpool\u001b[39;00m \u001b[39mimport\u001b[39;00m Connection\n\u001b[1;32m    314\u001b[0m \u001b[39mtry\u001b[39;00m:\n\u001b[0;32m--> 315\u001b[0m     \u001b[39mreturn\u001b[39;00m func(\u001b[39m*\u001b[39;49margs, \u001b[39m*\u001b[39;49m\u001b[39m*\u001b[39;49mkwargs)\n\u001b[1;32m    316\u001b[0m \u001b[39mexcept\u001b[39;00m OperationFailure \u001b[39mas\u001b[39;00m exc:\n\u001b[1;32m    317\u001b[0m     \u001b[39mif\u001b[39;00m no_reauth:\n",
      "File \u001b[0;32m~/Documents/university/TDT4225/.venv/lib/python3.11/site-packages/pymongo/server.py:155\u001b[0m, in \u001b[0;36mServer.run_operation\u001b[0;34m(self, conn, operation, read_preference, listeners, unpack_res)\u001b[0m\n\u001b[1;32m    153\u001b[0m \u001b[39melse\u001b[39;00m:\n\u001b[1;32m    154\u001b[0m     conn\u001b[39m.\u001b[39msend_message(data, max_doc_size)\n\u001b[0;32m--> 155\u001b[0m     reply \u001b[39m=\u001b[39m conn\u001b[39m.\u001b[39;49mreceive_message(request_id)\n\u001b[1;32m    157\u001b[0m \u001b[39m# Unpack and check for command errors.\u001b[39;00m\n\u001b[1;32m    158\u001b[0m \u001b[39mif\u001b[39;00m use_cmd:\n",
      "File \u001b[0;32m~/Documents/university/TDT4225/.venv/lib/python3.11/site-packages/pymongo/pool.py:986\u001b[0m, in \u001b[0;36mConnection.receive_message\u001b[0;34m(self, request_id)\u001b[0m\n\u001b[1;32m    984\u001b[0m     \u001b[39mreturn\u001b[39;00m receive_message(\u001b[39mself\u001b[39m, request_id, \u001b[39mself\u001b[39m\u001b[39m.\u001b[39mmax_message_size)\n\u001b[1;32m    985\u001b[0m \u001b[39mexcept\u001b[39;00m \u001b[39mBaseException\u001b[39;00m \u001b[39mas\u001b[39;00m error:\n\u001b[0;32m--> 986\u001b[0m     \u001b[39mself\u001b[39;49m\u001b[39m.\u001b[39;49m_raise_connection_failure(error)\n",
      "File \u001b[0;32m~/Documents/university/TDT4225/.venv/lib/python3.11/site-packages/pymongo/pool.py:984\u001b[0m, in \u001b[0;36mConnection.receive_message\u001b[0;34m(self, request_id)\u001b[0m\n\u001b[1;32m    979\u001b[0m \u001b[39m\u001b[39m\u001b[39m\"\"\"Receive a raw BSON message or raise ConnectionFailure.\u001b[39;00m\n\u001b[1;32m    980\u001b[0m \n\u001b[1;32m    981\u001b[0m \u001b[39mIf any exception is raised, the socket is closed.\u001b[39;00m\n\u001b[1;32m    982\u001b[0m \u001b[39m\"\"\"\u001b[39;00m\n\u001b[1;32m    983\u001b[0m \u001b[39mtry\u001b[39;00m:\n\u001b[0;32m--> 984\u001b[0m     \u001b[39mreturn\u001b[39;00m receive_message(\u001b[39mself\u001b[39;49m, request_id, \u001b[39mself\u001b[39;49m\u001b[39m.\u001b[39;49mmax_message_size)\n\u001b[1;32m    985\u001b[0m \u001b[39mexcept\u001b[39;00m \u001b[39mBaseException\u001b[39;00m \u001b[39mas\u001b[39;00m error:\n\u001b[1;32m    986\u001b[0m     \u001b[39mself\u001b[39m\u001b[39m.\u001b[39m_raise_connection_failure(error)\n",
      "File \u001b[0;32m~/Documents/university/TDT4225/.venv/lib/python3.11/site-packages/pymongo/network.py:267\u001b[0m, in \u001b[0;36mreceive_message\u001b[0;34m(conn, request_id, max_message_size)\u001b[0m\n\u001b[1;32m    265\u001b[0m     data \u001b[39m=\u001b[39m decompress(_receive_data_on_socket(conn, length \u001b[39m-\u001b[39m \u001b[39m25\u001b[39m, deadline), compressor_id)\n\u001b[1;32m    266\u001b[0m \u001b[39melse\u001b[39;00m:\n\u001b[0;32m--> 267\u001b[0m     data \u001b[39m=\u001b[39m _receive_data_on_socket(conn, length \u001b[39m-\u001b[39;49m \u001b[39m16\u001b[39;49m, deadline)\n\u001b[1;32m    269\u001b[0m \u001b[39mtry\u001b[39;00m:\n\u001b[1;32m    270\u001b[0m     unpack_reply \u001b[39m=\u001b[39m _UNPACK_REPLY[op_code]\n",
      "File \u001b[0;32m~/Documents/university/TDT4225/.venv/lib/python3.11/site-packages/pymongo/network.py:328\u001b[0m, in \u001b[0;36m_receive_data_on_socket\u001b[0;34m(conn, length, deadline)\u001b[0m\n\u001b[1;32m    326\u001b[0m     \u001b[39mif\u001b[39;00m _csot\u001b[39m.\u001b[39mget_timeout() \u001b[39mand\u001b[39;00m deadline \u001b[39mis\u001b[39;00m \u001b[39mnot\u001b[39;00m \u001b[39mNone\u001b[39;00m:\n\u001b[1;32m    327\u001b[0m         conn\u001b[39m.\u001b[39mset_conn_timeout(\u001b[39mmax\u001b[39m(deadline \u001b[39m-\u001b[39m time\u001b[39m.\u001b[39mmonotonic(), \u001b[39m0\u001b[39m))\n\u001b[0;32m--> 328\u001b[0m     chunk_length \u001b[39m=\u001b[39m conn\u001b[39m.\u001b[39;49mconn\u001b[39m.\u001b[39;49mrecv_into(mv[bytes_read:])\n\u001b[1;32m    329\u001b[0m \u001b[39mexcept\u001b[39;00m BLOCKING_IO_ERRORS:\n\u001b[1;32m    330\u001b[0m     \u001b[39mraise\u001b[39;00m socket\u001b[39m.\u001b[39mtimeout(\u001b[39m\"\u001b[39m\u001b[39mtimed out\u001b[39m\u001b[39m\"\u001b[39m)\n",
      "\u001b[0;31mKeyboardInterrupt\u001b[0m: "
     ]
    }
   ],
   "source": [
    "collection = program.db['TrackPoint']\n",
    "documents = collection.find({})\n",
    "trackpoints = list(documents)\n",
    "len(trackpoints)"
   ]
  }
 ],
 "metadata": {
  "kernelspec": {
   "display_name": "venv",
   "language": "python",
   "name": "python3"
  },
  "language_info": {
   "codemirror_mode": {
    "name": "ipython",
    "version": 3
   },
   "file_extension": ".py",
   "mimetype": "text/x-python",
   "name": "python",
   "nbconvert_exporter": "python",
   "pygments_lexer": "ipython3",
   "version": "3.11.2"
  }
 },
 "nbformat": 4,
 "nbformat_minor": 2
}
