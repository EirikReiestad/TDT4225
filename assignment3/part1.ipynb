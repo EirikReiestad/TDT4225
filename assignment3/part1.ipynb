{
 "cells": [
  {
   "cell_type": "markdown",
   "metadata": {},
   "source": [
    "### Initialize"
   ]
  },
  {
   "cell_type": "code",
   "execution_count": 29,
   "metadata": {},
   "outputs": [],
   "source": [
    "import os\n",
    "import pymongo\n",
    "from datetime import datetime\n",
    "from program import Program\n",
    "from pprint import pprint\n",
    "from tabulate import tabulate\n"
   ]
  },
  {
   "cell_type": "code",
   "execution_count": 16,
   "metadata": {},
   "outputs": [
    {
     "name": "stdout",
     "output_type": "stream",
     "text": [
      "You are connected to the database: assignment3\n",
      "-----------------------------------------------\n",
      "\n"
     ]
    }
   ],
   "source": [
    "program = Program()"
   ]
  },
  {
   "cell_type": "code",
   "execution_count": 17,
   "metadata": {},
   "outputs": [],
   "source": [
    "program.drop_coll('User')\n",
    "program.drop_coll('Activity')\n",
    "program.drop_coll('TrackPoint')"
   ]
  },
  {
   "cell_type": "markdown",
   "metadata": {},
   "source": [
    "### Create Collections"
   ]
  },
  {
   "cell_type": "code",
   "execution_count": 18,
   "metadata": {},
   "outputs": [
    {
     "name": "stdout",
     "output_type": "stream",
     "text": [
      "Created collection:  Collection(Database(MongoClient(host=['tdt4225-35.idi.ntnu.no:27017'], document_class=dict, tz_aware=False, connect=True), 'assignment3'), 'User')\n",
      "Created collection:  Collection(Database(MongoClient(host=['tdt4225-35.idi.ntnu.no:27017'], document_class=dict, tz_aware=False, connect=True), 'assignment3'), 'Activity')\n",
      "Created collection:  Collection(Database(MongoClient(host=['tdt4225-35.idi.ntnu.no:27017'], document_class=dict, tz_aware=False, connect=True), 'assignment3'), 'TrackPoint')\n"
     ]
    }
   ],
   "source": [
    "program.create_coll('User')\n",
    "program.create_coll('Activity')\n",
    "program.create_coll('TrackPoint')"
   ]
  },
  {
   "cell_type": "markdown",
   "metadata": {},
   "source": [
    "### Insert Documents"
   ]
  },
  {
   "cell_type": "code",
   "execution_count": 19,
   "metadata": {},
   "outputs": [],
   "source": [
    "user_label = []\n",
    "with open(\"./dataset/labeled_ids.txt\", \"r\", encoding=\"UTF-8\") as labeled_ids:\n",
    "    for line in labeled_ids:\n",
    "        user_label.append(line.strip())\n",
    "\n",
    "trackpoint_counter = 1\n",
    "activity_counter = 1\n",
    "\n",
    "# Loop through all the folders containing data for each user\n",
    "# As each folder correspond to a user, add the user to the User table\n",
    "directory_path = \"./dataset/Data\"\n",
    "folders = os.listdir(directory_path)\n",
    "for user_id in folders:\n",
    "    print(user_id)\n",
    "    # If user saves transportation mode\n",
    "    if user_id in user_label:\n",
    "        # Insert into User table with has_labels=TRUE\n",
    "        user = {\"_id\": user_id, \"has_labels\": True}\n",
    "\n",
    "        program.insert_doc(\"User\", user)\n",
    "\n",
    "        activities = []\n",
    "\n",
    "        # Insert the user's labeled activities\n",
    "        with open(\n",
    "            \"./dataset/Data/\" + user_id + \"/labels.txt\", \"r\", encoding=\"UTF-8\"\n",
    "        ) as labels:\n",
    "            values = []\n",
    "            labels.readline()\n",
    "            for line in labels:\n",
    "                # Process each line based on labels.txt format\n",
    "                line = line.strip().split(\"\\t\")\n",
    "                start_date_time = line[0].replace(\"/\", \"-\")\n",
    "                end_date_time = line[1].replace(\"/\", \"-\")\n",
    "                transportation_mode = line[2]\n",
    "\n",
    "                start_date_time = datetime.strptime(start_date_time, \"%Y-%m-%d %H:%M:%S\")\n",
    "                end_date_time = datetime.strptime(end_date_time, \"%Y-%m-%d %H:%M:%S\")\n",
    "\n",
    "                activity = {\n",
    "                    \"_id\": activity_counter,\n",
    "                    \"user_id\": user_id,\n",
    "                    \"transportation_mode\": transportation_mode,\n",
    "                    \"start_date_time\": start_date_time,\n",
    "                    \"end_date_time\": end_date_time,\n",
    "                }\n",
    "\n",
    "                activities.append(activity)\n",
    "                activity_counter += 1\n",
    "\n",
    "        # Insert all labeled activites as a batch\n",
    "        program.insert_many_docs(\"Activity\", activities)\n",
    "\n",
    "    else:\n",
    "        # If user does not save transportation mode, set has_labels=FALSE\n",
    "        user = {\"_id\": user_id, \"has_labels\": False}\n",
    "\n",
    "        program.insert_doc(\"User\", user)\n",
    "\n",
    "    # Retrieve files in current user's Trajectory folder\n",
    "    # Each file corresponds to an activity\n",
    "    try:\n",
    "        trajectory_path = \"./dataset/Data/\" + user_id + \"/Trajectory/\"\n",
    "        files = os.listdir(trajectory_path)\n",
    "    except:\n",
    "        continue\n",
    "\n",
    "    for file in files:\n",
    "        # Read the file\n",
    "        with open(trajectory_path + file, \"r\", encoding=\"UTF-8\") as f:\n",
    "            lines = f.readlines()\n",
    "\n",
    "        # Process the file to retrieve start and end time\n",
    "        # Start time: Date of the first trackpoint\n",
    "        # End time: Date of the last trackpoint\n",
    "        start_date_time = lines[6].split(\",\")[5] + \" \" + lines[6].split(\",\")[6]\n",
    "        end_date_time = lines[-1].split(\",\")[5] + \" \" + lines[-1].split(\",\")[6]\n",
    "\n",
    "        start_date_time = datetime.strptime(start_date_time.strip(), \"%Y-%m-%d %H:%M:%S\")\n",
    "        end_date_time = datetime.strptime(end_date_time.strip(), \"%Y-%m-%d %H:%M:%S\")\n",
    "\n",
    "        # If user saves transportation mode, then retrieve the activity in\n",
    "        # Activity table which has exact matches on starttime and end time\n",
    "        if user_id in user_label:\n",
    "\n",
    "            # We choose the most recent added activity by using the ASCENDING sort and then the loop\n",
    "            # This is for example if a user starts driving the car, but drives slow in the beginning\n",
    "            # it might have been perceived as walking in the beginning and added to the Activity list\n",
    "            # after the user speeds up, a new activity is added with the same endtime and starttime,\n",
    "            # but with another transportation mode\n",
    "            rows = program.query(\n",
    "                 \"Activity\",\n",
    "                {\n",
    "                    \"user_id\": user_id,\n",
    "                    \"start_date_time\": start_date_time,\n",
    "                    \"end_date_time\": end_date_time,\n",
    "                },\n",
    "            )\n",
    "            activity_id = []\n",
    "            for row in rows:\n",
    "                activity_id.append(row['_id'])\n",
    "\n",
    "            # If there is no match, then this file of trackpoint is skipped\n",
    "            # Because user who saves transportation mode is not allowed\n",
    "            # To have transportation mode equals to NULL\n",
    "            # Thus, we cannot add a new Activity row for it\n",
    "            if not activity_id:\n",
    "                continue\n",
    "\n",
    "        # If file includes more than 2500 (+6 to count for headers) trackpoints\n",
    "        if len(lines) > 2500 + 6:\n",
    "            # If user saves transportation mode, delete the activity that this\n",
    "            # file belongs to as it will not have any trackpoints, thus is not relevant\n",
    "            if user_id in user_label:\n",
    "\n",
    "                program.delete_many_docs('Activity', {\n",
    "                    '_id': {\n",
    "                        '%in': activity_id\n",
    "                    }\n",
    "                })\n",
    "            # Thereafter, skip this file\n",
    "            continue\n",
    "\n",
    "        if user_id in user_label:\n",
    "            activity_id = activity_id[0]\n",
    "        else:\n",
    "            # If user does not save transportation, it means no activity has been added\n",
    "            # and therefore we add a new activity with transportation_mode = None (NULL)\n",
    "            activity = {\n",
    "                \"_id\": activity_counter,\n",
    "                \"user_id\": user_id,\n",
    "                \"transportation_mode\": None,\n",
    "                \"start_date_time\": start_date_time,\n",
    "                \"end_date_time\": end_date_time,\n",
    "            }\n",
    "            program.insert_doc('Activity', activity)\n",
    "            activity_id = activity_counter\n",
    "            activity_counter += 1\n",
    "\n",
    "        values = []\n",
    "        # Then process each line of the activity file, but skip the headers (first 6 lines)\n",
    "        trackpoints = []\n",
    "        for line in lines[6:]:\n",
    "            line = line.strip().split(\",\")\n",
    "            lat = line[0]\n",
    "            lon = line[1]\n",
    "            altitude = line[3]\n",
    "            date_days = line[4]\n",
    "            date_time = line[5] + \" \" + line[6]\n",
    "\n",
    "            date_time = datetime.strptime(date_time.strip(), \"%Y-%m-%d %H:%M:%S\")\n",
    "\n",
    "            trackpoint = {\n",
    "                '_id': trackpoint_counter,\n",
    "                'activity_id': activity_id,\n",
    "                'lat': lat,\n",
    "                'lon': lon,\n",
    "                'altitude': altitude,\n",
    "                'date_days': date_days,\n",
    "                'date_time': date_time\n",
    "            }\n",
    "            trackpoints.append(trackpoint)\n",
    "            trackpoint_counter += 1\n",
    "\n",
    "        program.insert_many_docs('TrackPoint',trackpoints)\n",
    "\n",
    "# Then we clean up the activities which do not have any trackpoints\n",
    "# As there could exists trackpoints in the labels.txt for each user that does not have any\n",
    "# corresponding file in the user's Trajectory folder\n",
    "\n",
    "activity_ids = program.field_query_unique('TrackPoint', 'activity_id')\n",
    "program.delete_many_docs('Activity', {\n",
    "    '_id': {\n",
    "        \"$nin\": activity_ids\n",
    "    }\n",
    "})"
   ]
  },
  {
   "cell_type": "markdown",
   "metadata": {},
   "source": [
    "### User collection"
   ]
  },
  {
   "cell_type": "code",
   "execution_count": 25,
   "metadata": {},
   "outputs": [
    {
     "data": {
      "text/plain": [
       "183"
      ]
     },
     "execution_count": 25,
     "metadata": {},
     "output_type": "execute_result"
    }
   ],
   "source": [
    "collection = program.db['User']\n",
    "documents = collection.find()\n",
    "users = list(documents)\n",
    "len(users)"
   ]
  },
  {
   "cell_type": "code",
   "execution_count": 31,
   "metadata": {},
   "outputs": [
    {
     "name": "stdout",
     "output_type": "stream",
     "text": [
      "  _id  has_labels\n",
      "-----  ------------\n",
      "  135  False\n",
      "  132  False\n",
      "  104  True\n",
      "  103  False\n",
      "  168  False\n",
      "  157  False\n",
      "  150  False\n",
      "  159  False\n",
      "  166  False\n",
      "  161  True\n"
     ]
    }
   ],
   "source": [
    "print(tabulate(users[:10], headers=\"keys\"))"
   ]
  },
  {
   "cell_type": "markdown",
   "metadata": {},
   "source": [
    "### Activity collection"
   ]
  },
  {
   "cell_type": "code",
   "execution_count": 21,
   "metadata": {},
   "outputs": [
    {
     "data": {
      "text/plain": [
       "7877"
      ]
     },
     "execution_count": 21,
     "metadata": {},
     "output_type": "execute_result"
    }
   ],
   "source": [
    "collection = program.db['Activity']\n",
    "documents = collection.find({})\n",
    "activities = list(documents)\n",
    "len(activities)"
   ]
  },
  {
   "cell_type": "code",
   "execution_count": 32,
   "metadata": {},
   "outputs": [
    {
     "name": "stdout",
     "output_type": "stream",
     "text": [
      "  _id    user_id  transportation_mode    start_date_time      end_date_time\n",
      "-----  ---------  ---------------------  -------------------  -------------------\n",
      "    1        135                         2009-01-03 01:21:34  2009-01-03 05:40:31\n",
      "    2        135                         2009-01-02 04:31:27  2009-01-02 04:41:05\n",
      "    3        135                         2009-01-27 03:00:04  2009-01-27 04:50:32\n",
      "    4        135                         2009-01-10 01:19:47  2009-01-10 04:42:47\n",
      "    5        135                         2009-01-14 12:17:57  2009-01-14 12:30:53\n",
      "    6        135                         2009-01-12 01:41:22  2009-01-12 02:14:01\n",
      "    7        135                         2008-12-24 14:42:07  2008-12-24 15:26:45\n",
      "    8        135                         2008-12-28 10:36:05  2008-12-28 12:19:32\n",
      "    9        132                         2010-02-15 10:56:35  2010-02-15 12:22:33\n",
      "   10        132                         2010-04-30 23:38:01  2010-05-01 00:35:31\n"
     ]
    }
   ],
   "source": [
    "print(tabulate(activities[:10], headers=\"keys\"))"
   ]
  },
  {
   "cell_type": "markdown",
   "metadata": {},
   "source": [
    "### Trackpoint collection"
   ]
  },
  {
   "cell_type": "code",
   "execution_count": 22,
   "metadata": {},
   "outputs": [
    {
     "data": {
      "text/plain": [
       "5355109"
      ]
     },
     "execution_count": 22,
     "metadata": {},
     "output_type": "execute_result"
    }
   ],
   "source": [
    "collection = program.db['TrackPoint']\n",
    "documents = collection.find({})\n",
    "trackpoints = list(documents)\n",
    "len(trackpoints)"
   ]
  },
  {
   "cell_type": "code",
   "execution_count": 33,
   "metadata": {},
   "outputs": [
    {
     "name": "stdout",
     "output_type": "stream",
     "text": [
      "  _id    activity_id      lat    lon    altitude    date_days  date_time\n",
      "-----  -------------  -------  -----  ----------  -----------  -------------------\n",
      "    1              1  39.9743  116.4         492      39816.1  2009-01-03 01:21:34\n",
      "    2              1  39.9743  116.4         492      39816.1  2009-01-03 01:21:35\n",
      "    3              1  39.9743  116.4         492      39816.1  2009-01-03 01:21:36\n",
      "    4              1  39.9743  116.4         492      39816.1  2009-01-03 01:21:38\n",
      "    5              1  39.9744  116.4         491      39816.1  2009-01-03 01:21:39\n",
      "    6              1  39.9744  116.4         491      39816.1  2009-01-03 01:21:42\n",
      "    7              1  39.9744  116.4         491      39816.1  2009-01-03 01:21:46\n",
      "    8              1  39.9745  116.4         491      39816.1  2009-01-03 01:21:51\n",
      "    9              1  39.9745  116.4         490      39816.1  2009-01-03 01:21:56\n",
      "   10              1  39.9745  116.4         489      39816.1  2009-01-03 01:22:01\n"
     ]
    }
   ],
   "source": [
    "print(tabulate(trackpoints[:10], headers=\"keys\"))"
   ]
  }
 ],
 "metadata": {
  "kernelspec": {
   "display_name": "venv",
   "language": "python",
   "name": "python3"
  },
  "language_info": {
   "codemirror_mode": {
    "name": "ipython",
    "version": 3
   },
   "file_extension": ".py",
   "mimetype": "text/x-python",
   "name": "python",
   "nbconvert_exporter": "python",
   "pygments_lexer": "ipython3",
   "version": "3.9.17"
  }
 },
 "nbformat": 4,
 "nbformat_minor": 2
}
