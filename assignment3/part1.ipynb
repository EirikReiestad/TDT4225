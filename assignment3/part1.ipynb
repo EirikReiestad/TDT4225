{
 "cells": [
  {
   "cell_type": "markdown",
   "metadata": {},
   "source": [
    "### Initialize"
   ]
  },
  {
   "cell_type": "code",
   "execution_count": 8,
   "metadata": {},
   "outputs": [],
   "source": [
    "import os\n",
    "import pymongo\n",
    "from datetime import datetime\n",
    "from program import Program\n",
    "from pprint import pprint\n",
    "from tabulate import tabulate\n"
   ]
  },
  {
   "cell_type": "code",
   "execution_count": 9,
   "metadata": {},
   "outputs": [
    {
     "name": "stdout",
     "output_type": "stream",
     "text": [
      "You are connected to the database: assignment3\n",
      "-----------------------------------------------\n",
      "\n"
     ]
    }
   ],
   "source": [
    "program = Program()"
   ]
  },
  {
   "cell_type": "code",
   "execution_count": 10,
   "metadata": {},
   "outputs": [],
   "source": [
    "program.drop_coll('User')\n",
    "program.drop_coll('Activity')\n",
    "program.drop_coll('TrackPoint')"
   ]
  },
  {
   "cell_type": "markdown",
   "metadata": {},
   "source": [
    "### Create Collections"
   ]
  },
  {
   "cell_type": "code",
   "execution_count": 11,
   "metadata": {},
   "outputs": [
    {
     "name": "stdout",
     "output_type": "stream",
     "text": [
      "Created collection:  Collection(Database(MongoClient(host=['tdt4225-35.idi.ntnu.no:27017'], document_class=dict, tz_aware=False, connect=True), 'assignment3'), 'User')\n",
      "Created collection:  Collection(Database(MongoClient(host=['tdt4225-35.idi.ntnu.no:27017'], document_class=dict, tz_aware=False, connect=True), 'assignment3'), 'Activity')\n",
      "Created collection:  Collection(Database(MongoClient(host=['tdt4225-35.idi.ntnu.no:27017'], document_class=dict, tz_aware=False, connect=True), 'assignment3'), 'TrackPoint')\n"
     ]
    }
   ],
   "source": [
    "program.create_coll('User')\n",
    "program.create_coll('Activity')\n",
    "program.create_coll('TrackPoint')"
   ]
  },
  {
   "cell_type": "markdown",
   "metadata": {},
   "source": [
    "### Insert Documents"
   ]
  },
  {
   "cell_type": "code",
   "execution_count": 12,
   "metadata": {},
   "outputs": [
    {
     "name": "stdout",
     "output_type": "stream",
     "text": [
      "000\n",
      "001\n",
      "002\n",
      "003\n",
      "004\n"
     ]
    },
    {
     "ename": "KeyboardInterrupt",
     "evalue": "",
     "output_type": "error",
     "traceback": [
      "\u001b[1;31m---------------------------------------------------------------------------\u001b[0m",
      "\u001b[1;31mKeyboardInterrupt\u001b[0m                         Traceback (most recent call last)",
      "\u001b[1;32mc:\\Users\\TONY\\Documents\\ntnu\\H23\\TDT4225\\assignment3\\part1.ipynb Cell 8\u001b[0m line \u001b[0;36m1\n\u001b[0;32m    <a href='vscode-notebook-cell:/c%3A/Users/TONY/Documents/ntnu/H23/TDT4225/assignment3/part1.ipynb#X30sZmlsZQ%3D%3D?line=161'>162</a>\u001b[0m             trackpoints\u001b[39m.\u001b[39mappend(trackpoint)\n\u001b[0;32m    <a href='vscode-notebook-cell:/c%3A/Users/TONY/Documents/ntnu/H23/TDT4225/assignment3/part1.ipynb#X30sZmlsZQ%3D%3D?line=162'>163</a>\u001b[0m             trackpoint_counter \u001b[39m+\u001b[39m\u001b[39m=\u001b[39m \u001b[39m1\u001b[39m\n\u001b[1;32m--> <a href='vscode-notebook-cell:/c%3A/Users/TONY/Documents/ntnu/H23/TDT4225/assignment3/part1.ipynb#X30sZmlsZQ%3D%3D?line=164'>165</a>\u001b[0m         program\u001b[39m.\u001b[39;49minsert_many_docs(\u001b[39m'\u001b[39;49m\u001b[39mTrackPoint\u001b[39;49m\u001b[39m'\u001b[39;49m,trackpoints)\n\u001b[0;32m    <a href='vscode-notebook-cell:/c%3A/Users/TONY/Documents/ntnu/H23/TDT4225/assignment3/part1.ipynb#X30sZmlsZQ%3D%3D?line=166'>167</a>\u001b[0m \u001b[39m# Then we clean up the activities which do not have any trackpoints\u001b[39;00m\n\u001b[0;32m    <a href='vscode-notebook-cell:/c%3A/Users/TONY/Documents/ntnu/H23/TDT4225/assignment3/part1.ipynb#X30sZmlsZQ%3D%3D?line=167'>168</a>\u001b[0m \u001b[39m# As there could exists trackpoints in the labels.txt for each user that does not have any\u001b[39;00m\n\u001b[0;32m    <a href='vscode-notebook-cell:/c%3A/Users/TONY/Documents/ntnu/H23/TDT4225/assignment3/part1.ipynb#X30sZmlsZQ%3D%3D?line=168'>169</a>\u001b[0m \u001b[39m# corresponding file in the user's Trajectory folder\u001b[39;00m\n\u001b[0;32m    <a href='vscode-notebook-cell:/c%3A/Users/TONY/Documents/ntnu/H23/TDT4225/assignment3/part1.ipynb#X30sZmlsZQ%3D%3D?line=170'>171</a>\u001b[0m activity_ids \u001b[39m=\u001b[39m program\u001b[39m.\u001b[39mfield_query_unique(\u001b[39m'\u001b[39m\u001b[39mTrackPoint\u001b[39m\u001b[39m'\u001b[39m, \u001b[39m'\u001b[39m\u001b[39mactivity_id\u001b[39m\u001b[39m'\u001b[39m)\n",
      "File \u001b[1;32mc:\\Users\\TONY\\Documents\\ntnu\\H23\\TDT4225\\assignment3\\program.py:20\u001b[0m, in \u001b[0;36mProgram.insert_many_docs\u001b[1;34m(self, collection_name, documents)\u001b[0m\n\u001b[0;32m     18\u001b[0m \u001b[39mdef\u001b[39;00m \u001b[39minsert_many_docs\u001b[39m(\u001b[39mself\u001b[39m, collection_name, documents):\n\u001b[0;32m     19\u001b[0m     collection \u001b[39m=\u001b[39m \u001b[39mself\u001b[39m\u001b[39m.\u001b[39mdb[collection_name]\n\u001b[1;32m---> 20\u001b[0m     collection\u001b[39m.\u001b[39;49minsert_many(documents)\n",
      "File \u001b[1;32mc:\\Users\\TONY\\Documents\\ntnu\\H23\\TDT4225\\assignment3\\venv\\lib\\site-packages\\pymongo\\_csot.py:108\u001b[0m, in \u001b[0;36mapply.<locals>.csot_wrapper\u001b[1;34m(self, *args, **kwargs)\u001b[0m\n\u001b[0;32m    106\u001b[0m         \u001b[39mwith\u001b[39;00m _TimeoutContext(timeout):\n\u001b[0;32m    107\u001b[0m             \u001b[39mreturn\u001b[39;00m func(\u001b[39mself\u001b[39m, \u001b[39m*\u001b[39margs, \u001b[39m*\u001b[39m\u001b[39m*\u001b[39mkwargs)\n\u001b[1;32m--> 108\u001b[0m \u001b[39mreturn\u001b[39;00m func(\u001b[39mself\u001b[39m, \u001b[39m*\u001b[39margs, \u001b[39m*\u001b[39m\u001b[39m*\u001b[39mkwargs)\n",
      "File \u001b[1;32mc:\\Users\\TONY\\Documents\\ntnu\\H23\\TDT4225\\assignment3\\venv\\lib\\site-packages\\pymongo\\collection.py:757\u001b[0m, in \u001b[0;36mCollection.insert_many\u001b[1;34m(self, documents, ordered, bypass_document_validation, session, comment)\u001b[0m\n\u001b[0;32m    755\u001b[0m blk \u001b[39m=\u001b[39m _Bulk(\u001b[39mself\u001b[39m, ordered, bypass_document_validation, comment\u001b[39m=\u001b[39mcomment)\n\u001b[0;32m    756\u001b[0m blk\u001b[39m.\u001b[39mops \u001b[39m=\u001b[39m \u001b[39mlist\u001b[39m(gen())\n\u001b[1;32m--> 757\u001b[0m blk\u001b[39m.\u001b[39;49mexecute(write_concern, session\u001b[39m=\u001b[39;49msession)\n\u001b[0;32m    758\u001b[0m \u001b[39mreturn\u001b[39;00m InsertManyResult(inserted_ids, write_concern\u001b[39m.\u001b[39macknowledged)\n",
      "File \u001b[1;32mc:\\Users\\TONY\\Documents\\ntnu\\H23\\TDT4225\\assignment3\\venv\\lib\\site-packages\\pymongo\\bulk.py:580\u001b[0m, in \u001b[0;36m_Bulk.execute\u001b[1;34m(self, write_concern, session)\u001b[0m\n\u001b[0;32m    578\u001b[0m         \u001b[39mreturn\u001b[39;00m \u001b[39mNone\u001b[39;00m\n\u001b[0;32m    579\u001b[0m \u001b[39melse\u001b[39;00m:\n\u001b[1;32m--> 580\u001b[0m     \u001b[39mreturn\u001b[39;00m \u001b[39mself\u001b[39;49m\u001b[39m.\u001b[39;49mexecute_command(generator, write_concern, session)\n",
      "File \u001b[1;32mc:\\Users\\TONY\\Documents\\ntnu\\H23\\TDT4225\\assignment3\\venv\\lib\\site-packages\\pymongo\\bulk.py:447\u001b[0m, in \u001b[0;36m_Bulk.execute_command\u001b[1;34m(self, generator, write_concern, session)\u001b[0m\n\u001b[0;32m    445\u001b[0m client \u001b[39m=\u001b[39m \u001b[39mself\u001b[39m\u001b[39m.\u001b[39mcollection\u001b[39m.\u001b[39mdatabase\u001b[39m.\u001b[39mclient\n\u001b[0;32m    446\u001b[0m \u001b[39mwith\u001b[39;00m client\u001b[39m.\u001b[39m_tmp_session(session) \u001b[39mas\u001b[39;00m s:\n\u001b[1;32m--> 447\u001b[0m     client\u001b[39m.\u001b[39;49m_retry_with_session(\u001b[39mself\u001b[39;49m\u001b[39m.\u001b[39;49mis_retryable, retryable_bulk, s, \u001b[39mself\u001b[39;49m)\n\u001b[0;32m    449\u001b[0m \u001b[39mif\u001b[39;00m full_result[\u001b[39m\"\u001b[39m\u001b[39mwriteErrors\u001b[39m\u001b[39m\"\u001b[39m] \u001b[39mor\u001b[39;00m full_result[\u001b[39m\"\u001b[39m\u001b[39mwriteConcernErrors\u001b[39m\u001b[39m\"\u001b[39m]:\n\u001b[0;32m    450\u001b[0m     _raise_bulk_write_error(full_result)\n",
      "File \u001b[1;32mc:\\Users\\TONY\\Documents\\ntnu\\H23\\TDT4225\\assignment3\\venv\\lib\\site-packages\\pymongo\\mongo_client.py:1413\u001b[0m, in \u001b[0;36mMongoClient._retry_with_session\u001b[1;34m(self, retryable, func, session, bulk)\u001b[0m\n\u001b[0;32m   1403\u001b[0m \u001b[39m\u001b[39m\u001b[39m\"\"\"Execute an operation with at most one consecutive retries\u001b[39;00m\n\u001b[0;32m   1404\u001b[0m \n\u001b[0;32m   1405\u001b[0m \u001b[39mReturns func()'s return value on success. On error retries the same\u001b[39;00m\n\u001b[1;32m   (...)\u001b[0m\n\u001b[0;32m   1408\u001b[0m \u001b[39mRe-raises any exception thrown by func().\u001b[39;00m\n\u001b[0;32m   1409\u001b[0m \u001b[39m\"\"\"\u001b[39;00m\n\u001b[0;32m   1410\u001b[0m retryable \u001b[39m=\u001b[39m \u001b[39mbool\u001b[39m(\n\u001b[0;32m   1411\u001b[0m     retryable \u001b[39mand\u001b[39;00m \u001b[39mself\u001b[39m\u001b[39m.\u001b[39moptions\u001b[39m.\u001b[39mretry_writes \u001b[39mand\u001b[39;00m session \u001b[39mand\u001b[39;00m \u001b[39mnot\u001b[39;00m session\u001b[39m.\u001b[39min_transaction\n\u001b[0;32m   1412\u001b[0m )\n\u001b[1;32m-> 1413\u001b[0m \u001b[39mreturn\u001b[39;00m \u001b[39mself\u001b[39;49m\u001b[39m.\u001b[39;49m_retry_internal(retryable, func, session, bulk)\n",
      "File \u001b[1;32mc:\\Users\\TONY\\Documents\\ntnu\\H23\\TDT4225\\assignment3\\venv\\lib\\site-packages\\pymongo\\_csot.py:108\u001b[0m, in \u001b[0;36mapply.<locals>.csot_wrapper\u001b[1;34m(self, *args, **kwargs)\u001b[0m\n\u001b[0;32m    106\u001b[0m         \u001b[39mwith\u001b[39;00m _TimeoutContext(timeout):\n\u001b[0;32m    107\u001b[0m             \u001b[39mreturn\u001b[39;00m func(\u001b[39mself\u001b[39m, \u001b[39m*\u001b[39margs, \u001b[39m*\u001b[39m\u001b[39m*\u001b[39mkwargs)\n\u001b[1;32m--> 108\u001b[0m \u001b[39mreturn\u001b[39;00m func(\u001b[39mself\u001b[39m, \u001b[39m*\u001b[39margs, \u001b[39m*\u001b[39m\u001b[39m*\u001b[39mkwargs)\n",
      "File \u001b[1;32mc:\\Users\\TONY\\Documents\\ntnu\\H23\\TDT4225\\assignment3\\venv\\lib\\site-packages\\pymongo\\mongo_client.py:1460\u001b[0m, in \u001b[0;36mMongoClient._retry_internal\u001b[1;34m(self, retryable, func, session, bulk)\u001b[0m\n\u001b[0;32m   1458\u001b[0m                 \u001b[39mraise\u001b[39;00m last_error\n\u001b[0;32m   1459\u001b[0m             retryable \u001b[39m=\u001b[39m \u001b[39mFalse\u001b[39;00m\n\u001b[1;32m-> 1460\u001b[0m         \u001b[39mreturn\u001b[39;00m func(session, conn, retryable)\n\u001b[0;32m   1461\u001b[0m \u001b[39mexcept\u001b[39;00m ServerSelectionTimeoutError:\n\u001b[0;32m   1462\u001b[0m     \u001b[39mif\u001b[39;00m is_retrying():\n\u001b[0;32m   1463\u001b[0m         \u001b[39m# The application may think the write was never attempted\u001b[39;00m\n\u001b[0;32m   1464\u001b[0m         \u001b[39m# if we raise ServerSelectionTimeoutError on the retry\u001b[39;00m\n\u001b[0;32m   1465\u001b[0m         \u001b[39m# attempt. Raise the original exception instead.\u001b[39;00m\n",
      "File \u001b[1;32mc:\\Users\\TONY\\Documents\\ntnu\\H23\\TDT4225\\assignment3\\venv\\lib\\site-packages\\pymongo\\bulk.py:435\u001b[0m, in \u001b[0;36m_Bulk.execute_command.<locals>.retryable_bulk\u001b[1;34m(session, conn, retryable)\u001b[0m\n\u001b[0;32m    432\u001b[0m \u001b[39mdef\u001b[39;00m \u001b[39mretryable_bulk\u001b[39m(\n\u001b[0;32m    433\u001b[0m     session: Optional[ClientSession], conn: Connection, retryable: \u001b[39mbool\u001b[39m\n\u001b[0;32m    434\u001b[0m ) \u001b[39m-\u001b[39m\u001b[39m>\u001b[39m \u001b[39mNone\u001b[39;00m:\n\u001b[1;32m--> 435\u001b[0m     \u001b[39mself\u001b[39;49m\u001b[39m.\u001b[39;49m_execute_command(\n\u001b[0;32m    436\u001b[0m         generator,\n\u001b[0;32m    437\u001b[0m         write_concern,\n\u001b[0;32m    438\u001b[0m         session,\n\u001b[0;32m    439\u001b[0m         conn,\n\u001b[0;32m    440\u001b[0m         op_id,\n\u001b[0;32m    441\u001b[0m         retryable,\n\u001b[0;32m    442\u001b[0m         full_result,\n\u001b[0;32m    443\u001b[0m     )\n",
      "File \u001b[1;32mc:\\Users\\TONY\\Documents\\ntnu\\H23\\TDT4225\\assignment3\\venv\\lib\\site-packages\\pymongo\\bulk.py:381\u001b[0m, in \u001b[0;36m_Bulk._execute_command\u001b[1;34m(self, generator, write_concern, session, conn, op_id, retryable, full_result, final_write_concern)\u001b[0m\n\u001b[0;32m    379\u001b[0m \u001b[39m# Run as many ops as possible in one command.\u001b[39;00m\n\u001b[0;32m    380\u001b[0m \u001b[39mif\u001b[39;00m write_concern\u001b[39m.\u001b[39macknowledged:\n\u001b[1;32m--> 381\u001b[0m     result, to_send \u001b[39m=\u001b[39m bwc\u001b[39m.\u001b[39;49mexecute(cmd, ops, client)\n\u001b[0;32m    383\u001b[0m     \u001b[39m# Retryable writeConcernErrors halt the execution of this run.\u001b[39;00m\n\u001b[0;32m    384\u001b[0m     wce \u001b[39m=\u001b[39m result\u001b[39m.\u001b[39mget(\u001b[39m\"\u001b[39m\u001b[39mwriteConcernError\u001b[39m\u001b[39m\"\u001b[39m, {})\n",
      "File \u001b[1;32mc:\\Users\\TONY\\Documents\\ntnu\\H23\\TDT4225\\assignment3\\venv\\lib\\site-packages\\pymongo\\message.py:967\u001b[0m, in \u001b[0;36m_BulkWriteContext.execute\u001b[1;34m(self, cmd, docs, client)\u001b[0m\n\u001b[0;32m    963\u001b[0m \u001b[39mdef\u001b[39;00m \u001b[39mexecute\u001b[39m(\n\u001b[0;32m    964\u001b[0m     \u001b[39mself\u001b[39m, cmd: MutableMapping[\u001b[39mstr\u001b[39m, Any], docs: List[Mapping[\u001b[39mstr\u001b[39m, Any]], client: MongoClient\n\u001b[0;32m    965\u001b[0m ) \u001b[39m-\u001b[39m\u001b[39m>\u001b[39m Tuple[Mapping[\u001b[39mstr\u001b[39m, Any], List[Mapping[\u001b[39mstr\u001b[39m, Any]]]:\n\u001b[0;32m    966\u001b[0m     request_id, msg, to_send \u001b[39m=\u001b[39m \u001b[39mself\u001b[39m\u001b[39m.\u001b[39m__batch_command(cmd, docs)\n\u001b[1;32m--> 967\u001b[0m     result \u001b[39m=\u001b[39m \u001b[39mself\u001b[39;49m\u001b[39m.\u001b[39;49mwrite_command(cmd, request_id, msg, to_send)\n\u001b[0;32m    968\u001b[0m     client\u001b[39m.\u001b[39m_process_response(result, \u001b[39mself\u001b[39m\u001b[39m.\u001b[39msession)\n\u001b[0;32m    969\u001b[0m     \u001b[39mreturn\u001b[39;00m result, to_send\n",
      "File \u001b[1;32mc:\\Users\\TONY\\Documents\\ntnu\\H23\\TDT4225\\assignment3\\venv\\lib\\site-packages\\pymongo\\helpers.py:315\u001b[0m, in \u001b[0;36m_handle_reauth.<locals>.inner\u001b[1;34m(*args, **kwargs)\u001b[0m\n\u001b[0;32m    312\u001b[0m \u001b[39mfrom\u001b[39;00m \u001b[39mpymongo\u001b[39;00m\u001b[39m.\u001b[39;00m\u001b[39mpool\u001b[39;00m \u001b[39mimport\u001b[39;00m Connection\n\u001b[0;32m    314\u001b[0m \u001b[39mtry\u001b[39;00m:\n\u001b[1;32m--> 315\u001b[0m     \u001b[39mreturn\u001b[39;00m func(\u001b[39m*\u001b[39margs, \u001b[39m*\u001b[39m\u001b[39m*\u001b[39mkwargs)\n\u001b[0;32m    316\u001b[0m \u001b[39mexcept\u001b[39;00m OperationFailure \u001b[39mas\u001b[39;00m exc:\n\u001b[0;32m    317\u001b[0m     \u001b[39mif\u001b[39;00m no_reauth:\n",
      "File \u001b[1;32mc:\\Users\\TONY\\Documents\\ntnu\\H23\\TDT4225\\assignment3\\venv\\lib\\site-packages\\pymongo\\message.py:1061\u001b[0m, in \u001b[0;36m_BulkWriteContext.write_command\u001b[1;34m(self, cmd, request_id, msg, docs)\u001b[0m\n\u001b[0;32m   1059\u001b[0m     start \u001b[39m=\u001b[39m datetime\u001b[39m.\u001b[39mdatetime\u001b[39m.\u001b[39mnow()\n\u001b[0;32m   1060\u001b[0m \u001b[39mtry\u001b[39;00m:\n\u001b[1;32m-> 1061\u001b[0m     reply \u001b[39m=\u001b[39m \u001b[39mself\u001b[39;49m\u001b[39m.\u001b[39;49mconn\u001b[39m.\u001b[39;49mwrite_command(request_id, msg, \u001b[39mself\u001b[39;49m\u001b[39m.\u001b[39;49mcodec)\n\u001b[0;32m   1062\u001b[0m     \u001b[39mif\u001b[39;00m \u001b[39mself\u001b[39m\u001b[39m.\u001b[39mpublish:\n\u001b[0;32m   1063\u001b[0m         duration \u001b[39m=\u001b[39m (datetime\u001b[39m.\u001b[39mdatetime\u001b[39m.\u001b[39mnow() \u001b[39m-\u001b[39m start) \u001b[39m+\u001b[39m duration\n",
      "File \u001b[1;32mc:\\Users\\TONY\\Documents\\ntnu\\H23\\TDT4225\\assignment3\\venv\\lib\\site-packages\\pymongo\\pool.py:1020\u001b[0m, in \u001b[0;36mConnection.write_command\u001b[1;34m(self, request_id, msg, codec_options)\u001b[0m\n\u001b[0;32m   1011\u001b[0m \u001b[39m\u001b[39m\u001b[39m\"\"\"Send \"insert\" etc. command, returning response as a dict.\u001b[39;00m\n\u001b[0;32m   1012\u001b[0m \n\u001b[0;32m   1013\u001b[0m \u001b[39mCan raise ConnectionFailure or OperationFailure.\u001b[39;00m\n\u001b[1;32m   (...)\u001b[0m\n\u001b[0;32m   1017\u001b[0m \u001b[39m  - `msg`: bytes, the command message.\u001b[39;00m\n\u001b[0;32m   1018\u001b[0m \u001b[39m\"\"\"\u001b[39;00m\n\u001b[0;32m   1019\u001b[0m \u001b[39mself\u001b[39m\u001b[39m.\u001b[39msend_message(msg, \u001b[39m0\u001b[39m)\n\u001b[1;32m-> 1020\u001b[0m reply \u001b[39m=\u001b[39m \u001b[39mself\u001b[39;49m\u001b[39m.\u001b[39;49mreceive_message(request_id)\n\u001b[0;32m   1021\u001b[0m result \u001b[39m=\u001b[39m reply\u001b[39m.\u001b[39mcommand_response(codec_options)\n\u001b[0;32m   1023\u001b[0m \u001b[39m# Raises NotPrimaryError or OperationFailure.\u001b[39;00m\n",
      "File \u001b[1;32mc:\\Users\\TONY\\Documents\\ntnu\\H23\\TDT4225\\assignment3\\venv\\lib\\site-packages\\pymongo\\pool.py:986\u001b[0m, in \u001b[0;36mConnection.receive_message\u001b[1;34m(self, request_id)\u001b[0m\n\u001b[0;32m    984\u001b[0m     \u001b[39mreturn\u001b[39;00m receive_message(\u001b[39mself\u001b[39m, request_id, \u001b[39mself\u001b[39m\u001b[39m.\u001b[39mmax_message_size)\n\u001b[0;32m    985\u001b[0m \u001b[39mexcept\u001b[39;00m \u001b[39mBaseException\u001b[39;00m \u001b[39mas\u001b[39;00m error:\n\u001b[1;32m--> 986\u001b[0m     \u001b[39mself\u001b[39;49m\u001b[39m.\u001b[39;49m_raise_connection_failure(error)\n",
      "File \u001b[1;32mc:\\Users\\TONY\\Documents\\ntnu\\H23\\TDT4225\\assignment3\\venv\\lib\\site-packages\\pymongo\\pool.py:984\u001b[0m, in \u001b[0;36mConnection.receive_message\u001b[1;34m(self, request_id)\u001b[0m\n\u001b[0;32m    979\u001b[0m \u001b[39m\u001b[39m\u001b[39m\"\"\"Receive a raw BSON message or raise ConnectionFailure.\u001b[39;00m\n\u001b[0;32m    980\u001b[0m \n\u001b[0;32m    981\u001b[0m \u001b[39mIf any exception is raised, the socket is closed.\u001b[39;00m\n\u001b[0;32m    982\u001b[0m \u001b[39m\"\"\"\u001b[39;00m\n\u001b[0;32m    983\u001b[0m \u001b[39mtry\u001b[39;00m:\n\u001b[1;32m--> 984\u001b[0m     \u001b[39mreturn\u001b[39;00m receive_message(\u001b[39mself\u001b[39;49m, request_id, \u001b[39mself\u001b[39;49m\u001b[39m.\u001b[39;49mmax_message_size)\n\u001b[0;32m    985\u001b[0m \u001b[39mexcept\u001b[39;00m \u001b[39mBaseException\u001b[39;00m \u001b[39mas\u001b[39;00m error:\n\u001b[0;32m    986\u001b[0m     \u001b[39mself\u001b[39m\u001b[39m.\u001b[39m_raise_connection_failure(error)\n",
      "File \u001b[1;32mc:\\Users\\TONY\\Documents\\ntnu\\H23\\TDT4225\\assignment3\\venv\\lib\\site-packages\\pymongo\\network.py:247\u001b[0m, in \u001b[0;36mreceive_message\u001b[1;34m(conn, request_id, max_message_size)\u001b[0m\n\u001b[0;32m    245\u001b[0m         deadline \u001b[39m=\u001b[39m \u001b[39mNone\u001b[39;00m\n\u001b[0;32m    246\u001b[0m \u001b[39m# Ignore the response's request id.\u001b[39;00m\n\u001b[1;32m--> 247\u001b[0m length, _, response_to, op_code \u001b[39m=\u001b[39m _UNPACK_HEADER(_receive_data_on_socket(conn, \u001b[39m16\u001b[39;49m, deadline))\n\u001b[0;32m    248\u001b[0m \u001b[39m# No request_id for exhaust cursor \"getMore\".\u001b[39;00m\n\u001b[0;32m    249\u001b[0m \u001b[39mif\u001b[39;00m request_id \u001b[39mis\u001b[39;00m \u001b[39mnot\u001b[39;00m \u001b[39mNone\u001b[39;00m:\n",
      "File \u001b[1;32mc:\\Users\\TONY\\Documents\\ntnu\\H23\\TDT4225\\assignment3\\venv\\lib\\site-packages\\pymongo\\network.py:328\u001b[0m, in \u001b[0;36m_receive_data_on_socket\u001b[1;34m(conn, length, deadline)\u001b[0m\n\u001b[0;32m    326\u001b[0m     \u001b[39mif\u001b[39;00m _csot\u001b[39m.\u001b[39mget_timeout() \u001b[39mand\u001b[39;00m deadline \u001b[39mis\u001b[39;00m \u001b[39mnot\u001b[39;00m \u001b[39mNone\u001b[39;00m:\n\u001b[0;32m    327\u001b[0m         conn\u001b[39m.\u001b[39mset_conn_timeout(\u001b[39mmax\u001b[39m(deadline \u001b[39m-\u001b[39m time\u001b[39m.\u001b[39mmonotonic(), \u001b[39m0\u001b[39m))\n\u001b[1;32m--> 328\u001b[0m     chunk_length \u001b[39m=\u001b[39m conn\u001b[39m.\u001b[39;49mconn\u001b[39m.\u001b[39;49mrecv_into(mv[bytes_read:])\n\u001b[0;32m    329\u001b[0m \u001b[39mexcept\u001b[39;00m BLOCKING_IO_ERRORS:\n\u001b[0;32m    330\u001b[0m     \u001b[39mraise\u001b[39;00m socket\u001b[39m.\u001b[39mtimeout(\u001b[39m\"\u001b[39m\u001b[39mtimed out\u001b[39m\u001b[39m\"\u001b[39m)\n",
      "\u001b[1;31mKeyboardInterrupt\u001b[0m: "
     ]
    }
   ],
   "source": [
    "user_label = []\n",
    "with open(\"./dataset/labeled_ids.txt\", \"r\", encoding=\"UTF-8\") as labeled_ids:\n",
    "    for line in labeled_ids:\n",
    "        user_label.append(line.strip())\n",
    "\n",
    "trackpoint_counter = 1\n",
    "activity_counter = 1\n",
    "\n",
    "# Loop through all the folders containing data for each user\n",
    "# As each folder correspond to a user, add the user to the User table\n",
    "directory_path = \"./dataset/Data\"\n",
    "folders = os.listdir(directory_path)\n",
    "for user_id in folders:\n",
    "    # If user saves transportation mode\n",
    "    if user_id in user_label:\n",
    "        # Insert into User table with has_labels=TRUE\n",
    "        user = {\"_id\": user_id, \"has_labels\": True}\n",
    "\n",
    "        program.insert_doc(\"User\", user)\n",
    "\n",
    "        activities = []\n",
    "\n",
    "        # Insert the user's labeled activities\n",
    "        with open(\n",
    "            \"./dataset/Data/\" + user_id + \"/labels.txt\", \"r\", encoding=\"UTF-8\"\n",
    "        ) as labels:\n",
    "            values = []\n",
    "            labels.readline()\n",
    "            for line in labels:\n",
    "                # Process each line based on labels.txt format\n",
    "                line = line.strip().split(\"\\t\")\n",
    "                start_date_time = line[0].replace(\"/\", \"-\")\n",
    "                end_date_time = line[1].replace(\"/\", \"-\")\n",
    "                transportation_mode = line[2]\n",
    "\n",
    "                start_date_time = datetime.strptime(start_date_time, \"%Y-%m-%d %H:%M:%S\")\n",
    "                end_date_time = datetime.strptime(end_date_time, \"%Y-%m-%d %H:%M:%S\")\n",
    "\n",
    "                activity = {\n",
    "                    \"_id\": activity_counter,\n",
    "                    \"user_id\": user_id,\n",
    "                    \"transportation_mode\": transportation_mode,\n",
    "                    \"start_date_time\": start_date_time,\n",
    "                    \"end_date_time\": end_date_time,\n",
    "                }\n",
    "\n",
    "                activities.append(activity)\n",
    "                activity_counter += 1\n",
    "\n",
    "        # Insert all labeled activites as a batch\n",
    "        program.insert_many_docs(\"Activity\", activities)\n",
    "\n",
    "    else:\n",
    "        # If user does not save transportation mode, set has_labels=FALSE\n",
    "        user = {\"_id\": user_id, \"has_labels\": False}\n",
    "\n",
    "        program.insert_doc(\"User\", user)\n",
    "\n",
    "    # Retrieve files in current user's Trajectory folder\n",
    "    # Each file corresponds to an activity\n",
    "    try:\n",
    "        trajectory_path = \"./dataset/Data/\" + user_id + \"/Trajectory/\"\n",
    "        files = os.listdir(trajectory_path)\n",
    "    except:\n",
    "        continue\n",
    "\n",
    "    for file in files:\n",
    "        # Read the file\n",
    "        with open(trajectory_path + file, \"r\", encoding=\"UTF-8\") as f:\n",
    "            lines = f.readlines()\n",
    "\n",
    "        # Process the file to retrieve start and end time\n",
    "        # Start time: Date of the first trackpoint\n",
    "        # End time: Date of the last trackpoint\n",
    "        start_date_time = lines[6].split(\",\")[5] + \" \" + lines[6].split(\",\")[6]\n",
    "        end_date_time = lines[-1].split(\",\")[5] + \" \" + lines[-1].split(\",\")[6]\n",
    "\n",
    "        start_date_time = datetime.strptime(start_date_time.strip(), \"%Y-%m-%d %H:%M:%S\")\n",
    "        end_date_time = datetime.strptime(end_date_time.strip(), \"%Y-%m-%d %H:%M:%S\")\n",
    "\n",
    "        # If user saves transportation mode, then retrieve the activity in\n",
    "        # Activity table which has exact matches on starttime and end time\n",
    "        if user_id in user_label:\n",
    "\n",
    "            # We choose the most recent added activity by using the ASCENDING sort and then the loop\n",
    "            # This is for example if a user starts driving the car, but drives slow in the beginning\n",
    "            # it might have been perceived as walking in the beginning and added to the Activity list\n",
    "            # after the user speeds up, a new activity is added with the same endtime and starttime,\n",
    "            # but with another transportation mode\n",
    "            rows = program.query(\n",
    "                 \"Activity\",\n",
    "                {\n",
    "                    \"user_id\": user_id,\n",
    "                    \"start_date_time\": start_date_time,\n",
    "                    \"end_date_time\": end_date_time,\n",
    "                },\n",
    "            )\n",
    "            activity_id = []\n",
    "            for row in rows:\n",
    "                activity_id.append(row['_id'])\n",
    "\n",
    "            # If there is no match, then this file of trackpoint is skipped\n",
    "            # Because user who saves transportation mode is not allowed\n",
    "            # To have transportation mode equals to NULL\n",
    "            # Thus, we cannot add a new Activity row for it\n",
    "            if not activity_id:\n",
    "                continue\n",
    "\n",
    "        # If file includes more than 2500 (+6 to count for headers) trackpoints\n",
    "        if len(lines) > 2500 + 6:\n",
    "            # If user saves transportation mode, delete the activity that this\n",
    "            # file belongs to as it will not have any trackpoints, thus is not relevant\n",
    "            if user_id in user_label:\n",
    "\n",
    "                program.delete_many_docs('Activity', {\n",
    "                    '_id': {\n",
    "                        '%in': activity_id\n",
    "                    }\n",
    "                })\n",
    "            # Thereafter, skip this file\n",
    "            continue\n",
    "\n",
    "        if user_id in user_label:\n",
    "            activity_id = activity_id[0]\n",
    "        else:\n",
    "            # If user does not save transportation, it means no activity has been added\n",
    "            # and therefore we add a new activity with transportation_mode = None (NULL)\n",
    "            activity = {\n",
    "                \"_id\": activity_counter,\n",
    "                \"user_id\": user_id,\n",
    "                \"transportation_mode\": None,\n",
    "                \"start_date_time\": start_date_time,\n",
    "                \"end_date_time\": end_date_time,\n",
    "            }\n",
    "            program.insert_doc('Activity', activity)\n",
    "            activity_id = activity_counter\n",
    "            activity_counter += 1\n",
    "\n",
    "        values = []\n",
    "        # Then process each line of the activity file, but skip the headers (first 6 lines)\n",
    "        trackpoints = []\n",
    "        for line in lines[6:]:\n",
    "            line = line.strip().split(\",\")\n",
    "            lat = line[0]\n",
    "            lon = line[1]\n",
    "            altitude = line[3]\n",
    "            date_days = line[4]\n",
    "            date_time = line[5] + \" \" + line[6]\n",
    "\n",
    "            date_time = datetime.strptime(date_time.strip(), \"%Y-%m-%d %H:%M:%S\")\n",
    "\n",
    "            trackpoint = {\n",
    "                '_id': trackpoint_counter,\n",
    "                'activity_id': activity_id,\n",
    "                'lat': lat,\n",
    "                'lon': lon,\n",
    "                'altitude': altitude,\n",
    "                'date_days': date_days,\n",
    "                'date_time': date_time\n",
    "            }\n",
    "            trackpoints.append(trackpoint)\n",
    "            trackpoint_counter += 1\n",
    "\n",
    "        program.insert_many_docs('TrackPoint',trackpoints)\n",
    "\n",
    "# Then we clean up the activities which do not have any trackpoints\n",
    "# As there could exists trackpoints in the labels.txt for each user that does not have any\n",
    "# corresponding file in the user's Trajectory folder\n",
    "\n",
    "activity_ids = program.field_query_unique('TrackPoint', 'activity_id')\n",
    "program.delete_many_docs('Activity', {\n",
    "    '_id': {\n",
    "        \"$nin\": activity_ids\n",
    "    }\n",
    "})"
   ]
  },
  {
   "cell_type": "markdown",
   "metadata": {},
   "source": [
    "### User collection"
   ]
  },
  {
   "cell_type": "code",
   "execution_count": null,
   "metadata": {},
   "outputs": [
    {
     "data": {
      "text/plain": [
       "183"
      ]
     },
     "execution_count": 25,
     "metadata": {},
     "output_type": "execute_result"
    }
   ],
   "source": [
    "collection = program.db['User']\n",
    "documents = collection.find()\n",
    "users = list(documents)\n",
    "len(users)"
   ]
  },
  {
   "cell_type": "code",
   "execution_count": null,
   "metadata": {},
   "outputs": [
    {
     "name": "stdout",
     "output_type": "stream",
     "text": [
      "  _id  has_labels\n",
      "-----  ------------\n",
      "  135  False\n",
      "  132  False\n",
      "  104  True\n",
      "  103  False\n",
      "  168  False\n",
      "  157  False\n",
      "  150  False\n",
      "  159  False\n",
      "  166  False\n",
      "  161  True\n"
     ]
    }
   ],
   "source": [
    "print(tabulate(users[:10], headers=\"keys\"))"
   ]
  },
  {
   "cell_type": "markdown",
   "metadata": {},
   "source": [
    "### Activity collection"
   ]
  },
  {
   "cell_type": "code",
   "execution_count": null,
   "metadata": {},
   "outputs": [
    {
     "data": {
      "text/plain": [
       "7877"
      ]
     },
     "execution_count": 21,
     "metadata": {},
     "output_type": "execute_result"
    }
   ],
   "source": [
    "collection = program.db['Activity']\n",
    "documents = collection.find({})\n",
    "activities = list(documents)\n",
    "len(activities)"
   ]
  },
  {
   "cell_type": "code",
   "execution_count": null,
   "metadata": {},
   "outputs": [
    {
     "name": "stdout",
     "output_type": "stream",
     "text": [
      "  _id    user_id  transportation_mode    start_date_time      end_date_time\n",
      "-----  ---------  ---------------------  -------------------  -------------------\n",
      "    1        135                         2009-01-03 01:21:34  2009-01-03 05:40:31\n",
      "    2        135                         2009-01-02 04:31:27  2009-01-02 04:41:05\n",
      "    3        135                         2009-01-27 03:00:04  2009-01-27 04:50:32\n",
      "    4        135                         2009-01-10 01:19:47  2009-01-10 04:42:47\n",
      "    5        135                         2009-01-14 12:17:57  2009-01-14 12:30:53\n",
      "    6        135                         2009-01-12 01:41:22  2009-01-12 02:14:01\n",
      "    7        135                         2008-12-24 14:42:07  2008-12-24 15:26:45\n",
      "    8        135                         2008-12-28 10:36:05  2008-12-28 12:19:32\n",
      "    9        132                         2010-02-15 10:56:35  2010-02-15 12:22:33\n",
      "   10        132                         2010-04-30 23:38:01  2010-05-01 00:35:31\n"
     ]
    }
   ],
   "source": [
    "print(tabulate(activities[:10], headers=\"keys\"))"
   ]
  },
  {
   "cell_type": "markdown",
   "metadata": {},
   "source": [
    "### Trackpoint collection"
   ]
  },
  {
   "cell_type": "code",
   "execution_count": null,
   "metadata": {},
   "outputs": [
    {
     "data": {
      "text/plain": [
       "5355109"
      ]
     },
     "execution_count": 22,
     "metadata": {},
     "output_type": "execute_result"
    }
   ],
   "source": [
    "collection = program.db['TrackPoint']\n",
    "documents = collection.find({})\n",
    "trackpoints = list(documents)\n",
    "len(trackpoints)"
   ]
  },
  {
   "cell_type": "code",
   "execution_count": null,
   "metadata": {},
   "outputs": [
    {
     "name": "stdout",
     "output_type": "stream",
     "text": [
      "  _id    activity_id      lat    lon    altitude    date_days  date_time\n",
      "-----  -------------  -------  -----  ----------  -----------  -------------------\n",
      "    1              1  39.9743  116.4         492      39816.1  2009-01-03 01:21:34\n",
      "    2              1  39.9743  116.4         492      39816.1  2009-01-03 01:21:35\n",
      "    3              1  39.9743  116.4         492      39816.1  2009-01-03 01:21:36\n",
      "    4              1  39.9743  116.4         492      39816.1  2009-01-03 01:21:38\n",
      "    5              1  39.9744  116.4         491      39816.1  2009-01-03 01:21:39\n",
      "    6              1  39.9744  116.4         491      39816.1  2009-01-03 01:21:42\n",
      "    7              1  39.9744  116.4         491      39816.1  2009-01-03 01:21:46\n",
      "    8              1  39.9745  116.4         491      39816.1  2009-01-03 01:21:51\n",
      "    9              1  39.9745  116.4         490      39816.1  2009-01-03 01:21:56\n",
      "   10              1  39.9745  116.4         489      39816.1  2009-01-03 01:22:01\n"
     ]
    }
   ],
   "source": [
    "print(tabulate(trackpoints[:10], headers=\"keys\"))"
   ]
  }
 ],
 "metadata": {
  "kernelspec": {
   "display_name": "venv",
   "language": "python",
   "name": "python3"
  },
  "language_info": {
   "codemirror_mode": {
    "name": "ipython",
    "version": 3
   },
   "file_extension": ".py",
   "mimetype": "text/x-python",
   "name": "python",
   "nbconvert_exporter": "python",
   "pygments_lexer": "ipython3",
   "version": "3.9.13"
  }
 },
 "nbformat": 4,
 "nbformat_minor": 2
}
