{
 "cells": [
  {
   "cell_type": "code",
   "execution_count": 5,
   "metadata": {},
   "outputs": [
    {
     "name": "stdout",
     "output_type": "stream",
     "text": [
      "You are connected to the database: assignment3\n",
      "-----------------------------------------------\n",
      "\n"
     ]
    }
   ],
   "source": [
    "from DbConnector import DbConnector\n",
    "#from part2 import Database\n",
    "from tabulate import tabulate\n",
    "\n",
    "# Set up the program\n",
    "from dotenv import load_dotenv\n",
    "import os\n",
    "import numpy as np\n",
    "from datetime import datetime, timedelta\n",
    "from haversine import haversine, Unit\n",
    "from pprint import pprint\n",
    "import pymongo\n",
    "\n",
    "load_dotenv()\n",
    "\n",
    "connector = DbConnector()"
   ]
  },
  {
   "cell_type": "markdown",
   "metadata": {},
   "source": [
    "### Task 1"
   ]
  },
  {
   "cell_type": "markdown",
   "metadata": {},
   "source": [
    "How many users, activities and trackpoints are there in the dataset (after it is inserted into the database)"
   ]
  },
  {
   "cell_type": "code",
   "execution_count": null,
   "metadata": {},
   "outputs": [],
   "source": []
  },
  {
   "cell_type": "code",
   "execution_count": null,
   "metadata": {},
   "outputs": [],
   "source": []
  },
  {
   "cell_type": "markdown",
   "metadata": {},
   "source": [
    "### Task 2\n",
    "Find the average, maximum and minimum number of trackpoints per user"
   ]
  },
  {
   "cell_type": "markdown",
   "metadata": {},
   "source": [
    "##### Average"
   ]
  },
  {
   "cell_type": "code",
   "execution_count": null,
   "metadata": {},
   "outputs": [],
   "source": []
  },
  {
   "cell_type": "markdown",
   "metadata": {},
   "source": [
    "##### Maximum"
   ]
  },
  {
   "cell_type": "code",
   "execution_count": null,
   "metadata": {},
   "outputs": [],
   "source": []
  },
  {
   "cell_type": "markdown",
   "metadata": {},
   "source": [
    "##### Minimum"
   ]
  },
  {
   "cell_type": "code",
   "execution_count": null,
   "metadata": {},
   "outputs": [],
   "source": []
  },
  {
   "cell_type": "markdown",
   "metadata": {},
   "source": [
    "### Task 3\n",
    "\n",
    "Find the top 15 users with the highest number of activities."
   ]
  },
  {
   "cell_type": "code",
   "execution_count": 6,
   "metadata": {},
   "outputs": [
    {
     "name": "stdout",
     "output_type": "stream",
     "text": [
      "{'_id': {'user_id': '025'}, 'count': 715}\n",
      "{'_id': {'user_id': '128'}, 'count': 519}\n",
      "{'_id': {'user_id': '062'}, 'count': 406}\n",
      "{'_id': {'user_id': '041'}, 'count': 399}\n",
      "{'_id': {'user_id': '004'}, 'count': 346}\n",
      "{'_id': {'user_id': '140'}, 'count': 345}\n",
      "{'_id': {'user_id': '017'}, 'count': 265}\n",
      "{'_id': {'user_id': '003'}, 'count': 261}\n",
      "{'_id': {'user_id': '014'}, 'count': 236}\n",
      "{'_id': {'user_id': '030'}, 'count': 210}\n",
      "{'_id': {'user_id': '011'}, 'count': 201}\n",
      "{'_id': {'user_id': '039'}, 'count': 198}\n",
      "{'_id': {'user_id': '034'}, 'count': 180}\n",
      "{'_id': {'user_id': '000'}, 'count': 155}\n",
      "{'_id': {'user_id': '002'}, 'count': 146}\n"
     ]
    }
   ],
   "source": [
    "collection = connector.db[\"Activity\"]\n",
    "\n",
    "rows = collection.aggregate(\n",
    "    [\n",
    "        {\"$group\": {\"_id\": {\"user_id\": \"$user_id\"}, \"count\": {\"$sum\": 1}}},\n",
    "        {\"$sort\": {\"count\": -1}},\n",
    "        {\"$limit\": 15},\n",
    "    ]\n",
    ")\n",
    "\n",
    "for row in rows:\n",
    "    pprint(row)"
   ]
  },
  {
   "cell_type": "markdown",
   "metadata": {},
   "source": [
    "### Task 4\n",
    "Find all users who have taken a bus."
   ]
  },
  {
   "cell_type": "code",
   "execution_count": null,
   "metadata": {},
   "outputs": [],
   "source": []
  },
  {
   "cell_type": "markdown",
   "metadata": {},
   "source": [
    "### Task 5\n",
    "List the top 10 users by their amount of different transportation modes."
   ]
  },
  {
   "cell_type": "code",
   "execution_count": null,
   "metadata": {},
   "outputs": [],
   "source": []
  },
  {
   "cell_type": "markdown",
   "metadata": {},
   "source": [
    "### Task 6\n",
    "Find activities that are registered multiple times. You should find the query even\n",
    "if it gives zero result.\n",
    "\n",
    "Assumption: Registered multiple times, meaning duplicates with the same user_id, transportation_mode, start_date_time, end_date_time."
   ]
  },
  {
   "cell_type": "code",
   "execution_count": 3,
   "metadata": {},
   "outputs": [
    {
     "ename": "KeyboardInterrupt",
     "evalue": "",
     "output_type": "error",
     "traceback": [
      "\u001b[1;31m---------------------------------------------------------------------------\u001b[0m",
      "\u001b[1;31mKeyboardInterrupt\u001b[0m                         Traceback (most recent call last)",
      "\u001b[1;32mc:\\Users\\TONY\\Documents\\ntnu\\H23\\TDT4225\\assignment3\\part2.ipynb Cell 20\u001b[0m line \u001b[0;36m3\n\u001b[0;32m      <a href='vscode-notebook-cell:/c%3A/Users/TONY/Documents/ntnu/H23/TDT4225/assignment3/part2.ipynb#X25sZmlsZQ%3D%3D?line=0'>1</a>\u001b[0m collection \u001b[39m=\u001b[39m connector\u001b[39m.\u001b[39mdb[\u001b[39m\"\u001b[39m\u001b[39mActivity\u001b[39m\u001b[39m\"\u001b[39m]\n\u001b[1;32m----> <a href='vscode-notebook-cell:/c%3A/Users/TONY/Documents/ntnu/H23/TDT4225/assignment3/part2.ipynb#X25sZmlsZQ%3D%3D?line=2'>3</a>\u001b[0m rows \u001b[39m=\u001b[39m collection\u001b[39m.\u001b[39;49maggregate(\n\u001b[0;32m      <a href='vscode-notebook-cell:/c%3A/Users/TONY/Documents/ntnu/H23/TDT4225/assignment3/part2.ipynb#X25sZmlsZQ%3D%3D?line=3'>4</a>\u001b[0m     [\n\u001b[0;32m      <a href='vscode-notebook-cell:/c%3A/Users/TONY/Documents/ntnu/H23/TDT4225/assignment3/part2.ipynb#X25sZmlsZQ%3D%3D?line=4'>5</a>\u001b[0m         {\n\u001b[0;32m      <a href='vscode-notebook-cell:/c%3A/Users/TONY/Documents/ntnu/H23/TDT4225/assignment3/part2.ipynb#X25sZmlsZQ%3D%3D?line=5'>6</a>\u001b[0m             \u001b[39m\"\u001b[39;49m\u001b[39m$lookup\u001b[39;49m\u001b[39m\"\u001b[39;49m: {\n\u001b[0;32m      <a href='vscode-notebook-cell:/c%3A/Users/TONY/Documents/ntnu/H23/TDT4225/assignment3/part2.ipynb#X25sZmlsZQ%3D%3D?line=6'>7</a>\u001b[0m                 \u001b[39m\"\u001b[39;49m\u001b[39mfrom\u001b[39;49m\u001b[39m\"\u001b[39;49m: \u001b[39m\"\u001b[39;49m\u001b[39mActivity\u001b[39;49m\u001b[39m\"\u001b[39;49m,\n\u001b[0;32m      <a href='vscode-notebook-cell:/c%3A/Users/TONY/Documents/ntnu/H23/TDT4225/assignment3/part2.ipynb#X25sZmlsZQ%3D%3D?line=7'>8</a>\u001b[0m                 \u001b[39m\"\u001b[39;49m\u001b[39mlet\u001b[39;49m\u001b[39m\"\u001b[39;49m: {\n\u001b[0;32m      <a href='vscode-notebook-cell:/c%3A/Users/TONY/Documents/ntnu/H23/TDT4225/assignment3/part2.ipynb#X25sZmlsZQ%3D%3D?line=8'>9</a>\u001b[0m                     \u001b[39m\"\u001b[39;49m\u001b[39ma_id\u001b[39;49m\u001b[39m\"\u001b[39;49m: \u001b[39m\"\u001b[39;49m\u001b[39m$_id\u001b[39;49m\u001b[39m\"\u001b[39;49m,\n\u001b[0;32m     <a href='vscode-notebook-cell:/c%3A/Users/TONY/Documents/ntnu/H23/TDT4225/assignment3/part2.ipynb#X25sZmlsZQ%3D%3D?line=9'>10</a>\u001b[0m                     \u001b[39m\"\u001b[39;49m\u001b[39ma_user_id\u001b[39;49m\u001b[39m\"\u001b[39;49m: \u001b[39m\"\u001b[39;49m\u001b[39m$user_id\u001b[39;49m\u001b[39m\"\u001b[39;49m,\n\u001b[0;32m     <a href='vscode-notebook-cell:/c%3A/Users/TONY/Documents/ntnu/H23/TDT4225/assignment3/part2.ipynb#X25sZmlsZQ%3D%3D?line=10'>11</a>\u001b[0m                     \u001b[39m\"\u001b[39;49m\u001b[39ma_transportation_mode\u001b[39;49m\u001b[39m\"\u001b[39;49m: \u001b[39m\"\u001b[39;49m\u001b[39m$transportation_mode\u001b[39;49m\u001b[39m\"\u001b[39;49m,\n\u001b[0;32m     <a href='vscode-notebook-cell:/c%3A/Users/TONY/Documents/ntnu/H23/TDT4225/assignment3/part2.ipynb#X25sZmlsZQ%3D%3D?line=11'>12</a>\u001b[0m                     \u001b[39m\"\u001b[39;49m\u001b[39ma_start_date_time\u001b[39;49m\u001b[39m\"\u001b[39;49m: \u001b[39m\"\u001b[39;49m\u001b[39m$start_date_time\u001b[39;49m\u001b[39m\"\u001b[39;49m,\n\u001b[0;32m     <a href='vscode-notebook-cell:/c%3A/Users/TONY/Documents/ntnu/H23/TDT4225/assignment3/part2.ipynb#X25sZmlsZQ%3D%3D?line=12'>13</a>\u001b[0m                     \u001b[39m\"\u001b[39;49m\u001b[39ma_end_date_time\u001b[39;49m\u001b[39m\"\u001b[39;49m: \u001b[39m\"\u001b[39;49m\u001b[39m$end_date_time\u001b[39;49m\u001b[39m\"\u001b[39;49m,\n\u001b[0;32m     <a href='vscode-notebook-cell:/c%3A/Users/TONY/Documents/ntnu/H23/TDT4225/assignment3/part2.ipynb#X25sZmlsZQ%3D%3D?line=13'>14</a>\u001b[0m                 },\n\u001b[0;32m     <a href='vscode-notebook-cell:/c%3A/Users/TONY/Documents/ntnu/H23/TDT4225/assignment3/part2.ipynb#X25sZmlsZQ%3D%3D?line=14'>15</a>\u001b[0m                 \u001b[39m\"\u001b[39;49m\u001b[39mpipeline\u001b[39;49m\u001b[39m\"\u001b[39;49m: [\n\u001b[0;32m     <a href='vscode-notebook-cell:/c%3A/Users/TONY/Documents/ntnu/H23/TDT4225/assignment3/part2.ipynb#X25sZmlsZQ%3D%3D?line=15'>16</a>\u001b[0m                     {\n\u001b[0;32m     <a href='vscode-notebook-cell:/c%3A/Users/TONY/Documents/ntnu/H23/TDT4225/assignment3/part2.ipynb#X25sZmlsZQ%3D%3D?line=16'>17</a>\u001b[0m                         \u001b[39m\"\u001b[39;49m\u001b[39m$match\u001b[39;49m\u001b[39m\"\u001b[39;49m: {\n\u001b[0;32m     <a href='vscode-notebook-cell:/c%3A/Users/TONY/Documents/ntnu/H23/TDT4225/assignment3/part2.ipynb#X25sZmlsZQ%3D%3D?line=17'>18</a>\u001b[0m                             \u001b[39m\"\u001b[39;49m\u001b[39m$expr\u001b[39;49m\u001b[39m\"\u001b[39;49m: {\n\u001b[0;32m     <a href='vscode-notebook-cell:/c%3A/Users/TONY/Documents/ntnu/H23/TDT4225/assignment3/part2.ipynb#X25sZmlsZQ%3D%3D?line=18'>19</a>\u001b[0m                                 \u001b[39m\"\u001b[39;49m\u001b[39m$and\u001b[39;49m\u001b[39m\"\u001b[39;49m: [\n\u001b[0;32m     <a href='vscode-notebook-cell:/c%3A/Users/TONY/Documents/ntnu/H23/TDT4225/assignment3/part2.ipynb#X25sZmlsZQ%3D%3D?line=19'>20</a>\u001b[0m                                     {\u001b[39m\"\u001b[39;49m\u001b[39m$ne\u001b[39;49m\u001b[39m\"\u001b[39;49m: [\u001b[39m\"\u001b[39;49m\u001b[39m$$a_id\u001b[39;49m\u001b[39m\"\u001b[39;49m, \u001b[39m\"\u001b[39;49m\u001b[39m$_id\u001b[39;49m\u001b[39m\"\u001b[39;49m]},\n\u001b[0;32m     <a href='vscode-notebook-cell:/c%3A/Users/TONY/Documents/ntnu/H23/TDT4225/assignment3/part2.ipynb#X25sZmlsZQ%3D%3D?line=20'>21</a>\u001b[0m                                     {\u001b[39m\"\u001b[39;49m\u001b[39m$eq\u001b[39;49m\u001b[39m\"\u001b[39;49m: [\u001b[39m\"\u001b[39;49m\u001b[39m$$a_user_id\u001b[39;49m\u001b[39m\"\u001b[39;49m, \u001b[39m\"\u001b[39;49m\u001b[39m$user_id\u001b[39;49m\u001b[39m\"\u001b[39;49m]},\n\u001b[0;32m     <a href='vscode-notebook-cell:/c%3A/Users/TONY/Documents/ntnu/H23/TDT4225/assignment3/part2.ipynb#X25sZmlsZQ%3D%3D?line=21'>22</a>\u001b[0m                                     {\n\u001b[0;32m     <a href='vscode-notebook-cell:/c%3A/Users/TONY/Documents/ntnu/H23/TDT4225/assignment3/part2.ipynb#X25sZmlsZQ%3D%3D?line=22'>23</a>\u001b[0m                                         \u001b[39m\"\u001b[39;49m\u001b[39m$eq\u001b[39;49m\u001b[39m\"\u001b[39;49m: [\n\u001b[0;32m     <a href='vscode-notebook-cell:/c%3A/Users/TONY/Documents/ntnu/H23/TDT4225/assignment3/part2.ipynb#X25sZmlsZQ%3D%3D?line=23'>24</a>\u001b[0m                                             \u001b[39m\"\u001b[39;49m\u001b[39m$$a_transportation_mode\u001b[39;49m\u001b[39m\"\u001b[39;49m,\n\u001b[0;32m     <a href='vscode-notebook-cell:/c%3A/Users/TONY/Documents/ntnu/H23/TDT4225/assignment3/part2.ipynb#X25sZmlsZQ%3D%3D?line=24'>25</a>\u001b[0m                                             \u001b[39m\"\u001b[39;49m\u001b[39m$transportation_mode\u001b[39;49m\u001b[39m\"\u001b[39;49m,\n\u001b[0;32m     <a href='vscode-notebook-cell:/c%3A/Users/TONY/Documents/ntnu/H23/TDT4225/assignment3/part2.ipynb#X25sZmlsZQ%3D%3D?line=25'>26</a>\u001b[0m                                         ]\n\u001b[0;32m     <a href='vscode-notebook-cell:/c%3A/Users/TONY/Documents/ntnu/H23/TDT4225/assignment3/part2.ipynb#X25sZmlsZQ%3D%3D?line=26'>27</a>\u001b[0m                                     },\n\u001b[0;32m     <a href='vscode-notebook-cell:/c%3A/Users/TONY/Documents/ntnu/H23/TDT4225/assignment3/part2.ipynb#X25sZmlsZQ%3D%3D?line=27'>28</a>\u001b[0m                                     {\n\u001b[0;32m     <a href='vscode-notebook-cell:/c%3A/Users/TONY/Documents/ntnu/H23/TDT4225/assignment3/part2.ipynb#X25sZmlsZQ%3D%3D?line=28'>29</a>\u001b[0m                                         \u001b[39m\"\u001b[39;49m\u001b[39m$eq\u001b[39;49m\u001b[39m\"\u001b[39;49m: [\n\u001b[0;32m     <a href='vscode-notebook-cell:/c%3A/Users/TONY/Documents/ntnu/H23/TDT4225/assignment3/part2.ipynb#X25sZmlsZQ%3D%3D?line=29'>30</a>\u001b[0m                                             \u001b[39m\"\u001b[39;49m\u001b[39m$$a_start_date_time\u001b[39;49m\u001b[39m\"\u001b[39;49m,\n\u001b[0;32m     <a href='vscode-notebook-cell:/c%3A/Users/TONY/Documents/ntnu/H23/TDT4225/assignment3/part2.ipynb#X25sZmlsZQ%3D%3D?line=30'>31</a>\u001b[0m                                             \u001b[39m\"\u001b[39;49m\u001b[39m$start_date_time\u001b[39;49m\u001b[39m\"\u001b[39;49m,\n\u001b[0;32m     <a href='vscode-notebook-cell:/c%3A/Users/TONY/Documents/ntnu/H23/TDT4225/assignment3/part2.ipynb#X25sZmlsZQ%3D%3D?line=31'>32</a>\u001b[0m                                         ]\n\u001b[0;32m     <a href='vscode-notebook-cell:/c%3A/Users/TONY/Documents/ntnu/H23/TDT4225/assignment3/part2.ipynb#X25sZmlsZQ%3D%3D?line=32'>33</a>\u001b[0m                                     },\n\u001b[0;32m     <a href='vscode-notebook-cell:/c%3A/Users/TONY/Documents/ntnu/H23/TDT4225/assignment3/part2.ipynb#X25sZmlsZQ%3D%3D?line=33'>34</a>\u001b[0m                                     {\u001b[39m\"\u001b[39;49m\u001b[39m$eq\u001b[39;49m\u001b[39m\"\u001b[39;49m: [\u001b[39m\"\u001b[39;49m\u001b[39m$$a_end_date_time\u001b[39;49m\u001b[39m\"\u001b[39;49m, \u001b[39m\"\u001b[39;49m\u001b[39m$end_date_time\u001b[39;49m\u001b[39m\"\u001b[39;49m]},\n\u001b[0;32m     <a href='vscode-notebook-cell:/c%3A/Users/TONY/Documents/ntnu/H23/TDT4225/assignment3/part2.ipynb#X25sZmlsZQ%3D%3D?line=34'>35</a>\u001b[0m                                 ]\n\u001b[0;32m     <a href='vscode-notebook-cell:/c%3A/Users/TONY/Documents/ntnu/H23/TDT4225/assignment3/part2.ipynb#X25sZmlsZQ%3D%3D?line=35'>36</a>\u001b[0m                             }\n\u001b[0;32m     <a href='vscode-notebook-cell:/c%3A/Users/TONY/Documents/ntnu/H23/TDT4225/assignment3/part2.ipynb#X25sZmlsZQ%3D%3D?line=36'>37</a>\u001b[0m                         }\n\u001b[0;32m     <a href='vscode-notebook-cell:/c%3A/Users/TONY/Documents/ntnu/H23/TDT4225/assignment3/part2.ipynb#X25sZmlsZQ%3D%3D?line=37'>38</a>\u001b[0m                     }\n\u001b[0;32m     <a href='vscode-notebook-cell:/c%3A/Users/TONY/Documents/ntnu/H23/TDT4225/assignment3/part2.ipynb#X25sZmlsZQ%3D%3D?line=38'>39</a>\u001b[0m                 ],\n\u001b[0;32m     <a href='vscode-notebook-cell:/c%3A/Users/TONY/Documents/ntnu/H23/TDT4225/assignment3/part2.ipynb#X25sZmlsZQ%3D%3D?line=39'>40</a>\u001b[0m                 \u001b[39m\"\u001b[39;49m\u001b[39mas\u001b[39;49m\u001b[39m\"\u001b[39;49m: \u001b[39m\"\u001b[39;49m\u001b[39mduplicates\u001b[39;49m\u001b[39m\"\u001b[39;49m\n\u001b[0;32m     <a href='vscode-notebook-cell:/c%3A/Users/TONY/Documents/ntnu/H23/TDT4225/assignment3/part2.ipynb#X25sZmlsZQ%3D%3D?line=40'>41</a>\u001b[0m             }\n\u001b[0;32m     <a href='vscode-notebook-cell:/c%3A/Users/TONY/Documents/ntnu/H23/TDT4225/assignment3/part2.ipynb#X25sZmlsZQ%3D%3D?line=41'>42</a>\u001b[0m         }\n\u001b[0;32m     <a href='vscode-notebook-cell:/c%3A/Users/TONY/Documents/ntnu/H23/TDT4225/assignment3/part2.ipynb#X25sZmlsZQ%3D%3D?line=42'>43</a>\u001b[0m     ]\n\u001b[0;32m     <a href='vscode-notebook-cell:/c%3A/Users/TONY/Documents/ntnu/H23/TDT4225/assignment3/part2.ipynb#X25sZmlsZQ%3D%3D?line=43'>44</a>\u001b[0m )\n\u001b[0;32m     <a href='vscode-notebook-cell:/c%3A/Users/TONY/Documents/ntnu/H23/TDT4225/assignment3/part2.ipynb#X25sZmlsZQ%3D%3D?line=45'>46</a>\u001b[0m \u001b[39mfor\u001b[39;00m row \u001b[39min\u001b[39;00m rows:\n\u001b[0;32m     <a href='vscode-notebook-cell:/c%3A/Users/TONY/Documents/ntnu/H23/TDT4225/assignment3/part2.ipynb#X25sZmlsZQ%3D%3D?line=46'>47</a>\u001b[0m     \u001b[39mprint\u001b[39m(rows)\n",
      "File \u001b[1;32mc:\\Users\\TONY\\Documents\\ntnu\\H23\\TDT4225\\assignment3\\venv\\lib\\site-packages\\pymongo\\collection.py:2721\u001b[0m, in \u001b[0;36mCollection.aggregate\u001b[1;34m(self, pipeline, session, let, comment, **kwargs)\u001b[0m\n\u001b[0;32m   2636\u001b[0m \u001b[39mdef\u001b[39;00m \u001b[39maggregate\u001b[39m(\n\u001b[0;32m   2637\u001b[0m     \u001b[39mself\u001b[39m,\n\u001b[0;32m   2638\u001b[0m     pipeline: _Pipeline,\n\u001b[1;32m   (...)\u001b[0m\n\u001b[0;32m   2642\u001b[0m     \u001b[39m*\u001b[39m\u001b[39m*\u001b[39mkwargs: Any,\n\u001b[0;32m   2643\u001b[0m ) \u001b[39m-\u001b[39m\u001b[39m>\u001b[39m CommandCursor[_DocumentType]:\n\u001b[0;32m   2644\u001b[0m \u001b[39m    \u001b[39m\u001b[39m\"\"\"Perform an aggregation using the aggregation framework on this\u001b[39;00m\n\u001b[0;32m   2645\u001b[0m \u001b[39m    collection.\u001b[39;00m\n\u001b[0;32m   2646\u001b[0m \n\u001b[1;32m   (...)\u001b[0m\n\u001b[0;32m   2719\u001b[0m \u001b[39m        https://mongodb.com/docs/manual/reference/command/aggregate\u001b[39;00m\n\u001b[0;32m   2720\u001b[0m \u001b[39m    \"\"\"\u001b[39;00m\n\u001b[1;32m-> 2721\u001b[0m     \u001b[39mwith\u001b[39;00m \u001b[39mself\u001b[39m\u001b[39m.\u001b[39m__database\u001b[39m.\u001b[39mclient\u001b[39m.\u001b[39m_tmp_session(session, close\u001b[39m=\u001b[39m\u001b[39mFalse\u001b[39;00m) \u001b[39mas\u001b[39;00m s:\n\u001b[0;32m   2722\u001b[0m         \u001b[39mreturn\u001b[39;00m \u001b[39mself\u001b[39m\u001b[39m.\u001b[39m_aggregate(\n\u001b[0;32m   2723\u001b[0m             _CollectionAggregationCommand,\n\u001b[0;32m   2724\u001b[0m             pipeline,\n\u001b[1;32m   (...)\u001b[0m\n\u001b[0;32m   2730\u001b[0m             \u001b[39m*\u001b[39m\u001b[39m*\u001b[39mkwargs,\n\u001b[0;32m   2731\u001b[0m         )\n",
      "File \u001b[1;32m~\\AppData\\Local\\Programs\\Python\\Python39\\lib\\contextlib.py:119\u001b[0m, in \u001b[0;36m_GeneratorContextManager.__enter__\u001b[1;34m(self)\u001b[0m\n\u001b[0;32m    117\u001b[0m \u001b[39mdel\u001b[39;00m \u001b[39mself\u001b[39m\u001b[39m.\u001b[39margs, \u001b[39mself\u001b[39m\u001b[39m.\u001b[39mkwds, \u001b[39mself\u001b[39m\u001b[39m.\u001b[39mfunc\n\u001b[0;32m    118\u001b[0m \u001b[39mtry\u001b[39;00m:\n\u001b[1;32m--> 119\u001b[0m     \u001b[39mreturn\u001b[39;00m \u001b[39mnext\u001b[39;49m(\u001b[39mself\u001b[39;49m\u001b[39m.\u001b[39;49mgen)\n\u001b[0;32m    120\u001b[0m \u001b[39mexcept\u001b[39;00m \u001b[39mStopIteration\u001b[39;00m:\n\u001b[0;32m    121\u001b[0m     \u001b[39mraise\u001b[39;00m \u001b[39mRuntimeError\u001b[39;00m(\u001b[39m\"\u001b[39m\u001b[39mgenerator didn\u001b[39m\u001b[39m'\u001b[39m\u001b[39mt yield\u001b[39m\u001b[39m\"\u001b[39m) \u001b[39mfrom\u001b[39;00m \u001b[39mNone\u001b[39;00m\n",
      "File \u001b[1;32mc:\\Users\\TONY\\Documents\\ntnu\\H23\\TDT4225\\assignment3\\venv\\lib\\site-packages\\pymongo\\mongo_client.py:1885\u001b[0m, in \u001b[0;36mMongoClient._tmp_session\u001b[1;34m(self, session, close)\u001b[0m\n\u001b[0;32m   1882\u001b[0m     \u001b[39myield\u001b[39;00m session\n\u001b[0;32m   1883\u001b[0m     \u001b[39mreturn\u001b[39;00m\n\u001b[1;32m-> 1885\u001b[0m s \u001b[39m=\u001b[39m \u001b[39mself\u001b[39;49m\u001b[39m.\u001b[39;49m_ensure_session(session)\n\u001b[0;32m   1886\u001b[0m \u001b[39mif\u001b[39;00m s:\n\u001b[0;32m   1887\u001b[0m     \u001b[39mtry\u001b[39;00m:\n",
      "File \u001b[1;32mc:\\Users\\TONY\\Documents\\ntnu\\H23\\TDT4225\\assignment3\\venv\\lib\\site-packages\\pymongo\\mongo_client.py:1868\u001b[0m, in \u001b[0;36mMongoClient._ensure_session\u001b[1;34m(self, session)\u001b[0m\n\u001b[0;32m   1863\u001b[0m     \u001b[39mreturn\u001b[39;00m session\n\u001b[0;32m   1865\u001b[0m \u001b[39mtry\u001b[39;00m:\n\u001b[0;32m   1866\u001b[0m     \u001b[39m# Don't make implicit sessions causally consistent. Applications\u001b[39;00m\n\u001b[0;32m   1867\u001b[0m     \u001b[39m# should always opt-in.\u001b[39;00m\n\u001b[1;32m-> 1868\u001b[0m     \u001b[39mreturn\u001b[39;00m \u001b[39mself\u001b[39;49m\u001b[39m.\u001b[39;49m__start_session(\u001b[39mTrue\u001b[39;49;00m, causal_consistency\u001b[39m=\u001b[39;49m\u001b[39mFalse\u001b[39;49;00m)\n\u001b[0;32m   1869\u001b[0m \u001b[39mexcept\u001b[39;00m (ConfigurationError, InvalidOperation):\n\u001b[0;32m   1870\u001b[0m     \u001b[39m# Sessions not supported.\u001b[39;00m\n\u001b[0;32m   1871\u001b[0m     \u001b[39mreturn\u001b[39;00m \u001b[39mNone\u001b[39;00m\n",
      "File \u001b[1;32mc:\\Users\\TONY\\Documents\\ntnu\\H23\\TDT4225\\assignment3\\venv\\lib\\site-packages\\pymongo\\mongo_client.py:1811\u001b[0m, in \u001b[0;36mMongoClient.__start_session\u001b[1;34m(self, implicit, **kwargs)\u001b[0m\n\u001b[0;32m   1808\u001b[0m \u001b[39mdef\u001b[39;00m \u001b[39m__start_session\u001b[39m(\u001b[39mself\u001b[39m, implicit: \u001b[39mbool\u001b[39m, \u001b[39m*\u001b[39m\u001b[39m*\u001b[39mkwargs: Any) \u001b[39m-\u001b[39m\u001b[39m>\u001b[39m ClientSession:\n\u001b[0;32m   1809\u001b[0m     \u001b[39m# Raises ConfigurationError if sessions are not supported.\u001b[39;00m\n\u001b[0;32m   1810\u001b[0m     \u001b[39mif\u001b[39;00m implicit:\n\u001b[1;32m-> 1811\u001b[0m         \u001b[39mself\u001b[39;49m\u001b[39m.\u001b[39;49m_topology\u001b[39m.\u001b[39;49m_check_implicit_session_support()\n\u001b[0;32m   1812\u001b[0m         server_session: Union[_EmptyServerSession, _ServerSession] \u001b[39m=\u001b[39m _EmptyServerSession()\n\u001b[0;32m   1813\u001b[0m     \u001b[39melse\u001b[39;00m:\n",
      "File \u001b[1;32mc:\\Users\\TONY\\Documents\\ntnu\\H23\\TDT4225\\assignment3\\venv\\lib\\site-packages\\pymongo\\topology.py:583\u001b[0m, in \u001b[0;36mTopology._check_implicit_session_support\u001b[1;34m(self)\u001b[0m\n\u001b[0;32m    581\u001b[0m \u001b[39mdef\u001b[39;00m \u001b[39m_check_implicit_session_support\u001b[39m(\u001b[39mself\u001b[39m) \u001b[39m-\u001b[39m\u001b[39m>\u001b[39m \u001b[39mNone\u001b[39;00m:\n\u001b[0;32m    582\u001b[0m     \u001b[39mwith\u001b[39;00m \u001b[39mself\u001b[39m\u001b[39m.\u001b[39m_lock:\n\u001b[1;32m--> 583\u001b[0m         \u001b[39mself\u001b[39;49m\u001b[39m.\u001b[39;49m_check_session_support()\n",
      "File \u001b[1;32mc:\\Users\\TONY\\Documents\\ntnu\\H23\\TDT4225\\assignment3\\venv\\lib\\site-packages\\pymongo\\topology.py:599\u001b[0m, in \u001b[0;36mTopology._check_session_support\u001b[1;34m(self)\u001b[0m\n\u001b[0;32m    595\u001b[0m         \u001b[39mself\u001b[39m\u001b[39m.\u001b[39m_select_servers_loop(\n\u001b[0;32m    596\u001b[0m             any_server_selector, \u001b[39mself\u001b[39m\u001b[39m.\u001b[39mget_server_selection_timeout(), \u001b[39mNone\u001b[39;00m\n\u001b[0;32m    597\u001b[0m         )\n\u001b[0;32m    598\u001b[0m \u001b[39melif\u001b[39;00m \u001b[39mnot\u001b[39;00m \u001b[39mself\u001b[39m\u001b[39m.\u001b[39m_description\u001b[39m.\u001b[39mreadable_servers:\n\u001b[1;32m--> 599\u001b[0m     \u001b[39mself\u001b[39;49m\u001b[39m.\u001b[39;49m_select_servers_loop(\n\u001b[0;32m    600\u001b[0m         readable_server_selector, \u001b[39mself\u001b[39;49m\u001b[39m.\u001b[39;49mget_server_selection_timeout(), \u001b[39mNone\u001b[39;49;00m\n\u001b[0;32m    601\u001b[0m     )\n\u001b[0;32m    603\u001b[0m session_timeout \u001b[39m=\u001b[39m \u001b[39mself\u001b[39m\u001b[39m.\u001b[39m_description\u001b[39m.\u001b[39mlogical_session_timeout_minutes\n\u001b[0;32m    604\u001b[0m \u001b[39mif\u001b[39;00m session_timeout \u001b[39mis\u001b[39;00m \u001b[39mNone\u001b[39;00m:\n",
      "File \u001b[1;32mc:\\Users\\TONY\\Documents\\ntnu\\H23\\TDT4225\\assignment3\\venv\\lib\\site-packages\\pymongo\\topology.py:280\u001b[0m, in \u001b[0;36mTopology._select_servers_loop\u001b[1;34m(self, selector, timeout, address)\u001b[0m\n\u001b[0;32m    274\u001b[0m \u001b[39mself\u001b[39m\u001b[39m.\u001b[39m_request_check_all()\n\u001b[0;32m    276\u001b[0m \u001b[39m# Release the lock and wait for the topology description to\u001b[39;00m\n\u001b[0;32m    277\u001b[0m \u001b[39m# change, or for a timeout. We won't miss any changes that\u001b[39;00m\n\u001b[0;32m    278\u001b[0m \u001b[39m# came after our most recent apply_selector call, since we've\u001b[39;00m\n\u001b[0;32m    279\u001b[0m \u001b[39m# held the lock until now.\u001b[39;00m\n\u001b[1;32m--> 280\u001b[0m \u001b[39mself\u001b[39;49m\u001b[39m.\u001b[39;49m_condition\u001b[39m.\u001b[39;49mwait(common\u001b[39m.\u001b[39;49mMIN_HEARTBEAT_INTERVAL)\n\u001b[0;32m    281\u001b[0m \u001b[39mself\u001b[39m\u001b[39m.\u001b[39m_description\u001b[39m.\u001b[39mcheck_compatible()\n\u001b[0;32m    282\u001b[0m now \u001b[39m=\u001b[39m time\u001b[39m.\u001b[39mmonotonic()\n",
      "File \u001b[1;32m~\\AppData\\Local\\Programs\\Python\\Python39\\lib\\threading.py:316\u001b[0m, in \u001b[0;36mCondition.wait\u001b[1;34m(self, timeout)\u001b[0m\n\u001b[0;32m    314\u001b[0m \u001b[39melse\u001b[39;00m:\n\u001b[0;32m    315\u001b[0m     \u001b[39mif\u001b[39;00m timeout \u001b[39m>\u001b[39m \u001b[39m0\u001b[39m:\n\u001b[1;32m--> 316\u001b[0m         gotit \u001b[39m=\u001b[39m waiter\u001b[39m.\u001b[39;49macquire(\u001b[39mTrue\u001b[39;49;00m, timeout)\n\u001b[0;32m    317\u001b[0m     \u001b[39melse\u001b[39;00m:\n\u001b[0;32m    318\u001b[0m         gotit \u001b[39m=\u001b[39m waiter\u001b[39m.\u001b[39macquire(\u001b[39mFalse\u001b[39;00m)\n",
      "\u001b[1;31mKeyboardInterrupt\u001b[0m: "
     ]
    }
   ],
   "source": [
    "collection = connector.db[\"Activity\"]\n",
    "\n",
    "rows = collection.aggregate(\n",
    "    [\n",
    "        {\n",
    "            \"$lookup\": {\n",
    "                \"from\": \"Activity\",\n",
    "                \"let\": {\n",
    "                    \"a_id\": \"$_id\",\n",
    "                    \"a_user_id\": \"$user_id\",\n",
    "                    \"a_transportation_mode\": \"$transportation_mode\",\n",
    "                    \"a_start_date_time\": \"$start_date_time\",\n",
    "                    \"a_end_date_time\": \"$end_date_time\",\n",
    "                },\n",
    "                \"pipeline\": [\n",
    "                    {\n",
    "                        \"$match\": {\n",
    "                            \"$expr\": {\n",
    "                                \"$and\": [\n",
    "                                    {\"$ne\": [\"$$a_id\", \"$_id\"]},\n",
    "                                    {\"$eq\": [\"$$a_user_id\", \"$user_id\"]},\n",
    "                                    {\n",
    "                                        \"$eq\": [\n",
    "                                            \"$$a_transportation_mode\",\n",
    "                                            \"$transportation_mode\",\n",
    "                                        ]\n",
    "                                    },\n",
    "                                    {\n",
    "                                        \"$eq\": [\n",
    "                                            \"$$a_start_date_time\",\n",
    "                                            \"$start_date_time\",\n",
    "                                        ]\n",
    "                                    },\n",
    "                                    {\"$eq\": [\"$$a_end_date_time\", \"$end_date_time\"]},\n",
    "                                ]\n",
    "                            }\n",
    "                        }\n",
    "                    }\n",
    "                ],\n",
    "                \"as\": \"duplicates\"\n",
    "            }\n",
    "        }\n",
    "    ]\n",
    ")\n",
    "\n",
    "for row in rows:\n",
    "    print(rows)"
   ]
  },
  {
   "cell_type": "markdown",
   "metadata": {},
   "source": [
    "### Task 7\n",
    "a) Find the number of users that have started an activity in one day and ended the activity the next day."
   ]
  },
  {
   "cell_type": "code",
   "execution_count": null,
   "metadata": {},
   "outputs": [],
   "source": []
  },
  {
   "cell_type": "markdown",
   "metadata": {},
   "source": [
    "b) List the transportation mode, user id and duration for these activities.\n",
    "\n",
    "Assumption: As the question explicitly mentions transportation mode we do not count the rows in the Activity table with transportation mode equals NULL as relevant to this question. Thus, there are less rows in this sub task. However, if it is the case to include these NULL rows then we only need to remove the 'AND transportation_mode IS NOT NULL' part."
   ]
  },
  {
   "cell_type": "code",
   "execution_count": null,
   "metadata": {},
   "outputs": [],
   "source": []
  },
  {
   "cell_type": "markdown",
   "metadata": {},
   "source": [
    "### Task 8"
   ]
  },
  {
   "cell_type": "markdown",
   "metadata": {},
   "source": [
    "Find the number of users which have been close to each other in time and space. Close is defined as the same space (50 meters) and for the same half minute (30 seconds)"
   ]
  },
  {
   "cell_type": "code",
   "execution_count": null,
   "metadata": {},
   "outputs": [],
   "source": []
  },
  {
   "cell_type": "markdown",
   "metadata": {},
   "source": [
    "### Task 9\n",
    "Find the top 15 users who have gained the most altitude meters."
   ]
  },
  {
   "cell_type": "code",
   "execution_count": null,
   "metadata": {},
   "outputs": [],
   "source": []
  },
  {
   "cell_type": "markdown",
   "metadata": {},
   "source": [
    "### Task 10\n",
    "Find the users that have traveled the longest total distance in one day for each\n",
    "transportation mode."
   ]
  },
  {
   "cell_type": "code",
   "execution_count": null,
   "metadata": {},
   "outputs": [],
   "source": []
  },
  {
   "cell_type": "markdown",
   "metadata": {},
   "source": [
    "### Task 11\n",
    "Find all users who have invalid activities, and the number of invalid activities per user."
   ]
  },
  {
   "cell_type": "code",
   "execution_count": null,
   "metadata": {},
   "outputs": [],
   "source": []
  },
  {
   "cell_type": "markdown",
   "metadata": {},
   "source": [
    "### Task 12\n",
    "Find all the users who have registered transportation_mode and their most used transportation_mode"
   ]
  },
  {
   "cell_type": "code",
   "execution_count": 8,
   "metadata": {},
   "outputs": [
    {
     "name": "stdout",
     "output_type": "stream",
     "text": [
      "{'_id': {'user_id': '010'}, 'max': 3}\n",
      "{'_id': {'user_id': '020'}, 'max': 80}\n",
      "{'_id': {'user_id': '021'}, 'max': 1}\n",
      "{'_id': {'user_id': '052'}, 'max': 1}\n",
      "{'_id': {'user_id': '056'}, 'max': 15}\n",
      "{'_id': {'user_id': '058'}, 'max': 2}\n",
      "{'_id': {'user_id': '060'}, 'max': 1}\n",
      "{'_id': {'user_id': '062'}, 'max': 173}\n",
      "{'_id': {'user_id': '064'}, 'max': 1}\n",
      "{'_id': {'user_id': '065'}, 'max': 10}\n",
      "{'_id': {'user_id': '067'}, 'max': 1}\n",
      "{'_id': {'user_id': '069'}, 'max': 1}\n",
      "{'_id': {'user_id': '073'}, 'max': 52}\n",
      "{'_id': {'user_id': '075'}, 'max': 1}\n",
      "{'_id': {'user_id': '076'}, 'max': 3}\n",
      "{'_id': {'user_id': '078'}, 'max': 37}\n",
      "{'_id': {'user_id': '080'}, 'max': 1}\n",
      "{'_id': {'user_id': '081'}, 'max': 4}\n",
      "{'_id': {'user_id': '082'}, 'max': 2}\n",
      "{'_id': {'user_id': '084'}, 'max': 9}\n",
      "{'_id': {'user_id': '085'}, 'max': 18}\n",
      "{'_id': {'user_id': '086'}, 'max': 2}\n",
      "{'_id': {'user_id': '087'}, 'max': 5}\n",
      "{'_id': {'user_id': '089'}, 'max': 7}\n",
      "{'_id': {'user_id': '091'}, 'max': 2}\n",
      "{'_id': {'user_id': '092'}, 'max': 1}\n",
      "{'_id': {'user_id': '097'}, 'max': 9}\n",
      "{'_id': {'user_id': '098'}, 'max': 1}\n",
      "{'_id': {'user_id': '101'}, 'max': 3}\n",
      "{'_id': {'user_id': '102'}, 'max': 7}\n",
      "{'_id': {'user_id': '107'}, 'max': 1}\n",
      "{'_id': {'user_id': '108'}, 'max': 2}\n",
      "{'_id': {'user_id': '111'}, 'max': 3}\n",
      "{'_id': {'user_id': '112'}, 'max': 69}\n",
      "{'_id': {'user_id': '115'}, 'max': 80}\n",
      "{'_id': {'user_id': '117'}, 'max': 1}\n",
      "{'_id': {'user_id': '125'}, 'max': 3}\n",
      "{'_id': {'user_id': '126'}, 'max': 13}\n",
      "{'_id': {'user_id': '128'}, 'max': 312}\n",
      "{'_id': {'user_id': '136'}, 'max': 3}\n",
      "{'_id': {'user_id': '138'}, 'max': 2}\n",
      "{'_id': {'user_id': '139'}, 'max': 4}\n",
      "{'_id': {'user_id': '144'}, 'max': 2}\n",
      "{'_id': {'user_id': '153'}, 'max': 5}\n",
      "{'_id': {'user_id': '161'}, 'max': 1}\n",
      "{'_id': {'user_id': '163'}, 'max': 26}\n",
      "{'_id': {'user_id': '167'}, 'max': 31}\n",
      "{'_id': {'user_id': '175'}, 'max': 1}\n"
     ]
    }
   ],
   "source": [
    "collection = connector.db[\"Activity\"]\n",
    "\n",
    "rows = collection.aggregate(\n",
    "    [\n",
    "        {\"$match\": {\"transportation_mode\": {\"$ne\": None}}},\n",
    "        {\n",
    "            \"$group\": {\n",
    "                \"_id\": {\n",
    "                    \"user_id\": \"$user_id\",\n",
    "                    \"transportation_mode\": \"$transportation_mode\",\n",
    "                },\n",
    "                \"count\": {\"$sum\": 1},\n",
    "            }\n",
    "        },\n",
    "        {\n",
    "            \"$lookup\": {\n",
    "                \"from\": \"User\",\n",
    "                \"let\": {\n",
    "                    \"a_id\": \"$_id\",\n",
    "                    \"a_has_labels\": \"$has_labels\",\n",
    "                },\n",
    "                \"pipeline\": [{\"$match\": {\"$expr\": {\"$eq\": [\"$$a_id\", \"$user_id\"]}}}],\n",
    "                \"as\": \"saves_transportation\",\n",
    "            }\n",
    "        },\n",
    "        {\"$match\": {\"saves_transportation\": {\"$ne\": {\"$a_has_labels\": False}}}},\n",
    "        {\"$group\": {\n",
    "            \"_id\": {\n",
    "                \"user_id\": \"$_id.user_id\",\n",
    "            },\n",
    "            \"max\": {\n",
    "                \"$max\": \"$count\"\n",
    "            }, \n",
    "\n",
    "        }},\n",
    "        {\"$sort\": {\"_id.user_id\": 1}},\n",
    "    ]\n",
    ")\n",
    "\n",
    "for row in rows:\n",
    "    pprint(row)"
   ]
  }
 ],
 "metadata": {
  "kernelspec": {
   "display_name": "venv",
   "language": "python",
   "name": "python3"
  },
  "language_info": {
   "codemirror_mode": {
    "name": "ipython",
    "version": 3
   },
   "file_extension": ".py",
   "mimetype": "text/x-python",
   "name": "python",
   "nbconvert_exporter": "python",
   "pygments_lexer": "ipython3",
   "version": "3.9.13"
  }
 },
 "nbformat": 4,
 "nbformat_minor": 2
}
