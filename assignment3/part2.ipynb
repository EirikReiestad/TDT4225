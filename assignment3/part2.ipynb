{
 "cells": [
  {
   "cell_type": "code",
   "execution_count": 3,
   "metadata": {},
   "outputs": [
    {
     "name": "stdout",
     "output_type": "stream",
     "text": [
      "You are connected to the database: assignment3\n",
      "-----------------------------------------------\n",
      "\n"
     ]
    }
   ],
   "source": [
    "from DbConnector import DbConnector\n",
    "#from part2 import Database\n",
    "from tabulate import tabulate\n",
    "\n",
    "# Set up the program\n",
    "from dotenv import load_dotenv\n",
    "import os\n",
    "import numpy as np\n",
    "from datetime import datetime, timedelta\n",
    "from haversine import haversine, Unit\n",
    "\n",
    "load_dotenv()\n",
    "\n",
    "db = DbConnector()"
   ]
  },
  {
   "cell_type": "markdown",
   "metadata": {},
   "source": [
    "### Task 1"
   ]
  },
  {
   "cell_type": "markdown",
   "metadata": {},
   "source": [
    "How many users, activities and trackpoints are there in the dataset (after it is inserted into the database)"
   ]
  },
  {
   "cell_type": "code",
   "execution_count": null,
   "metadata": {},
   "outputs": [],
   "source": []
  },
  {
   "cell_type": "markdown",
   "metadata": {},
   "source": [
    "### Task 2\n",
    "Find the average number of activities per user."
   ]
  },
  {
   "cell_type": "code",
   "execution_count": null,
   "metadata": {},
   "outputs": [],
   "source": []
  },
  {
   "cell_type": "markdown",
   "metadata": {},
   "source": [
    "### Task 3\n",
    "\n",
    "Find the top 20 users with the highest number of activities."
   ]
  },
  {
   "cell_type": "code",
   "execution_count": null,
   "metadata": {},
   "outputs": [],
   "source": [
    "collection = connector.db[\"Activity\"]\n",
    "\n",
    "rows = collection.aggregate(\n",
    "    [\n",
    "        {\"$group\": {\"_id\":  \"$user_id\", \"count\": {\"$sum\": 1}}},\n",
    "        {\"$sort\": {\"count\": -1}},\n",
    "        {\"$limit\": 20},\n",
    "    ]\n",
    ")\n",
    "\n",
    "for row in rows:\n",
    "    pprint(row)"
   ]
  },
  {
   "cell_type": "markdown",
   "metadata": {},
   "source": [
    "### Task 4\n",
    "Find all users who have taken a taxi. "
   ]
  },
  {
   "cell_type": "code",
   "execution_count": null,
   "metadata": {},
   "outputs": [],
   "source": []
  },
  {
   "cell_type": "markdown",
   "metadata": {},
   "source": [
    "### Task 5\n",
    "Find all types of transportation modes and count how many activities that are tagged with these transportation mode labels. Do not count the rows where the mode is null."
   ]
  },
  {
   "cell_type": "code",
   "execution_count": null,
   "metadata": {},
   "outputs": [],
   "source": []
  },
  {
   "cell_type": "markdown",
   "metadata": {},
   "source": [
    "### Task 6\n",
    "a) Find the year with the most activities."
   ]
  },
  {
   "cell_type": "code",
   "execution_count": null,
   "metadata": {},
   "outputs": [],
   "source": []
  },
  {
   "cell_type": "markdown",
   "metadata": {},
   "source": [
    "b) Is this also the year with most recorded hours?"
   ]
  },
  {
   "cell_type": "code",
   "execution_count": null,
   "metadata": {},
   "outputs": [],
   "source": []
  },
  {
   "cell_type": "markdown",
   "metadata": {},
   "source": [
    "### Task 7\n",
    "Find the total distance (in km) walked in 2008, by user with id=112."
   ]
  },
  {
   "cell_type": "code",
   "execution_count": null,
   "metadata": {},
   "outputs": [],
   "source": []
  },
  {
   "cell_type": "markdown",
   "metadata": {},
   "source": [
    "### Task 8"
   ]
  },
  {
   "cell_type": "markdown",
   "metadata": {},
   "source": [
    " Find the top 20 users who have gained the most altitude meters"
   ]
  },
  {
   "cell_type": "code",
   "execution_count": null,
   "metadata": {},
   "outputs": [],
   "source": []
  },
  {
   "cell_type": "markdown",
   "metadata": {},
   "source": [
    "### Task 9\n",
    "Find all users who have invalid activities, and the number of invalid activities per user"
   ]
  },
  {
   "cell_type": "code",
   "execution_count": null,
   "metadata": {},
   "outputs": [],
   "source": []
  },
  {
   "cell_type": "markdown",
   "metadata": {},
   "source": [
    "### Task 10\n",
    "Find the users who have tracked an activity in the Forbidden City of Beijing."
   ]
  },
  {
   "cell_type": "code",
   "execution_count": null,
   "metadata": {},
   "outputs": [],
   "source": []
  },
  {
   "cell_type": "markdown",
   "metadata": {},
   "source": [
    "### Task 11\n",
    "Find all users who have registered transportation_mode and their most used transportation_mode. "
   ]
  },
  {
   "cell_type": "code",
   "execution_count": null,
   "metadata": {},
   "outputs": [],
   "source": [
    "collection = connector.db[\"Activity\"]\n",
    "\n",
    "rows = collection.aggregate(\n",
    "    [\n",
    "        {\"$match\": {\"transportation_mode\": {\"$ne\": None}}},\n",
    "        {\n",
    "            \"$group\": {\n",
    "                \"_id\": {\n",
    "                    \"user_id\": \"$user_id\",\n",
    "                    \"transportation_mode\": \"$transportation_mode\",\n",
    "                },\n",
    "                \"count\": {\"$sum\": 1},\n",
    "            }\n",
    "        },\n",
    "        {\n",
    "            \"$lookup\": {\n",
    "                \"from\": \"User\",\n",
    "                \"let\": {\n",
    "                    \"a_id\": \"$_id\",\n",
    "                    \"a_has_labels\": \"$has_labels\",\n",
    "                },\n",
    "                \"pipeline\": [{\"$match\": {\"$expr\": {\"$eq\": [\"$$a_id\", \"$user_id\"]}}}],\n",
    "                \"as\": \"saves_transportation\",\n",
    "            }\n",
    "        },\n",
    "        {\"$match\": {\"saves_transportation\": {\"$ne\": {\"$a_has_labels\": False}}}},\n",
    "        {\"$sort\": {\"_id.user_id\": 1, \"count\": -1}},\n",
    "        {\n",
    "            \"$group\": {\n",
    "                \"_id\": \"$_id.user_id\",\n",
    "                \"most_used_transportation_mode\": {\"$first\": \"$_id.transportation_mode\"},\n",
    "            }\n",
    "        },\n",
    "        {\"$sort\": {\"_id.user_id\": 1}},\n",
    "    ]\n",
    ")\n",
    "\n",
    "for row in rows:\n",
    "    pprint(row)"
   ]
  }
 ],
 "metadata": {
  "kernelspec": {
   "display_name": "venv",
   "language": "python",
   "name": "python3"
  },
  "language_info": {
   "codemirror_mode": {
    "name": "ipython",
    "version": 3
   },
   "file_extension": ".py",
   "mimetype": "text/x-python",
   "name": "python",
   "nbconvert_exporter": "python",
   "pygments_lexer": "ipython3",
   "version": "3.9.13"
  }
 },
 "nbformat": 4,
 "nbformat_minor": 2
}
