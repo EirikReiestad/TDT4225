{
 "cells": [
  {
   "cell_type": "code",
   "execution_count": 1,
   "metadata": {},
   "outputs": [
    {
     "name": "stdout",
     "output_type": "stream",
     "text": [
      "You are connected to the database: assignment3\n",
      "-----------------------------------------------\n",
      "\n"
     ]
    }
   ],
   "source": [
    "from DbConnector import DbConnector\n",
    "#from part2 import Database\n",
    "from tabulate import tabulate\n",
    "\n",
    "# Set up the program\n",
    "from dotenv import load_dotenv\n",
    "import os\n",
    "import numpy as np\n",
    "from datetime import datetime, timedelta\n",
    "from haversine import haversine, Unit\n",
    "from pprint import pprint\n",
    "\n",
    "load_dotenv()\n",
    "\n",
    "connector = DbConnector()"
   ]
  },
  {
   "cell_type": "markdown",
   "metadata": {},
   "source": [
    "### Task 1"
   ]
  },
  {
   "cell_type": "markdown",
   "metadata": {},
   "source": [
    "How many users, activities and trackpoints are there in the dataset (after it is inserted into the database)"
   ]
  },
  {
   "cell_type": "code",
   "execution_count": 9,
   "metadata": {},
   "outputs": [
    {
     "name": "stdout",
     "output_type": "stream",
     "text": [
      "Number of Users, Activities and TrackPoints after the dataset has been inserted into the database\n",
      "  Users    Activities    TrackPoints\n",
      "-------  ------------  -------------\n",
      "    182          7877        5355109\n"
     ]
    }
   ],
   "source": [
    "user_collection = connector.db['User']\n",
    "user_count = user_collection.count_documents({})\n",
    "\n",
    "activities_collection = connector.db['Activity']\n",
    "activities_count = activities_collection.count_documents({})\n",
    "\n",
    "trackpoints_collection = connector.db['TrackPoint']\n",
    "trackpoints_count = trackpoints_collection.count_documents({})\n",
    "\n",
    "result = [user_count, activities_count, trackpoints_count]\n",
    "\n",
    "print(\"Number of Users, Activities and TrackPoints after the dataset has been inserted into the database\")\n",
    "print(tabulate([[\"Users\", \"Activities\", \"TrackPoints\"], result], headers=\"firstrow\"))"
   ]
  },
  {
   "cell_type": "markdown",
   "metadata": {},
   "source": [
    "### Task 2\n",
    "Find the average number of activities per user."
   ]
  },
  {
   "cell_type": "code",
   "execution_count": null,
   "metadata": {},
   "outputs": [],
   "source": []
  },
  {
   "cell_type": "markdown",
   "metadata": {},
   "source": [
    "### Task 3\n",
    "\n",
    "Find the top 20 users with the highest number of activities."
   ]
  },
  {
   "cell_type": "code",
   "execution_count": 10,
   "metadata": {},
   "outputs": [
    {
     "name": "stdout",
     "output_type": "stream",
     "text": [
      "{'Top': 1, '_id': '025', 'count': 715}\n",
      "{'Top': 2, '_id': '128', 'count': 519}\n",
      "{'Top': 3, '_id': '062', 'count': 406}\n",
      "{'Top': 4, '_id': '041', 'count': 399}\n",
      "{'Top': 5, '_id': '004', 'count': 346}\n",
      "{'Top': 6, '_id': '140', 'count': 345}\n",
      "{'Top': 7, '_id': '017', 'count': 265}\n",
      "{'Top': 8, '_id': '003', 'count': 261}\n",
      "{'Top': 9, '_id': '014', 'count': 236}\n",
      "{'Top': 10, '_id': '030', 'count': 210}\n",
      "{'Top': 11, '_id': '011', 'count': 201}\n",
      "{'Top': 12, '_id': '039', 'count': 198}\n",
      "{'Top': 13, '_id': '034', 'count': 180}\n",
      "{'Top': 14, '_id': '000', 'count': 155}\n",
      "{'Top': 15, '_id': '002', 'count': 146}\n",
      "{'Top': 16, '_id': '142', 'count': 138}\n",
      "{'Top': 17, '_id': '037', 'count': 129}\n",
      "{'Top': 18, '_id': '013', 'count': 119}\n",
      "{'Top': 19, '_id': '042', 'count': 110}\n",
      "{'Top': 20, '_id': '020', 'count': 94}\n"
     ]
    }
   ],
   "source": [
    "collection = connector.db[\"Activity\"]\n",
    "\n",
    "rows = collection.aggregate(\n",
    "    [\n",
    "        {\"$group\": {\"_id\":  \"$user_id\", \"count\": {\"$sum\": 1}}},\n",
    "        {\"$sort\": {\"count\": -1}},\n",
    "        {\n",
    "            \"$setWindowFields\": {\n",
    "                \"sortBy\": {\"count\": -1},\n",
    "                \"output\": {\"Top\": {\"$rank\": {}}},\n",
    "            }\n",
    "        },\n",
    "        {\"$limit\": 20},\n",
    "    ]\n",
    ")\n",
    "\n",
    "for row in rows:\n",
    "    pprint(row)"
   ]
  },
  {
   "cell_type": "markdown",
   "metadata": {},
   "source": [
    "### Task 4\n",
    "Find all users who have taken a taxi. "
   ]
  },
  {
   "cell_type": "code",
   "execution_count": null,
   "metadata": {},
   "outputs": [],
   "source": []
  },
  {
   "cell_type": "markdown",
   "metadata": {},
   "source": [
    "### Task 5\n",
    "Find all types of transportation modes and count how many activities that are tagged with these transportation mode labels. Do not count the rows where the mode is null."
   ]
  },
  {
   "cell_type": "code",
   "execution_count": 11,
   "metadata": {},
   "outputs": [
    {
     "name": "stdout",
     "output_type": "stream",
     "text": [
      "_id         count\n",
      "--------  -------\n",
      "train           2\n",
      "airplane        3\n",
      "bike          263\n",
      "taxi           37\n",
      "car           419\n",
      "bus           199\n",
      "subway        133\n",
      "boat            1\n",
      "run             1\n",
      "walk          480\n"
     ]
    }
   ],
   "source": [
    "collection = connector.db[\"Activity\"]\n",
    "\n",
    "rows = collection.aggregate(\n",
    "    [\n",
    "        { \"$match\": { \"transportation_mode\": { \"$ne\": None} } },\n",
    "        { \"$group\": { \"_id\": \"$transportation_mode\", \"count\": { \"$sum\": 1 } } },\n",
    "    ]\n",
    ")\n",
    "\n",
    "print(tabulate(rows, headers=\"keys\"))"
   ]
  },
  {
   "cell_type": "markdown",
   "metadata": {},
   "source": [
    "### Task 6\n",
    "a) Find the year with the most activities."
   ]
  },
  {
   "cell_type": "markdown",
   "metadata": {},
   "source": [
    "We assume that an activity belongs to a year based on the start date time such that even though the end date time ends in another year, it still belongs to the previous year."
   ]
  },
  {
   "cell_type": "code",
   "execution_count": 12,
   "metadata": {},
   "outputs": [
    {
     "name": "stdout",
     "output_type": "stream",
     "text": [
      "  _id    count\n",
      "-----  -------\n",
      " 2009     3975\n"
     ]
    }
   ],
   "source": [
    "collection = connector.db[\"Activity\"]\n",
    "\n",
    "rows = collection.aggregate([\n",
    "    { \"$match\": { \"start_date_time\": { \"$ne\": None} } },\n",
    "    { \"$project\": { \"year\": { \"$year\": \"$start_date_time\" } } },\n",
    "    { \"$group\": { \"_id\": \"$year\", \"count\": { \"$sum\": 1 } } },\n",
    "    { \"$sort\": { \"count\": -1 } },\n",
    "    { \"$limit\": 1 }]\n",
    ")\n",
    "\n",
    "print(tabulate(rows, headers=\"keys\"))"
   ]
  },
  {
   "cell_type": "markdown",
   "metadata": {},
   "source": [
    "b) Is this also the year with most recorded hours?"
   ]
  },
  {
   "cell_type": "code",
   "execution_count": 13,
   "metadata": {},
   "outputs": [
    {
     "name": "stdout",
     "output_type": "stream",
     "text": [
      "_id               total_duration\n",
      "--------------  ----------------\n",
      "{'year': 2009}           8918.61\n"
     ]
    }
   ],
   "source": [
    "collection = connector.db[\"Activity\"]\n",
    "\n",
    "rows = collection.aggregate([\n",
    "    { \"$match\": { \"start_date_time\": { \"$ne\": None} } },\n",
    "    { \"$match\": { \"end_date_time\": { \"$ne\": None} } },\n",
    "    { \"$addFields\": {\n",
    "        \"duration_hours\": {\n",
    "            \"$divide\": [\n",
    "                { \"$subtract\": [ \"$end_date_time\", \"$start_date_time\" ] },\n",
    "                1000 * 60 * 60 \n",
    "            ]\n",
    "        },\n",
    "        \"year\": { \"$year\": \"$start_date_time\" }\n",
    "    }},\n",
    "    { \"$group\": {\n",
    "        \"_id\": { \"year\": \"$year\", },\n",
    "        \"total_duration\": { \"$sum\": \"$duration_hours\" }\n",
    "    },\n",
    "    },\n",
    "    { \"$sort\": { \"total_duration\": -1 } },\n",
    "    { \"$limit\": 1 }]\n",
    ")\n",
    "\n",
    "print(tabulate(rows, headers=\"keys\"))"
   ]
  },
  {
   "cell_type": "markdown",
   "metadata": {},
   "source": [
    "### Task 7\n",
    "Find the total distance (in km) walked in 2008, by user with id=112."
   ]
  },
  {
   "cell_type": "code",
   "execution_count": 14,
   "metadata": {},
   "outputs": [],
   "source": [
    "collection = connector.db[\"TrackPoint\"]\n",
    "\n",
    "rows = collection.aggregate([\n",
    "    { \"$match\": { \"date_time\": { \"$gte\": datetime(2008, 1, 1), \"$lt\": datetime(2009, 1, 1) } } },\n",
    "    { \"$lookup\": {\n",
    "        \"from\": \"Activity\", \n",
    "        \"let\": { \"activity_id\": \"$activity_id\" },\n",
    "        \"pipeline\": [\n",
    "            { \"$match\":\n",
    "                { \"$expr\":\n",
    "                    { \"$eq\": [ \"$_id\",  \"$$activity_id\" ] }\n",
    "                }\n",
    "            },\n",
    "            { \"$project\": { \"_id\": 1, \"user_id\": 1, \"transportation_mode\": 1 } }\n",
    "        ],\n",
    "        \"as\": \"activity\"\n",
    "    } },\n",
    "    { \"$unwind\": \"$activity\" },\n",
    "    { \"$match\": { \"activity.user_id\": \"112\" } },\n",
    "    { \"$match\": { \"activity.transportation_mode\": \"walk\" } },\n",
    "    { \"$project\": { \n",
    "        \"lat\": 1,\n",
    "        \"lon\": 1,\n",
    "        \"activity_id\": 1,\n",
    "    } },\n",
    "])\n",
    "\n",
    "documents = list(rows)\n"
   ]
  },
  {
   "cell_type": "markdown",
   "metadata": {},
   "source": [
    "Becaue MongoDB do not have the best geospatial support, We could have used the some [geospatial-queries](https://www.mongodb.com/docs/manual/geospatial-queries/). However, it is not optimal for this use case (because we have to calculate the distance and not just check if a point is inside a polygon), and solving it in python may be faster."
   ]
  },
  {
   "cell_type": "code",
   "execution_count": null,
   "metadata": {},
   "outputs": [],
   "source": [
    "activities = {}\n",
    "\n",
    "\"\"\"\n",
    "activities: dict = {\n",
    "    activity_id: dict = {\n",
    "        distance: float,\n",
    "        lat: float,\n",
    "        lon: float,\n",
    "    }\n",
    "}\n",
    "\"\"\"\n",
    "\n",
    "for doc in documents:\n",
    "    activity_id = doc[\"activity_id\"]\n",
    "    lat = float(doc[\"lat\"])\n",
    "    lon = float(doc[\"lon\"])\n",
    "    if activity_id not in activities:\n",
    "        activities[activity_id] = {\n",
    "            \"distance\": 0,\n",
    "            \"lat\": lat,\n",
    "            \"lon\": lon, \n",
    "        }\n",
    "    else:\n",
    "        activities[activity_id][\"distance\"] += haversine(\n",
    "            (activities[activity_id][\"lat\"], activities[activity_id][\"lon\"]),\n",
    "            (lat, lon),\n",
    "            unit=Unit.KILOMETERS\n",
    "        )\n",
    "        activities[activity_id][\"lat\"] = lat\n",
    "        activities[activity_id][\"lon\"] = lon\n",
    "\n",
    "total_distance = 0\n",
    "\n",
    "for activity_id in activities:\n",
    "    total_distance += activities[activity_id][\"distance\"]\n",
    "\n",
    "print(tabulate([[\"Total distance walked in 2008\", total_distance]], headers=\"firstrow\"))"
   ]
  },
  {
   "cell_type": "markdown",
   "metadata": {},
   "source": [
    "### Task 8"
   ]
  },
  {
   "cell_type": "markdown",
   "metadata": {},
   "source": [
    " Find the top 20 users who have gained the most altitude meters"
   ]
  },
  {
   "cell_type": "code",
   "execution_count": 4,
   "metadata": {},
   "outputs": [
    {
     "ename": "OperationFailure",
     "evalue": "PlanExecutor error during aggregation :: caused by :: can't $subtract string from string, full error: {'ok': 0.0, 'errmsg': \"PlanExecutor error during aggregation :: caused by :: can't $subtract string from string\", 'code': 14, 'codeName': 'TypeMismatch'}",
     "output_type": "error",
     "traceback": [
      "\u001b[1;31m---------------------------------------------------------------------------\u001b[0m",
      "\u001b[1;31mOperationFailure\u001b[0m                          Traceback (most recent call last)",
      "\u001b[1;32mc:\\Users\\TONY\\Documents\\ntnu\\H23\\TDT4225\\assignment3\\part2.ipynb Cell 24\u001b[0m line \u001b[0;36m3\n\u001b[0;32m      <a href='vscode-notebook-cell:/c%3A/Users/TONY/Documents/ntnu/H23/TDT4225/assignment3/part2.ipynb#X32sZmlsZQ%3D%3D?line=0'>1</a>\u001b[0m collection \u001b[39m=\u001b[39m connector\u001b[39m.\u001b[39mdb[\u001b[39m\"\u001b[39m\u001b[39mTrackPoint\u001b[39m\u001b[39m\"\u001b[39m]\n\u001b[1;32m----> <a href='vscode-notebook-cell:/c%3A/Users/TONY/Documents/ntnu/H23/TDT4225/assignment3/part2.ipynb#X32sZmlsZQ%3D%3D?line=2'>3</a>\u001b[0m rows \u001b[39m=\u001b[39m collection\u001b[39m.\u001b[39;49maggregate(\n\u001b[0;32m      <a href='vscode-notebook-cell:/c%3A/Users/TONY/Documents/ntnu/H23/TDT4225/assignment3/part2.ipynb#X32sZmlsZQ%3D%3D?line=3'>4</a>\u001b[0m     [\n\u001b[0;32m      <a href='vscode-notebook-cell:/c%3A/Users/TONY/Documents/ntnu/H23/TDT4225/assignment3/part2.ipynb#X32sZmlsZQ%3D%3D?line=4'>5</a>\u001b[0m         {\u001b[39m\"\u001b[39;49m\u001b[39m$match\u001b[39;49m\u001b[39m\"\u001b[39;49m: {\u001b[39m\"\u001b[39;49m\u001b[39maltitude\u001b[39;49m\u001b[39m\"\u001b[39;49m: {\u001b[39m\"\u001b[39;49m\u001b[39m$ne\u001b[39;49m\u001b[39m\"\u001b[39;49m: \u001b[39m-\u001b[39;49m\u001b[39m777\u001b[39;49m}}},\n\u001b[0;32m      <a href='vscode-notebook-cell:/c%3A/Users/TONY/Documents/ntnu/H23/TDT4225/assignment3/part2.ipynb#X32sZmlsZQ%3D%3D?line=5'>6</a>\u001b[0m         {\n\u001b[0;32m      <a href='vscode-notebook-cell:/c%3A/Users/TONY/Documents/ntnu/H23/TDT4225/assignment3/part2.ipynb#X32sZmlsZQ%3D%3D?line=6'>7</a>\u001b[0m             \u001b[39m\"\u001b[39;49m\u001b[39m$setWindowFields\u001b[39;49m\u001b[39m\"\u001b[39;49m: {\n\u001b[0;32m      <a href='vscode-notebook-cell:/c%3A/Users/TONY/Documents/ntnu/H23/TDT4225/assignment3/part2.ipynb#X32sZmlsZQ%3D%3D?line=7'>8</a>\u001b[0m                 \u001b[39m\"\u001b[39;49m\u001b[39mpartitionBy\u001b[39;49m\u001b[39m\"\u001b[39;49m: \u001b[39m\"\u001b[39;49m\u001b[39m$activity_id\u001b[39;49m\u001b[39m\"\u001b[39;49m,\n\u001b[0;32m      <a href='vscode-notebook-cell:/c%3A/Users/TONY/Documents/ntnu/H23/TDT4225/assignment3/part2.ipynb#X32sZmlsZQ%3D%3D?line=8'>9</a>\u001b[0m                 \u001b[39m\"\u001b[39;49m\u001b[39msortBy\u001b[39;49m\u001b[39m\"\u001b[39;49m: {\u001b[39m\"\u001b[39;49m\u001b[39mdate_time\u001b[39;49m\u001b[39m\"\u001b[39;49m: \u001b[39m1\u001b[39;49m},\n\u001b[0;32m     <a href='vscode-notebook-cell:/c%3A/Users/TONY/Documents/ntnu/H23/TDT4225/assignment3/part2.ipynb#X32sZmlsZQ%3D%3D?line=9'>10</a>\u001b[0m                 \u001b[39m\"\u001b[39;49m\u001b[39moutput\u001b[39;49m\u001b[39m\"\u001b[39;49m: {\n\u001b[0;32m     <a href='vscode-notebook-cell:/c%3A/Users/TONY/Documents/ntnu/H23/TDT4225/assignment3/part2.ipynb#X32sZmlsZQ%3D%3D?line=10'>11</a>\u001b[0m                     \u001b[39m\"\u001b[39;49m\u001b[39mprevious_altitude\u001b[39;49m\u001b[39m\"\u001b[39;49m: {\u001b[39m\"\u001b[39;49m\u001b[39m$shift\u001b[39;49m\u001b[39m\"\u001b[39;49m: {\u001b[39m\"\u001b[39;49m\u001b[39moutput\u001b[39;49m\u001b[39m\"\u001b[39;49m: \u001b[39m\"\u001b[39;49m\u001b[39m$altitude\u001b[39;49m\u001b[39m\"\u001b[39;49m, \u001b[39m\"\u001b[39;49m\u001b[39mby\u001b[39;49m\u001b[39m\"\u001b[39;49m: \u001b[39m-\u001b[39;49m\u001b[39m1\u001b[39;49m}}\n\u001b[0;32m     <a href='vscode-notebook-cell:/c%3A/Users/TONY/Documents/ntnu/H23/TDT4225/assignment3/part2.ipynb#X32sZmlsZQ%3D%3D?line=11'>12</a>\u001b[0m                 },\n\u001b[0;32m     <a href='vscode-notebook-cell:/c%3A/Users/TONY/Documents/ntnu/H23/TDT4225/assignment3/part2.ipynb#X32sZmlsZQ%3D%3D?line=12'>13</a>\u001b[0m             }\n\u001b[0;32m     <a href='vscode-notebook-cell:/c%3A/Users/TONY/Documents/ntnu/H23/TDT4225/assignment3/part2.ipynb#X32sZmlsZQ%3D%3D?line=13'>14</a>\u001b[0m         },\n\u001b[0;32m     <a href='vscode-notebook-cell:/c%3A/Users/TONY/Documents/ntnu/H23/TDT4225/assignment3/part2.ipynb#X32sZmlsZQ%3D%3D?line=14'>15</a>\u001b[0m         {\n\u001b[0;32m     <a href='vscode-notebook-cell:/c%3A/Users/TONY/Documents/ntnu/H23/TDT4225/assignment3/part2.ipynb#X32sZmlsZQ%3D%3D?line=15'>16</a>\u001b[0m             \u001b[39m\"\u001b[39;49m\u001b[39m$project\u001b[39;49m\u001b[39m\"\u001b[39;49m: {\n\u001b[0;32m     <a href='vscode-notebook-cell:/c%3A/Users/TONY/Documents/ntnu/H23/TDT4225/assignment3/part2.ipynb#X32sZmlsZQ%3D%3D?line=16'>17</a>\u001b[0m                 \u001b[39m\"\u001b[39;49m\u001b[39mactivity_id\u001b[39;49m\u001b[39m\"\u001b[39;49m: \u001b[39m\"\u001b[39;49m\u001b[39m$activity_id\u001b[39;49m\u001b[39m\"\u001b[39;49m,\n\u001b[0;32m     <a href='vscode-notebook-cell:/c%3A/Users/TONY/Documents/ntnu/H23/TDT4225/assignment3/part2.ipynb#X32sZmlsZQ%3D%3D?line=17'>18</a>\u001b[0m                 \u001b[39m\"\u001b[39;49m\u001b[39mdifference\u001b[39;49m\u001b[39m\"\u001b[39;49m: {\u001b[39m\"\u001b[39;49m\u001b[39m$subtract\u001b[39;49m\u001b[39m\"\u001b[39;49m: [\u001b[39m\"\u001b[39;49m\u001b[39maltitude\u001b[39;49m\u001b[39m\"\u001b[39;49m, \u001b[39m\"\u001b[39;49m\u001b[39m$previous_altitude\u001b[39;49m\u001b[39m\"\u001b[39;49m]},\n\u001b[0;32m     <a href='vscode-notebook-cell:/c%3A/Users/TONY/Documents/ntnu/H23/TDT4225/assignment3/part2.ipynb#X32sZmlsZQ%3D%3D?line=18'>19</a>\u001b[0m             }\n\u001b[0;32m     <a href='vscode-notebook-cell:/c%3A/Users/TONY/Documents/ntnu/H23/TDT4225/assignment3/part2.ipynb#X32sZmlsZQ%3D%3D?line=19'>20</a>\u001b[0m         },\n\u001b[0;32m     <a href='vscode-notebook-cell:/c%3A/Users/TONY/Documents/ntnu/H23/TDT4225/assignment3/part2.ipynb#X32sZmlsZQ%3D%3D?line=20'>21</a>\u001b[0m         {\u001b[39m\"\u001b[39;49m\u001b[39m$match\u001b[39;49m\u001b[39m\"\u001b[39;49m: {\u001b[39m\"\u001b[39;49m\u001b[39mdifference\u001b[39;49m\u001b[39m\"\u001b[39;49m: {\u001b[39m\"\u001b[39;49m\u001b[39m$gt\u001b[39;49m\u001b[39m\"\u001b[39;49m: \u001b[39m0\u001b[39;49m}}},\n\u001b[0;32m     <a href='vscode-notebook-cell:/c%3A/Users/TONY/Documents/ntnu/H23/TDT4225/assignment3/part2.ipynb#X32sZmlsZQ%3D%3D?line=21'>22</a>\u001b[0m         {\n\u001b[0;32m     <a href='vscode-notebook-cell:/c%3A/Users/TONY/Documents/ntnu/H23/TDT4225/assignment3/part2.ipynb#X32sZmlsZQ%3D%3D?line=22'>23</a>\u001b[0m             \u001b[39m\"\u001b[39;49m\u001b[39m$lookup\u001b[39;49m\u001b[39m\"\u001b[39;49m: {\n\u001b[0;32m     <a href='vscode-notebook-cell:/c%3A/Users/TONY/Documents/ntnu/H23/TDT4225/assignment3/part2.ipynb#X32sZmlsZQ%3D%3D?line=23'>24</a>\u001b[0m                 \u001b[39m\"\u001b[39;49m\u001b[39mfrom\u001b[39;49m\u001b[39m\"\u001b[39;49m: \u001b[39m\"\u001b[39;49m\u001b[39mActivity\u001b[39;49m\u001b[39m\"\u001b[39;49m,\n\u001b[0;32m     <a href='vscode-notebook-cell:/c%3A/Users/TONY/Documents/ntnu/H23/TDT4225/assignment3/part2.ipynb#X32sZmlsZQ%3D%3D?line=24'>25</a>\u001b[0m                 \u001b[39m\"\u001b[39;49m\u001b[39mlocalField\u001b[39;49m\u001b[39m\"\u001b[39;49m: \u001b[39m\"\u001b[39;49m\u001b[39mactivity_id\u001b[39;49m\u001b[39m\"\u001b[39;49m,\n\u001b[0;32m     <a href='vscode-notebook-cell:/c%3A/Users/TONY/Documents/ntnu/H23/TDT4225/assignment3/part2.ipynb#X32sZmlsZQ%3D%3D?line=25'>26</a>\u001b[0m                 \u001b[39m\"\u001b[39;49m\u001b[39mforeignField\u001b[39;49m\u001b[39m\"\u001b[39;49m: \u001b[39m\"\u001b[39;49m\u001b[39m_id\u001b[39;49m\u001b[39m\"\u001b[39;49m,\n\u001b[0;32m     <a href='vscode-notebook-cell:/c%3A/Users/TONY/Documents/ntnu/H23/TDT4225/assignment3/part2.ipynb#X32sZmlsZQ%3D%3D?line=26'>27</a>\u001b[0m                 \u001b[39m\"\u001b[39;49m\u001b[39mas\u001b[39;49m\u001b[39m\"\u001b[39;49m: \u001b[39m\"\u001b[39;49m\u001b[39mactivity\u001b[39;49m\u001b[39m\"\u001b[39;49m,\n\u001b[0;32m     <a href='vscode-notebook-cell:/c%3A/Users/TONY/Documents/ntnu/H23/TDT4225/assignment3/part2.ipynb#X32sZmlsZQ%3D%3D?line=27'>28</a>\u001b[0m             }\n\u001b[0;32m     <a href='vscode-notebook-cell:/c%3A/Users/TONY/Documents/ntnu/H23/TDT4225/assignment3/part2.ipynb#X32sZmlsZQ%3D%3D?line=28'>29</a>\u001b[0m         },\n\u001b[0;32m     <a href='vscode-notebook-cell:/c%3A/Users/TONY/Documents/ntnu/H23/TDT4225/assignment3/part2.ipynb#X32sZmlsZQ%3D%3D?line=29'>30</a>\u001b[0m         {\n\u001b[0;32m     <a href='vscode-notebook-cell:/c%3A/Users/TONY/Documents/ntnu/H23/TDT4225/assignment3/part2.ipynb#X32sZmlsZQ%3D%3D?line=30'>31</a>\u001b[0m             \u001b[39m\"\u001b[39;49m\u001b[39m$group\u001b[39;49m\u001b[39m\"\u001b[39;49m: {\n\u001b[0;32m     <a href='vscode-notebook-cell:/c%3A/Users/TONY/Documents/ntnu/H23/TDT4225/assignment3/part2.ipynb#X32sZmlsZQ%3D%3D?line=31'>32</a>\u001b[0m                 \u001b[39m\"\u001b[39;49m\u001b[39m_id\u001b[39;49m\u001b[39m\"\u001b[39;49m: {\n\u001b[0;32m     <a href='vscode-notebook-cell:/c%3A/Users/TONY/Documents/ntnu/H23/TDT4225/assignment3/part2.ipynb#X32sZmlsZQ%3D%3D?line=32'>33</a>\u001b[0m                     \u001b[39m\"\u001b[39;49m\u001b[39muser_id\u001b[39;49m\u001b[39m\"\u001b[39;49m: \u001b[39m\"\u001b[39;49m\u001b[39m$activity.user_id\u001b[39;49m\u001b[39m\"\u001b[39;49m,\n\u001b[0;32m     <a href='vscode-notebook-cell:/c%3A/Users/TONY/Documents/ntnu/H23/TDT4225/assignment3/part2.ipynb#X32sZmlsZQ%3D%3D?line=33'>34</a>\u001b[0m                 },\n\u001b[0;32m     <a href='vscode-notebook-cell:/c%3A/Users/TONY/Documents/ntnu/H23/TDT4225/assignment3/part2.ipynb#X32sZmlsZQ%3D%3D?line=34'>35</a>\u001b[0m                 \u001b[39m\"\u001b[39;49m\u001b[39msum\u001b[39;49m\u001b[39m\"\u001b[39;49m: {\u001b[39m\"\u001b[39;49m\u001b[39m$sum\u001b[39;49m\u001b[39m\"\u001b[39;49m: \u001b[39m\"\u001b[39;49m\u001b[39m$difference\u001b[39;49m\u001b[39m\"\u001b[39;49m},\n\u001b[0;32m     <a href='vscode-notebook-cell:/c%3A/Users/TONY/Documents/ntnu/H23/TDT4225/assignment3/part2.ipynb#X32sZmlsZQ%3D%3D?line=35'>36</a>\u001b[0m             }\n\u001b[0;32m     <a href='vscode-notebook-cell:/c%3A/Users/TONY/Documents/ntnu/H23/TDT4225/assignment3/part2.ipynb#X32sZmlsZQ%3D%3D?line=36'>37</a>\u001b[0m         },\n\u001b[0;32m     <a href='vscode-notebook-cell:/c%3A/Users/TONY/Documents/ntnu/H23/TDT4225/assignment3/part2.ipynb#X32sZmlsZQ%3D%3D?line=37'>38</a>\u001b[0m         {\n\u001b[0;32m     <a href='vscode-notebook-cell:/c%3A/Users/TONY/Documents/ntnu/H23/TDT4225/assignment3/part2.ipynb#X32sZmlsZQ%3D%3D?line=38'>39</a>\u001b[0m             \u001b[39m\"\u001b[39;49m\u001b[39m$project\u001b[39;49m\u001b[39m\"\u001b[39;49m: {\n\u001b[0;32m     <a href='vscode-notebook-cell:/c%3A/Users/TONY/Documents/ntnu/H23/TDT4225/assignment3/part2.ipynb#X32sZmlsZQ%3D%3D?line=39'>40</a>\u001b[0m                 \u001b[39m\"\u001b[39;49m\u001b[39maltitude_in_meters\u001b[39;49m\u001b[39m\"\u001b[39;49m: {\u001b[39m\"\u001b[39;49m\u001b[39m$multiply\u001b[39;49m\u001b[39m\"\u001b[39;49m: [\u001b[39m\"\u001b[39;49m\u001b[39m$sum\u001b[39;49m\u001b[39m\"\u001b[39;49m, \u001b[39m0.304\u001b[39;49m]},\n\u001b[0;32m     <a href='vscode-notebook-cell:/c%3A/Users/TONY/Documents/ntnu/H23/TDT4225/assignment3/part2.ipynb#X32sZmlsZQ%3D%3D?line=40'>41</a>\u001b[0m             }\n\u001b[0;32m     <a href='vscode-notebook-cell:/c%3A/Users/TONY/Documents/ntnu/H23/TDT4225/assignment3/part2.ipynb#X32sZmlsZQ%3D%3D?line=41'>42</a>\u001b[0m         },\n\u001b[0;32m     <a href='vscode-notebook-cell:/c%3A/Users/TONY/Documents/ntnu/H23/TDT4225/assignment3/part2.ipynb#X32sZmlsZQ%3D%3D?line=42'>43</a>\u001b[0m         {\u001b[39m\"\u001b[39;49m\u001b[39m$sort\u001b[39;49m\u001b[39m\"\u001b[39;49m: {\u001b[39m\"\u001b[39;49m\u001b[39maltitude_in_meters\u001b[39;49m\u001b[39m\"\u001b[39;49m: \u001b[39m-\u001b[39;49m\u001b[39m1\u001b[39;49m}},\n\u001b[0;32m     <a href='vscode-notebook-cell:/c%3A/Users/TONY/Documents/ntnu/H23/TDT4225/assignment3/part2.ipynb#X32sZmlsZQ%3D%3D?line=43'>44</a>\u001b[0m         {\n\u001b[0;32m     <a href='vscode-notebook-cell:/c%3A/Users/TONY/Documents/ntnu/H23/TDT4225/assignment3/part2.ipynb#X32sZmlsZQ%3D%3D?line=44'>45</a>\u001b[0m             \u001b[39m\"\u001b[39;49m\u001b[39m$setWindowFields\u001b[39;49m\u001b[39m\"\u001b[39;49m: {\n\u001b[0;32m     <a href='vscode-notebook-cell:/c%3A/Users/TONY/Documents/ntnu/H23/TDT4225/assignment3/part2.ipynb#X32sZmlsZQ%3D%3D?line=45'>46</a>\u001b[0m                 \u001b[39m\"\u001b[39;49m\u001b[39msortBy\u001b[39;49m\u001b[39m\"\u001b[39;49m: {\u001b[39m\"\u001b[39;49m\u001b[39maltitude_in_meters\u001b[39;49m\u001b[39m\"\u001b[39;49m: \u001b[39m-\u001b[39;49m\u001b[39m1\u001b[39;49m},\n\u001b[0;32m     <a href='vscode-notebook-cell:/c%3A/Users/TONY/Documents/ntnu/H23/TDT4225/assignment3/part2.ipynb#X32sZmlsZQ%3D%3D?line=46'>47</a>\u001b[0m                 \u001b[39m\"\u001b[39;49m\u001b[39moutput\u001b[39;49m\u001b[39m\"\u001b[39;49m: {\u001b[39m\"\u001b[39;49m\u001b[39mTop\u001b[39;49m\u001b[39m\"\u001b[39;49m: {\u001b[39m\"\u001b[39;49m\u001b[39m$rank\u001b[39;49m\u001b[39m\"\u001b[39;49m: {}}},\n\u001b[0;32m     <a href='vscode-notebook-cell:/c%3A/Users/TONY/Documents/ntnu/H23/TDT4225/assignment3/part2.ipynb#X32sZmlsZQ%3D%3D?line=47'>48</a>\u001b[0m             }\n\u001b[0;32m     <a href='vscode-notebook-cell:/c%3A/Users/TONY/Documents/ntnu/H23/TDT4225/assignment3/part2.ipynb#X32sZmlsZQ%3D%3D?line=48'>49</a>\u001b[0m         },\n\u001b[0;32m     <a href='vscode-notebook-cell:/c%3A/Users/TONY/Documents/ntnu/H23/TDT4225/assignment3/part2.ipynb#X32sZmlsZQ%3D%3D?line=49'>50</a>\u001b[0m         {\u001b[39m\"\u001b[39;49m\u001b[39m$limit\u001b[39;49m\u001b[39m\"\u001b[39;49m: \u001b[39m20\u001b[39;49m},\n\u001b[0;32m     <a href='vscode-notebook-cell:/c%3A/Users/TONY/Documents/ntnu/H23/TDT4225/assignment3/part2.ipynb#X32sZmlsZQ%3D%3D?line=50'>51</a>\u001b[0m     ]\n\u001b[0;32m     <a href='vscode-notebook-cell:/c%3A/Users/TONY/Documents/ntnu/H23/TDT4225/assignment3/part2.ipynb#X32sZmlsZQ%3D%3D?line=51'>52</a>\u001b[0m )\n\u001b[0;32m     <a href='vscode-notebook-cell:/c%3A/Users/TONY/Documents/ntnu/H23/TDT4225/assignment3/part2.ipynb#X32sZmlsZQ%3D%3D?line=53'>54</a>\u001b[0m \u001b[39mfor\u001b[39;00m row \u001b[39min\u001b[39;00m rows:\n\u001b[0;32m     <a href='vscode-notebook-cell:/c%3A/Users/TONY/Documents/ntnu/H23/TDT4225/assignment3/part2.ipynb#X32sZmlsZQ%3D%3D?line=54'>55</a>\u001b[0m     \u001b[39mprint\u001b[39m(row)\n",
      "File \u001b[1;32mc:\\Users\\TONY\\Documents\\ntnu\\H23\\TDT4225\\assignment3\\venv\\lib\\site-packages\\pymongo\\collection.py:2722\u001b[0m, in \u001b[0;36mCollection.aggregate\u001b[1;34m(self, pipeline, session, let, comment, **kwargs)\u001b[0m\n\u001b[0;32m   2644\u001b[0m \u001b[39m\u001b[39m\u001b[39m\"\"\"Perform an aggregation using the aggregation framework on this\u001b[39;00m\n\u001b[0;32m   2645\u001b[0m \u001b[39mcollection.\u001b[39;00m\n\u001b[0;32m   2646\u001b[0m \n\u001b[1;32m   (...)\u001b[0m\n\u001b[0;32m   2719\u001b[0m \u001b[39m    https://mongodb.com/docs/manual/reference/command/aggregate\u001b[39;00m\n\u001b[0;32m   2720\u001b[0m \u001b[39m\"\"\"\u001b[39;00m\n\u001b[0;32m   2721\u001b[0m \u001b[39mwith\u001b[39;00m \u001b[39mself\u001b[39m\u001b[39m.\u001b[39m__database\u001b[39m.\u001b[39mclient\u001b[39m.\u001b[39m_tmp_session(session, close\u001b[39m=\u001b[39m\u001b[39mFalse\u001b[39;00m) \u001b[39mas\u001b[39;00m s:\n\u001b[1;32m-> 2722\u001b[0m     \u001b[39mreturn\u001b[39;00m \u001b[39mself\u001b[39m\u001b[39m.\u001b[39m_aggregate(\n\u001b[0;32m   2723\u001b[0m         _CollectionAggregationCommand,\n\u001b[0;32m   2724\u001b[0m         pipeline,\n\u001b[0;32m   2725\u001b[0m         CommandCursor,\n\u001b[0;32m   2726\u001b[0m         session\u001b[39m=\u001b[39ms,\n\u001b[0;32m   2727\u001b[0m         explicit_session\u001b[39m=\u001b[39msession \u001b[39mis\u001b[39;00m \u001b[39mnot\u001b[39;00m \u001b[39mNone\u001b[39;00m,\n\u001b[0;32m   2728\u001b[0m         let\u001b[39m=\u001b[39mlet,\n\u001b[0;32m   2729\u001b[0m         comment\u001b[39m=\u001b[39mcomment,\n\u001b[0;32m   2730\u001b[0m         \u001b[39m*\u001b[39m\u001b[39m*\u001b[39mkwargs,\n\u001b[0;32m   2731\u001b[0m     )\n",
      "File \u001b[1;32mc:\\Users\\TONY\\Documents\\ntnu\\H23\\TDT4225\\assignment3\\venv\\lib\\site-packages\\pymongo\\_csot.py:108\u001b[0m, in \u001b[0;36mapply.<locals>.csot_wrapper\u001b[1;34m(self, *args, **kwargs)\u001b[0m\n\u001b[0;32m    106\u001b[0m         \u001b[39mwith\u001b[39;00m _TimeoutContext(timeout):\n\u001b[0;32m    107\u001b[0m             \u001b[39mreturn\u001b[39;00m func(\u001b[39mself\u001b[39m, \u001b[39m*\u001b[39margs, \u001b[39m*\u001b[39m\u001b[39m*\u001b[39mkwargs)\n\u001b[1;32m--> 108\u001b[0m \u001b[39mreturn\u001b[39;00m func(\u001b[39mself\u001b[39m, \u001b[39m*\u001b[39margs, \u001b[39m*\u001b[39m\u001b[39m*\u001b[39mkwargs)\n",
      "File \u001b[1;32mc:\\Users\\TONY\\Documents\\ntnu\\H23\\TDT4225\\assignment3\\venv\\lib\\site-packages\\pymongo\\collection.py:2629\u001b[0m, in \u001b[0;36mCollection._aggregate\u001b[1;34m(self, aggregation_command, pipeline, cursor_class, session, explicit_session, let, comment, **kwargs)\u001b[0m\n\u001b[0;32m   2618\u001b[0m     kwargs[\u001b[39m\"\u001b[39m\u001b[39mcomment\u001b[39m\u001b[39m\"\u001b[39m] \u001b[39m=\u001b[39m comment\n\u001b[0;32m   2619\u001b[0m cmd \u001b[39m=\u001b[39m aggregation_command(\n\u001b[0;32m   2620\u001b[0m     \u001b[39mself\u001b[39m,\n\u001b[0;32m   2621\u001b[0m     cursor_class,\n\u001b[1;32m   (...)\u001b[0m\n\u001b[0;32m   2626\u001b[0m     user_fields\u001b[39m=\u001b[39m{\u001b[39m\"\u001b[39m\u001b[39mcursor\u001b[39m\u001b[39m\"\u001b[39m: {\u001b[39m\"\u001b[39m\u001b[39mfirstBatch\u001b[39m\u001b[39m\"\u001b[39m: \u001b[39m1\u001b[39m}},\n\u001b[0;32m   2627\u001b[0m )\n\u001b[1;32m-> 2629\u001b[0m \u001b[39mreturn\u001b[39;00m \u001b[39mself\u001b[39;49m\u001b[39m.\u001b[39;49m__database\u001b[39m.\u001b[39;49mclient\u001b[39m.\u001b[39;49m_retryable_read(\n\u001b[0;32m   2630\u001b[0m     cmd\u001b[39m.\u001b[39;49mget_cursor,\n\u001b[0;32m   2631\u001b[0m     cmd\u001b[39m.\u001b[39;49mget_read_preference(session),  \u001b[39m# type: ignore[arg-type]\u001b[39;49;00m\n\u001b[0;32m   2632\u001b[0m     session,\n\u001b[0;32m   2633\u001b[0m     retryable\u001b[39m=\u001b[39;49m\u001b[39mnot\u001b[39;49;00m cmd\u001b[39m.\u001b[39;49m_performs_write,\n\u001b[0;32m   2634\u001b[0m )\n",
      "File \u001b[1;32mc:\\Users\\TONY\\Documents\\ntnu\\H23\\TDT4225\\assignment3\\venv\\lib\\site-packages\\pymongo\\_csot.py:108\u001b[0m, in \u001b[0;36mapply.<locals>.csot_wrapper\u001b[1;34m(self, *args, **kwargs)\u001b[0m\n\u001b[0;32m    106\u001b[0m         \u001b[39mwith\u001b[39;00m _TimeoutContext(timeout):\n\u001b[0;32m    107\u001b[0m             \u001b[39mreturn\u001b[39;00m func(\u001b[39mself\u001b[39m, \u001b[39m*\u001b[39margs, \u001b[39m*\u001b[39m\u001b[39m*\u001b[39mkwargs)\n\u001b[1;32m--> 108\u001b[0m \u001b[39mreturn\u001b[39;00m func(\u001b[39mself\u001b[39m, \u001b[39m*\u001b[39margs, \u001b[39m*\u001b[39m\u001b[39m*\u001b[39mkwargs)\n",
      "File \u001b[1;32mc:\\Users\\TONY\\Documents\\ntnu\\H23\\TDT4225\\assignment3\\venv\\lib\\site-packages\\pymongo\\mongo_client.py:1535\u001b[0m, in \u001b[0;36mMongoClient._retryable_read\u001b[1;34m(self, func, read_pref, session, address, retryable)\u001b[0m\n\u001b[0;32m   1533\u001b[0m             \u001b[39massert\u001b[39;00m last_error \u001b[39mis\u001b[39;00m \u001b[39mnot\u001b[39;00m \u001b[39mNone\u001b[39;00m\n\u001b[0;32m   1534\u001b[0m             \u001b[39mraise\u001b[39;00m last_error\n\u001b[1;32m-> 1535\u001b[0m         \u001b[39mreturn\u001b[39;00m func(session, server, conn, read_pref)\n\u001b[0;32m   1536\u001b[0m \u001b[39mexcept\u001b[39;00m ServerSelectionTimeoutError:\n\u001b[0;32m   1537\u001b[0m     \u001b[39mif\u001b[39;00m retrying:\n\u001b[0;32m   1538\u001b[0m         \u001b[39m# The application may think the write was never attempted\u001b[39;00m\n\u001b[0;32m   1539\u001b[0m         \u001b[39m# if we raise ServerSelectionTimeoutError on the retry\u001b[39;00m\n\u001b[0;32m   1540\u001b[0m         \u001b[39m# attempt. Raise the original exception instead.\u001b[39;00m\n",
      "File \u001b[1;32mc:\\Users\\TONY\\Documents\\ntnu\\H23\\TDT4225\\assignment3\\venv\\lib\\site-packages\\pymongo\\aggregation.py:164\u001b[0m, in \u001b[0;36m_AggregationCommand.get_cursor\u001b[1;34m(self, session, server, conn, read_preference)\u001b[0m\n\u001b[0;32m    161\u001b[0m     write_concern \u001b[39m=\u001b[39m \u001b[39mNone\u001b[39;00m\n\u001b[0;32m    163\u001b[0m \u001b[39m# Run command.\u001b[39;00m\n\u001b[1;32m--> 164\u001b[0m result \u001b[39m=\u001b[39m conn\u001b[39m.\u001b[39;49mcommand(\n\u001b[0;32m    165\u001b[0m     \u001b[39mself\u001b[39;49m\u001b[39m.\u001b[39;49m_database\u001b[39m.\u001b[39;49mname,\n\u001b[0;32m    166\u001b[0m     cmd,\n\u001b[0;32m    167\u001b[0m     read_preference,\n\u001b[0;32m    168\u001b[0m     \u001b[39mself\u001b[39;49m\u001b[39m.\u001b[39;49m_target\u001b[39m.\u001b[39;49mcodec_options,\n\u001b[0;32m    169\u001b[0m     parse_write_concern_error\u001b[39m=\u001b[39;49m\u001b[39mTrue\u001b[39;49;00m,\n\u001b[0;32m    170\u001b[0m     read_concern\u001b[39m=\u001b[39;49mread_concern,\n\u001b[0;32m    171\u001b[0m     write_concern\u001b[39m=\u001b[39;49mwrite_concern,\n\u001b[0;32m    172\u001b[0m     collation\u001b[39m=\u001b[39;49m\u001b[39mself\u001b[39;49m\u001b[39m.\u001b[39;49m_collation,\n\u001b[0;32m    173\u001b[0m     session\u001b[39m=\u001b[39;49msession,\n\u001b[0;32m    174\u001b[0m     client\u001b[39m=\u001b[39;49m\u001b[39mself\u001b[39;49m\u001b[39m.\u001b[39;49m_database\u001b[39m.\u001b[39;49mclient,\n\u001b[0;32m    175\u001b[0m     user_fields\u001b[39m=\u001b[39;49m\u001b[39mself\u001b[39;49m\u001b[39m.\u001b[39;49m_user_fields,\n\u001b[0;32m    176\u001b[0m )\n\u001b[0;32m    178\u001b[0m \u001b[39mif\u001b[39;00m \u001b[39mself\u001b[39m\u001b[39m.\u001b[39m_result_processor:\n\u001b[0;32m    179\u001b[0m     \u001b[39mself\u001b[39m\u001b[39m.\u001b[39m_result_processor(result, conn)\n",
      "File \u001b[1;32mc:\\Users\\TONY\\Documents\\ntnu\\H23\\TDT4225\\assignment3\\venv\\lib\\site-packages\\pymongo\\helpers.py:315\u001b[0m, in \u001b[0;36m_handle_reauth.<locals>.inner\u001b[1;34m(*args, **kwargs)\u001b[0m\n\u001b[0;32m    312\u001b[0m \u001b[39mfrom\u001b[39;00m \u001b[39mpymongo\u001b[39;00m\u001b[39m.\u001b[39;00m\u001b[39mpool\u001b[39;00m \u001b[39mimport\u001b[39;00m Connection\n\u001b[0;32m    314\u001b[0m \u001b[39mtry\u001b[39;00m:\n\u001b[1;32m--> 315\u001b[0m     \u001b[39mreturn\u001b[39;00m func(\u001b[39m*\u001b[39margs, \u001b[39m*\u001b[39m\u001b[39m*\u001b[39mkwargs)\n\u001b[0;32m    316\u001b[0m \u001b[39mexcept\u001b[39;00m OperationFailure \u001b[39mas\u001b[39;00m exc:\n\u001b[0;32m    317\u001b[0m     \u001b[39mif\u001b[39;00m no_reauth:\n",
      "File \u001b[1;32mc:\\Users\\TONY\\Documents\\ntnu\\H23\\TDT4225\\assignment3\\venv\\lib\\site-packages\\pymongo\\pool.py:932\u001b[0m, in \u001b[0;36mConnection.command\u001b[1;34m(self, dbname, spec, read_preference, codec_options, check, allowable_errors, read_concern, write_concern, parse_write_concern_error, collation, session, client, retryable_write, publish_events, user_fields, exhaust_allowed)\u001b[0m\n\u001b[0;32m    930\u001b[0m     \u001b[39mself\u001b[39m\u001b[39m.\u001b[39m_raise_if_not_writable(unacknowledged)\n\u001b[0;32m    931\u001b[0m \u001b[39mtry\u001b[39;00m:\n\u001b[1;32m--> 932\u001b[0m     \u001b[39mreturn\u001b[39;00m command(\n\u001b[0;32m    933\u001b[0m         \u001b[39mself\u001b[39;49m,\n\u001b[0;32m    934\u001b[0m         dbname,\n\u001b[0;32m    935\u001b[0m         spec,\n\u001b[0;32m    936\u001b[0m         \u001b[39mself\u001b[39;49m\u001b[39m.\u001b[39;49mis_mongos,\n\u001b[0;32m    937\u001b[0m         read_preference,\n\u001b[0;32m    938\u001b[0m         codec_options,\n\u001b[0;32m    939\u001b[0m         session,\n\u001b[0;32m    940\u001b[0m         client,\n\u001b[0;32m    941\u001b[0m         check,\n\u001b[0;32m    942\u001b[0m         allowable_errors,\n\u001b[0;32m    943\u001b[0m         \u001b[39mself\u001b[39;49m\u001b[39m.\u001b[39;49maddress,\n\u001b[0;32m    944\u001b[0m         listeners,\n\u001b[0;32m    945\u001b[0m         \u001b[39mself\u001b[39;49m\u001b[39m.\u001b[39;49mmax_bson_size,\n\u001b[0;32m    946\u001b[0m         read_concern,\n\u001b[0;32m    947\u001b[0m         parse_write_concern_error\u001b[39m=\u001b[39;49mparse_write_concern_error,\n\u001b[0;32m    948\u001b[0m         collation\u001b[39m=\u001b[39;49mcollation,\n\u001b[0;32m    949\u001b[0m         compression_ctx\u001b[39m=\u001b[39;49m\u001b[39mself\u001b[39;49m\u001b[39m.\u001b[39;49mcompression_context,\n\u001b[0;32m    950\u001b[0m         use_op_msg\u001b[39m=\u001b[39;49m\u001b[39mself\u001b[39;49m\u001b[39m.\u001b[39;49mop_msg_enabled,\n\u001b[0;32m    951\u001b[0m         unacknowledged\u001b[39m=\u001b[39;49munacknowledged,\n\u001b[0;32m    952\u001b[0m         user_fields\u001b[39m=\u001b[39;49muser_fields,\n\u001b[0;32m    953\u001b[0m         exhaust_allowed\u001b[39m=\u001b[39;49mexhaust_allowed,\n\u001b[0;32m    954\u001b[0m         write_concern\u001b[39m=\u001b[39;49mwrite_concern,\n\u001b[0;32m    955\u001b[0m     )\n\u001b[0;32m    956\u001b[0m \u001b[39mexcept\u001b[39;00m (OperationFailure, NotPrimaryError):\n\u001b[0;32m    957\u001b[0m     \u001b[39mraise\u001b[39;00m\n",
      "File \u001b[1;32mc:\\Users\\TONY\\Documents\\ntnu\\H23\\TDT4225\\assignment3\\venv\\lib\\site-packages\\pymongo\\network.py:191\u001b[0m, in \u001b[0;36mcommand\u001b[1;34m(conn, dbname, spec, is_mongos, read_preference, codec_options, session, client, check, allowable_errors, address, listeners, max_bson_size, read_concern, parse_write_concern_error, collation, compression_ctx, use_op_msg, unacknowledged, user_fields, exhaust_allowed, write_concern)\u001b[0m\n\u001b[0;32m    189\u001b[0m             client\u001b[39m.\u001b[39m_process_response(response_doc, session)\n\u001b[0;32m    190\u001b[0m         \u001b[39mif\u001b[39;00m check:\n\u001b[1;32m--> 191\u001b[0m             helpers\u001b[39m.\u001b[39;49m_check_command_response(\n\u001b[0;32m    192\u001b[0m                 response_doc,\n\u001b[0;32m    193\u001b[0m                 conn\u001b[39m.\u001b[39;49mmax_wire_version,\n\u001b[0;32m    194\u001b[0m                 allowable_errors,\n\u001b[0;32m    195\u001b[0m                 parse_write_concern_error\u001b[39m=\u001b[39;49mparse_write_concern_error,\n\u001b[0;32m    196\u001b[0m             )\n\u001b[0;32m    197\u001b[0m \u001b[39mexcept\u001b[39;00m \u001b[39mException\u001b[39;00m \u001b[39mas\u001b[39;00m exc:\n\u001b[0;32m    198\u001b[0m     \u001b[39mif\u001b[39;00m publish:\n",
      "File \u001b[1;32mc:\\Users\\TONY\\Documents\\ntnu\\H23\\TDT4225\\assignment3\\venv\\lib\\site-packages\\pymongo\\helpers.py:223\u001b[0m, in \u001b[0;36m_check_command_response\u001b[1;34m(response, max_wire_version, allowable_errors, parse_write_concern_error)\u001b[0m\n\u001b[0;32m    220\u001b[0m \u001b[39melif\u001b[39;00m code \u001b[39m==\u001b[39m \u001b[39m43\u001b[39m:\n\u001b[0;32m    221\u001b[0m     \u001b[39mraise\u001b[39;00m CursorNotFound(errmsg, code, response, max_wire_version)\n\u001b[1;32m--> 223\u001b[0m \u001b[39mraise\u001b[39;00m OperationFailure(errmsg, code, response, max_wire_version)\n",
      "\u001b[1;31mOperationFailure\u001b[0m: PlanExecutor error during aggregation :: caused by :: can't $subtract string from string, full error: {'ok': 0.0, 'errmsg': \"PlanExecutor error during aggregation :: caused by :: can't $subtract string from string\", 'code': 14, 'codeName': 'TypeMismatch'}"
     ]
    }
   ],
   "source": [
    "collection = connector.db[\"TrackPoint\"]\n",
    "\n",
    "rows = collection.aggregate(\n",
    "    [\n",
    "        {\"$match\": {\"altitude\": {\"$ne\": -777}}},\n",
    "        {\n",
    "            \"$setWindowFields\": {\n",
    "                \"partitionBy\": \"$activity_id\",\n",
    "                \"sortBy\": {\"date_time\": 1},\n",
    "                \"output\": {\n",
    "                    \"previous_altitude\": {\"$shift\": {\"output\": \"$altitude\", \"by\": -1}}\n",
    "                },\n",
    "            }\n",
    "        },\n",
    "        {\n",
    "            \"$project\": {\n",
    "                \"activity_id\": \"$activity_id\",\n",
    "                \"difference\": {\"$subtract\": [\"$altitude\", \"$previous_altitude\"]},\n",
    "            }\n",
    "        },\n",
    "        {\"$match\": {\"difference\": {\"$gt\": 0}}},\n",
    "        {\n",
    "            \"$lookup\": {\n",
    "                \"from\": \"Activity\",\n",
    "                \"localField\": \"activity_id\",\n",
    "                \"foreignField\": \"_id\",\n",
    "                \"as\": \"activity\",\n",
    "            }\n",
    "        },\n",
    "        {\n",
    "            \"$group\": {\n",
    "                \"_id\": {\n",
    "                    \"user_id\": \"$activity.user_id\",\n",
    "                },\n",
    "                \"sum\": {\"$sum\": \"$difference\"},\n",
    "            }\n",
    "        },\n",
    "        {\n",
    "            \"$project\": {\n",
    "                \"altitude_in_meters\": {\"$multiply\": [\"$sum\", 0.304]},\n",
    "            }\n",
    "        },\n",
    "        {\"$sort\": {\"altitude_in_meters\": -1}},\n",
    "        {\n",
    "            \"$setWindowFields\": {\n",
    "                \"sortBy\": {\"altitude_in_meters\": -1},\n",
    "                \"output\": {\"Top\": {\"$rank\": {}}},\n",
    "            }\n",
    "        },\n",
    "        {\"$limit\": 20},\n",
    "    ]\n",
    ")\n",
    "\n",
    "for row in rows:\n",
    "    print(row)"
   ]
  },
  {
   "cell_type": "markdown",
   "metadata": {},
   "source": [
    "### Task 9\n",
    "Find all users who have invalid activities, and the number of invalid activities per user"
   ]
  },
  {
   "cell_type": "code",
   "execution_count": null,
   "metadata": {},
   "outputs": [],
   "source": []
  },
  {
   "cell_type": "markdown",
   "metadata": {},
   "source": [
    "### Task 10\n",
    "Find the users who have tracked an activity in the Forbidden City of Beijing."
   ]
  },
  {
   "cell_type": "code",
   "execution_count": null,
   "metadata": {},
   "outputs": [],
   "source": []
  },
  {
   "cell_type": "markdown",
   "metadata": {},
   "source": [
    "### Task 11\n",
    "Find all users who have registered transportation_mode and their most used transportation_mode. "
   ]
  },
  {
   "cell_type": "code",
   "execution_count": null,
   "metadata": {},
   "outputs": [],
   "source": [
    "collection = connector.db[\"Activity\"]\n",
    "\n",
    "rows = collection.aggregate(\n",
    "    [\n",
    "        {\"$match\": {\"transportation_mode\": {\"$ne\": None}}},\n",
    "        {\n",
    "            \"$group\": {\n",
    "                \"_id\": {\n",
    "                    \"user_id\": \"$user_id\",\n",
    "                    \"transportation_mode\": \"$transportation_mode\",\n",
    "                },\n",
    "                \"count\": {\"$sum\": 1},\n",
    "            }\n",
    "        },\n",
    "        {\n",
    "            \"$lookup\": {\n",
    "                \"from\": \"User\",\n",
    "                \"let\": {\n",
    "                    \"a_id\": \"$_id\",\n",
    "                    \"a_has_labels\": \"$has_labels\",\n",
    "                },\n",
    "                \"pipeline\": [{\"$match\": {\"$expr\": {\"$eq\": [\"$$a_id\", \"$user_id\"]}}}],\n",
    "                \"as\": \"saves_transportation\",\n",
    "            }\n",
    "        },\n",
    "        {\"$match\": {\"saves_transportation\": {\"$ne\": {\"$a_has_labels\": False}}}},\n",
    "        {\"$sort\": {\"_id.user_id\": 1, \"count\": -1}},\n",
    "        {\n",
    "            \"$group\": {\n",
    "                \"_id\": \"$_id.user_id\",\n",
    "                \"most_used_transportation_mode\": {\"$first\": \"$_id.transportation_mode\"},\n",
    "            }\n",
    "        },\n",
    "        {\"$sort\": {\"_id\": 1}},\n",
    "    ]\n",
    ")\n",
    "\n",
    "for row in rows:\n",
    "    pprint(row)"
   ]
  }
 ],
 "metadata": {
  "kernelspec": {
   "display_name": "venv",
   "language": "python",
   "name": "python3"
  },
  "language_info": {
   "codemirror_mode": {
    "name": "ipython",
    "version": 3
   },
   "file_extension": ".py",
   "mimetype": "text/x-python",
   "name": "python",
   "nbconvert_exporter": "python",
   "pygments_lexer": "ipython3",
   "version": "3.9.13"
  }
 },
 "nbformat": 4,
 "nbformat_minor": 2
}
