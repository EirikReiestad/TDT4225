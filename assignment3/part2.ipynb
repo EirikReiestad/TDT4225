{
 "cells": [
  {
   "cell_type": "code",
   "execution_count": 2,
   "metadata": {},
   "outputs": [
    {
     "name": "stdout",
     "output_type": "stream",
     "text": [
      "You are connected to the database: assignment3\n",
      "-----------------------------------------------\n",
      "\n"
     ]
    }
   ],
   "source": [
    "from DbConnector import DbConnector\n",
    "#from part2 import Database\n",
    "from tabulate import tabulate\n",
    "\n",
    "# Set up the program\n",
    "from dotenv import load_dotenv\n",
    "import os\n",
    "import numpy as np\n",
    "from datetime import datetime, timedelta\n",
    "from haversine import haversine, Unit\n",
    "from pprint import pprint\n",
    "\n",
    "load_dotenv()\n",
    "\n",
    "connector = DbConnector()"
   ]
  },
  {
   "cell_type": "markdown",
   "metadata": {},
   "source": [
    "### Task 1"
   ]
  },
  {
   "cell_type": "markdown",
   "metadata": {},
   "source": [
    "How many users, activities and trackpoints are there in the dataset (after it is inserted into the database)"
   ]
  },
  {
   "cell_type": "code",
   "execution_count": null,
   "metadata": {},
   "outputs": [],
   "source": []
  },
  {
   "cell_type": "markdown",
   "metadata": {},
   "source": [
    "### Task 2\n",
    "Find the average number of activities per user."
   ]
  },
  {
   "cell_type": "code",
   "execution_count": 58,
   "metadata": {},
   "outputs": [
    {
     "name": "stdout",
     "output_type": "stream",
     "text": [
      "{'average avtivites': 51.82236842105263}\n"
     ]
    }
   ],
   "source": [
    "collection = connector.db[\"Activity\"]\n",
    "\n",
    "rows = collection.aggregate(\n",
    "    [\n",
    "\n",
    "        {\"$group\": {\"_id\":  \"$user_id\", \"count\": {\"$sum\": 1}}},\n",
    "        {\n",
    "        \"$group\": {\n",
    "            \"_id\": None,\n",
    "            \"average avtivites\": {\"$avg\": \"$count\"}\n",
    "            }\n",
    "        },\n",
    "        {\n",
    "            \"$project\": {\n",
    "                \"_id\": 0,\n",
    "                \"average_activities\": 0\n",
    "            }\n",
    "        }\n",
    "\n",
    "    ]\n",
    ")\n",
    "\n",
    "for row in rows:\n",
    "    print(row)\n",
    "\n",
    "\n",
    "\n",
    "\n"
   ]
  },
  {
   "cell_type": "markdown",
   "metadata": {},
   "source": [
    "### Task 3\n",
    "\n",
    "Find the top 20 users with the highest number of activities."
   ]
  },
  {
   "cell_type": "code",
   "execution_count": 15,
   "metadata": {},
   "outputs": [
    {
     "name": "stdout",
     "output_type": "stream",
     "text": [
      "{'Top': 1, '_id': '025', 'count': 715}\n",
      "{'Top': 2, '_id': '128', 'count': 519}\n",
      "{'Top': 3, '_id': '062', 'count': 406}\n",
      "{'Top': 4, '_id': '041', 'count': 399}\n",
      "{'Top': 5, '_id': '004', 'count': 346}\n",
      "{'Top': 6, '_id': '140', 'count': 345}\n",
      "{'Top': 7, '_id': '017', 'count': 265}\n",
      "{'Top': 8, '_id': '003', 'count': 261}\n",
      "{'Top': 9, '_id': '014', 'count': 236}\n",
      "{'Top': 10, '_id': '030', 'count': 210}\n",
      "{'Top': 11, '_id': '011', 'count': 201}\n",
      "{'Top': 12, '_id': '039', 'count': 198}\n",
      "{'Top': 13, '_id': '034', 'count': 180}\n",
      "{'Top': 14, '_id': '000', 'count': 155}\n",
      "{'Top': 15, '_id': '002', 'count': 146}\n",
      "{'Top': 16, '_id': '142', 'count': 138}\n",
      "{'Top': 17, '_id': '037', 'count': 129}\n",
      "{'Top': 18, '_id': '013', 'count': 119}\n",
      "{'Top': 19, '_id': '042', 'count': 110}\n",
      "{'Top': 20, '_id': '020', 'count': 94}\n"
     ]
    }
   ],
   "source": [
    "collection = connector.db[\"Activity\"]\n",
    "\n",
    "rows = collection.aggregate(\n",
    "    [\n",
    "        {\"$group\": {\"_id\":  \"$user_id\", \"count\": {\"$sum\": 1}}},\n",
    "        {\"$sort\": {\"count\": -1}},\n",
    "        {\n",
    "            \"$setWindowFields\": {\n",
    "                \"sortBy\": {\"count\": -1},\n",
    "                \"output\": {\"Top\": {\"$rank\": {}}},\n",
    "            }\n",
    "        },\n",
    "        {\"$limit\": 20},\n",
    "    ]\n",
    ")\n",
    "\n",
    "for row in rows:\n",
    "    pprint(row)"
   ]
  },
  {
   "cell_type": "markdown",
   "metadata": {},
   "source": [
    "### Task 4\n",
    "Find all users who have taken a taxi. "
   ]
  },
  {
   "cell_type": "code",
   "execution_count": 63,
   "metadata": {},
   "outputs": [
    {
     "name": "stdout",
     "output_type": "stream",
     "text": [
      "{'_id': '010'}\n",
      "{'_id': '058'}\n",
      "{'_id': '062'}\n",
      "{'_id': '078'}\n",
      "{'_id': '080'}\n",
      "{'_id': '085'}\n",
      "{'_id': '098'}\n",
      "{'_id': '111'}\n",
      "{'_id': '128'}\n",
      "{'_id': '163'}\n"
     ]
    }
   ],
   "source": [
    "collection = connector.db[\"Activity\"]\n",
    "\n",
    "rows = collection.aggregate(\n",
    "    [\n",
    "        {\"$match\": {\"transportation_mode\" : \"taxi\"}},\n",
    "        {\"$group\": {\"_id\":  \"$user_id\"}},\n",
    "        {\"$sort\": {\"_id\": 1}},\n",
    "\n",
    "    ]\n",
    ")\n",
    "\n",
    "for row in rows:\n",
    "    print(row)"
   ]
  },
  {
   "cell_type": "markdown",
   "metadata": {},
   "source": [
    "### Task 5\n",
    "Find all types of transportation modes and count how many activities that are tagged with these transportation mode labels. Do not count the rows where the mode is null."
   ]
  },
  {
   "cell_type": "code",
   "execution_count": null,
   "metadata": {},
   "outputs": [],
   "source": []
  },
  {
   "cell_type": "markdown",
   "metadata": {},
   "source": [
    "### Task 6\n",
    "a) Find the year with the most activities."
   ]
  },
  {
   "cell_type": "code",
   "execution_count": null,
   "metadata": {},
   "outputs": [],
   "source": []
  },
  {
   "cell_type": "markdown",
   "metadata": {},
   "source": [
    "b) Is this also the year with most recorded hours?"
   ]
  },
  {
   "cell_type": "code",
   "execution_count": null,
   "metadata": {},
   "outputs": [],
   "source": []
  },
  {
   "cell_type": "markdown",
   "metadata": {},
   "source": [
    "### Task 7\n",
    "Find the total distance (in km) walked in 2008, by user with id=112."
   ]
  },
  {
   "cell_type": "code",
   "execution_count": null,
   "metadata": {},
   "outputs": [],
   "source": []
  },
  {
   "cell_type": "markdown",
   "metadata": {},
   "source": [
    "### Task 8"
   ]
  },
  {
   "cell_type": "markdown",
   "metadata": {},
   "source": [
    " Find the top 20 users who have gained the most altitude meters"
   ]
  },
  {
   "cell_type": "code",
   "execution_count": 16,
   "metadata": {},
   "outputs": [
    {
     "name": "stdout",
     "output_type": "stream",
     "text": [
      "{'_id': {'user_id': ['004']}, 'altitude_in_meters': 331164.832, 'Top': 1}\n",
      "{'_id': {'user_id': ['041']}, 'altitude_in_meters': 240136.9264, 'Top': 2}\n",
      "{'_id': {'user_id': ['003']}, 'altitude_in_meters': 233050.35199999998, 'Top': 3}\n",
      "{'_id': {'user_id': ['030']}, 'altitude_in_meters': 175218.608, 'Top': 4}\n",
      "{'_id': {'user_id': ['128']}, 'altitude_in_meters': 152583.6192, 'Top': 5}\n",
      "{'_id': {'user_id': ['039']}, 'altitude_in_meters': 146318.544, 'Top': 6}\n",
      "{'_id': {'user_id': ['000']}, 'altitude_in_meters': 121185.95199999999, 'Top': 7}\n",
      "{'_id': {'user_id': ['002']}, 'altitude_in_meters': 114760.912, 'Top': 8}\n",
      "{'_id': {'user_id': ['025']}, 'altitude_in_meters': 108872.06719999999, 'Top': 9}\n",
      "{'_id': {'user_id': ['037']}, 'altitude_in_meters': 98974.13119999999, 'Top': 10}\n",
      "{'_id': {'user_id': ['140']}, 'altitude_in_meters': 94597.35894173228, 'Top': 11}\n",
      "{'_id': {'user_id': ['062']}, 'altitude_in_meters': 74565.8496, 'Top': 12}\n",
      "{'_id': {'user_id': ['017']}, 'altitude_in_meters': 62417.09760000001, 'Top': 13}\n",
      "{'_id': {'user_id': ['034']}, 'altitude_in_meters': 61269.224, 'Top': 14}\n",
      "{'_id': {'user_id': ['042']}, 'altitude_in_meters': 61171.1536, 'Top': 15}\n",
      "{'_id': {'user_id': ['007']}, 'altitude_in_meters': 60636.144, 'Top': 16}\n",
      "{'_id': {'user_id': ['022']}, 'altitude_in_meters': 60342.479999999996, 'Top': 17}\n",
      "{'_id': {'user_id': ['014']}, 'altitude_in_meters': 60004.82719999999, 'Top': 18}\n",
      "{'_id': {'user_id': ['028']}, 'altitude_in_meters': 53876.4, 'Top': 19}\n",
      "{'_id': {'user_id': ['013']}, 'altitude_in_meters': 50455.488, 'Top': 20}\n"
     ]
    }
   ],
   "source": [
    "collection = connector.db[\"TrackPoint\"]\n",
    "\n",
    "rows = collection.aggregate(\n",
    "    [\n",
    "        {\"$match\": {\"altitude\": {\"$ne\": -777}}},\n",
    "        {\n",
    "            \"$setWindowFields\": {\n",
    "                \"partitionBy\": \"$activity_id\",\n",
    "                \"sortBy\": {\"date_time\": 1},\n",
    "                \"output\": {\n",
    "                    \"previous_altitude\": {\"$shift\": {\"output\": \"$altitude\", \"by\": -1}}\n",
    "                },\n",
    "            }\n",
    "        },\n",
    "        {\n",
    "            \"$project\": {\n",
    "                \"activity_id\": \"$activity_id\",\n",
    "                \"difference\": {\"$subtract\": [\"$altitude\", \"$previous_altitude\"]},\n",
    "            }\n",
    "        },\n",
    "        {\"$match\": {\"difference\": {\"$gt\": 0}}},\n",
    "        {\n",
    "            \"$lookup\": {\n",
    "                \"from\": \"Activity\",\n",
    "                \"localField\": \"activity_id\",\n",
    "                \"foreignField\": \"_id\",\n",
    "                \"as\": \"activity\",\n",
    "            }\n",
    "        },\n",
    "        {\n",
    "            \"$group\": {\n",
    "                \"_id\": {\n",
    "                    \"user_id\": \"$activity.user_id\",\n",
    "                },\n",
    "                \"sum\": {\"$sum\": \"$difference\"},\n",
    "            }\n",
    "        },\n",
    "        {\n",
    "            \"$project\": {\n",
    "                \"altitude_in_meters\": {\"$multiply\": [\"$sum\", 0.304]},\n",
    "            }\n",
    "        },\n",
    "        {\"$sort\": {\"altitude_in_meters\": -1}},\n",
    "        {\n",
    "            \"$setWindowFields\": {\n",
    "                \"sortBy\": {\"altitude_in_meters\": -1},\n",
    "                \"output\": {\"Top\": {\"$rank\": {}}},\n",
    "            }\n",
    "        },\n",
    "        {\"$limit\": 20},\n",
    "    ]\n",
    ")\n",
    "\n",
    "for row in rows:\n",
    "    print(row)"
   ]
  },
  {
   "cell_type": "markdown",
   "metadata": {},
   "source": [
    "### Task 9\n",
    "Find all users who have invalid activities, and the number of invalid activities per user"
   ]
  },
  {
   "cell_type": "code",
   "execution_count": null,
   "metadata": {},
   "outputs": [],
   "source": []
  },
  {
   "cell_type": "markdown",
   "metadata": {},
   "source": [
    "### Task 10\n",
    "Find the users who have tracked an activity in the Forbidden City of Beijing."
   ]
  },
  {
   "cell_type": "code",
   "execution_count": null,
   "metadata": {},
   "outputs": [],
   "source": []
  },
  {
   "cell_type": "markdown",
   "metadata": {},
   "source": [
    "### Task 11\n",
    "Find all users who have registered transportation_mode and their most used transportation_mode. "
   ]
  },
  {
   "cell_type": "code",
   "execution_count": 18,
   "metadata": {},
   "outputs": [
    {
     "name": "stdout",
     "output_type": "stream",
     "text": [
      "{'_id': '010', 'most_used_transportation_mode': 'taxi'}\n",
      "{'_id': '020', 'most_used_transportation_mode': 'bike'}\n",
      "{'_id': '021', 'most_used_transportation_mode': 'walk'}\n",
      "{'_id': '052', 'most_used_transportation_mode': 'bus'}\n",
      "{'_id': '056', 'most_used_transportation_mode': 'bike'}\n",
      "{'_id': '058', 'most_used_transportation_mode': 'car'}\n",
      "{'_id': '060', 'most_used_transportation_mode': 'walk'}\n",
      "{'_id': '062', 'most_used_transportation_mode': 'walk'}\n",
      "{'_id': '064', 'most_used_transportation_mode': 'bike'}\n",
      "{'_id': '065', 'most_used_transportation_mode': 'bike'}\n",
      "{'_id': '067', 'most_used_transportation_mode': 'walk'}\n",
      "{'_id': '069', 'most_used_transportation_mode': 'bike'}\n",
      "{'_id': '073', 'most_used_transportation_mode': 'walk'}\n",
      "{'_id': '075', 'most_used_transportation_mode': 'walk'}\n",
      "{'_id': '076', 'most_used_transportation_mode': 'car'}\n",
      "{'_id': '078', 'most_used_transportation_mode': 'walk'}\n",
      "{'_id': '080', 'most_used_transportation_mode': 'taxi'}\n",
      "{'_id': '081', 'most_used_transportation_mode': 'bike'}\n",
      "{'_id': '082', 'most_used_transportation_mode': 'walk'}\n",
      "{'_id': '084', 'most_used_transportation_mode': 'walk'}\n",
      "{'_id': '085', 'most_used_transportation_mode': 'walk'}\n",
      "{'_id': '086', 'most_used_transportation_mode': 'car'}\n",
      "{'_id': '087', 'most_used_transportation_mode': 'walk'}\n",
      "{'_id': '089', 'most_used_transportation_mode': 'car'}\n",
      "{'_id': '091', 'most_used_transportation_mode': 'bus'}\n",
      "{'_id': '092', 'most_used_transportation_mode': 'walk'}\n",
      "{'_id': '097', 'most_used_transportation_mode': 'bike'}\n",
      "{'_id': '098', 'most_used_transportation_mode': 'taxi'}\n",
      "{'_id': '101', 'most_used_transportation_mode': 'car'}\n",
      "{'_id': '102', 'most_used_transportation_mode': 'bike'}\n",
      "{'_id': '107', 'most_used_transportation_mode': 'walk'}\n",
      "{'_id': '108', 'most_used_transportation_mode': 'walk'}\n",
      "{'_id': '111', 'most_used_transportation_mode': 'taxi'}\n",
      "{'_id': '112', 'most_used_transportation_mode': 'walk'}\n",
      "{'_id': '115', 'most_used_transportation_mode': 'car'}\n",
      "{'_id': '117', 'most_used_transportation_mode': 'walk'}\n",
      "{'_id': '125', 'most_used_transportation_mode': 'bike'}\n",
      "{'_id': '126', 'most_used_transportation_mode': 'bike'}\n",
      "{'_id': '128', 'most_used_transportation_mode': 'car'}\n",
      "{'_id': '136', 'most_used_transportation_mode': 'walk'}\n",
      "{'_id': '138', 'most_used_transportation_mode': 'bike'}\n",
      "{'_id': '139', 'most_used_transportation_mode': 'bike'}\n",
      "{'_id': '144', 'most_used_transportation_mode': 'walk'}\n",
      "{'_id': '153', 'most_used_transportation_mode': 'walk'}\n",
      "{'_id': '161', 'most_used_transportation_mode': 'walk'}\n",
      "{'_id': '163', 'most_used_transportation_mode': 'bike'}\n",
      "{'_id': '167', 'most_used_transportation_mode': 'bike'}\n",
      "{'_id': '175', 'most_used_transportation_mode': 'bus'}\n"
     ]
    }
   ],
   "source": [
    "collection = connector.db[\"Activity\"]\n",
    "\n",
    "rows = collection.aggregate(\n",
    "    [\n",
    "        {\"$match\": {\"transportation_mode\": {\"$ne\": None}}},\n",
    "        {\n",
    "            \"$group\": {\n",
    "                \"_id\": {\n",
    "                    \"user_id\": \"$user_id\",\n",
    "                    \"transportation_mode\": \"$transportation_mode\",\n",
    "                },\n",
    "                \"count\": {\"$sum\": 1},\n",
    "            }\n",
    "        },\n",
    "        {\n",
    "            \"$lookup\": {\n",
    "                \"from\": \"User\",\n",
    "                \"let\": {\n",
    "                    \"a_id\": \"$_id\",\n",
    "                    \"a_has_labels\": \"$has_labels\",\n",
    "                },\n",
    "                \"pipeline\": [{\"$match\": {\"$expr\": {\"$eq\": [\"$$a_id\", \"$user_id\"]}}}],\n",
    "                \"as\": \"saves_transportation\",\n",
    "            }\n",
    "        },\n",
    "        {\"$match\": {\"saves_transportation\": {\"$ne\": {\"$a_has_labels\": False}}}},\n",
    "        {\"$sort\": {\"_id.user_id\": 1, \"count\": -1}},\n",
    "        {\n",
    "            \"$group\": {\n",
    "                \"_id\": \"$_id.user_id\",\n",
    "                \"most_used_transportation_mode\": {\"$first\": \"$_id.transportation_mode\"},\n",
    "            }\n",
    "        },\n",
    "        {\"$sort\": {\"_id\": 1}},\n",
    "    ]\n",
    ")\n",
    "\n",
    "for row in rows:\n",
    "    pprint(row)"
   ]
  }
 ],
 "metadata": {
  "kernelspec": {
   "display_name": "venv",
   "language": "python",
   "name": "python3"
  },
  "language_info": {
   "codemirror_mode": {
    "name": "ipython",
    "version": 3
   },
   "file_extension": ".py",
   "mimetype": "text/x-python",
   "name": "python",
   "nbconvert_exporter": "python",
   "pygments_lexer": "ipython3",
   "version": "3.9.13"
  }
 },
 "nbformat": 4,
 "nbformat_minor": 2
}