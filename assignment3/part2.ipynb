{
 "cells": [
  {
   "cell_type": "code",
   "execution_count": 6,
   "metadata": {},
   "outputs": [
    {
     "name": "stdout",
     "output_type": "stream",
     "text": [
      "You are connected to the database: assignment3\n",
      "-----------------------------------------------\n",
      "\n"
     ]
    }
   ],
   "source": [
    "from DbConnector import DbConnector\n",
    "#from part2 import Database\n",
    "from tabulate import tabulate\n",
    "\n",
    "# Set up the program\n",
    "from dotenv import load_dotenv\n",
    "import os\n",
    "import numpy as np\n",
    "from datetime import datetime, timedelta\n",
    "from haversine import haversine, Unit\n",
    "from pprint import pprint\n",
    "\n",
    "load_dotenv()\n",
    "\n",
    "connector = DbConnector()"
   ]
  },
  {
   "cell_type": "markdown",
   "metadata": {},
   "source": [
    "### Task 1"
   ]
  },
  {
   "cell_type": "markdown",
   "metadata": {},
   "source": [
    "How many users, activities and trackpoints are there in the dataset (after it is inserted into the database)"
   ]
  },
  {
   "cell_type": "code",
   "execution_count": 7,
   "metadata": {},
   "outputs": [
    {
     "name": "stdout",
     "output_type": "stream",
     "text": [
      "Number of Users, Activities and TrackPoints after the dataset has been inserted into the database\n",
      "  Users    Activities    TrackPoints\n",
      "-------  ------------  -------------\n",
      "    182          7877        5355109\n"
     ]
    }
   ],
   "source": [
    "user_collection = connector.db['User']\n",
    "user_count = user_collection.count_documents({})\n",
    "\n",
    "activities_collection = connector.db['Activity']\n",
    "activities_count = activities_collection.count_documents({})\n",
    "\n",
    "trackpoints_collection = connector.db['TrackPoint']\n",
    "trackpoints_count = trackpoints_collection.count_documents({})\n",
    "\n",
    "result = [user_count, activities_count, trackpoints_count]\n",
    "\n",
    "print(\"Number of Users, Activities and TrackPoints after the dataset has been inserted into the database\")\n",
    "print(tabulate([[\"Users\", \"Activities\", \"TrackPoints\"], result], headers=\"firstrow\"))"
   ]
  },
  {
   "cell_type": "markdown",
   "metadata": {},
   "source": [
    "### Task 2\n",
    "Find the average number of activities per user."
   ]
  },
  {
   "cell_type": "code",
   "execution_count": null,
   "metadata": {},
   "outputs": [],
   "source": []
  },
  {
   "cell_type": "markdown",
   "metadata": {},
   "source": [
    "### Task 3\n",
    "\n",
    "Find the top 20 users with the highest number of activities."
   ]
  },
  {
   "cell_type": "code",
   "execution_count": 12,
   "metadata": {},
   "outputs": [
    {
     "name": "stdout",
     "output_type": "stream",
     "text": [
      "{'_id': '025', 'count': 715, 'Top': 1}\n",
      "{'_id': '128', 'count': 519, 'Top': 2}\n",
      "{'_id': '062', 'count': 406, 'Top': 3}\n",
      "{'_id': '041', 'count': 399, 'Top': 4}\n",
      "{'_id': '004', 'count': 346, 'Top': 5}\n",
      "{'_id': '140', 'count': 345, 'Top': 6}\n",
      "{'_id': '017', 'count': 265, 'Top': 7}\n",
      "{'_id': '003', 'count': 261, 'Top': 8}\n",
      "{'_id': '014', 'count': 236, 'Top': 9}\n",
      "{'_id': '030', 'count': 210, 'Top': 10}\n",
      "{'_id': '011', 'count': 201, 'Top': 11}\n",
      "{'_id': '039', 'count': 198, 'Top': 12}\n",
      "{'_id': '034', 'count': 180, 'Top': 13}\n",
      "{'_id': '000', 'count': 155, 'Top': 14}\n",
      "{'_id': '002', 'count': 146, 'Top': 15}\n",
      "{'_id': '142', 'count': 138, 'Top': 16}\n",
      "{'_id': '037', 'count': 129, 'Top': 17}\n",
      "{'_id': '013', 'count': 119, 'Top': 18}\n",
      "{'_id': '042', 'count': 110, 'Top': 19}\n",
      "{'_id': '020', 'count': 94, 'Top': 20}\n",
      "\n"
     ]
    }
   ],
   "source": [
    "collection = connector.db[\"Activity\"]\n",
    "\n",
    "rows = collection.aggregate(\n",
    "    [\n",
    "        {\"$group\": {\"_id\":  \"$user_id\", \"count\": {\"$sum\": 1}}},\n",
    "        {\"$sort\": {\"count\": -1}},\n",
    "        {\n",
    "            \"$setWindowFields\": {\n",
    "                \"sortBy\": {\"count\": -1},\n",
    "                \"output\": {\"Top\": {\"$rank\": {}}},\n",
    "            }\n",
    "        },\n",
    "        {\"$limit\": 20},\n",
    "    ]\n",
    ")\n",
    "\n",
    "print(tabulate(rows, headers=\"keys\"))"
   ]
  },
  {
   "cell_type": "markdown",
   "metadata": {},
   "source": [
    "### Task 4\n",
    "Find all users who have taken a taxi. "
   ]
  },
  {
   "cell_type": "code",
   "execution_count": null,
   "metadata": {},
   "outputs": [],
   "source": []
  },
  {
   "cell_type": "markdown",
   "metadata": {},
   "source": [
    "### Task 5\n",
    "Find all types of transportation modes and count how many activities that are tagged with these transportation mode labels. Do not count the rows where the mode is null."
   ]
  },
  {
   "cell_type": "code",
   "execution_count": 11,
   "metadata": {},
   "outputs": [
    {
     "name": "stdout",
     "output_type": "stream",
     "text": [
      "_id         count\n",
      "--------  -------\n",
      "train           2\n",
      "airplane        3\n",
      "bike          263\n",
      "taxi           37\n",
      "car           419\n",
      "bus           199\n",
      "subway        133\n",
      "boat            1\n",
      "run             1\n",
      "walk          480\n"
     ]
    }
   ],
   "source": [
    "collection = connector.db[\"Activity\"]\n",
    "\n",
    "rows = collection.aggregate(\n",
    "    [\n",
    "        { \"$match\": { \"transportation_mode\": { \"$ne\": None} } },\n",
    "        { \"$group\": { \"_id\": \"$transportation_mode\", \"count\": { \"$sum\": 1 } } },\n",
    "    ]\n",
    ")\n",
    "\n",
    "print(tabulate(rows, headers=\"keys\"))"
   ]
  },
  {
   "cell_type": "markdown",
   "metadata": {},
   "source": [
    "### Task 6\n",
    "a) Find the year with the most activities."
   ]
  },
  {
   "cell_type": "markdown",
   "metadata": {},
   "source": [
    "We assume that an activity belongs to a year based on the start date time such that even though the end date time ends in another year, it still belongs to the previous year."
   ]
  },
  {
   "cell_type": "code",
   "execution_count": 12,
   "metadata": {},
   "outputs": [
    {
     "name": "stdout",
     "output_type": "stream",
     "text": [
      "  _id    count\n",
      "-----  -------\n",
      " 2009     3975\n"
     ]
    }
   ],
   "source": [
    "collection = connector.db[\"Activity\"]\n",
    "\n",
    "rows = collection.aggregate([\n",
    "    { \"$match\": { \"start_date_time\": { \"$ne\": None} } },\n",
    "    { \"$project\": { \"year\": { \"$year\": \"$start_date_time\" } } },\n",
    "    { \"$group\": { \"_id\": \"$year\", \"count\": { \"$sum\": 1 } } },\n",
    "    { \"$sort\": { \"count\": -1 } },\n",
    "    { \"$limit\": 1 }]\n",
    ")\n",
    "\n",
    "print(tabulate(rows, headers=\"keys\"))"
   ]
  },
  {
   "cell_type": "markdown",
   "metadata": {},
   "source": [
    "b) Is this also the year with most recorded hours?"
   ]
  },
  {
   "cell_type": "code",
   "execution_count": 13,
   "metadata": {},
   "outputs": [
    {
     "name": "stdout",
     "output_type": "stream",
     "text": [
      "_id               total_duration\n",
      "--------------  ----------------\n",
      "{'year': 2009}           8918.61\n"
     ]
    }
   ],
   "source": [
    "collection = connector.db[\"Activity\"]\n",
    "\n",
    "rows = collection.aggregate([\n",
    "    { \"$match\": { \"start_date_time\": { \"$ne\": None} } },\n",
    "    { \"$match\": { \"end_date_time\": { \"$ne\": None} } },\n",
    "    { \"$addFields\": {\n",
    "        \"duration_hours\": {\n",
    "            \"$divide\": [\n",
    "                { \"$subtract\": [ \"$end_date_time\", \"$start_date_time\" ] },\n",
    "                1000 * 60 * 60 \n",
    "            ]\n",
    "        },\n",
    "        \"year\": { \"$year\": \"$start_date_time\" }\n",
    "    }},\n",
    "    { \"$group\": {\n",
    "        \"_id\": { \"year\": \"$year\", },\n",
    "        \"total_duration\": { \"$sum\": \"$duration_hours\" }\n",
    "    },\n",
    "    },\n",
    "    { \"$sort\": { \"total_duration\": -1 } },\n",
    "    { \"$limit\": 1 }]\n",
    ")\n",
    "\n",
    "print(tabulate(rows, headers=\"keys\"))"
   ]
  },
  {
   "cell_type": "markdown",
   "metadata": {},
   "source": [
    "### Task 7\n",
    "Find the total distance (in km) walked in 2008, by user with id=112."
   ]
  },
  {
   "cell_type": "code",
   "execution_count": 14,
   "metadata": {},
   "outputs": [],
   "source": [
    "collection = connector.db[\"TrackPoint\"]\n",
    "\n",
    "rows = collection.aggregate([\n",
    "    { \"$match\": { \"date_time\": { \"$gte\": datetime(2008, 1, 1), \"$lt\": datetime(2009, 1, 1) } } },\n",
    "    { \"$lookup\": {\n",
    "        \"from\": \"Activity\", \n",
    "        \"let\": { \"activity_id\": \"$activity_id\" },\n",
    "        \"pipeline\": [\n",
    "            { \"$match\":\n",
    "                { \"$expr\":\n",
    "                    { \"$eq\": [ \"$_id\",  \"$$activity_id\" ] }\n",
    "                }\n",
    "            },\n",
    "            { \"$project\": { \"_id\": 1, \"user_id\": 1, \"transportation_mode\": 1 } }\n",
    "        ],\n",
    "        \"as\": \"activity\"\n",
    "    } },\n",
    "    { \"$unwind\": \"$activity\" },\n",
    "    { \"$match\": { \"activity.user_id\": \"112\" } },\n",
    "    { \"$match\": { \"activity.transportation_mode\": \"walk\" } },\n",
    "    { \"$project\": { \n",
    "        \"lat\": 1,\n",
    "        \"lon\": 1,\n",
    "        \"activity_id\": 1,\n",
    "    } },\n",
    "])\n",
    "\n",
    "documents = list(rows)\n"
   ]
  },
  {
   "cell_type": "markdown",
   "metadata": {},
   "source": [
    "Becaue MongoDB do not have the best geospatial support, We could have used the some [geospatial-queries](https://www.mongodb.com/docs/manual/geospatial-queries/). However, it is not optimal for this use case (because we have to calculate the distance and not just check if a point is inside a polygon), and solving it in python may be faster."
   ]
  },
  {
   "cell_type": "code",
   "execution_count": null,
   "metadata": {},
   "outputs": [],
   "source": [
    "activities = {}\n",
    "\n",
    "\"\"\"\n",
    "activities: dict = {\n",
    "    activity_id: dict = {\n",
    "        distance: float,\n",
    "        lat: float,\n",
    "        lon: float,\n",
    "    }\n",
    "}\n",
    "\"\"\"\n",
    "\n",
    "for doc in documents:\n",
    "    activity_id = doc[\"activity_id\"]\n",
    "    lat = float(doc[\"lat\"])\n",
    "    lon = float(doc[\"lon\"])\n",
    "    if activity_id not in activities:\n",
    "        activities[activity_id] = {\n",
    "            \"distance\": 0,\n",
    "            \"lat\": lat,\n",
    "            \"lon\": lon, \n",
    "        }\n",
    "    else:\n",
    "        activities[activity_id][\"distance\"] += haversine(\n",
    "            (activities[activity_id][\"lat\"], activities[activity_id][\"lon\"]),\n",
    "            (lat, lon),\n",
    "            unit=Unit.KILOMETERS\n",
    "        )\n",
    "        activities[activity_id][\"lat\"] = lat\n",
    "        activities[activity_id][\"lon\"] = lon\n",
    "\n",
    "total_distance = 0\n",
    "\n",
    "for activity_id in activities:\n",
    "    total_distance += activities[activity_id][\"distance\"]\n",
    "\n",
    "print(tabulate([[\"Total distance walked in 2008\", total_distance]], headers=\"firstrow\"))"
   ]
  },
  {
   "cell_type": "markdown",
   "metadata": {},
   "source": [
    "### Task 8"
   ]
  },
  {
   "cell_type": "markdown",
   "metadata": {},
   "source": [
    " Find the top 20 users who have gained the most altitude meters"
   ]
  },
  {
   "cell_type": "code",
   "execution_count": 8,
   "metadata": {},
   "outputs": [
    {
     "name": "stdout",
     "output_type": "stream",
     "text": [
      "{'_id': 1, 'activity_id': 1, 'alt': '492'}\n",
      "{'_id': 2, 'activity_id': 1, 'alt': '492'}\n",
      "{'_id': 3, 'activity_id': 1, 'alt': '492'}\n",
      "{'_id': 4, 'activity_id': 1, 'alt': '492'}\n",
      "{'_id': 5, 'activity_id': 1, 'alt': '492'}\n",
      "{'_id': 6, 'activity_id': 1, 'alt': '493'}\n",
      "{'_id': 7, 'activity_id': 1, 'alt': '493'}\n",
      "{'_id': 8, 'activity_id': 1, 'alt': '496'}\n",
      "{'_id': 9, 'activity_id': 1, 'alt': '500'}\n",
      "{'_id': 10, 'activity_id': 1, 'alt': '505'}\n",
      "{'_id': 11, 'activity_id': 1, 'alt': '510'}\n",
      "{'_id': 12, 'activity_id': 1, 'alt': '515'}\n",
      "{'_id': 13, 'activity_id': 1, 'alt': '520'}\n",
      "{'_id': 14, 'activity_id': 1, 'alt': '525'}\n",
      "{'_id': 15, 'activity_id': 1, 'alt': '531'}\n",
      "{'_id': 16, 'activity_id': 1, 'alt': '536'}\n",
      "{'_id': 17, 'activity_id': 1, 'alt': '541'}\n",
      "{'_id': 18, 'activity_id': 1, 'alt': '546'}\n",
      "{'_id': 19, 'activity_id': 1, 'alt': '551'}\n",
      "{'_id': 20, 'activity_id': 1, 'alt': '556'}\n"
     ]
    }
   ],
   "source": [
    "collection = connector.db[\"TrackPoint\"]\n",
    "\n",
    "rows = collection.aggregate(\n",
    "    [\n",
    "        {\"$match\": {\"altitude\": {\"$ne\": -777}}},\n",
    "        {\n",
    "            \"$setWindowFields\": {\n",
    "                \"partitionBy\": \"$activity_id\",\n",
    "                \"sortBy\": {\"date_time\": 1},\n",
    "                \"output\": {\n",
    "                    \"previous_altitude\": {\"$shift\": {\"output\": \"$altitude\", \"by\": -1}}\n",
    "                },\n",
    "            }\n",
    "        },\n",
    "        {\n",
    "            \"$project\": {\n",
    "                \"activity_id\": \"$activity_id\",\n",
    "                \"difference\": {\"$subtract\": [\"$altitude\", \"$previous_altitude\"]},\n",
    "            }\n",
    "        },\n",
    "        {\"$match\": {\"difference\": {\"$gt\": 0}}},\n",
    "        {\n",
    "            \"$lookup\": {\n",
    "                \"from\": \"Activity\",\n",
    "                \"localField\": \"activity_id\",\n",
    "                \"foreignField\": \"_id\",\n",
    "                \"as\": \"activity\",\n",
    "            }\n",
    "        },\n",
    "        {\n",
    "            \"$group\": {\n",
    "                \"_id\": {\n",
    "                    \"user_id\": \"$activity.user_id\",\n",
    "                },\n",
    "                \"sum\": {\"$sum\": \"$difference\"},\n",
    "            }\n",
    "        },\n",
    "        {\n",
    "            \"$project\": {\n",
    "                \"altitude_in_meters\": {\"$multiply\": [\"$sum\", 0.304]},\n",
    "            }\n",
    "        },\n",
    "        {\"$sort\": {\"altitude_in_meters\": -1}},\n",
    "        {\n",
    "            \"$setWindowFields\": {\n",
    "                \"sortBy\": {\"altitude_in_meters\": -1},\n",
    "                \"output\": {\"Top\": {\"$rank\": {}}},\n",
    "            }\n",
    "        },\n",
    "        {\"$limit\": 20},\n",
    "    ]\n",
    ")\n",
    "\n",
    "print(tabulate(rows, headers=\"keys\"))"
   ]
  },
  {
   "cell_type": "markdown",
   "metadata": {},
   "source": [
    "### Task 9\n",
    "Find all users who have invalid activities, and the number of invalid activities per user"
   ]
  },
  {
   "cell_type": "code",
   "execution_count": null,
   "metadata": {},
   "outputs": [],
   "source": []
  },
  {
   "cell_type": "markdown",
   "metadata": {},
   "source": [
    "### Task 10\n",
    "Find the users who have tracked an activity in the Forbidden City of Beijing."
   ]
  },
  {
   "cell_type": "code",
   "execution_count": null,
   "metadata": {},
   "outputs": [],
   "source": []
  },
  {
   "cell_type": "markdown",
   "metadata": {},
   "source": [
    "### Task 11\n",
    "Find all users who have registered transportation_mode and their most used transportation_mode. "
   ]
  },
  {
   "cell_type": "code",
   "execution_count": null,
   "metadata": {},
   "outputs": [],
   "source": [
    "collection = connector.db[\"Activity\"]\n",
    "\n",
    "rows = collection.aggregate(\n",
    "    [\n",
    "        {\"$match\": {\"transportation_mode\": {\"$ne\": None}}},\n",
    "        {\n",
    "            \"$group\": {\n",
    "                \"_id\": {\n",
    "                    \"user_id\": \"$user_id\",\n",
    "                    \"transportation_mode\": \"$transportation_mode\",\n",
    "                },\n",
    "                \"count\": {\"$sum\": 1},\n",
    "            }\n",
    "        },\n",
    "        {\n",
    "            \"$lookup\": {\n",
    "                \"from\": \"User\",\n",
    "                \"let\": {\n",
    "                    \"a_id\": \"$_id\",\n",
    "                    \"a_has_labels\": \"$has_labels\",\n",
    "                },\n",
    "                \"pipeline\": [{\"$match\": {\"$expr\": {\"$eq\": [\"$$a_id\", \"$user_id\"]}}}],\n",
    "                \"as\": \"saves_transportation\",\n",
    "            }\n",
    "        },\n",
    "        {\"$match\": {\"saves_transportation\": {\"$ne\": {\"$a_has_labels\": False}}}},\n",
    "        {\"$sort\": {\"_id.user_id\": 1, \"count\": -1}},\n",
    "        {\n",
    "            \"$group\": {\n",
    "                \"_id\": \"$_id.user_id\",\n",
    "                \"most_used_transportation_mode\": {\"$first\": \"$_id.transportation_mode\"},\n",
    "            }\n",
    "        },\n",
    "        {\"$sort\": {\"_id\": 1}},\n",
    "    ]\n",
    ")\n",
    "\n",
    "print(tabulate(rows, headers=\"keys\"))"
   ]
  }
 ],
 "metadata": {
  "kernelspec": {
   "display_name": "venv",
   "language": "python",
   "name": "python3"
  },
  "language_info": {
   "codemirror_mode": {
    "name": "ipython",
    "version": 3
   },
   "file_extension": ".py",
   "mimetype": "text/x-python",
   "name": "python",
   "nbconvert_exporter": "python",
   "pygments_lexer": "ipython3",
   "version": "3.9.13"
  }
 },
 "nbformat": 4,
 "nbformat_minor": 2
}
