{
 "cells": [
  {
   "cell_type": "code",
   "execution_count": 1,
   "metadata": {},
   "outputs": [
    {
     "name": "stdout",
     "output_type": "stream",
     "text": [
      "You are connected to the database: assignment3\n",
      "-----------------------------------------------\n",
      "\n"
     ]
    }
   ],
   "source": [
    "from DbConnector import DbConnector\n",
    "#from part2 import Database\n",
    "from tabulate import tabulate\n",
    "\n",
    "# Set up the program\n",
    "from dotenv import load_dotenv\n",
    "import os\n",
    "import numpy as np\n",
    "from datetime import datetime, timedelta\n",
    "from haversine import haversine, Unit\n",
    "from pprint import pprint\n",
    "\n",
    "load_dotenv()\n",
    "\n",
    "connector = DbConnector()"
   ]
  },
  {
   "cell_type": "markdown",
   "metadata": {},
   "source": [
    "### Task 1"
   ]
  },
  {
   "cell_type": "markdown",
   "metadata": {},
   "source": [
    "How many users, activities and trackpoints are there in the dataset (after it is inserted into the database)"
   ]
  },
  {
   "cell_type": "code",
   "execution_count": 64,
   "metadata": {},
   "outputs": [],
   "source": []
  },
  {
   "cell_type": "markdown",
   "metadata": {},
   "source": [
    "### Task 2\n",
    "Find the average number of activities per user."
   ]
  },
  {
   "cell_type": "code",
   "execution_count": 65,
   "metadata": {},
   "outputs": [
    {
     "name": "stdout",
     "output_type": "stream",
     "text": [
      "{'average avtivites': 51.82236842105263}\n"
     ]
    }
   ],
   "source": [
    "collection = connector.db[\"Activity\"]\n",
    "\n",
    "rows = collection.aggregate(\n",
    "    [\n",
    "\n",
    "        {\"$group\": {\"_id\":  \"$user_id\", \"count\": {\"$sum\": 1}}},\n",
    "        {\n",
    "        \"$group\": {\n",
    "            \"_id\": None,\n",
    "            \"average avtivites\": {\"$avg\": \"$count\"}\n",
    "            }\n",
    "        },\n",
    "        {\n",
    "            \"$project\": {\n",
    "                \"_id\": 0,\n",
    "                \"average_activities\": 0\n",
    "            }\n",
    "        }\n",
    "\n",
    "    ]\n",
    ")\n",
    "\n",
    "for row in rows:\n",
    "    print(row)\n",
    "\n",
    "\n",
    "\n",
    "\n"
   ]
  },
  {
   "cell_type": "markdown",
   "metadata": {},
   "source": [
    "### Task 3\n",
    "\n",
    "Find the top 20 users with the highest number of activities."
   ]
  },
  {
   "cell_type": "code",
   "execution_count": 66,
   "metadata": {},
   "outputs": [
    {
     "name": "stdout",
     "output_type": "stream",
     "text": [
      "{'Top': 1, '_id': '025', 'count': 715}\n",
      "{'Top': 2, '_id': '128', 'count': 519}\n",
      "{'Top': 3, '_id': '062', 'count': 406}\n",
      "{'Top': 4, '_id': '041', 'count': 399}\n",
      "{'Top': 5, '_id': '004', 'count': 346}\n",
      "{'Top': 6, '_id': '140', 'count': 345}\n",
      "{'Top': 7, '_id': '017', 'count': 265}\n",
      "{'Top': 8, '_id': '003', 'count': 261}\n",
      "{'Top': 9, '_id': '014', 'count': 236}\n",
      "{'Top': 10, '_id': '030', 'count': 210}\n",
      "{'Top': 11, '_id': '011', 'count': 201}\n",
      "{'Top': 12, '_id': '039', 'count': 198}\n",
      "{'Top': 13, '_id': '034', 'count': 180}\n",
      "{'Top': 14, '_id': '000', 'count': 155}\n",
      "{'Top': 15, '_id': '002', 'count': 146}\n",
      "{'Top': 16, '_id': '142', 'count': 138}\n",
      "{'Top': 17, '_id': '037', 'count': 129}\n",
      "{'Top': 18, '_id': '013', 'count': 119}\n",
      "{'Top': 19, '_id': '042', 'count': 110}\n",
      "{'Top': 20, '_id': '020', 'count': 94}\n"
     ]
    }
   ],
   "source": [
    "collection = connector.db[\"Activity\"]\n",
    "\n",
    "rows = collection.aggregate(\n",
    "    [\n",
    "        {\"$group\": {\"_id\":  \"$user_id\", \"count\": {\"$sum\": 1}}},\n",
    "        {\"$sort\": {\"count\": -1}},\n",
    "        {\n",
    "            \"$setWindowFields\": {\n",
    "                \"sortBy\": {\"count\": -1},\n",
    "                \"output\": {\"Top\": {\"$rank\": {}}},\n",
    "            }\n",
    "        },\n",
    "        {\"$limit\": 20},\n",
    "    ]\n",
    ")\n",
    "\n",
    "for row in rows:\n",
    "    pprint(row)"
   ]
  },
  {
   "cell_type": "markdown",
   "metadata": {},
   "source": [
    "### Task 4\n",
    "Find all users who have taken a taxi. "
   ]
  },
  {
   "cell_type": "code",
   "execution_count": 67,
   "metadata": {},
   "outputs": [
    {
     "name": "stdout",
     "output_type": "stream",
     "text": [
      "{'_id': '010'}\n",
      "{'_id': '058'}\n",
      "{'_id': '062'}\n",
      "{'_id': '078'}\n",
      "{'_id': '080'}\n",
      "{'_id': '085'}\n",
      "{'_id': '098'}\n",
      "{'_id': '111'}\n",
      "{'_id': '128'}\n",
      "{'_id': '163'}\n"
     ]
    }
   ],
   "source": [
    "collection = connector.db[\"Activity\"]\n",
    "\n",
    "rows = collection.aggregate(\n",
    "    [\n",
    "        {\"$match\": {\"transportation_mode\" : \"taxi\"}},\n",
    "        {\"$group\": {\"_id\":  \"$user_id\"}},\n",
    "        {\"$sort\": {\"_id\": 1}},\n",
    "\n",
    "    ]\n",
    ")\n",
    "\n",
    "for row in rows:\n",
    "    print(row)"
   ]
  },
  {
   "cell_type": "markdown",
   "metadata": {},
   "source": [
    "### Task 5\n",
    "Find all types of transportation modes and count how many activities that are tagged with these transportation mode labels. Do not count the rows where the mode is null."
   ]
  },
  {
   "cell_type": "code",
   "execution_count": 67,
   "metadata": {},
   "outputs": [],
   "source": []
  },
  {
   "cell_type": "markdown",
   "metadata": {},
   "source": [
    "### Task 6\n",
    "a) Find the year with the most activities."
   ]
  },
  {
   "cell_type": "code",
   "execution_count": 67,
   "metadata": {},
   "outputs": [],
   "source": []
  },
  {
   "cell_type": "markdown",
   "metadata": {},
   "source": [
    "b) Is this also the year with most recorded hours?"
   ]
  },
  {
   "cell_type": "code",
   "execution_count": 67,
   "metadata": {},
   "outputs": [],
   "source": []
  },
  {
   "cell_type": "markdown",
   "metadata": {},
   "source": [
    "### Task 7\n",
    "Find the total distance (in km) walked in 2008, by user with id=112."
   ]
  },
  {
   "cell_type": "code",
   "execution_count": 67,
   "metadata": {},
   "outputs": [],
   "source": []
  },
  {
   "cell_type": "markdown",
   "metadata": {},
   "source": [
    "### Task 8"
   ]
  },
  {
   "cell_type": "markdown",
   "metadata": {},
   "source": [
    " Find the top 20 users who have gained the most altitude meters"
   ]
  },
  {
   "cell_type": "code",
   "execution_count": 72,
   "metadata": {},
   "outputs": [
    {
     "ename": "OperationFailure",
     "evalue": "PlanExecutor error during aggregation :: caused by :: can't $subtract string from string, full error: {'ok': 0.0, 'errmsg': \"PlanExecutor error during aggregation :: caused by :: can't $subtract string from string\", 'code': 14, 'codeName': 'TypeMismatch'}",
     "output_type": "error",
     "traceback": [
      "\u001B[1;31m---------------------------------------------------------------------------\u001B[0m",
      "\u001B[1;31mOperationFailure\u001B[0m                          Traceback (most recent call last)",
      "Cell \u001B[1;32mIn[72], line 3\u001B[0m\n\u001B[0;32m      1\u001B[0m collection \u001B[38;5;241m=\u001B[39m connector\u001B[38;5;241m.\u001B[39mdb[\u001B[38;5;124m\"\u001B[39m\u001B[38;5;124mTrackPoint\u001B[39m\u001B[38;5;124m\"\u001B[39m]\n\u001B[1;32m----> 3\u001B[0m rows \u001B[38;5;241m=\u001B[39m \u001B[43mcollection\u001B[49m\u001B[38;5;241;43m.\u001B[39;49m\u001B[43maggregate\u001B[49m\u001B[43m(\u001B[49m\n\u001B[0;32m      4\u001B[0m \u001B[43m    \u001B[49m\u001B[43m[\u001B[49m\n\u001B[0;32m      5\u001B[0m \u001B[43m        \u001B[49m\u001B[43m{\u001B[49m\u001B[38;5;124;43m\"\u001B[39;49m\u001B[38;5;124;43m$match\u001B[39;49m\u001B[38;5;124;43m\"\u001B[39;49m\u001B[43m:\u001B[49m\u001B[43m \u001B[49m\u001B[43m{\u001B[49m\u001B[38;5;124;43m\"\u001B[39;49m\u001B[38;5;124;43maltitude\u001B[39;49m\u001B[38;5;124;43m\"\u001B[39;49m\u001B[43m:\u001B[49m\u001B[43m \u001B[49m\u001B[43m{\u001B[49m\u001B[38;5;124;43m\"\u001B[39;49m\u001B[38;5;124;43m$ne\u001B[39;49m\u001B[38;5;124;43m\"\u001B[39;49m\u001B[43m:\u001B[49m\u001B[43m \u001B[49m\u001B[38;5;241;43m-\u001B[39;49m\u001B[38;5;241;43m777\u001B[39;49m\u001B[43m}\u001B[49m\u001B[43m}\u001B[49m\u001B[43m}\u001B[49m\u001B[43m,\u001B[49m\n\u001B[0;32m      6\u001B[0m \u001B[43m        \u001B[49m\u001B[43m{\u001B[49m\n\u001B[0;32m      7\u001B[0m \u001B[43m            \u001B[49m\u001B[38;5;124;43m\"\u001B[39;49m\u001B[38;5;124;43m$setWindowFields\u001B[39;49m\u001B[38;5;124;43m\"\u001B[39;49m\u001B[43m:\u001B[49m\u001B[43m \u001B[49m\u001B[43m{\u001B[49m\n\u001B[0;32m      8\u001B[0m \u001B[43m                \u001B[49m\u001B[38;5;124;43m\"\u001B[39;49m\u001B[38;5;124;43mpartitionBy\u001B[39;49m\u001B[38;5;124;43m\"\u001B[39;49m\u001B[43m:\u001B[49m\u001B[43m \u001B[49m\u001B[38;5;124;43m\"\u001B[39;49m\u001B[38;5;124;43m$activity_id\u001B[39;49m\u001B[38;5;124;43m\"\u001B[39;49m\u001B[43m,\u001B[49m\n\u001B[0;32m      9\u001B[0m \u001B[43m                \u001B[49m\u001B[38;5;124;43m\"\u001B[39;49m\u001B[38;5;124;43msortBy\u001B[39;49m\u001B[38;5;124;43m\"\u001B[39;49m\u001B[43m:\u001B[49m\u001B[43m \u001B[49m\u001B[43m{\u001B[49m\u001B[38;5;124;43m\"\u001B[39;49m\u001B[38;5;124;43mdate_time\u001B[39;49m\u001B[38;5;124;43m\"\u001B[39;49m\u001B[43m:\u001B[49m\u001B[43m \u001B[49m\u001B[38;5;241;43m1\u001B[39;49m\u001B[43m}\u001B[49m\u001B[43m,\u001B[49m\n\u001B[0;32m     10\u001B[0m \u001B[43m                \u001B[49m\u001B[38;5;124;43m\"\u001B[39;49m\u001B[38;5;124;43moutput\u001B[39;49m\u001B[38;5;124;43m\"\u001B[39;49m\u001B[43m:\u001B[49m\u001B[43m \u001B[49m\u001B[43m{\u001B[49m\n\u001B[0;32m     11\u001B[0m \u001B[43m                    \u001B[49m\u001B[38;5;124;43m\"\u001B[39;49m\u001B[38;5;124;43mprevious_altitude\u001B[39;49m\u001B[38;5;124;43m\"\u001B[39;49m\u001B[43m:\u001B[49m\u001B[43m \u001B[49m\u001B[43m{\u001B[49m\u001B[38;5;124;43m\"\u001B[39;49m\u001B[38;5;124;43m$shift\u001B[39;49m\u001B[38;5;124;43m\"\u001B[39;49m\u001B[43m:\u001B[49m\u001B[43m \u001B[49m\u001B[43m{\u001B[49m\u001B[38;5;124;43m\"\u001B[39;49m\u001B[38;5;124;43moutput\u001B[39;49m\u001B[38;5;124;43m\"\u001B[39;49m\u001B[43m:\u001B[49m\u001B[43m \u001B[49m\u001B[38;5;124;43m\"\u001B[39;49m\u001B[38;5;124;43m$altitude\u001B[39;49m\u001B[38;5;124;43m\"\u001B[39;49m\u001B[43m,\u001B[49m\u001B[43m \u001B[49m\u001B[38;5;124;43m\"\u001B[39;49m\u001B[38;5;124;43mby\u001B[39;49m\u001B[38;5;124;43m\"\u001B[39;49m\u001B[43m:\u001B[49m\u001B[43m \u001B[49m\u001B[38;5;241;43m-\u001B[39;49m\u001B[38;5;241;43m1\u001B[39;49m\u001B[43m}\u001B[49m\u001B[43m}\u001B[49m\n\u001B[0;32m     12\u001B[0m \u001B[43m                \u001B[49m\u001B[43m}\u001B[49m\u001B[43m,\u001B[49m\n\u001B[0;32m     13\u001B[0m \u001B[43m            \u001B[49m\u001B[43m}\u001B[49m\n\u001B[0;32m     14\u001B[0m \u001B[43m        \u001B[49m\u001B[43m}\u001B[49m\u001B[43m,\u001B[49m\n\u001B[0;32m     15\u001B[0m \u001B[43m        \u001B[49m\u001B[43m{\u001B[49m\n\u001B[0;32m     16\u001B[0m \u001B[43m            \u001B[49m\u001B[38;5;124;43m\"\u001B[39;49m\u001B[38;5;124;43m$project\u001B[39;49m\u001B[38;5;124;43m\"\u001B[39;49m\u001B[43m:\u001B[49m\u001B[43m \u001B[49m\u001B[43m{\u001B[49m\n\u001B[0;32m     17\u001B[0m \u001B[43m                \u001B[49m\u001B[38;5;124;43m\"\u001B[39;49m\u001B[38;5;124;43mactivity_id\u001B[39;49m\u001B[38;5;124;43m\"\u001B[39;49m\u001B[43m:\u001B[49m\u001B[43m \u001B[49m\u001B[38;5;124;43m\"\u001B[39;49m\u001B[38;5;124;43m$activity_id\u001B[39;49m\u001B[38;5;124;43m\"\u001B[39;49m\u001B[43m,\u001B[49m\n\u001B[0;32m     18\u001B[0m \u001B[43m                \u001B[49m\u001B[38;5;124;43m\"\u001B[39;49m\u001B[38;5;124;43mdifference\u001B[39;49m\u001B[38;5;124;43m\"\u001B[39;49m\u001B[43m:\u001B[49m\u001B[43m \u001B[49m\u001B[43m{\u001B[49m\u001B[38;5;124;43m\"\u001B[39;49m\u001B[38;5;124;43m$subtract\u001B[39;49m\u001B[38;5;124;43m\"\u001B[39;49m\u001B[43m:\u001B[49m\u001B[43m \u001B[49m\u001B[43m[\u001B[49m\u001B[38;5;124;43m\"\u001B[39;49m\u001B[38;5;124;43m$altitude\u001B[39;49m\u001B[38;5;124;43m\"\u001B[39;49m\u001B[43m,\u001B[49m\u001B[43m \u001B[49m\u001B[38;5;124;43m\"\u001B[39;49m\u001B[38;5;124;43m$previous_altitude\u001B[39;49m\u001B[38;5;124;43m\"\u001B[39;49m\u001B[43m]\u001B[49m\u001B[43m}\u001B[49m\u001B[43m,\u001B[49m\n\u001B[0;32m     19\u001B[0m \u001B[43m            \u001B[49m\u001B[43m}\u001B[49m\n\u001B[0;32m     20\u001B[0m \u001B[43m        \u001B[49m\u001B[43m}\u001B[49m\u001B[43m,\u001B[49m\n\u001B[0;32m     21\u001B[0m \u001B[43m        \u001B[49m\u001B[43m{\u001B[49m\u001B[38;5;124;43m\"\u001B[39;49m\u001B[38;5;124;43m$match\u001B[39;49m\u001B[38;5;124;43m\"\u001B[39;49m\u001B[43m:\u001B[49m\u001B[43m \u001B[49m\u001B[43m{\u001B[49m\u001B[38;5;124;43m\"\u001B[39;49m\u001B[38;5;124;43mdifference\u001B[39;49m\u001B[38;5;124;43m\"\u001B[39;49m\u001B[43m:\u001B[49m\u001B[43m \u001B[49m\u001B[43m{\u001B[49m\u001B[38;5;124;43m\"\u001B[39;49m\u001B[38;5;124;43m$gt\u001B[39;49m\u001B[38;5;124;43m\"\u001B[39;49m\u001B[43m:\u001B[49m\u001B[43m \u001B[49m\u001B[38;5;241;43m0\u001B[39;49m\u001B[43m}\u001B[49m\u001B[43m}\u001B[49m\u001B[43m}\u001B[49m\u001B[43m,\u001B[49m\n\u001B[0;32m     22\u001B[0m \u001B[43m        \u001B[49m\u001B[43m{\u001B[49m\n\u001B[0;32m     23\u001B[0m \u001B[43m            \u001B[49m\u001B[38;5;124;43m\"\u001B[39;49m\u001B[38;5;124;43m$lookup\u001B[39;49m\u001B[38;5;124;43m\"\u001B[39;49m\u001B[43m:\u001B[49m\u001B[43m \u001B[49m\u001B[43m{\u001B[49m\n\u001B[0;32m     24\u001B[0m \u001B[43m                \u001B[49m\u001B[38;5;124;43m\"\u001B[39;49m\u001B[38;5;124;43mfrom\u001B[39;49m\u001B[38;5;124;43m\"\u001B[39;49m\u001B[43m:\u001B[49m\u001B[43m \u001B[49m\u001B[38;5;124;43m\"\u001B[39;49m\u001B[38;5;124;43mActivity\u001B[39;49m\u001B[38;5;124;43m\"\u001B[39;49m\u001B[43m,\u001B[49m\n\u001B[0;32m     25\u001B[0m \u001B[43m                \u001B[49m\u001B[38;5;124;43m\"\u001B[39;49m\u001B[38;5;124;43mlocalField\u001B[39;49m\u001B[38;5;124;43m\"\u001B[39;49m\u001B[43m:\u001B[49m\u001B[43m \u001B[49m\u001B[38;5;124;43m\"\u001B[39;49m\u001B[38;5;124;43mactivity_id\u001B[39;49m\u001B[38;5;124;43m\"\u001B[39;49m\u001B[43m,\u001B[49m\n\u001B[0;32m     26\u001B[0m \u001B[43m                \u001B[49m\u001B[38;5;124;43m\"\u001B[39;49m\u001B[38;5;124;43mforeignField\u001B[39;49m\u001B[38;5;124;43m\"\u001B[39;49m\u001B[43m:\u001B[49m\u001B[43m \u001B[49m\u001B[38;5;124;43m\"\u001B[39;49m\u001B[38;5;124;43m_id\u001B[39;49m\u001B[38;5;124;43m\"\u001B[39;49m\u001B[43m,\u001B[49m\n\u001B[0;32m     27\u001B[0m \u001B[43m                \u001B[49m\u001B[38;5;124;43m\"\u001B[39;49m\u001B[38;5;124;43mas\u001B[39;49m\u001B[38;5;124;43m\"\u001B[39;49m\u001B[43m:\u001B[49m\u001B[43m \u001B[49m\u001B[38;5;124;43m\"\u001B[39;49m\u001B[38;5;124;43mactivity\u001B[39;49m\u001B[38;5;124;43m\"\u001B[39;49m\u001B[43m,\u001B[49m\n\u001B[0;32m     28\u001B[0m \u001B[43m            \u001B[49m\u001B[43m}\u001B[49m\n\u001B[0;32m     29\u001B[0m \u001B[43m        \u001B[49m\u001B[43m}\u001B[49m\u001B[43m,\u001B[49m\n\u001B[0;32m     30\u001B[0m \u001B[43m        \u001B[49m\u001B[43m{\u001B[49m\n\u001B[0;32m     31\u001B[0m \u001B[43m            \u001B[49m\u001B[38;5;124;43m\"\u001B[39;49m\u001B[38;5;124;43m$group\u001B[39;49m\u001B[38;5;124;43m\"\u001B[39;49m\u001B[43m:\u001B[49m\u001B[43m \u001B[49m\u001B[43m{\u001B[49m\n\u001B[0;32m     32\u001B[0m \u001B[43m                \u001B[49m\u001B[38;5;124;43m\"\u001B[39;49m\u001B[38;5;124;43m_id\u001B[39;49m\u001B[38;5;124;43m\"\u001B[39;49m\u001B[43m:\u001B[49m\u001B[43m \u001B[49m\u001B[43m{\u001B[49m\n\u001B[0;32m     33\u001B[0m \u001B[43m                    \u001B[49m\u001B[38;5;124;43m\"\u001B[39;49m\u001B[38;5;124;43muser_id\u001B[39;49m\u001B[38;5;124;43m\"\u001B[39;49m\u001B[43m:\u001B[49m\u001B[43m \u001B[49m\u001B[38;5;124;43m\"\u001B[39;49m\u001B[38;5;124;43m$activity.user_id\u001B[39;49m\u001B[38;5;124;43m\"\u001B[39;49m\u001B[43m,\u001B[49m\n\u001B[0;32m     34\u001B[0m \u001B[43m                \u001B[49m\u001B[43m}\u001B[49m\u001B[43m,\u001B[49m\n\u001B[0;32m     35\u001B[0m \u001B[43m                \u001B[49m\u001B[38;5;124;43m\"\u001B[39;49m\u001B[38;5;124;43msum\u001B[39;49m\u001B[38;5;124;43m\"\u001B[39;49m\u001B[43m:\u001B[49m\u001B[43m \u001B[49m\u001B[43m{\u001B[49m\u001B[38;5;124;43m\"\u001B[39;49m\u001B[38;5;124;43m$sum\u001B[39;49m\u001B[38;5;124;43m\"\u001B[39;49m\u001B[43m:\u001B[49m\u001B[43m \u001B[49m\u001B[38;5;124;43m\"\u001B[39;49m\u001B[38;5;124;43m$difference\u001B[39;49m\u001B[38;5;124;43m\"\u001B[39;49m\u001B[43m}\u001B[49m\u001B[43m,\u001B[49m\n\u001B[0;32m     36\u001B[0m \u001B[43m            \u001B[49m\u001B[43m}\u001B[49m\n\u001B[0;32m     37\u001B[0m \u001B[43m        \u001B[49m\u001B[43m}\u001B[49m\u001B[43m,\u001B[49m\n\u001B[0;32m     38\u001B[0m \u001B[43m        \u001B[49m\u001B[43m{\u001B[49m\n\u001B[0;32m     39\u001B[0m \u001B[43m            \u001B[49m\u001B[38;5;124;43m\"\u001B[39;49m\u001B[38;5;124;43m$project\u001B[39;49m\u001B[38;5;124;43m\"\u001B[39;49m\u001B[43m:\u001B[49m\u001B[43m \u001B[49m\u001B[43m{\u001B[49m\n\u001B[0;32m     40\u001B[0m \u001B[43m                \u001B[49m\u001B[38;5;124;43m\"\u001B[39;49m\u001B[38;5;124;43maltitude_in_meters\u001B[39;49m\u001B[38;5;124;43m\"\u001B[39;49m\u001B[43m:\u001B[49m\u001B[43m \u001B[49m\u001B[43m{\u001B[49m\u001B[38;5;124;43m\"\u001B[39;49m\u001B[38;5;124;43m$multiply\u001B[39;49m\u001B[38;5;124;43m\"\u001B[39;49m\u001B[43m:\u001B[49m\u001B[43m \u001B[49m\u001B[43m[\u001B[49m\u001B[38;5;124;43m\"\u001B[39;49m\u001B[38;5;124;43m$sum\u001B[39;49m\u001B[38;5;124;43m\"\u001B[39;49m\u001B[43m,\u001B[49m\u001B[43m \u001B[49m\u001B[38;5;241;43m0.304\u001B[39;49m\u001B[43m]\u001B[49m\u001B[43m}\u001B[49m\u001B[43m,\u001B[49m\n\u001B[0;32m     41\u001B[0m \u001B[43m            \u001B[49m\u001B[43m}\u001B[49m\n\u001B[0;32m     42\u001B[0m \u001B[43m        \u001B[49m\u001B[43m}\u001B[49m\u001B[43m,\u001B[49m\n\u001B[0;32m     43\u001B[0m \u001B[43m        \u001B[49m\u001B[43m{\u001B[49m\u001B[38;5;124;43m\"\u001B[39;49m\u001B[38;5;124;43m$sort\u001B[39;49m\u001B[38;5;124;43m\"\u001B[39;49m\u001B[43m:\u001B[49m\u001B[43m \u001B[49m\u001B[43m{\u001B[49m\u001B[38;5;124;43m\"\u001B[39;49m\u001B[38;5;124;43maltitude_in_meters\u001B[39;49m\u001B[38;5;124;43m\"\u001B[39;49m\u001B[43m:\u001B[49m\u001B[43m \u001B[49m\u001B[38;5;241;43m-\u001B[39;49m\u001B[38;5;241;43m1\u001B[39;49m\u001B[43m}\u001B[49m\u001B[43m}\u001B[49m\u001B[43m,\u001B[49m\n\u001B[0;32m     44\u001B[0m \u001B[43m        \u001B[49m\u001B[43m{\u001B[49m\n\u001B[0;32m     45\u001B[0m \u001B[43m            \u001B[49m\u001B[38;5;124;43m\"\u001B[39;49m\u001B[38;5;124;43m$setWindowFields\u001B[39;49m\u001B[38;5;124;43m\"\u001B[39;49m\u001B[43m:\u001B[49m\u001B[43m \u001B[49m\u001B[43m{\u001B[49m\n\u001B[0;32m     46\u001B[0m \u001B[43m                \u001B[49m\u001B[38;5;124;43m\"\u001B[39;49m\u001B[38;5;124;43msortBy\u001B[39;49m\u001B[38;5;124;43m\"\u001B[39;49m\u001B[43m:\u001B[49m\u001B[43m \u001B[49m\u001B[43m{\u001B[49m\u001B[38;5;124;43m\"\u001B[39;49m\u001B[38;5;124;43maltitude_in_meters\u001B[39;49m\u001B[38;5;124;43m\"\u001B[39;49m\u001B[43m:\u001B[49m\u001B[43m \u001B[49m\u001B[38;5;241;43m-\u001B[39;49m\u001B[38;5;241;43m1\u001B[39;49m\u001B[43m}\u001B[49m\u001B[43m,\u001B[49m\n\u001B[0;32m     47\u001B[0m \u001B[43m                \u001B[49m\u001B[38;5;124;43m\"\u001B[39;49m\u001B[38;5;124;43moutput\u001B[39;49m\u001B[38;5;124;43m\"\u001B[39;49m\u001B[43m:\u001B[49m\u001B[43m \u001B[49m\u001B[43m{\u001B[49m\u001B[38;5;124;43m\"\u001B[39;49m\u001B[38;5;124;43mTop\u001B[39;49m\u001B[38;5;124;43m\"\u001B[39;49m\u001B[43m:\u001B[49m\u001B[43m \u001B[49m\u001B[43m{\u001B[49m\u001B[38;5;124;43m\"\u001B[39;49m\u001B[38;5;124;43m$rank\u001B[39;49m\u001B[38;5;124;43m\"\u001B[39;49m\u001B[43m:\u001B[49m\u001B[43m \u001B[49m\u001B[43m{\u001B[49m\u001B[43m}\u001B[49m\u001B[43m}\u001B[49m\u001B[43m}\u001B[49m\u001B[43m,\u001B[49m\n\u001B[0;32m     48\u001B[0m \u001B[43m            \u001B[49m\u001B[43m}\u001B[49m\n\u001B[0;32m     49\u001B[0m \u001B[43m        \u001B[49m\u001B[43m}\u001B[49m\u001B[43m,\u001B[49m\n\u001B[0;32m     50\u001B[0m \u001B[43m        \u001B[49m\u001B[43m{\u001B[49m\u001B[38;5;124;43m\"\u001B[39;49m\u001B[38;5;124;43m$limit\u001B[39;49m\u001B[38;5;124;43m\"\u001B[39;49m\u001B[43m:\u001B[49m\u001B[43m \u001B[49m\u001B[38;5;241;43m20\u001B[39;49m\u001B[43m}\u001B[49m\u001B[43m,\u001B[49m\n\u001B[0;32m     51\u001B[0m \u001B[43m    \u001B[49m\u001B[43m]\u001B[49m\n\u001B[0;32m     52\u001B[0m \u001B[43m)\u001B[49m\n\u001B[0;32m     54\u001B[0m \u001B[38;5;28;01mfor\u001B[39;00m row \u001B[38;5;129;01min\u001B[39;00m rows:\n\u001B[0;32m     55\u001B[0m     \u001B[38;5;28mprint\u001B[39m(row)\n",
      "File \u001B[1;32m~\\anaconda3\\lib\\site-packages\\pymongo\\collection.py:2722\u001B[0m, in \u001B[0;36mCollection.aggregate\u001B[1;34m(self, pipeline, session, let, comment, **kwargs)\u001B[0m\n\u001B[0;32m   2644\u001B[0m \u001B[38;5;250m\u001B[39m\u001B[38;5;124;03m\"\"\"Perform an aggregation using the aggregation framework on this\u001B[39;00m\n\u001B[0;32m   2645\u001B[0m \u001B[38;5;124;03mcollection.\u001B[39;00m\n\u001B[0;32m   2646\u001B[0m \n\u001B[1;32m   (...)\u001B[0m\n\u001B[0;32m   2719\u001B[0m \u001B[38;5;124;03m    https://mongodb.com/docs/manual/reference/command/aggregate\u001B[39;00m\n\u001B[0;32m   2720\u001B[0m \u001B[38;5;124;03m\"\"\"\u001B[39;00m\n\u001B[0;32m   2721\u001B[0m \u001B[38;5;28;01mwith\u001B[39;00m \u001B[38;5;28mself\u001B[39m\u001B[38;5;241m.\u001B[39m__database\u001B[38;5;241m.\u001B[39mclient\u001B[38;5;241m.\u001B[39m_tmp_session(session, close\u001B[38;5;241m=\u001B[39m\u001B[38;5;28;01mFalse\u001B[39;00m) \u001B[38;5;28;01mas\u001B[39;00m s:\n\u001B[1;32m-> 2722\u001B[0m     \u001B[38;5;28;01mreturn\u001B[39;00m \u001B[38;5;28mself\u001B[39m\u001B[38;5;241m.\u001B[39m_aggregate(\n\u001B[0;32m   2723\u001B[0m         _CollectionAggregationCommand,\n\u001B[0;32m   2724\u001B[0m         pipeline,\n\u001B[0;32m   2725\u001B[0m         CommandCursor,\n\u001B[0;32m   2726\u001B[0m         session\u001B[38;5;241m=\u001B[39ms,\n\u001B[0;32m   2727\u001B[0m         explicit_session\u001B[38;5;241m=\u001B[39msession \u001B[38;5;129;01mis\u001B[39;00m \u001B[38;5;129;01mnot\u001B[39;00m \u001B[38;5;28;01mNone\u001B[39;00m,\n\u001B[0;32m   2728\u001B[0m         let\u001B[38;5;241m=\u001B[39mlet,\n\u001B[0;32m   2729\u001B[0m         comment\u001B[38;5;241m=\u001B[39mcomment,\n\u001B[0;32m   2730\u001B[0m         \u001B[38;5;241m*\u001B[39m\u001B[38;5;241m*\u001B[39mkwargs,\n\u001B[0;32m   2731\u001B[0m     )\n",
      "File \u001B[1;32m~\\anaconda3\\lib\\site-packages\\pymongo\\_csot.py:108\u001B[0m, in \u001B[0;36mapply.<locals>.csot_wrapper\u001B[1;34m(self, *args, **kwargs)\u001B[0m\n\u001B[0;32m    106\u001B[0m         \u001B[38;5;28;01mwith\u001B[39;00m _TimeoutContext(timeout):\n\u001B[0;32m    107\u001B[0m             \u001B[38;5;28;01mreturn\u001B[39;00m func(\u001B[38;5;28mself\u001B[39m, \u001B[38;5;241m*\u001B[39margs, \u001B[38;5;241m*\u001B[39m\u001B[38;5;241m*\u001B[39mkwargs)\n\u001B[1;32m--> 108\u001B[0m \u001B[38;5;28;01mreturn\u001B[39;00m func(\u001B[38;5;28mself\u001B[39m, \u001B[38;5;241m*\u001B[39margs, \u001B[38;5;241m*\u001B[39m\u001B[38;5;241m*\u001B[39mkwargs)\n",
      "File \u001B[1;32m~\\anaconda3\\lib\\site-packages\\pymongo\\collection.py:2629\u001B[0m, in \u001B[0;36mCollection._aggregate\u001B[1;34m(self, aggregation_command, pipeline, cursor_class, session, explicit_session, let, comment, **kwargs)\u001B[0m\n\u001B[0;32m   2618\u001B[0m     kwargs[\u001B[38;5;124m\"\u001B[39m\u001B[38;5;124mcomment\u001B[39m\u001B[38;5;124m\"\u001B[39m] \u001B[38;5;241m=\u001B[39m comment\n\u001B[0;32m   2619\u001B[0m cmd \u001B[38;5;241m=\u001B[39m aggregation_command(\n\u001B[0;32m   2620\u001B[0m     \u001B[38;5;28mself\u001B[39m,\n\u001B[0;32m   2621\u001B[0m     cursor_class,\n\u001B[1;32m   (...)\u001B[0m\n\u001B[0;32m   2626\u001B[0m     user_fields\u001B[38;5;241m=\u001B[39m{\u001B[38;5;124m\"\u001B[39m\u001B[38;5;124mcursor\u001B[39m\u001B[38;5;124m\"\u001B[39m: {\u001B[38;5;124m\"\u001B[39m\u001B[38;5;124mfirstBatch\u001B[39m\u001B[38;5;124m\"\u001B[39m: \u001B[38;5;241m1\u001B[39m}},\n\u001B[0;32m   2627\u001B[0m )\n\u001B[1;32m-> 2629\u001B[0m \u001B[38;5;28;01mreturn\u001B[39;00m \u001B[38;5;28;43mself\u001B[39;49m\u001B[38;5;241;43m.\u001B[39;49m\u001B[43m__database\u001B[49m\u001B[38;5;241;43m.\u001B[39;49m\u001B[43mclient\u001B[49m\u001B[38;5;241;43m.\u001B[39;49m\u001B[43m_retryable_read\u001B[49m\u001B[43m(\u001B[49m\n\u001B[0;32m   2630\u001B[0m \u001B[43m    \u001B[49m\u001B[43mcmd\u001B[49m\u001B[38;5;241;43m.\u001B[39;49m\u001B[43mget_cursor\u001B[49m\u001B[43m,\u001B[49m\n\u001B[0;32m   2631\u001B[0m \u001B[43m    \u001B[49m\u001B[43mcmd\u001B[49m\u001B[38;5;241;43m.\u001B[39;49m\u001B[43mget_read_preference\u001B[49m\u001B[43m(\u001B[49m\u001B[43msession\u001B[49m\u001B[43m)\u001B[49m\u001B[43m,\u001B[49m\u001B[43m  \u001B[49m\u001B[38;5;66;43;03m# type: ignore[arg-type]\u001B[39;49;00m\n\u001B[0;32m   2632\u001B[0m \u001B[43m    \u001B[49m\u001B[43msession\u001B[49m\u001B[43m,\u001B[49m\n\u001B[0;32m   2633\u001B[0m \u001B[43m    \u001B[49m\u001B[43mretryable\u001B[49m\u001B[38;5;241;43m=\u001B[39;49m\u001B[38;5;129;43;01mnot\u001B[39;49;00m\u001B[43m \u001B[49m\u001B[43mcmd\u001B[49m\u001B[38;5;241;43m.\u001B[39;49m\u001B[43m_performs_write\u001B[49m\u001B[43m,\u001B[49m\n\u001B[0;32m   2634\u001B[0m \u001B[43m\u001B[49m\u001B[43m)\u001B[49m\n",
      "File \u001B[1;32m~\\anaconda3\\lib\\site-packages\\pymongo\\_csot.py:108\u001B[0m, in \u001B[0;36mapply.<locals>.csot_wrapper\u001B[1;34m(self, *args, **kwargs)\u001B[0m\n\u001B[0;32m    106\u001B[0m         \u001B[38;5;28;01mwith\u001B[39;00m _TimeoutContext(timeout):\n\u001B[0;32m    107\u001B[0m             \u001B[38;5;28;01mreturn\u001B[39;00m func(\u001B[38;5;28mself\u001B[39m, \u001B[38;5;241m*\u001B[39margs, \u001B[38;5;241m*\u001B[39m\u001B[38;5;241m*\u001B[39mkwargs)\n\u001B[1;32m--> 108\u001B[0m \u001B[38;5;28;01mreturn\u001B[39;00m func(\u001B[38;5;28mself\u001B[39m, \u001B[38;5;241m*\u001B[39margs, \u001B[38;5;241m*\u001B[39m\u001B[38;5;241m*\u001B[39mkwargs)\n",
      "File \u001B[1;32m~\\anaconda3\\lib\\site-packages\\pymongo\\mongo_client.py:1535\u001B[0m, in \u001B[0;36mMongoClient._retryable_read\u001B[1;34m(self, func, read_pref, session, address, retryable)\u001B[0m\n\u001B[0;32m   1533\u001B[0m             \u001B[38;5;28;01massert\u001B[39;00m last_error \u001B[38;5;129;01mis\u001B[39;00m \u001B[38;5;129;01mnot\u001B[39;00m \u001B[38;5;28;01mNone\u001B[39;00m\n\u001B[0;32m   1534\u001B[0m             \u001B[38;5;28;01mraise\u001B[39;00m last_error\n\u001B[1;32m-> 1535\u001B[0m         \u001B[38;5;28;01mreturn\u001B[39;00m \u001B[43mfunc\u001B[49m\u001B[43m(\u001B[49m\u001B[43msession\u001B[49m\u001B[43m,\u001B[49m\u001B[43m \u001B[49m\u001B[43mserver\u001B[49m\u001B[43m,\u001B[49m\u001B[43m \u001B[49m\u001B[43mconn\u001B[49m\u001B[43m,\u001B[49m\u001B[43m \u001B[49m\u001B[43mread_pref\u001B[49m\u001B[43m)\u001B[49m\n\u001B[0;32m   1536\u001B[0m \u001B[38;5;28;01mexcept\u001B[39;00m ServerSelectionTimeoutError:\n\u001B[0;32m   1537\u001B[0m     \u001B[38;5;28;01mif\u001B[39;00m retrying:\n\u001B[0;32m   1538\u001B[0m         \u001B[38;5;66;03m# The application may think the write was never attempted\u001B[39;00m\n\u001B[0;32m   1539\u001B[0m         \u001B[38;5;66;03m# if we raise ServerSelectionTimeoutError on the retry\u001B[39;00m\n\u001B[0;32m   1540\u001B[0m         \u001B[38;5;66;03m# attempt. Raise the original exception instead.\u001B[39;00m\n",
      "File \u001B[1;32m~\\anaconda3\\lib\\site-packages\\pymongo\\aggregation.py:164\u001B[0m, in \u001B[0;36m_AggregationCommand.get_cursor\u001B[1;34m(self, session, server, conn, read_preference)\u001B[0m\n\u001B[0;32m    161\u001B[0m     write_concern \u001B[38;5;241m=\u001B[39m \u001B[38;5;28;01mNone\u001B[39;00m\n\u001B[0;32m    163\u001B[0m \u001B[38;5;66;03m# Run command.\u001B[39;00m\n\u001B[1;32m--> 164\u001B[0m result \u001B[38;5;241m=\u001B[39m \u001B[43mconn\u001B[49m\u001B[38;5;241;43m.\u001B[39;49m\u001B[43mcommand\u001B[49m\u001B[43m(\u001B[49m\n\u001B[0;32m    165\u001B[0m \u001B[43m    \u001B[49m\u001B[38;5;28;43mself\u001B[39;49m\u001B[38;5;241;43m.\u001B[39;49m\u001B[43m_database\u001B[49m\u001B[38;5;241;43m.\u001B[39;49m\u001B[43mname\u001B[49m\u001B[43m,\u001B[49m\n\u001B[0;32m    166\u001B[0m \u001B[43m    \u001B[49m\u001B[43mcmd\u001B[49m\u001B[43m,\u001B[49m\n\u001B[0;32m    167\u001B[0m \u001B[43m    \u001B[49m\u001B[43mread_preference\u001B[49m\u001B[43m,\u001B[49m\n\u001B[0;32m    168\u001B[0m \u001B[43m    \u001B[49m\u001B[38;5;28;43mself\u001B[39;49m\u001B[38;5;241;43m.\u001B[39;49m\u001B[43m_target\u001B[49m\u001B[38;5;241;43m.\u001B[39;49m\u001B[43mcodec_options\u001B[49m\u001B[43m,\u001B[49m\n\u001B[0;32m    169\u001B[0m \u001B[43m    \u001B[49m\u001B[43mparse_write_concern_error\u001B[49m\u001B[38;5;241;43m=\u001B[39;49m\u001B[38;5;28;43;01mTrue\u001B[39;49;00m\u001B[43m,\u001B[49m\n\u001B[0;32m    170\u001B[0m \u001B[43m    \u001B[49m\u001B[43mread_concern\u001B[49m\u001B[38;5;241;43m=\u001B[39;49m\u001B[43mread_concern\u001B[49m\u001B[43m,\u001B[49m\n\u001B[0;32m    171\u001B[0m \u001B[43m    \u001B[49m\u001B[43mwrite_concern\u001B[49m\u001B[38;5;241;43m=\u001B[39;49m\u001B[43mwrite_concern\u001B[49m\u001B[43m,\u001B[49m\n\u001B[0;32m    172\u001B[0m \u001B[43m    \u001B[49m\u001B[43mcollation\u001B[49m\u001B[38;5;241;43m=\u001B[39;49m\u001B[38;5;28;43mself\u001B[39;49m\u001B[38;5;241;43m.\u001B[39;49m\u001B[43m_collation\u001B[49m\u001B[43m,\u001B[49m\n\u001B[0;32m    173\u001B[0m \u001B[43m    \u001B[49m\u001B[43msession\u001B[49m\u001B[38;5;241;43m=\u001B[39;49m\u001B[43msession\u001B[49m\u001B[43m,\u001B[49m\n\u001B[0;32m    174\u001B[0m \u001B[43m    \u001B[49m\u001B[43mclient\u001B[49m\u001B[38;5;241;43m=\u001B[39;49m\u001B[38;5;28;43mself\u001B[39;49m\u001B[38;5;241;43m.\u001B[39;49m\u001B[43m_database\u001B[49m\u001B[38;5;241;43m.\u001B[39;49m\u001B[43mclient\u001B[49m\u001B[43m,\u001B[49m\n\u001B[0;32m    175\u001B[0m \u001B[43m    \u001B[49m\u001B[43muser_fields\u001B[49m\u001B[38;5;241;43m=\u001B[39;49m\u001B[38;5;28;43mself\u001B[39;49m\u001B[38;5;241;43m.\u001B[39;49m\u001B[43m_user_fields\u001B[49m\u001B[43m,\u001B[49m\n\u001B[0;32m    176\u001B[0m \u001B[43m\u001B[49m\u001B[43m)\u001B[49m\n\u001B[0;32m    178\u001B[0m \u001B[38;5;28;01mif\u001B[39;00m \u001B[38;5;28mself\u001B[39m\u001B[38;5;241m.\u001B[39m_result_processor:\n\u001B[0;32m    179\u001B[0m     \u001B[38;5;28mself\u001B[39m\u001B[38;5;241m.\u001B[39m_result_processor(result, conn)\n",
      "File \u001B[1;32m~\\anaconda3\\lib\\site-packages\\pymongo\\helpers.py:315\u001B[0m, in \u001B[0;36m_handle_reauth.<locals>.inner\u001B[1;34m(*args, **kwargs)\u001B[0m\n\u001B[0;32m    312\u001B[0m \u001B[38;5;28;01mfrom\u001B[39;00m \u001B[38;5;21;01mpymongo\u001B[39;00m\u001B[38;5;21;01m.\u001B[39;00m\u001B[38;5;21;01mpool\u001B[39;00m \u001B[38;5;28;01mimport\u001B[39;00m Connection\n\u001B[0;32m    314\u001B[0m \u001B[38;5;28;01mtry\u001B[39;00m:\n\u001B[1;32m--> 315\u001B[0m     \u001B[38;5;28;01mreturn\u001B[39;00m func(\u001B[38;5;241m*\u001B[39margs, \u001B[38;5;241m*\u001B[39m\u001B[38;5;241m*\u001B[39mkwargs)\n\u001B[0;32m    316\u001B[0m \u001B[38;5;28;01mexcept\u001B[39;00m OperationFailure \u001B[38;5;28;01mas\u001B[39;00m exc:\n\u001B[0;32m    317\u001B[0m     \u001B[38;5;28;01mif\u001B[39;00m no_reauth:\n",
      "File \u001B[1;32m~\\anaconda3\\lib\\site-packages\\pymongo\\pool.py:932\u001B[0m, in \u001B[0;36mConnection.command\u001B[1;34m(self, dbname, spec, read_preference, codec_options, check, allowable_errors, read_concern, write_concern, parse_write_concern_error, collation, session, client, retryable_write, publish_events, user_fields, exhaust_allowed)\u001B[0m\n\u001B[0;32m    930\u001B[0m     \u001B[38;5;28mself\u001B[39m\u001B[38;5;241m.\u001B[39m_raise_if_not_writable(unacknowledged)\n\u001B[0;32m    931\u001B[0m \u001B[38;5;28;01mtry\u001B[39;00m:\n\u001B[1;32m--> 932\u001B[0m     \u001B[38;5;28;01mreturn\u001B[39;00m \u001B[43mcommand\u001B[49m\u001B[43m(\u001B[49m\n\u001B[0;32m    933\u001B[0m \u001B[43m        \u001B[49m\u001B[38;5;28;43mself\u001B[39;49m\u001B[43m,\u001B[49m\n\u001B[0;32m    934\u001B[0m \u001B[43m        \u001B[49m\u001B[43mdbname\u001B[49m\u001B[43m,\u001B[49m\n\u001B[0;32m    935\u001B[0m \u001B[43m        \u001B[49m\u001B[43mspec\u001B[49m\u001B[43m,\u001B[49m\n\u001B[0;32m    936\u001B[0m \u001B[43m        \u001B[49m\u001B[38;5;28;43mself\u001B[39;49m\u001B[38;5;241;43m.\u001B[39;49m\u001B[43mis_mongos\u001B[49m\u001B[43m,\u001B[49m\n\u001B[0;32m    937\u001B[0m \u001B[43m        \u001B[49m\u001B[43mread_preference\u001B[49m\u001B[43m,\u001B[49m\n\u001B[0;32m    938\u001B[0m \u001B[43m        \u001B[49m\u001B[43mcodec_options\u001B[49m\u001B[43m,\u001B[49m\n\u001B[0;32m    939\u001B[0m \u001B[43m        \u001B[49m\u001B[43msession\u001B[49m\u001B[43m,\u001B[49m\n\u001B[0;32m    940\u001B[0m \u001B[43m        \u001B[49m\u001B[43mclient\u001B[49m\u001B[43m,\u001B[49m\n\u001B[0;32m    941\u001B[0m \u001B[43m        \u001B[49m\u001B[43mcheck\u001B[49m\u001B[43m,\u001B[49m\n\u001B[0;32m    942\u001B[0m \u001B[43m        \u001B[49m\u001B[43mallowable_errors\u001B[49m\u001B[43m,\u001B[49m\n\u001B[0;32m    943\u001B[0m \u001B[43m        \u001B[49m\u001B[38;5;28;43mself\u001B[39;49m\u001B[38;5;241;43m.\u001B[39;49m\u001B[43maddress\u001B[49m\u001B[43m,\u001B[49m\n\u001B[0;32m    944\u001B[0m \u001B[43m        \u001B[49m\u001B[43mlisteners\u001B[49m\u001B[43m,\u001B[49m\n\u001B[0;32m    945\u001B[0m \u001B[43m        \u001B[49m\u001B[38;5;28;43mself\u001B[39;49m\u001B[38;5;241;43m.\u001B[39;49m\u001B[43mmax_bson_size\u001B[49m\u001B[43m,\u001B[49m\n\u001B[0;32m    946\u001B[0m \u001B[43m        \u001B[49m\u001B[43mread_concern\u001B[49m\u001B[43m,\u001B[49m\n\u001B[0;32m    947\u001B[0m \u001B[43m        \u001B[49m\u001B[43mparse_write_concern_error\u001B[49m\u001B[38;5;241;43m=\u001B[39;49m\u001B[43mparse_write_concern_error\u001B[49m\u001B[43m,\u001B[49m\n\u001B[0;32m    948\u001B[0m \u001B[43m        \u001B[49m\u001B[43mcollation\u001B[49m\u001B[38;5;241;43m=\u001B[39;49m\u001B[43mcollation\u001B[49m\u001B[43m,\u001B[49m\n\u001B[0;32m    949\u001B[0m \u001B[43m        \u001B[49m\u001B[43mcompression_ctx\u001B[49m\u001B[38;5;241;43m=\u001B[39;49m\u001B[38;5;28;43mself\u001B[39;49m\u001B[38;5;241;43m.\u001B[39;49m\u001B[43mcompression_context\u001B[49m\u001B[43m,\u001B[49m\n\u001B[0;32m    950\u001B[0m \u001B[43m        \u001B[49m\u001B[43muse_op_msg\u001B[49m\u001B[38;5;241;43m=\u001B[39;49m\u001B[38;5;28;43mself\u001B[39;49m\u001B[38;5;241;43m.\u001B[39;49m\u001B[43mop_msg_enabled\u001B[49m\u001B[43m,\u001B[49m\n\u001B[0;32m    951\u001B[0m \u001B[43m        \u001B[49m\u001B[43munacknowledged\u001B[49m\u001B[38;5;241;43m=\u001B[39;49m\u001B[43munacknowledged\u001B[49m\u001B[43m,\u001B[49m\n\u001B[0;32m    952\u001B[0m \u001B[43m        \u001B[49m\u001B[43muser_fields\u001B[49m\u001B[38;5;241;43m=\u001B[39;49m\u001B[43muser_fields\u001B[49m\u001B[43m,\u001B[49m\n\u001B[0;32m    953\u001B[0m \u001B[43m        \u001B[49m\u001B[43mexhaust_allowed\u001B[49m\u001B[38;5;241;43m=\u001B[39;49m\u001B[43mexhaust_allowed\u001B[49m\u001B[43m,\u001B[49m\n\u001B[0;32m    954\u001B[0m \u001B[43m        \u001B[49m\u001B[43mwrite_concern\u001B[49m\u001B[38;5;241;43m=\u001B[39;49m\u001B[43mwrite_concern\u001B[49m\u001B[43m,\u001B[49m\n\u001B[0;32m    955\u001B[0m \u001B[43m    \u001B[49m\u001B[43m)\u001B[49m\n\u001B[0;32m    956\u001B[0m \u001B[38;5;28;01mexcept\u001B[39;00m (OperationFailure, NotPrimaryError):\n\u001B[0;32m    957\u001B[0m     \u001B[38;5;28;01mraise\u001B[39;00m\n",
      "File \u001B[1;32m~\\anaconda3\\lib\\site-packages\\pymongo\\network.py:191\u001B[0m, in \u001B[0;36mcommand\u001B[1;34m(conn, dbname, spec, is_mongos, read_preference, codec_options, session, client, check, allowable_errors, address, listeners, max_bson_size, read_concern, parse_write_concern_error, collation, compression_ctx, use_op_msg, unacknowledged, user_fields, exhaust_allowed, write_concern)\u001B[0m\n\u001B[0;32m    189\u001B[0m             client\u001B[38;5;241m.\u001B[39m_process_response(response_doc, session)\n\u001B[0;32m    190\u001B[0m         \u001B[38;5;28;01mif\u001B[39;00m check:\n\u001B[1;32m--> 191\u001B[0m             \u001B[43mhelpers\u001B[49m\u001B[38;5;241;43m.\u001B[39;49m\u001B[43m_check_command_response\u001B[49m\u001B[43m(\u001B[49m\n\u001B[0;32m    192\u001B[0m \u001B[43m                \u001B[49m\u001B[43mresponse_doc\u001B[49m\u001B[43m,\u001B[49m\n\u001B[0;32m    193\u001B[0m \u001B[43m                \u001B[49m\u001B[43mconn\u001B[49m\u001B[38;5;241;43m.\u001B[39;49m\u001B[43mmax_wire_version\u001B[49m\u001B[43m,\u001B[49m\n\u001B[0;32m    194\u001B[0m \u001B[43m                \u001B[49m\u001B[43mallowable_errors\u001B[49m\u001B[43m,\u001B[49m\n\u001B[0;32m    195\u001B[0m \u001B[43m                \u001B[49m\u001B[43mparse_write_concern_error\u001B[49m\u001B[38;5;241;43m=\u001B[39;49m\u001B[43mparse_write_concern_error\u001B[49m\u001B[43m,\u001B[49m\n\u001B[0;32m    196\u001B[0m \u001B[43m            \u001B[49m\u001B[43m)\u001B[49m\n\u001B[0;32m    197\u001B[0m \u001B[38;5;28;01mexcept\u001B[39;00m \u001B[38;5;167;01mException\u001B[39;00m \u001B[38;5;28;01mas\u001B[39;00m exc:\n\u001B[0;32m    198\u001B[0m     \u001B[38;5;28;01mif\u001B[39;00m publish:\n",
      "File \u001B[1;32m~\\anaconda3\\lib\\site-packages\\pymongo\\helpers.py:223\u001B[0m, in \u001B[0;36m_check_command_response\u001B[1;34m(response, max_wire_version, allowable_errors, parse_write_concern_error)\u001B[0m\n\u001B[0;32m    220\u001B[0m \u001B[38;5;28;01melif\u001B[39;00m code \u001B[38;5;241m==\u001B[39m \u001B[38;5;241m43\u001B[39m:\n\u001B[0;32m    221\u001B[0m     \u001B[38;5;28;01mraise\u001B[39;00m CursorNotFound(errmsg, code, response, max_wire_version)\n\u001B[1;32m--> 223\u001B[0m \u001B[38;5;28;01mraise\u001B[39;00m OperationFailure(errmsg, code, response, max_wire_version)\n",
      "\u001B[1;31mOperationFailure\u001B[0m: PlanExecutor error during aggregation :: caused by :: can't $subtract string from string, full error: {'ok': 0.0, 'errmsg': \"PlanExecutor error during aggregation :: caused by :: can't $subtract string from string\", 'code': 14, 'codeName': 'TypeMismatch'}"
     ]
    }
   ],
   "source": [
    "collection = connector.db[\"TrackPoint\"]\n",
    "\n",
    "rows = collection.aggregate(\n",
    "    [\n",
    "        {\"$match\": {\"altitude\": {\"$ne\": -777}}},\n",
    "        {\n",
    "            \"$setWindowFields\": {\n",
    "                \"partitionBy\": \"$activity_id\",\n",
    "                \"sortBy\": {\"date_time\": 1},\n",
    "                \"output\": {\n",
    "                    \"previous_altitude\": {\"$shift\": {\"output\": \"$altitude\", \"by\": -1}}\n",
    "                },\n",
    "            }\n",
    "        },\n",
    "        {\n",
    "            \"$project\": {\n",
    "                \"activity_id\": \"$activity_id\",\n",
    "                \"difference\": {\"$subtract\": [\"$altitude\", \"$previous_altitude\"]},\n",
    "            }\n",
    "        },\n",
    "        {\"$match\": {\"difference\": {\"$gt\": 0}}},\n",
    "        {\n",
    "            \"$lookup\": {\n",
    "                \"from\": \"Activity\",\n",
    "                \"localField\": \"activity_id\",\n",
    "                \"foreignField\": \"_id\",\n",
    "                \"as\": \"activity\",\n",
    "            }\n",
    "        },\n",
    "        {\n",
    "            \"$group\": {\n",
    "                \"_id\": {\n",
    "                    \"user_id\": \"$activity.user_id\",\n",
    "                },\n",
    "                \"sum\": {\"$sum\": \"$difference\"},\n",
    "            }\n",
    "        },\n",
    "        {\n",
    "            \"$project\": {\n",
    "                \"altitude_in_meters\": {\"$multiply\": [\"$sum\", 0.304]},\n",
    "            }\n",
    "        },\n",
    "        {\"$sort\": {\"altitude_in_meters\": -1}},\n",
    "        {\n",
    "            \"$setWindowFields\": {\n",
    "                \"sortBy\": {\"altitude_in_meters\": -1},\n",
    "                \"output\": {\"Top\": {\"$rank\": {}}},\n",
    "            }\n",
    "        },\n",
    "        {\"$limit\": 20},\n",
    "    ]\n",
    ")\n",
    "\n",
    "for row in rows:\n",
    "    print(row)"
   ]
  },
  {
   "cell_type": "markdown",
   "metadata": {},
   "source": [
    "### Task 9\n",
    "Find all users who have invalid activities, and the number of invalid activities per user"
   ]
  },
  {
   "cell_type": "code",
   "execution_count": 17,
   "metadata": {},
   "outputs": [
    {
     "name": "stdout",
     "output_type": "stream",
     "text": [
      "{'id': '000', 'invalid_activities': 101}\n",
      "{'id': '001', 'invalid_activities': 45}\n",
      "{'id': '002', 'invalid_activities': 98}\n",
      "{'id': '003', 'invalid_activities': 179}\n",
      "{'id': '004', 'invalid_activities': 219}\n",
      "{'id': '005', 'invalid_activities': 44}\n",
      "{'id': '006', 'invalid_activities': 17}\n",
      "{'id': '007', 'invalid_activities': 30}\n",
      "{'id': '008', 'invalid_activities': 16}\n",
      "{'id': '009', 'invalid_activities': 31}\n",
      "{'id': '011', 'invalid_activities': 32}\n",
      "{'id': '012', 'invalid_activities': 43}\n",
      "{'id': '013', 'invalid_activities': 29}\n",
      "{'id': '014', 'invalid_activities': 118}\n",
      "{'id': '015', 'invalid_activities': 46}\n",
      "{'id': '016', 'invalid_activities': 20}\n",
      "{'id': '017', 'invalid_activities': 129}\n",
      "{'id': '018', 'invalid_activities': 27}\n",
      "{'id': '019', 'invalid_activities': 31}\n",
      "{'id': '020', 'invalid_activities': 11}\n",
      "{'id': '021', 'invalid_activities': 1}\n",
      "{'id': '022', 'invalid_activities': 55}\n",
      "{'id': '023', 'invalid_activities': 11}\n",
      "{'id': '024', 'invalid_activities': 27}\n",
      "{'id': '025', 'invalid_activities': 263}\n",
      "{'id': '026', 'invalid_activities': 18}\n",
      "{'id': '027', 'invalid_activities': 2}\n",
      "{'id': '028', 'invalid_activities': 36}\n",
      "{'id': '029', 'invalid_activities': 25}\n",
      "{'id': '030', 'invalid_activities': 112}\n",
      "{'id': '031', 'invalid_activities': 3}\n",
      "{'id': '032', 'invalid_activities': 12}\n",
      "{'id': '033', 'invalid_activities': 2}\n",
      "{'id': '034', 'invalid_activities': 88}\n",
      "{'id': '035', 'invalid_activities': 23}\n",
      "{'id': '036', 'invalid_activities': 34}\n",
      "{'id': '037', 'invalid_activities': 100}\n",
      "{'id': '038', 'invalid_activities': 58}\n",
      "{'id': '039', 'invalid_activities': 147}\n",
      "{'id': '040', 'invalid_activities': 17}\n",
      "{'id': '041', 'invalid_activities': 201}\n",
      "{'id': '042', 'invalid_activities': 54}\n",
      "{'id': '043', 'invalid_activities': 21}\n",
      "{'id': '044', 'invalid_activities': 31}\n",
      "{'id': '045', 'invalid_activities': 7}\n",
      "{'id': '046', 'invalid_activities': 13}\n",
      "{'id': '047', 'invalid_activities': 6}\n",
      "{'id': '048', 'invalid_activities': 1}\n",
      "{'id': '050', 'invalid_activities': 8}\n",
      "{'id': '051', 'invalid_activities': 36}\n",
      "{'id': '054', 'invalid_activities': 2}\n",
      "{'id': '055', 'invalid_activities': 15}\n",
      "{'id': '056', 'invalid_activities': 1}\n",
      "{'id': '057', 'invalid_activities': 16}\n",
      "{'id': '058', 'invalid_activities': 2}\n",
      "{'id': '060', 'invalid_activities': 1}\n",
      "{'id': '061', 'invalid_activities': 12}\n",
      "{'id': '062', 'invalid_activities': 133}\n",
      "{'id': '063', 'invalid_activities': 8}\n",
      "{'id': '065', 'invalid_activities': 5}\n",
      "{'id': '066', 'invalid_activities': 6}\n",
      "{'id': '067', 'invalid_activities': 1}\n",
      "{'id': '069', 'invalid_activities': 1}\n",
      "{'id': '070', 'invalid_activities': 5}\n",
      "{'id': '071', 'invalid_activities': 27}\n",
      "{'id': '072', 'invalid_activities': 2}\n",
      "{'id': '073', 'invalid_activities': 6}\n",
      "{'id': '074', 'invalid_activities': 19}\n",
      "{'id': '075', 'invalid_activities': 1}\n",
      "{'id': '076', 'invalid_activities': 2}\n",
      "{'id': '077', 'invalid_activities': 3}\n",
      "{'id': '078', 'invalid_activities': 5}\n",
      "{'id': '079', 'invalid_activities': 2}\n",
      "{'id': '080', 'invalid_activities': 1}\n",
      "{'id': '081', 'invalid_activities': 2}\n",
      "{'id': '083', 'invalid_activities': 15}\n",
      "{'id': '084', 'invalid_activities': 4}\n",
      "{'id': '085', 'invalid_activities': 11}\n",
      "{'id': '086', 'invalid_activities': 2}\n",
      "{'id': '087', 'invalid_activities': 1}\n",
      "{'id': '089', 'invalid_activities': 4}\n",
      "{'id': '090', 'invalid_activities': 3}\n",
      "{'id': '092', 'invalid_activities': 1}\n",
      "{'id': '093', 'invalid_activities': 4}\n",
      "{'id': '094', 'invalid_activities': 16}\n",
      "{'id': '095', 'invalid_activities': 4}\n",
      "{'id': '097', 'invalid_activities': 2}\n",
      "{'id': '099', 'invalid_activities': 11}\n",
      "{'id': '103', 'invalid_activities': 24}\n",
      "{'id': '108', 'invalid_activities': 2}\n",
      "{'id': '109', 'invalid_activities': 3}\n",
      "{'id': '111', 'invalid_activities': 1}\n",
      "{'id': '112', 'invalid_activities': 10}\n",
      "{'id': '113', 'invalid_activities': 1}\n",
      "{'id': '115', 'invalid_activities': 26}\n",
      "{'id': '119', 'invalid_activities': 22}\n",
      "{'id': '121', 'invalid_activities': 4}\n",
      "{'id': '122', 'invalid_activities': 6}\n",
      "{'id': '123', 'invalid_activities': 3}\n",
      "{'id': '126', 'invalid_activities': 3}\n",
      "{'id': '127', 'invalid_activities': 4}\n",
      "{'id': '128', 'invalid_activities': 138}\n",
      "{'id': '130', 'invalid_activities': 8}\n",
      "{'id': '131', 'invalid_activities': 10}\n",
      "{'id': '132', 'invalid_activities': 3}\n",
      "{'id': '133', 'invalid_activities': 4}\n",
      "{'id': '134', 'invalid_activities': 31}\n",
      "{'id': '135', 'invalid_activities': 5}\n",
      "{'id': '139', 'invalid_activities': 2}\n",
      "{'id': '140', 'invalid_activities': 86}\n",
      "{'id': '142', 'invalid_activities': 52}\n",
      "{'id': '144', 'invalid_activities': 1}\n",
      "{'id': '145', 'invalid_activities': 5}\n",
      "{'id': '146', 'invalid_activities': 7}\n",
      "{'id': '150', 'invalid_activities': 16}\n",
      "{'id': '151', 'invalid_activities': 1}\n",
      "{'id': '152', 'invalid_activities': 2}\n",
      "{'id': '153', 'invalid_activities': 2}\n",
      "{'id': '155', 'invalid_activities': 30}\n",
      "{'id': '157', 'invalid_activities': 9}\n",
      "{'id': '158', 'invalid_activities': 9}\n",
      "{'id': '159', 'invalid_activities': 5}\n",
      "{'id': '162', 'invalid_activities': 9}\n",
      "{'id': '163', 'invalid_activities': 4}\n",
      "{'id': '164', 'invalid_activities': 6}\n",
      "{'id': '165', 'invalid_activities': 2}\n",
      "{'id': '166', 'invalid_activities': 2}\n",
      "{'id': '167', 'invalid_activities': 4}\n",
      "{'id': '168', 'invalid_activities': 19}\n",
      "{'id': '169', 'invalid_activities': 9}\n",
      "{'id': '171', 'invalid_activities': 3}\n",
      "{'id': '172', 'invalid_activities': 9}\n",
      "{'id': '173', 'invalid_activities': 5}\n",
      "{'id': '175', 'invalid_activities': 1}\n",
      "{'id': '176', 'invalid_activities': 8}\n",
      "{'id': '180', 'invalid_activities': 2}\n",
      "{'id': '181', 'invalid_activities': 14}\n"
     ]
    }
   ],
   "source": [
    "collection = connector.db[\"TrackPoint\"]\n",
    "\n",
    "rows = collection.aggregate(\n",
    "    [\n",
    "        {\n",
    "            \"$setWindowFields\": {\n",
    "\n",
    "                \"sortBy\": {\"_id\": 1},\n",
    "                \"output\": {\n",
    "                    \"previous_activity_id\" : {\"$shift\": {\"output\": \"$activity_id\", \"by\": -1}},\n",
    "                    \"previous_date_time\": {\"$shift\": {\"output\": \"$date_time\", \"by\": -1}}\n",
    "                },\n",
    "            }\n",
    "        },\n",
    "        {\n",
    "             \"$project\": {\n",
    "                    \"_id\": \"$_id\",\n",
    "                    \"activity_id\": \"$activity_id\",\n",
    "                    \"previous_activity_id\": \"$previous_activity_id\",\n",
    "                    \"difference\": {\"$subtract\": [ {\"$toDate\": \"$date_time\"}, { \"$toDate\": \"$previous_date_time\" } ]},\n",
    "             }\n",
    "        },\n",
    "        {\"$match\": {\"$expr\": {\"$eq\" : [ \"$activity_id\" , \"$previous_activity_id\"]}}},\n",
    "        { \"$match\": { \"difference\": { \"$gt\": 300000 } } },\n",
    "        {\n",
    "            \"$group\": {\n",
    "                \"_id\": \"$activity_id\",\n",
    "            }\n",
    "        }\n",
    "\n",
    "\n",
    "\n",
    "\n",
    "\n",
    "    ]\n",
    ")\n",
    "\n",
    "ids = [row[\"_id\"] for row in rows]\n",
    "\n",
    "\n",
    "collection = connector.db[\"Activity\"]\n",
    "activities = collection.find({\"_id\": {\"$in\": ids}})\n",
    "\n",
    "users = {}\n",
    "for activity in activities:\n",
    "\n",
    "    id = activity[\"user_id\"]\n",
    "    if id not in users:\n",
    "        users[id] = {\"id\": id, \"invalid_activities\": 1}\n",
    "    else:\n",
    "        users[id][\"invalid_activities\"] += 1\n",
    "\n",
    "for user in users:\n",
    "    print(users[user])\n"
   ]
  },
  {
   "cell_type": "code",
   "execution_count": null,
   "outputs": [],
   "source": [
    "import datetime\n",
    "\n",
    "collection = connector.db[\"TrackPoint\"]\n",
    "\n",
    "trackpoints = collection.find()\n",
    "\n",
    "\n",
    "invalid_activities_ids = []\n",
    "\n",
    "previous_trackpoint = trackpoints[0]\n",
    "for trackpoint in trackpoints:\n",
    "\n",
    "    if trackpoint[\"activity_id\"] not in invalid_activities_ids:\n",
    "\n",
    "        # Parse from string to date\n",
    "        current_date = datetime.datetime.strptime(trackpoint[\"date_time\"],'%Y-%m-%d %H:%M:%S')\n",
    "        previous_date = datetime.datetime.strptime(previous_trackpoint[\"date_time\"],'%Y-%m-%d %H:%M:%S')\n",
    "        if (current_date - previous_date).total_seconds() / 60 > 5:\n",
    "            invalid_activities_ids.append(trackpoint[\"activity_id\"])\n",
    "\n",
    "\n",
    "\n",
    "\n",
    "    previous_trackpoint = trackpoint\n",
    "\n",
    "collection = connector.db[\"Activity\"]\n",
    "activities = collection.find({\"_id\": {\"$in\": invalid_activities_ids}})\n",
    "\n",
    "users = {}\n",
    "for activity in activities:\n",
    "    id = activity[\"user_id\"]\n",
    "    if id not in users:\n",
    "        users[id] = {\"id\": id, \"invalid_activities\": 1}\n",
    "    else:\n",
    "        users[id][\"invalid_activities\"] += 1\n",
    "\n",
    "for user in users:\n",
    "    print(users[user])"
   ],
   "metadata": {
    "collapsed": false,
    "pycharm": {
     "name": "#%%\n",
     "is_executing": true
    }
   }
  },
  {
   "cell_type": "markdown",
   "metadata": {},
   "source": [
    "### Task 10\n",
    "Find the users who have tracked an activity in the Forbidden City of Beijing."
   ]
  },
  {
   "cell_type": "code",
   "execution_count": 32,
   "metadata": {},
   "outputs": [
    {
     "name": "stdout",
     "output_type": "stream",
     "text": [
      "{'user_id': '004'}\n",
      "{'user_id': '018'}\n",
      "{'user_id': '019'}\n",
      "{'user_id': '062'}\n",
      "{'user_id': '067'}\n",
      "{'user_id': '131'}\n",
      "{'user_id': '140'}\n",
      "{'user_id': '168'}\n"
     ]
    }
   ],
   "source": [
    "collection = connector.db[\"TrackPoint\"]\n",
    "\n",
    "rows = collection.aggregate(\n",
    "    [\n",
    "        {\n",
    "         \"$project\": {\n",
    "                \"activity_id\": \"$activity_id\",\n",
    "                \"distance\": {\n",
    "                    \"$sqrt\": {\n",
    "                      \"$add\": [\n",
    "                        { \"$pow\": [{ \"$subtract\": [{ \"$toDouble\": \"$lat\"}, 39.917610]}, 2 ]},\n",
    "                        { \"$pow\": [{ \"$subtract\": [{ \"$toDouble\": \"$lon\"}, 116.397028]}, 2 ]}\n",
    "                        ]\n",
    "                        }\n",
    "                    }\n",
    "                }\n",
    "        },\n",
    "\n",
    "        { \"$match\": { \"distance\": { \"$lt\": 0.0045 } }},\n",
    "        {\n",
    "            \"$group\": {\n",
    "                \"_id\": \"$activity_id\",\n",
    "            }\n",
    "        }\n",
    "\n",
    "    ]\n",
    ")\n",
    "\n",
    "ids = [row[\"_id\"] for row in rows]\n",
    "\n",
    "collection = connector.db[\"Activity\"]\n",
    "activities = collection.find({\"_id\": {\"$in\": ids}})\n",
    "\n",
    "users = {}\n",
    "for activity in activities:\n",
    "    id = activity[\"user_id\"]\n",
    "    if id not in users:\n",
    "        users[id] = {\"user_id\": id}\n",
    "\n",
    "for user in users:\n",
    "    print(users[user])"
   ]
  },
  {
   "cell_type": "markdown",
   "metadata": {},
   "source": [
    "### Task 11\n",
    "Find all users who have registered transportation_mode and their most used transportation_mode. "
   ]
  },
  {
   "cell_type": "code",
   "execution_count": null,
   "metadata": {},
   "outputs": [],
   "source": [
    "collection = connector.db[\"Activity\"]\n",
    "\n",
    "rows = collection.aggregate(\n",
    "    [\n",
    "        {\"$match\": {\"transportation_mode\": {\"$ne\": None}}},\n",
    "        {\n",
    "            \"$group\": {\n",
    "                \"_id\": {\n",
    "                    \"user_id\": \"$user_id\",\n",
    "                    \"transportation_mode\": \"$transportation_mode\",\n",
    "                },\n",
    "                \"count\": {\"$sum\": 1},\n",
    "            }\n",
    "        },\n",
    "        {\n",
    "            \"$lookup\": {\n",
    "                \"from\": \"User\",\n",
    "                \"let\": {\n",
    "                    \"a_id\": \"$_id\",\n",
    "                    \"a_has_labels\": \"$has_labels\",\n",
    "                },\n",
    "                \"pipeline\": [{\"$match\": {\"$expr\": {\"$eq\": [\"$$a_id\", \"$user_id\"]}}}],\n",
    "                \"as\": \"saves_transportation\",\n",
    "            }\n",
    "        },\n",
    "        {\"$match\": {\"saves_transportation\": {\"$ne\": {\"$a_has_labels\": False}}}},\n",
    "        {\"$sort\": {\"_id.user_id\": 1, \"count\": -1}},\n",
    "        {\n",
    "            \"$group\": {\n",
    "                \"_id\": \"$_id.user_id\",\n",
    "                \"most_used_transportation_mode\": {\"$first\": \"$_id.transportation_mode\"},\n",
    "            }\n",
    "        },\n",
    "        {\"$sort\": {\"_id\": 1}},\n",
    "    ]\n",
    ")\n",
    "\n",
    "for row in rows:\n",
    "    pprint(row)"
   ]
  }
 ],
 "metadata": {
  "kernelspec": {
   "display_name": "venv",
   "language": "python",
   "name": "python3"
  },
  "language_info": {
   "codemirror_mode": {
    "name": "ipython",
    "version": 3
   },
   "file_extension": ".py",
   "mimetype": "text/x-python",
   "name": "python",
   "nbconvert_exporter": "python",
   "pygments_lexer": "ipython3",
   "version": "3.9.13"
  }
 },
 "nbformat": 4,
 "nbformat_minor": 2
}