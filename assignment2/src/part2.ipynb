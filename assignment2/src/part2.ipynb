{
 "cells": [
  {
   "cell_type": "code",
   "execution_count": 14,
   "metadata": {},
   "outputs": [],
   "source": [
    "from DbConnector import DbConnector\n",
    "from part2 import DbExecutor"
   ]
  },
  {
   "cell_type": "code",
   "execution_count": 15,
   "metadata": {},
   "outputs": [
    {
     "name": "stdout",
     "output_type": "stream",
     "text": [
      "Connected to: 8.0.34-0ubuntu0.22.04.1\n",
      "You are connected to the database: ('assignment2',)\n",
      "-----------------------------------------------\n",
      "\n",
      "Connected to: 8.0.34-0ubuntu0.22.04.1\n",
      "You are connected to the database: ('assignment2',)\n",
      "-----------------------------------------------\n",
      "\n"
     ]
    }
   ],
   "source": [
    "# Set up the program\n",
    "program = DbConnector()\n",
    "executor = DbExecutor()"
   ]
  },
  {
   "cell_type": "markdown",
   "metadata": {},
   "source": [
    "### Task 1"
   ]
  },
  {
   "cell_type": "markdown",
   "metadata": {},
   "source": [
    "How many users, activities and trackpoints are there in the dataset (after it is inserted into the database)"
   ]
  },
  {
   "cell_type": "code",
   "execution_count": 16,
   "metadata": {},
   "outputs": [
    {
     "name": "stdout",
     "output_type": "stream",
     "text": [
      "There are (182,) users\n",
      "There are (14718,) activities\n",
      "There are (704781,) trackpoints\n"
     ]
    }
   ],
   "source": [
    "# Get the number of Users\n",
    "users = executor.get_table_size(\"User\")\n",
    "print(f\"There are {users[0]} users\")\n",
    "\n",
    "# Get the number of Activities\n",
    "activities = executor.get_table_size(\"Activity\")\n",
    "print(f\"There are {activities[0]} activities\")\n",
    "\n",
    "# Get the number of TrackPoints\n",
    "trackpoints = executor.get_table_size(\"TrackPoint\")\n",
    "print(f\"There are {trackpoints[0]} trackpoints\")\n"
   ]
  },
  {
   "cell_type": "markdown",
   "source": [
    "### Task 2a"
   ],
   "metadata": {
    "collapsed": false
   }
  },
  {
   "cell_type": "code",
   "execution_count": 17,
   "outputs": [
    {
     "name": "stdout",
     "output_type": "stream",
     "text": [
      "Average number of trackpoins per user: \n",
      " user: 010 \t trackpoints: 1107.5000\n",
      " user: 020 \t trackpoints: 704.6383\n",
      " user: 021 \t trackpoints: 475.0000\n",
      " user: 052 \t trackpoints: 177.0000\n",
      " user: 056 \t trackpoints: 39.7333\n",
      " user: 058 \t trackpoints: 38.5000\n",
      " user: 060 \t trackpoints: 8.0000\n",
      " user: 062 \t trackpoints: 439.0542\n",
      " user: 064 \t trackpoints: 695.0000\n",
      " user: 065 \t trackpoints: 1114.9375\n",
      " user: 067 \t trackpoints: 1729.0000\n",
      " user: 069 \t trackpoints: 12.0000\n",
      " user: 073 \t trackpoints: 197.3019\n",
      " user: 075 \t trackpoints: 264.0000\n",
      " user: 076 \t trackpoints: 77.3333\n",
      " user: 078 \t trackpoints: 304.6667\n",
      " user: 080 \t trackpoints: 43.5000\n",
      " user: 081 \t trackpoints: 540.5714\n",
      " user: 082 \t trackpoints: 694.5000\n",
      " user: 084 \t trackpoints: 638.5833\n",
      " user: 085 \t trackpoints: 367.8824\n",
      " user: 086 \t trackpoints: 63.6667\n",
      " user: 087 \t trackpoints: 19.8000\n",
      " user: 089 \t trackpoints: 74.7500\n",
      " user: 091 \t trackpoints: 9.5000\n",
      " user: 092 \t trackpoints: 53.0000\n",
      " user: 097 \t trackpoints: 27.7778\n",
      " user: 098 \t trackpoints: 118.0000\n",
      " user: 101 \t trackpoints: 323.6667\n",
      " user: 102 \t trackpoints: 148.6923\n",
      " user: 107 \t trackpoints: 81.0000\n",
      " user: 108 \t trackpoints: 14.6667\n",
      " user: 111 \t trackpoints: 29.0000\n",
      " user: 112 \t trackpoints: 351.0282\n",
      " user: 115 \t trackpoints: 895.1111\n",
      " user: 117 \t trackpoints: 24.0000\n",
      " user: 125 \t trackpoints: 659.2500\n",
      " user: 126 \t trackpoints: 437.1818\n",
      " user: 128 \t trackpoints: 474.1021\n",
      " user: 136 \t trackpoints: 15.3333\n",
      " user: 138 \t trackpoints: 98.5000\n",
      " user: 139 \t trackpoints: 21.6667\n",
      " user: 144 \t trackpoints: 187.5000\n",
      " user: 153 \t trackpoints: 374.6000\n",
      " user: 161 \t trackpoints: 26.0000\n",
      " user: 163 \t trackpoints: 95.2727\n",
      " user: 167 \t trackpoints: 617.2500\n",
      " user: 175 \t trackpoints: 7.0000\n"
     ]
    }
   ],
   "source": [
    "# Get the average number of trackpoints per user\n",
    "users = executor.findAvgTrackpoints()\n",
    "\n",
    "users = \"\".join([f'\\n user: {user[0]} \\t trackpoints: {user[1]}' for user in users])\n",
    "print(f\"Average number of trackpoins per user: {users}\")\n"
   ],
   "metadata": {
    "collapsed": false,
    "pycharm": {
     "name": "#%%\n"
    }
   }
  },
  {
   "cell_type": "code",
   "execution_count": 18,
   "outputs": [
    {
     "name": "stdout",
     "output_type": "stream",
     "text": [
      "Minimum number of trackpoins per user: \n",
      " user: 010 \t trackpoints: 663\n",
      " user: 020 \t trackpoints: 22\n",
      " user: 021 \t trackpoints: 475\n",
      " user: 052 \t trackpoints: 177\n",
      " user: 056 \t trackpoints: 16\n",
      " user: 058 \t trackpoints: 8\n",
      " user: 060 \t trackpoints: 8\n",
      " user: 062 \t trackpoints: 4\n",
      " user: 064 \t trackpoints: 695\n",
      " user: 065 \t trackpoints: 149\n",
      " user: 067 \t trackpoints: 1729\n",
      " user: 069 \t trackpoints: 12\n",
      " user: 073 \t trackpoints: 3\n",
      " user: 075 \t trackpoints: 264\n",
      " user: 076 \t trackpoints: 42\n",
      " user: 078 \t trackpoints: 12\n",
      " user: 080 \t trackpoints: 40\n",
      " user: 081 \t trackpoints: 56\n",
      " user: 082 \t trackpoints: 589\n",
      " user: 084 \t trackpoints: 116\n",
      " user: 085 \t trackpoints: 10\n",
      " user: 086 \t trackpoints: 47\n",
      " user: 087 \t trackpoints: 6\n",
      " user: 089 \t trackpoints: 15\n",
      " user: 091 \t trackpoints: 8\n",
      " user: 092 \t trackpoints: 52\n",
      " user: 097 \t trackpoints: 16\n",
      " user: 098 \t trackpoints: 118\n",
      " user: 101 \t trackpoints: 143\n",
      " user: 102 \t trackpoints: 6\n",
      " user: 107 \t trackpoints: 81\n",
      " user: 108 \t trackpoints: 10\n",
      " user: 111 \t trackpoints: 24\n",
      " user: 112 \t trackpoints: 46\n",
      " user: 115 \t trackpoints: 29\n",
      " user: 117 \t trackpoints: 24\n",
      " user: 125 \t trackpoints: 106\n",
      " user: 126 \t trackpoints: 39\n",
      " user: 128 \t trackpoints: 9\n",
      " user: 136 \t trackpoints: 13\n",
      " user: 138 \t trackpoints: 79\n",
      " user: 139 \t trackpoints: 10\n",
      " user: 144 \t trackpoints: 18\n",
      " user: 153 \t trackpoints: 32\n",
      " user: 161 \t trackpoints: 26\n",
      " user: 163 \t trackpoints: 15\n",
      " user: 167 \t trackpoints: 63\n",
      " user: 175 \t trackpoints: 7\n"
     ]
    }
   ],
   "source": [
    "# Get the minimum number of trackpoints per user\n",
    "users = executor.findMinTrackpoints()\n",
    "\n",
    "users = \"\".join([f'\\n user: {user[0]} \\t trackpoints: {user[1]}' for user in users])\n",
    "\n",
    "print(f\"Minimum number of trackpoins per user: {users}\")"
   ],
   "metadata": {
    "collapsed": false,
    "pycharm": {
     "name": "#%%\n"
    }
   }
  },
  {
   "cell_type": "code",
   "execution_count": 19,
   "outputs": [
    {
     "name": "stdout",
     "output_type": "stream",
     "text": [
      "Maximum number of trackpoins per user: \n",
      " user: 010 \t transportations: 1964\n",
      " user: 020 \t transportations: 2201\n",
      " user: 021 \t transportations: 475\n",
      " user: 052 \t transportations: 177\n",
      " user: 056 \t transportations: 165\n",
      " user: 058 \t transportations: 104\n",
      " user: 060 \t transportations: 8\n",
      " user: 062 \t transportations: 2447\n",
      " user: 064 \t transportations: 695\n",
      " user: 065 \t transportations: 2336\n",
      " user: 067 \t transportations: 1729\n",
      " user: 069 \t transportations: 12\n",
      " user: 073 \t transportations: 1214\n",
      " user: 075 \t transportations: 264\n",
      " user: 076 \t transportations: 105\n",
      " user: 078 \t transportations: 1118\n",
      " user: 080 \t transportations: 47\n",
      " user: 081 \t transportations: 1047\n",
      " user: 082 \t transportations: 800\n",
      " user: 084 \t transportations: 2158\n",
      " user: 085 \t transportations: 993\n",
      " user: 086 \t transportations: 72\n",
      " user: 087 \t transportations: 36\n",
      " user: 089 \t transportations: 357\n",
      " user: 091 \t transportations: 11\n",
      " user: 092 \t transportations: 54\n",
      " user: 097 \t transportations: 52\n",
      " user: 098 \t transportations: 118\n",
      " user: 101 \t transportations: 617\n",
      " user: 102 \t transportations: 859\n",
      " user: 107 \t transportations: 81\n",
      " user: 108 \t transportations: 20\n",
      " user: 111 \t transportations: 38\n",
      " user: 112 \t transportations: 1155\n",
      " user: 115 \t transportations: 2262\n",
      " user: 117 \t transportations: 24\n",
      " user: 125 \t transportations: 1047\n",
      " user: 126 \t transportations: 1629\n",
      " user: 128 \t transportations: 2453\n",
      " user: 136 \t transportations: 18\n",
      " user: 138 \t transportations: 118\n",
      " user: 139 \t transportations: 47\n",
      " user: 144 \t transportations: 357\n",
      " user: 153 \t transportations: 1084\n",
      " user: 161 \t transportations: 26\n",
      " user: 163 \t transportations: 672\n",
      " user: 167 \t transportations: 1331\n",
      " user: 175 \t transportations: 7\n"
     ]
    }
   ],
   "source": [
    "# Get the maximum number of trackpoints per user\n",
    "users = executor.findMaxTrackpoints()\n",
    "users = \"\".join([f'\\n user: {user[0]} \\t transportations: {user[1]}' for user in users])\n",
    "print(f\"Maximum number of trackpoins per user: {users}\")"
   ],
   "metadata": {
    "collapsed": false,
    "pycharm": {
     "name": "#%%\n"
    }
   }
  },
  {
   "cell_type": "markdown",
   "metadata": {},
   "source": [
    "### Task 4"
   ]
  },
  {
   "cell_type": "markdown",
   "metadata": {},
   "source": [
    "Find all users who have taken a bus."
   ]
  },
  {
   "cell_type": "code",
   "execution_count": 20,
   "metadata": {},
   "outputs": [
    {
     "name": "stdout",
     "output_type": "stream",
     "text": [
      "The user ids for user that have taken the bus: \n",
      " user: 010\n",
      " user: 020\n",
      " user: 052\n",
      " user: 053\n",
      " user: 058\n",
      " user: 062\n",
      " user: 064\n",
      " user: 065\n",
      " user: 067\n",
      " user: 068\n",
      " user: 069\n",
      " user: 073\n",
      " user: 075\n",
      " user: 078\n",
      " user: 080\n",
      " user: 081\n",
      " user: 082\n",
      " user: 084\n",
      " user: 085\n",
      " user: 088\n",
      " user: 091\n",
      " user: 092\n",
      " user: 096\n",
      " user: 098\n",
      " user: 100\n",
      " user: 101\n",
      " user: 102\n",
      " user: 104\n",
      " user: 105\n",
      " user: 108\n",
      " user: 110\n",
      " user: 111\n",
      " user: 112\n",
      " user: 114\n",
      " user: 124\n",
      " user: 125\n",
      " user: 126\n",
      " user: 128\n",
      " user: 129\n",
      " user: 138\n",
      " user: 139\n",
      " user: 141\n",
      " user: 147\n",
      " user: 153\n",
      " user: 154\n",
      " user: 161\n",
      " user: 163\n",
      " user: 167\n",
      " user: 174\n",
      " user: 175\n",
      " user: 179\n"
     ]
    }
   ],
   "source": [
    "# Get the users who have taken the bus\n",
    "users = executor.get_user_taken_bus()\n",
    "users = \"\".join([f'\\n user: {user[0]}' for user in users[0]])\n",
    "print(f\"The user ids for user that have taken the bus: {users}\")"
   ]
  },
  {
   "cell_type": "markdown",
   "source": [
    "### Task 5"
   ],
   "metadata": {
    "collapsed": false
   }
  },
  {
   "cell_type": "code",
   "execution_count": 21,
   "outputs": [
    {
     "name": "stdout",
     "output_type": "stream",
     "text": [
      "Top 10 users with the most unique transportation modes: \n",
      " user: 128 \t transportations: 10\n",
      " user: 163 \t transportations: 9\n",
      " user: 075 \t transportations: 9\n",
      " user: 062 \t transportations: 9\n",
      " user: 167 \t transportations: 8\n",
      " user: 084 \t transportations: 8\n",
      " user: 153 \t transportations: 8\n",
      " user: 126 \t transportations: 8\n",
      " user: 020 \t transportations: 7\n",
      " user: 085 \t transportations: 7\n"
     ]
    }
   ],
   "source": [
    "users, _ = executor.findTop10TransportationsUsers()\n",
    "\n",
    "users = \"\".join([f'\\n user: {user[0]} \\t transportations: {user[1]}' for user in users])\n",
    "print(f\"Top 10 users with the most unique transportation modes: {users}\")"
   ],
   "metadata": {
    "collapsed": false,
    "pycharm": {
     "name": "#%%\n"
    }
   }
  },
  {
   "cell_type": "markdown",
   "metadata": {},
   "source": [
    "### Task 7"
   ]
  },
  {
   "cell_type": "markdown",
   "metadata": {},
   "source": [
    "a) Find the number of users that have started an activity in one day and ended the activity the next day."
   ]
  },
  {
   "cell_type": "code",
   "execution_count": 22,
   "metadata": {},
   "outputs": [
    {
     "name": "stdout",
     "output_type": "stream",
     "text": [
      "Number of users with activity that ends the next day: 38\n"
     ]
    }
   ],
   "source": [
    "users = executor.get_user_activity_over_a_day()\n",
    "\n",
    "num = set()\n",
    "for user in users[0]:\n",
    "    num.add(user[0])\n",
    "\n",
    "count = len(num)\n",
    "\n",
    "print(f\"Number of users with activity that ends the next day: {count}\")"
   ]
  },
  {
   "cell_type": "markdown",
   "metadata": {},
   "source": [
    "b) List the transportation mode, user id and duration for these activities."
   ]
  },
  {
   "cell_type": "code",
   "execution_count": 23,
   "metadata": {},
   "outputs": [
    {
     "name": "stdout",
     "output_type": "stream",
     "text": [
      "The user who have an end date one day after the start day: \n",
      " user: 010 transportation mode: train duration: 23:59:59\n",
      " user: 010 transportation mode: train duration: 11:13:11\n",
      " user: 010 transportation mode: train duration: 7:09:22\n",
      " user: 010 transportation mode: train duration: 12:13:22\n",
      " user: 010 transportation mode: train duration: 11:31:39\n",
      " user: 010 transportation mode: train duration: 9:20:15\n",
      " user: 010 transportation mode: train duration: 1:50:25\n",
      " user: 010 transportation mode: bus duration: 0:08:24\n",
      " user: 010 transportation mode: taxi duration: 0:42:47\n",
      " user: 010 transportation mode: taxi duration: 0:15:26\n",
      " user: 010 transportation mode: train duration: 0:30:26\n",
      " user: 010 transportation mode: subway duration: 0:08:56\n",
      " user: 010 transportation mode: taxi duration: 0:25:35\n",
      " user: 010 transportation mode: taxi duration: 0:30:20\n",
      " user: 010 transportation mode: train duration: 1:01:15\n",
      " user: 010 transportation mode: train duration: 0:30:11\n",
      " user: 010 transportation mode: train duration: 15:16:06\n",
      " user: 010 transportation mode: walk duration: 0:18:57\n",
      " user: 010 transportation mode: train duration: 9:08:22\n",
      " user: 010 transportation mode: train duration: 9:24:53\n",
      " user: 010 transportation mode: taxi duration: 0:58:12\n",
      " user: 010 transportation mode: train duration: 0:30:26\n",
      " user: 010 transportation mode: taxi duration: 0:27:13\n",
      " user: 010 transportation mode: taxi duration: 0:27:01\n",
      " user: 010 transportation mode: taxi duration: 0:18:21\n",
      " user: 010 transportation mode: taxi duration: 0:21:01\n",
      " user: 020 transportation mode: bike duration: 10:10:01\n",
      " user: 021 transportation mode: car duration: 6:00:49\n",
      " user: 021 transportation mode: walk duration: 3:57:13\n",
      " user: 052 transportation mode: airplane duration: 2:18:26\n",
      " user: 052 transportation mode: bus duration: 0:54:55\n",
      " user: 052 transportation mode: bus duration: 0:18:55\n",
      " user: 052 transportation mode: bus duration: 0:06:16\n",
      " user: 052 transportation mode: walk duration: 0:48:25\n",
      " user: 052 transportation mode: bus duration: 7:37:50\n",
      " user: 052 transportation mode: bus duration: 0:11:35\n",
      " user: 053 transportation mode: walk duration: 0:11:42\n",
      " user: 056 transportation mode: bike duration: 16:59:59\n",
      " user: 056 transportation mode: bike duration: 16:59:59\n",
      " user: 058 transportation mode: car duration: 0:36:12\n",
      " user: 062 transportation mode: walk duration: 1:23:44\n",
      " user: 062 transportation mode: bus duration: 2:02:48\n",
      " user: 062 transportation mode: train duration: 4:02:55\n",
      " user: 062 transportation mode: bus duration: 0:58:26\n",
      " user: 062 transportation mode: train duration: 13:32:30\n",
      " user: 062 transportation mode: train duration: 9:46:02\n",
      " user: 062 transportation mode: bus duration: 12:50:04\n",
      " user: 062 transportation mode: bus duration: 1:24:15\n",
      " user: 062 transportation mode: bus duration: 1:12:46\n",
      " user: 062 transportation mode: walk duration: 7:57:31\n",
      " user: 062 transportation mode: bus duration: 0:35:29\n",
      " user: 062 transportation mode: bus duration: 0:33:19\n",
      " user: 062 transportation mode: car duration: 12:25:30\n",
      " user: 062 transportation mode: bus duration: 0:32:16\n",
      " user: 062 transportation mode: bus duration: 0:23:27\n",
      " user: 062 transportation mode: bus duration: 0:30:15\n",
      " user: 064 transportation mode: walk duration: 0:06:58\n",
      " user: 065 transportation mode: bike duration: 1:53:02\n",
      " user: 067 transportation mode: walk duration: 0:17:34\n",
      " user: 067 transportation mode: subway duration: 0:44:05\n",
      " user: 068 transportation mode: bus duration: 1:22:33\n",
      " user: 068 transportation mode: bike duration: 0:11:40\n",
      " user: 068 transportation mode: bike duration: 0:14:50\n",
      " user: 068 transportation mode: bike duration: 0:12:42\n",
      " user: 068 transportation mode: bike duration: 0:13:58\n",
      " user: 068 transportation mode: bike duration: 0:15:14\n",
      " user: 068 transportation mode: car duration: 0:59:48\n",
      " user: 068 transportation mode: bike duration: 0:03:34\n",
      " user: 068 transportation mode: bike duration: 0:07:44\n",
      " user: 068 transportation mode: bike duration: 0:21:50\n",
      " user: 068 transportation mode: bike duration: 0:15:38\n",
      " user: 068 transportation mode: bike duration: 0:10:36\n",
      " user: 068 transportation mode: bike duration: 0:14:12\n",
      " user: 068 transportation mode: bike duration: 0:20:08\n",
      " user: 068 transportation mode: bike duration: 1:07:36\n",
      " user: 068 transportation mode: bike duration: 0:13:16\n",
      " user: 068 transportation mode: bike duration: 3:30:44\n",
      " user: 068 transportation mode: bike duration: 0:28:48\n",
      " user: 068 transportation mode: bike duration: 0:24:52\n",
      " user: 068 transportation mode: walk duration: 0:16:01\n",
      " user: 068 transportation mode: bike duration: 0:18:22\n",
      " user: 068 transportation mode: bike duration: 0:24:52\n",
      " user: 068 transportation mode: bike duration: 0:27:08\n",
      " user: 068 transportation mode: bike duration: 0:27:12\n",
      " user: 068 transportation mode: bike duration: 0:24:38\n",
      " user: 068 transportation mode: bike duration: 0:34:26\n",
      " user: 068 transportation mode: bike duration: 0:21:00\n",
      " user: 068 transportation mode: bike duration: 0:26:58\n",
      " user: 068 transportation mode: bike duration: 0:17:56\n",
      " user: 068 transportation mode: bike duration: 0:21:42\n",
      " user: 068 transportation mode: bike duration: 0:15:52\n",
      " user: 068 transportation mode: bike duration: 0:20:38\n",
      " user: 068 transportation mode: bike duration: 0:20:46\n",
      " user: 068 transportation mode: bike duration: 0:16:32\n",
      " user: 068 transportation mode: bike duration: 0:14:08\n",
      " user: 068 transportation mode: bike duration: 0:16:42\n",
      " user: 068 transportation mode: bike duration: 0:18:16\n",
      " user: 068 transportation mode: bike duration: 0:17:30\n",
      " user: 068 transportation mode: bike duration: 0:23:54\n",
      " user: 068 transportation mode: bike duration: 0:23:26\n",
      " user: 068 transportation mode: bike duration: 0:16:46\n",
      " user: 068 transportation mode: bike duration: 0:22:10\n",
      " user: 068 transportation mode: bike duration: 0:17:36\n",
      " user: 068 transportation mode: bike duration: 0:29:24\n",
      " user: 068 transportation mode: bike duration: 0:37:09\n",
      " user: 068 transportation mode: bike duration: 0:14:34\n",
      " user: 068 transportation mode: bus duration: 0:42:00\n",
      " user: 068 transportation mode: bus duration: 0:26:12\n",
      " user: 068 transportation mode: bus duration: 0:22:31\n",
      " user: 068 transportation mode: bus duration: 0:34:08\n",
      " user: 068 transportation mode: bus duration: 0:20:22\n",
      " user: 068 transportation mode: bike duration: 0:20:40\n",
      " user: 068 transportation mode: bike duration: 0:15:28\n",
      " user: 068 transportation mode: bike duration: 0:14:52\n",
      " user: 068 transportation mode: bike duration: 0:18:28\n",
      " user: 068 transportation mode: bike duration: 0:20:08\n",
      " user: 068 transportation mode: bike duration: 0:17:00\n",
      " user: 068 transportation mode: bike duration: 0:21:24\n",
      " user: 068 transportation mode: bike duration: 0:34:07\n",
      " user: 068 transportation mode: bus duration: 1:24:57\n",
      " user: 068 transportation mode: bike duration: 0:33:28\n",
      " user: 068 transportation mode: bus duration: 1:17:28\n",
      " user: 068 transportation mode: walk duration: 2:01:00\n",
      " user: 068 transportation mode: bike duration: 0:18:22\n",
      " user: 068 transportation mode: bike duration: 0:17:30\n",
      " user: 075 transportation mode: train duration: 23:59:59\n",
      " user: 075 transportation mode: train duration: 11:13:11\n",
      " user: 075 transportation mode: train duration: 7:09:22\n",
      " user: 075 transportation mode: train duration: 12:13:22\n",
      " user: 075 transportation mode: train duration: 11:31:39\n",
      " user: 075 transportation mode: train duration: 9:20:15\n",
      " user: 075 transportation mode: train duration: 1:50:25\n",
      " user: 075 transportation mode: walk duration: 0:06:58\n",
      " user: 075 transportation mode: bus duration: 0:08:24\n",
      " user: 075 transportation mode: taxi duration: 0:42:47\n",
      " user: 075 transportation mode: taxi duration: 0:15:26\n",
      " user: 075 transportation mode: train duration: 0:30:26\n",
      " user: 075 transportation mode: subway duration: 0:08:56\n",
      " user: 075 transportation mode: taxi duration: 0:25:35\n",
      " user: 075 transportation mode: taxi duration: 0:30:20\n",
      " user: 075 transportation mode: train duration: 1:01:15\n",
      " user: 075 transportation mode: train duration: 0:30:11\n",
      " user: 075 transportation mode: train duration: 15:16:06\n",
      " user: 075 transportation mode: walk duration: 0:18:57\n",
      " user: 075 transportation mode: train duration: 9:08:22\n",
      " user: 075 transportation mode: train duration: 9:24:53\n",
      " user: 075 transportation mode: taxi duration: 0:58:12\n",
      " user: 075 transportation mode: train duration: 0:30:26\n",
      " user: 075 transportation mode: taxi duration: 0:27:13\n",
      " user: 075 transportation mode: taxi duration: 0:27:01\n",
      " user: 075 transportation mode: taxi duration: 0:18:21\n",
      " user: 075 transportation mode: taxi duration: 0:21:01\n",
      " user: 075 transportation mode: walk duration: 11:13:59\n",
      " user: 076 transportation mode: car duration: 8:58:21\n",
      " user: 076 transportation mode: car duration: 16:08:07\n",
      " user: 076 transportation mode: car duration: 23:59:59\n",
      " user: 076 transportation mode: car duration: 23:59:59\n",
      " user: 076 transportation mode: car duration: 22:59:59\n",
      " user: 076 transportation mode: car duration: 22:59:59\n",
      " user: 076 transportation mode: car duration: 22:59:59\n",
      " user: 081 transportation mode: bike duration: 0:30:57\n",
      " user: 084 transportation mode: bus duration: 1:02:15\n",
      " user: 084 transportation mode: subway duration: 0:28:04\n",
      " user: 084 transportation mode: bus duration: 0:54:38\n",
      " user: 084 transportation mode: bus duration: 1:00:39\n",
      " user: 084 transportation mode: walk duration: 0:12:56\n",
      " user: 084 transportation mode: bus duration: 0:55:58\n",
      " user: 084 transportation mode: bus duration: 1:29:20\n",
      " user: 084 transportation mode: subway duration: 0:42:26\n",
      " user: 084 transportation mode: bus duration: 1:07:52\n",
      " user: 084 transportation mode: walk duration: 0:53:38\n",
      " user: 084 transportation mode: bus duration: 1:09:56\n",
      " user: 084 transportation mode: bus duration: 1:08:12\n",
      " user: 084 transportation mode: bus duration: 1:02:54\n",
      " user: 084 transportation mode: bus duration: 0:56:34\n",
      " user: 084 transportation mode: subway duration: 0:42:23\n",
      " user: 084 transportation mode: bus duration: 0:46:48\n",
      " user: 084 transportation mode: bus duration: 1:03:56\n",
      " user: 084 transportation mode: bus duration: 0:57:46\n",
      " user: 084 transportation mode: bus duration: 0:52:44\n",
      " user: 084 transportation mode: subway duration: 0:40:13\n",
      " user: 084 transportation mode: walk duration: 0:04:42\n",
      " user: 084 transportation mode: bus duration: 1:03:08\n",
      " user: 084 transportation mode: bus duration: 0:47:45\n",
      " user: 084 transportation mode: bus duration: 1:04:05\n",
      " user: 084 transportation mode: bus duration: 0:45:05\n",
      " user: 084 transportation mode: bus duration: 0:58:35\n",
      " user: 084 transportation mode: bus duration: 0:59:35\n",
      " user: 084 transportation mode: bus duration: 1:04:00\n",
      " user: 084 transportation mode: bus duration: 0:59:05\n",
      " user: 084 transportation mode: bus duration: 1:06:30\n",
      " user: 084 transportation mode: bus duration: 0:56:00\n",
      " user: 084 transportation mode: bus duration: 1:00:31\n",
      " user: 084 transportation mode: bus duration: 1:08:45\n",
      " user: 084 transportation mode: car duration: 0:35:45\n",
      " user: 084 transportation mode: bus duration: 1:04:23\n",
      " user: 084 transportation mode: bus duration: 1:29:00\n",
      " user: 084 transportation mode: bus duration: 1:18:50\n",
      " user: 085 transportation mode: bus duration: 0:43:00\n",
      " user: 085 transportation mode: walk duration: 0:06:15\n",
      " user: 085 transportation mode: walk duration: 4:10:47\n",
      " user: 085 transportation mode: walk duration: 11:35:03\n",
      " user: 085 transportation mode: bus duration: 0:49:00\n",
      " user: 085 transportation mode: bus duration: 0:48:25\n",
      " user: 085 transportation mode: bus duration: 0:20:39\n",
      " user: 085 transportation mode: walk duration: 0:15:50\n",
      " user: 085 transportation mode: walk duration: 0:33:46\n",
      " user: 085 transportation mode: walk duration: 0:09:45\n",
      " user: 085 transportation mode: walk duration: 0:09:32\n",
      " user: 085 transportation mode: walk duration: 0:06:58\n",
      " user: 085 transportation mode: bus duration: 0:13:22\n",
      " user: 085 transportation mode: walk duration: 0:19:54\n",
      " user: 085 transportation mode: bus duration: 0:21:40\n",
      " user: 085 transportation mode: bus duration: 0:58:25\n",
      " user: 085 transportation mode: subway duration: 1:00:33\n",
      " user: 085 transportation mode: subway duration: 0:27:18\n",
      " user: 085 transportation mode: subway duration: 0:34:48\n",
      " user: 085 transportation mode: subway duration: 0:54:36\n",
      " user: 085 transportation mode: subway duration: 0:37:38\n",
      " user: 085 transportation mode: subway duration: 0:36:33\n",
      " user: 085 transportation mode: walk duration: 0:16:44\n",
      " user: 085 transportation mode: walk duration: 0:07:58\n",
      " user: 085 transportation mode: walk duration: 0:11:45\n",
      " user: 085 transportation mode: subway duration: 0:42:53\n",
      " user: 085 transportation mode: subway duration: 0:29:13\n",
      " user: 085 transportation mode: subway duration: 0:30:59\n",
      " user: 085 transportation mode: subway duration: 0:29:50\n",
      " user: 085 transportation mode: walk duration: 0:10:48\n",
      " user: 085 transportation mode: subway duration: 0:28:08\n",
      " user: 085 transportation mode: subway duration: 0:28:08\n",
      " user: 086 transportation mode: car duration: 23:59:59\n",
      " user: 089 transportation mode: car duration: 0:37:32\n",
      " user: 091 transportation mode: walk duration: 0:04:04\n",
      " user: 091 transportation mode: walk duration: 15:00:11\n",
      " user: 092 transportation mode: walk duration: 0:08:58\n",
      " user: 092 transportation mode: bus duration: 0:47:37\n",
      " user: 097 transportation mode: bike duration: 23:59:59\n",
      " user: 097 transportation mode: bike duration: 23:59:59\n",
      " user: 097 transportation mode: bike duration: 23:59:58\n",
      " user: 097 transportation mode: bike duration: 23:59:58\n",
      " user: 097 transportation mode: bike duration: 23:59:58\n",
      " user: 097 transportation mode: bike duration: 23:59:58\n",
      " user: 097 transportation mode: bike duration: 23:59:58\n",
      " user: 097 transportation mode: bike duration: 23:59:58\n",
      " user: 098 transportation mode: taxi duration: 12:10:32\n",
      " user: 098 transportation mode: walk duration: 12:24:06\n",
      " user: 098 transportation mode: walk duration: 12:52:33\n",
      " user: 104 transportation mode: bus duration: 0:25:00\n",
      " user: 104 transportation mode: bus duration: 0:23:00\n",
      " user: 104 transportation mode: bus duration: 0:32:00\n",
      " user: 104 transportation mode: bus duration: 0:58:00\n",
      " user: 105 transportation mode: bike duration: 12:51:05\n",
      " user: 106 transportation mode: car duration: 23:59:59\n",
      " user: 106 transportation mode: car duration: 23:59:59\n",
      " user: 106 transportation mode: car duration: 23:59:59\n",
      " user: 108 transportation mode: car duration: 4:45:59\n",
      " user: 111 transportation mode: bike duration: 7:14:00\n",
      " user: 111 transportation mode: car duration: 6:16:00\n",
      " user: 111 transportation mode: car duration: 23:59:59\n",
      " user: 112 transportation mode: walk duration: 2:49:20\n",
      " user: 112 transportation mode: walk duration: 0:24:53\n",
      " user: 112 transportation mode: walk duration: 23:01:15\n",
      " user: 112 transportation mode: car duration: 0:26:20\n",
      " user: 115 transportation mode: car duration: 0:37:53\n",
      " user: 115 transportation mode: car duration: 10:56:47\n",
      " user: 115 transportation mode: car duration: 1:28:04\n",
      " user: 115 transportation mode: car duration: 1:22:05\n",
      " user: 115 transportation mode: car duration: 14:42:37\n",
      " user: 115 transportation mode: car duration: 1:02:50\n",
      " user: 115 transportation mode: car duration: 1:44:03\n",
      " user: 115 transportation mode: car duration: 1:00:56\n",
      " user: 115 transportation mode: car duration: 1:05:10\n",
      " user: 115 transportation mode: car duration: 1:23:14\n",
      " user: 115 transportation mode: car duration: 0:54:09\n",
      " user: 115 transportation mode: car duration: 1:08:43\n",
      " user: 115 transportation mode: car duration: 1:09:36\n",
      " user: 115 transportation mode: car duration: 1:03:47\n",
      " user: 115 transportation mode: car duration: 1:01:42\n",
      " user: 115 transportation mode: car duration: 0:55:50\n",
      " user: 115 transportation mode: car duration: 1:24:08\n",
      " user: 115 transportation mode: car duration: 1:17:13\n",
      " user: 115 transportation mode: car duration: 1:01:33\n",
      " user: 115 transportation mode: car duration: 1:03:29\n",
      " user: 115 transportation mode: car duration: 0:58:19\n",
      " user: 115 transportation mode: car duration: 12:17:23\n",
      " user: 115 transportation mode: car duration: 11:47:48\n",
      " user: 115 transportation mode: car duration: 12:21:14\n",
      " user: 115 transportation mode: car duration: 12:38:42\n",
      " user: 115 transportation mode: car duration: 15:29:53\n",
      " user: 115 transportation mode: car duration: 12:05:46\n",
      " user: 115 transportation mode: car duration: 7:46:29\n",
      " user: 115 transportation mode: car duration: 1:05:39\n",
      " user: 115 transportation mode: car duration: 0:57:48\n",
      " user: 115 transportation mode: car duration: 1:56:44\n",
      " user: 115 transportation mode: car duration: 1:08:14\n",
      " user: 115 transportation mode: car duration: 0:58:45\n",
      " user: 115 transportation mode: car duration: 1:04:03\n",
      " user: 125 transportation mode: bike duration: 0:30:57\n",
      " user: 126 transportation mode: bike duration: 0:18:47\n",
      " user: 126 transportation mode: train duration: 6:55:00\n",
      " user: 126 transportation mode: walk duration: 0:38:12\n",
      " user: 126 transportation mode: walk duration: 0:20:25\n",
      " user: 126 transportation mode: walk duration: 0:07:20\n",
      " user: 126 transportation mode: train duration: 1:54:07\n",
      " user: 128 transportation mode: walk duration: 0:35:00\n",
      " user: 128 transportation mode: walk duration: 0:52:00\n",
      " user: 128 transportation mode: bus duration: 2:00:00\n",
      " user: 128 transportation mode: walk duration: 0:07:00\n",
      " user: 128 transportation mode: bus duration: 2:40:00\n",
      " user: 128 transportation mode: train duration: 1:31:11\n",
      " user: 128 transportation mode: bike duration: 1:33:10\n",
      " user: 128 transportation mode: car duration: 1:04:19\n",
      " user: 128 transportation mode: walk duration: 5:21:53\n",
      " user: 128 transportation mode: walk duration: 3:07:12\n",
      " user: 128 transportation mode: car duration: 0:44:11\n",
      " user: 128 transportation mode: bus duration: 0:58:44\n",
      " user: 128 transportation mode: subway duration: 0:30:57\n",
      " user: 128 transportation mode: car duration: 0:33:08\n",
      " user: 128 transportation mode: car duration: 10:03:01\n",
      " user: 128 transportation mode: car duration: 1:40:04\n",
      " user: 128 transportation mode: airplane duration: 5:31:49\n",
      " user: 128 transportation mode: subway duration: 0:27:26\n",
      " user: 138 transportation mode: bike duration: 0:13:47\n",
      " user: 139 transportation mode: car duration: 4:45:59\n",
      " user: 153 transportation mode: taxi duration: 9:16:53\n",
      " user: 153 transportation mode: walk duration: 14:44:00\n",
      " user: 153 transportation mode: taxi duration: 2:17:50\n",
      " user: 153 transportation mode: walk duration: 10:01:28\n",
      " user: 153 transportation mode: walk duration: 0:02:52\n",
      " user: 153 transportation mode: bus duration: 0:11:52\n",
      " user: 153 transportation mode: walk duration: 0:01:56\n",
      " user: 153 transportation mode: bus duration: 0:07:46\n",
      " user: 153 transportation mode: bus duration: 0:07:42\n",
      " user: 153 transportation mode: bus duration: 0:10:04\n",
      " user: 153 transportation mode: walk duration: 0:13:50\n",
      " user: 153 transportation mode: walk duration: 0:12:19\n",
      " user: 153 transportation mode: bus duration: 0:30:04\n",
      " user: 153 transportation mode: bus duration: 0:26:31\n",
      " user: 153 transportation mode: bus duration: 0:09:32\n",
      " user: 153 transportation mode: bus duration: 0:19:58\n",
      " user: 153 transportation mode: bus duration: 0:09:22\n",
      " user: 153 transportation mode: walk duration: 0:07:36\n",
      " user: 153 transportation mode: walk duration: 0:17:53\n",
      " user: 153 transportation mode: bus duration: 0:24:00\n",
      " user: 153 transportation mode: bus duration: 0:09:05\n",
      " user: 153 transportation mode: walk duration: 0:06:12\n",
      " user: 163 transportation mode: walk duration: 4:06:15\n",
      " user: 163 transportation mode: taxi duration: 8:24:49\n",
      " user: 163 transportation mode: bike duration: 0:12:25\n",
      " user: 163 transportation mode: bike duration: 0:24:40\n",
      " user: 163 transportation mode: car duration: 1:17:24\n",
      " user: 163 transportation mode: walk duration: 0:22:00\n",
      " user: 163 transportation mode: walk duration: 0:22:58\n",
      " user: 163 transportation mode: taxi duration: 1:03:40\n",
      " user: 163 transportation mode: taxi duration: 13:32:07\n",
      " user: 163 transportation mode: bike duration: 15:25:39\n",
      " user: 163 transportation mode: walk duration: 13:07:49\n",
      " user: 163 transportation mode: car duration: 10:49:55\n",
      " user: 163 transportation mode: car duration: 11:12:19\n",
      " user: 163 transportation mode: walk duration: 9:23:05\n",
      " user: 163 transportation mode: walk duration: 1:43:48\n",
      " user: 163 transportation mode: bus duration: 0:13:02\n",
      " user: 163 transportation mode: bike duration: 14:49:29\n",
      " user: 163 transportation mode: walk duration: 0:23:14\n",
      " user: 163 transportation mode: walk duration: 0:24:11\n",
      " user: 163 transportation mode: bike duration: 0:11:18\n",
      " user: 163 transportation mode: walk duration: 0:25:58\n",
      " user: 163 transportation mode: bike duration: 13:47:20\n",
      " user: 163 transportation mode: bus duration: 0:07:56\n",
      " user: 163 transportation mode: walk duration: 0:05:48\n",
      " user: 163 transportation mode: walk duration: 13:50:01\n",
      " user: 163 transportation mode: bus duration: 0:05:27\n",
      " user: 163 transportation mode: walk duration: 23:59:59\n",
      " user: 163 transportation mode: walk duration: 0:37:32\n",
      " user: 163 transportation mode: bus duration: 0:09:35\n",
      " user: 163 transportation mode: walk duration: 7:59:58\n",
      " user: 163 transportation mode: walk duration: 0:02:40\n",
      " user: 163 transportation mode: bus duration: 0:07:53\n",
      " user: 163 transportation mode: car duration: 16:59:00\n",
      " user: 163 transportation mode: car duration: 16:59:00\n",
      " user: 163 transportation mode: car duration: 16:59:00\n",
      " user: 163 transportation mode: car duration: 16:59:00\n",
      " user: 163 transportation mode: car duration: 16:59:00\n",
      " user: 163 transportation mode: car duration: 16:59:00\n",
      " user: 163 transportation mode: car duration: 16:59:00\n",
      " user: 163 transportation mode: car duration: 16:59:00\n",
      " user: 163 transportation mode: car duration: 16:59:00\n",
      " user: 163 transportation mode: car duration: 16:59:00\n",
      " user: 163 transportation mode: car duration: 16:59:00\n",
      " user: 163 transportation mode: car duration: 16:59:00\n",
      " user: 163 transportation mode: car duration: 16:59:00\n",
      " user: 163 transportation mode: car duration: 17:59:00\n",
      " user: 163 transportation mode: car duration: 17:59:00\n",
      " user: 163 transportation mode: car duration: 17:59:00\n",
      " user: 163 transportation mode: car duration: 16:59:00\n",
      " user: 163 transportation mode: car duration: 16:59:00\n",
      " user: 163 transportation mode: car duration: 16:59:00\n",
      " user: 167 transportation mode: bike duration: 0:18:47\n",
      " user: 167 transportation mode: train duration: 6:55:00\n",
      " user: 167 transportation mode: walk duration: 0:12:02\n",
      " user: 167 transportation mode: taxi duration: 0:43:30\n",
      " user: 167 transportation mode: train duration: 1:54:07\n",
      " user: 167 transportation mode: walk duration: 12:09:52\n",
      "\n",
      "\n"
     ]
    }
   ],
   "source": [
    "users = \"\".join([f'\\n user: {user[0]} transportation mode: {user[1]} duration: {user[2]}' for user in users[0]])\n",
    "print(f\"The user who have an end date one day after the start day: {users}\")\n",
    "print(users[0])"
   ]
  },
  {
   "cell_type": "markdown",
   "source": [
    "### Task 8"
   ],
   "metadata": {
    "collapsed": false
   }
  },
  {
   "cell_type": "code",
   "execution_count": 24,
   "outputs": [
    {
     "data": {
      "text/plain": "'users, _ = executor.findCloseUsers()\\n\\nusers = \"\".join([f\\'\\n user: {user[0]} transportation mode: {user[1]} duration: {user[2]}\\' for user in users[0]])\\nprint(users[0])'"
     },
     "execution_count": 24,
     "metadata": {},
     "output_type": "execute_result"
    }
   ],
   "source": [
    "\"\"\"users, _ = executor.findCloseUsers()\n",
    "\n",
    "users = \"\".join([f'\\n user: {user[0]} transportation mode: {user[1]} duration: {user[2]}' for user in users[0]])\n",
    "print(users[0])\"\"\""
   ],
   "metadata": {
    "collapsed": false,
    "pycharm": {
     "name": "#%%\n"
    }
   }
  },
  {
   "cell_type": "markdown",
   "metadata": {},
   "source": [
    "### Task 10"
   ]
  },
  {
   "cell_type": "markdown",
   "metadata": {},
   "source": [
    "Find the users that have traveled the longest total distance in one day for each\n",
    "transportation mode."
   ]
  },
  {
   "cell_type": "markdown",
   "source": [
    "### Task 11"
   ],
   "metadata": {
    "collapsed": false
   }
  },
  {
   "cell_type": "code",
   "execution_count": 25,
   "outputs": [
    {
     "name": "stdout",
     "output_type": "stream",
     "text": [
      "The users that have invalid activities and the number of invalid activities each users has: \n",
      " user: 020 \t invalid activites: 15\n",
      " user: 021 \t invalid activites: 1\n",
      " user: 056 \t invalid activites: 2\n",
      " user: 058 \t invalid activites: 3\n",
      " user: 060 \t invalid activites: 1\n",
      " user: 062 \t invalid activites: 206\n",
      " user: 065 \t invalid activites: 6\n",
      " user: 067 \t invalid activites: 1\n",
      " user: 069 \t invalid activites: 1\n",
      " user: 073 \t invalid activites: 10\n",
      " user: 075 \t invalid activites: 1\n",
      " user: 076 \t invalid activites: 5\n",
      " user: 078 \t invalid activites: 7\n",
      " user: 080 \t invalid activites: 2\n",
      " user: 081 \t invalid activites: 2\n",
      " user: 084 \t invalid activites: 12\n",
      " user: 085 \t invalid activites: 17\n",
      " user: 086 \t invalid activites: 2\n",
      " user: 087 \t invalid activites: 1\n",
      " user: 089 \t invalid activites: 8\n",
      " user: 092 \t invalid activites: 1\n",
      " user: 097 \t invalid activites: 4\n",
      " user: 108 \t invalid activites: 7\n",
      " user: 111 \t invalid activites: 2\n",
      " user: 112 \t invalid activites: 18\n",
      " user: 115 \t invalid activites: 60\n",
      " user: 126 \t invalid activites: 6\n",
      " user: 128 \t invalid activites: 215\n",
      " user: 139 \t invalid activites: 7\n",
      " user: 144 \t invalid activites: 1\n",
      " user: 153 \t invalid activites: 2\n",
      " user: 163 \t invalid activites: 4\n",
      " user: 167 \t invalid activites: 4\n",
      " user: 175 \t invalid activites: 1\n"
     ]
    }
   ],
   "source": [
    "users, _ = executor.findInvalidActivities()\n",
    "\n",
    "users = \"\".join([f'\\n user: {user[0]} \\t invalid activites: {user[1]}' for user in users])\n",
    "print(f\"The users that have invalid activities and the number of invalid activities each users has: {users}\")"
   ],
   "metadata": {
    "collapsed": false,
    "pycharm": {
     "name": "#%%\n"
    }
   }
  },
  {
   "cell_type": "markdown",
   "source": [],
   "metadata": {
    "collapsed": false
   }
  },
  {
   "cell_type": "code",
   "execution_count": 26,
   "metadata": {},
   "outputs": [
    {
     "name": "stdout",
     "output_type": "stream",
     "text": [
      "\n",
      "-----------------------------------------------\n",
      "Connection to 8.0.34-0ubuntu0.22.04.1 is closed\n"
     ]
    }
   ],
   "source": [
    "# Closing the connection\n",
    "program.close_connection()"
   ]
  }
 ],
 "metadata": {
  "kernelspec": {
   "display_name": "Python 3",
   "language": "python",
   "name": "python3"
  },
  "language_info": {
   "codemirror_mode": {
    "name": "ipython",
    "version": 3
   },
   "file_extension": ".py",
   "mimetype": "text/x-python",
   "name": "python",
   "nbconvert_exporter": "python",
   "pygments_lexer": "ipython3",
   "version": "3.11.2"
  },
  "orig_nbformat": 4
 },
 "nbformat": 4,
 "nbformat_minor": 2
}