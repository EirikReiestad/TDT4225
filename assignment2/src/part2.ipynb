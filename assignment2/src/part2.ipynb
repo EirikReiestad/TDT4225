{
 "cells": [
  {
   "cell_type": "code",
   "execution_count": 1,
   "metadata": {},
   "outputs": [
    {
     "name": "stdout",
     "output_type": "stream",
     "text": [
      "Connected to: 8.0.34-0ubuntu0.22.04.1\n",
      "You are connected to the database: ('assignment2',)\n",
      "-----------------------------------------------\n",
      "\n",
      "Connected to: 8.0.34-0ubuntu0.22.04.1\n",
      "You are connected to the database: ('assignment2',)\n",
      "-----------------------------------------------\n",
      "\n"
     ]
    }
   ],
   "source": [
    "from DbConnector import DbConnector\n",
    "from part2 import Database \n",
    "\n",
    "# Set up the program\n",
    "program = DbConnector()\n",
    "db = Database()"
   ]
  },
  {
   "cell_type": "markdown",
   "metadata": {},
   "source": [
    "### Task 1"
   ]
  },
  {
   "cell_type": "markdown",
   "metadata": {},
   "source": [
    "How many users, activities and trackpoints are there in the dataset (after it is inserted into the database)"
   ]
  },
  {
   "cell_type": "code",
   "execution_count": null,
   "metadata": {},
   "outputs": [],
   "source": [
    "# Get the number of Users\n",
    "users = db.get_table_size(\"User\")\n",
    "print(f\"There are {users[0]} users\")\n",
    "\n",
    "# Get the number of Activities\n",
    "activities = db.get_table_size(\"Activity\")\n",
    "print(f\"There are {activities[0]} activities\")\n",
    "\n",
    "# Get the number of TrackPoints\n",
    "trackpoints = db.get_table_size(\"TrackPoint\")\n",
    "print(f\"There are {trackpoints[0]} trackpoints\")\n"
   ]
  },
  {
   "cell_type": "markdown",
   "metadata": {},
   "source": [
    "### Task 3"
   ]
  },
  {
   "cell_type": "markdown",
   "metadata": {},
   "source": [
    "Find the top 15 users with the highest number of activities."
   ]
  },
  {
   "cell_type": "code",
   "execution_count": null,
   "metadata": {},
   "outputs": [],
   "source": [
    "query = \"SELECT user_id FROM Activity GROUP BY user_id ORDER BY COUNT(*) DESC LIMIT 15\"\n",
    "program.cursor.execute(query)\n",
    "rows = program.cursor.fetchall()\n",
    "text = \"Top 15 users with the highest number of activities:\\n\"\n",
    "\n",
    "for i, val in enumerate(rows):\n",
    "    text += f\"Top {i+1}. {val[0]}\\n\"\n",
    "print(text)"
   ]
  },
  {
   "cell_type": "markdown",
   "metadata": {},
   "source": [
    "### Task 4"
   ]
  },
  {
   "cell_type": "markdown",
   "metadata": {},
   "source": [
    "Find all users who have taken a bus."
   ]
  },
  {
   "cell_type": "code",
   "execution_count": null,
   "metadata": {},
   "outputs": [],
   "source": [
    "# Get the users who have taken the bus\n",
    "users = db.get_user_taken_bus()\n",
    "users = \"\".join([f'\\n user: {user[0]}' for user in users[0]])\n",
    "print(f\"The user ids for user that have taken the bus: {users}\")"
   ]
  },
  {
   "cell_type": "markdown",
   "metadata": {},
   "source": [
    "### Task 6"
   ]
  },
  {
   "cell_type": "markdown",
   "metadata": {},
   "source": [
    "Find activities that are registered multiple times. You should find the query even\n",
    "if it gives zero result."
   ]
  },
  {
   "cell_type": "code",
   "execution_count": null,
   "metadata": {},
   "outputs": [],
   "source": [
    "query = \"SELECT a.id FROM Activity AS a WHERE EXISTS (SELECT b.id FROM Activity AS b WHERE a.user_id = b.user_id AND a.transportation_mode = b.transportation_mode AND a.start_date_time = b.start_date_time AND a.end_date_time = b.end_date_time AND a.id != b.id)\"\n",
    "program.cursor.execute(query)\n",
    "rows = program.cursor.fetchall()\n",
    "print(\"Find activities that are registered multiple times:\\n\", rows)"
   ]
  },
  {
   "cell_type": "markdown",
   "metadata": {},
   "source": [
    "### Task 7"
   ]
  },
  {
   "cell_type": "markdown",
   "metadata": {},
   "source": [
    "a) Find the number of users that have started an activity in one day and ended the activity the next day."
   ]
  },
  {
   "cell_type": "code",
   "execution_count": 2,
   "metadata": {},
   "outputs": [
    {
     "name": "stdout",
     "output_type": "stream",
     "text": [
      "Number of users with activity that ends the next day: 95\n"
     ]
    }
   ],
   "source": [
    "num_users = db.get_num_user_activity_over_a_day()\n",
    "\n",
    "print(f\"Number of users with activity that ends the next day: {num_users[0]}\")"
   ]
  },
  {
   "cell_type": "markdown",
   "metadata": {},
   "source": [
    "b) List the transportation mode, user id and duration for these activities."
   ]
  },
  {
   "cell_type": "code",
   "execution_count": 4,
   "metadata": {},
   "outputs": [
    {
     "name": "stdout",
     "output_type": "stream",
     "text": [
      "[('010', 'train', 995959), ('010', 'train', 871311), ('010', 'train', 69830922), ('010', 'train', 881322), ('010', 'train', 873139), ('010', 'train', 852015), ('010', 'train', 779025), ('010', 'bus', 764824), ('010', 'taxi', 768287), ('010', 'taxi', 765526), ('010', 'train', 767066), ('010', 'subway', 764896), ('010', 'taxi', 766575), ('010', 'taxi', 767060), ('010', 'train', 770115), ('010', 'train', 767011), ('010', 'train', 911606), ('010', 'walk', 765897), ('010', 'train', 70850862), ('010', 'train', 852453), ('010', 'taxi', 769812), ('010', 'train', 767066), ('010', 'taxi', 766713), ('010', 'taxi', 766701), ('010', 'taxi', 765821), ('010', 'taxi', 766101), ('020', 'bike', 861001), ('021', 'car', 820089), ('021', 'walk', 799713), ('052', 'airplane', 781826), ('052', 'bus', 769495), ('052', 'bus', 765895), ('052', 'bus', 764616), ('052', 'walk', 768865), ('052', 'bus', 837790), ('052', 'bus', 765135), ('053', 'walk', 765142), ('056', 'bike', 925959), ('056', 'bike', 925959), ('058', 'car', 767652), ('062', 'walk', 776344), ('062', 'bus', 780248), ('062', 'train', 800295), ('062', 'bus', 69769866), ('062', 'train', 893230), ('062', 'train', 854602), ('062', 'bus', 889004), ('062', 'bus', 776415), ('062', 'bus', 775246), ('062', 'walk', 839771), ('062', 'bus', 767569), ('062', 'bus', 767319), ('062', 'car', 882530), ('062', 'bus', 767216), ('062', 'bus', 766367), ('062', 'bus', 767015), ('064', 'walk', 764698), ('065', 'bike', 779302), ('067', 'walk', 765774), ('067', 'subway', 768405), ('068', 'bus', 772273), ('068', 'bike', 765140), ('068', 'bike', 765450), ('068', 'bike', 765282), ('068', 'bike', 765398), ('068', 'bike', 765514), ('068', 'car', 769948), ('068', 'bike', 764374), ('068', 'bike', 764784), ('068', 'bike', 70766190), ('068', 'bike', 765538), ('068', 'bike', 765076), ('068', 'bike', 765452), ('068', 'bike', 766008), ('068', 'bike', 774736), ('068', 'bike', 765316), ('068', 'bike', 797084), ('068', 'bike', 766848), ('068', 'bike', 766492), ('068', 'walk', 765601), ('068', 'bike', 765822), ('068', 'bike', 766492), ('068', 'bike', 766708), ('068', 'bike', 766712), ('068', 'bike', 766478), ('068', 'bike', 767466), ('068', 'bike', 766100), ('068', 'bike', 766698), ('068', 'bike', 765756), ('068', 'bike', 766182), ('068', 'bike', 765552), ('068', 'bike', 766078), ('068', 'bike', 69766086), ('068', 'bike', 765632), ('068', 'bike', 765408), ('068', 'bike', 765682), ('068', 'bike', 765816), ('068', 'bike', 765730), ('068', 'bike', 766394), ('068', 'bike', 766326), ('068', 'bike', 765686), ('068', 'bike', 766250), ('068', 'bike', 765776), ('068', 'bike', 766964), ('068', 'bike', 767709), ('068', 'bike', 765474), ('068', 'bus', 768200), ('068', 'bus', 766612), ('068', 'bus', 766271), ('068', 'bus', 767448), ('068', 'bus', 766062), ('068', 'bike', 766080), ('068', 'bike', 765528), ('068', 'bike', 765492), ('068', 'bike', 70765828), ('068', 'bike', 766008), ('068', 'bike', 765700), ('068', 'bike', 766164), ('068', 'bike', 767407), ('068', 'bus', 776497), ('068', 'bike', 767328), ('068', 'bus', 775728), ('068', 'walk', 780100), ('068', 'bike', 765822), ('068', 'bike', 765770), ('075', 'train', 995959), ('075', 'train', 871311), ('075', 'train', 69830922), ('075', 'train', 881322), ('075', 'train', 873139), ('075', 'train', 852015), ('075', 'train', 779025), ('075', 'walk', 764698), ('075', 'bus', 764824), ('075', 'taxi', 768287), ('075', 'taxi', 765526), ('075', 'train', 767066), ('075', 'subway', 764896), ('075', 'taxi', 766575), ('075', 'taxi', 767060), ('075', 'train', 770115), ('075', 'train', 767011), ('075', 'train', 911606), ('075', 'walk', 765897), ('075', 'train', 70850862), ('075', 'train', 852453), ('075', 'taxi', 769812), ('075', 'train', 767066), ('075', 'taxi', 766713), ('075', 'taxi', 766701), ('075', 'taxi', 765821), ('075', 'taxi', 766101), ('075', 'walk', 871399), ('076', 'car', 849821), ('076', 'car', 920807), ('076', 'car', 995959), ('076', 'car', 995959), ('076', 'car', 985959), ('076', 'car', 985959), ('076', 'car', 985959), ('081', 'bike', 767097), ('084', 'bus', 770255), ('084', 'subway', 766804), ('084', 'bus', 769478), ('084', 'bus', 770079), ('084', 'walk', 765296), ('084', 'bus', 769598), ('084', 'bus', 776960), ('084', 'subway', 768266), ('084', 'bus', 770792), ('084', 'walk', 769378), ('084', 'bus', 770956), ('084', 'bus', 770852), ('084', 'bus', 770294), ('084', 'bus', 769674), ('084', 'subway', 768223), ('084', 'bus', 768648), ('084', 'bus', 770396), ('084', 'bus', 769786), ('084', 'bus', 769284), ('084', 'subway', 768013), ('084', 'walk', 764442), ('084', 'bus', 770308), ('084', 'bus', 768745), ('084', 'bus', 770405), ('084', 'bus', 768505), ('084', 'bus', 769835), ('084', 'bus', 769935), ('084', 'bus', 770400), ('084', 'bus', 769945), ('084', 'bus', 770670), ('084', 'bus', 769600), ('084', 'bus', 770031), ('084', 'bus', 770845), ('084', 'car', 767585), ('084', 'bus', 770423), ('084', 'bus', 772900), ('084', 'bus', 771850), ('085', 'bus', 768300), ('085', 'walk', 764615), ('085', 'walk', 801087), ('085', 'walk', 873503), ('085', 'bus', 768900), ('085', 'bus', 69768825), ('085', 'bus', 766079), ('085', 'walk', 765590), ('085', 'walk', 767346), ('085', 'walk', 764985), ('085', 'walk', 764932), ('085', 'walk', 764698), ('085', 'bus', 765362), ('085', 'walk', 765994), ('085', 'bus', 766140), ('085', 'bus', 769865), ('085', 'subway', 770073), ('085', 'subway', 766718), ('085', 'subway', 767448), ('085', 'subway', 769476), ('085', 'subway', 767778), ('085', 'subway', 767633), ('085', 'walk', 765684), ('085', 'walk', 764798), ('085', 'walk', 765185), ('085', 'subway', 768293), ('085', 'subway', 69766913), ('085', 'subway', 767099), ('085', 'subway', 766990), ('085', 'walk', 765048), ('085', 'subway', 766808), ('085', 'subway', 766808), ('086', 'car', 995959), ('089', 'car', 767772), ('091', 'walk', 764404), ('091', 'walk', 910051), ('092', 'walk', 764898), ('092', 'bus', 768737), ('097', 'bike', 995959), ('097', 'bike', 995959), ('097', 'bike', 995958), ('097', 'bike', 995958), ('097', 'bike', 995958), ('097', 'bike', 995958), ('097', 'bike', 995958), ('097', 'bike', 995958), ('098', 'taxi', 881032), ('098', 'walk', 886406), ('098', 'walk', 889273), ('104', 'bus', 766500), ('104', 'bus', 766300), ('104', 'bus', 767200), ('104', 'bus', 769800), ('105', 'bike', 889105), ('106', 'car', 995959), ('106', 'car', 995959), ('106', 'car', 995959), ('108', 'car', 804599), ('111', 'bike', 831400), ('111', 'car', 821600), ('111', 'car', 995959), ('112', 'walk', 788920), ('112', 'walk', 766493), ('112', 'walk', 990115), ('112', 'car', 766660), ('115', 'car', 767793), ('115', 'car', 865647), ('115', 'car', 776804), ('115', 'car', 776205), ('115', 'car', 908277), ('115', 'car', 770290), ('115', 'car', 774403), ('115', 'car', 770096), ('115', 'car', 770510), ('115', 'car', 772314), ('115', 'car', 769409), ('115', 'car', 770843), ('115', 'car', 770976), ('115', 'car', 770387), ('115', 'car', 774182), ('115', 'car', 769590), ('115', 'car', 772408), ('115', 'car', 771713), ('115', 'car', 770133), ('115', 'car', 770329), ('115', 'car', 769819), ('115', 'car', 885763), ('115', 'car', 874788), ('115', 'car', 886114), ('115', 'car', 887882), ('115', 'car', 916993), ('115', 'car', 880586), ('115', 'car', 838669), ('115', 'car', 774539), ('115', 'car', 769788), ('115', 'car', 779684), ('115', 'car', 770814), ('115', 'car', 769885), ('115', 'car', 770403), ('125', 'bike', 767097), ('126', 'bike', 70765887), ('126', 'train', 829500), ('126', 'walk', 767812), ('126', 'walk', 766065), ('126', 'walk', 764720), ('126', 'train', 779407), ('128', 'walk', 767500), ('128', 'walk', 769200), ('128', 'bus', 780000), ('128', 'walk', 69764700), ('128', 'bus', 784000), ('128', 'train', 773111), ('128', 'bike', 773310), ('128', 'car', 770459), ('128', 'walk', 816153), ('128', 'walk', 790712), ('128', 'car', 768411), ('128', 'bus', 769884), ('128', 'subway', 767097), ('128', 'car', 767308), ('128', 'car', 72860301), ('128', 'car', 778004), ('128', 'airplane', 817189), ('128', 'subway', 766766), ('138', 'bike', 765387), ('139', 'car', 804599), ('153', 'taxi', 851653), ('153', 'walk', 908400), ('153', 'taxi', 781790), ('153', 'walk', 864168), ('153', 'walk', 764292), ('153', 'bus', 765192), ('153', 'walk', 764196), ('153', 'bus', 764786), ('153', 'bus', 764742), ('153', 'bus', 765004), ('153', 'walk', 765390), ('153', 'walk', 765219), ('153', 'bus', 767044), ('153', 'bus', 766631), ('153', 'bus', 764972), ('153', 'bus', 765998), ('153', 'bus', 764922), ('153', 'walk', 764776), ('153', 'walk', 70765753), ('153', 'bus', 766400), ('153', 'bus', 764905), ('153', 'walk', 764612), ('163', 'walk', 800615), ('163', 'taxi', 842489), ('163', 'bike', 765225), ('163', 'bike', 69766480), ('163', 'car', 775764), ('163', 'walk', 766200), ('163', 'walk', 766298), ('163', 'taxi', 770380), ('163', 'taxi', 893207), ('163', 'bike', 912579), ('163', 'walk', 894749), ('163', 'car', 864995), ('163', 'car', 871219), ('163', 'walk', 852305), ('163', 'walk', 774348), ('163', 'bus', 765302), ('163', 'bike', 908929), ('163', 'walk', 766314), ('163', 'walk', 766411), ('163', 'bike', 765118), ('163', 'walk', 766598), ('163', 'bike', 898720), ('163', 'bus', 764796), ('163', 'walk', 764588), ('163', 'walk', 899001), ('163', 'bus', 764567), ('163', 'walk', 995959), ('163', 'walk', 767772), ('163', 'bus', 764935), ('163', 'walk', 839998), ('163', 'walk', 70764280), ('163', 'bus', 764753), ('163', 'car', 925900), ('163', 'car', 925900), ('163', 'car', 925900), ('163', 'car', 925900), ('163', 'car', 925900), ('163', 'car', 925900), ('163', 'car', 925900), ('163', 'car', 925900), ('163', 'car', 925900), ('163', 'car', 925900), ('163', 'car', 925900), ('163', 'car', 925900), ('163', 'car', 925900), ('163', 'car', 69935900), ('163', 'car', 935900), ('163', 'car', 935900), ('163', 'car', 925900), ('163', 'car', 925900), ('163', 'car', 925900), ('167', 'bike', 70765887), ('167', 'train', 829500), ('167', 'walk', 765202), ('167', 'taxi', 768370), ('167', 'train', 779407), ('167', 'walk', 880992)]\n",
      "The user who have an end date one day after the start day: \n",
      " user: 010 transportation mode: train duration: 995959\n",
      " user: 010 transportation mode: train duration: 871311\n",
      " user: 010 transportation mode: train duration: 69830922\n",
      " user: 010 transportation mode: train duration: 881322\n",
      " user: 010 transportation mode: train duration: 873139\n",
      " user: 010 transportation mode: train duration: 852015\n",
      " user: 010 transportation mode: train duration: 779025\n",
      " user: 010 transportation mode: bus duration: 764824\n",
      " user: 010 transportation mode: taxi duration: 768287\n",
      " user: 010 transportation mode: taxi duration: 765526\n",
      " user: 010 transportation mode: train duration: 767066\n",
      " user: 010 transportation mode: subway duration: 764896\n",
      " user: 010 transportation mode: taxi duration: 766575\n",
      " user: 010 transportation mode: taxi duration: 767060\n",
      " user: 010 transportation mode: train duration: 770115\n",
      " user: 010 transportation mode: train duration: 767011\n",
      " user: 010 transportation mode: train duration: 911606\n",
      " user: 010 transportation mode: walk duration: 765897\n",
      " user: 010 transportation mode: train duration: 70850862\n",
      " user: 010 transportation mode: train duration: 852453\n",
      " user: 010 transportation mode: taxi duration: 769812\n",
      " user: 010 transportation mode: train duration: 767066\n",
      " user: 010 transportation mode: taxi duration: 766713\n",
      " user: 010 transportation mode: taxi duration: 766701\n",
      " user: 010 transportation mode: taxi duration: 765821\n",
      " user: 010 transportation mode: taxi duration: 766101\n",
      " user: 020 transportation mode: bike duration: 861001\n",
      " user: 021 transportation mode: car duration: 820089\n",
      " user: 021 transportation mode: walk duration: 799713\n",
      " user: 052 transportation mode: airplane duration: 781826\n",
      " user: 052 transportation mode: bus duration: 769495\n",
      " user: 052 transportation mode: bus duration: 765895\n",
      " user: 052 transportation mode: bus duration: 764616\n",
      " user: 052 transportation mode: walk duration: 768865\n",
      " user: 052 transportation mode: bus duration: 837790\n",
      " user: 052 transportation mode: bus duration: 765135\n",
      " user: 053 transportation mode: walk duration: 765142\n",
      " user: 056 transportation mode: bike duration: 925959\n",
      " user: 056 transportation mode: bike duration: 925959\n",
      " user: 058 transportation mode: car duration: 767652\n",
      " user: 062 transportation mode: walk duration: 776344\n",
      " user: 062 transportation mode: bus duration: 780248\n",
      " user: 062 transportation mode: train duration: 800295\n",
      " user: 062 transportation mode: bus duration: 69769866\n",
      " user: 062 transportation mode: train duration: 893230\n",
      " user: 062 transportation mode: train duration: 854602\n",
      " user: 062 transportation mode: bus duration: 889004\n",
      " user: 062 transportation mode: bus duration: 776415\n",
      " user: 062 transportation mode: bus duration: 775246\n",
      " user: 062 transportation mode: walk duration: 839771\n",
      " user: 062 transportation mode: bus duration: 767569\n",
      " user: 062 transportation mode: bus duration: 767319\n",
      " user: 062 transportation mode: car duration: 882530\n",
      " user: 062 transportation mode: bus duration: 767216\n",
      " user: 062 transportation mode: bus duration: 766367\n",
      " user: 062 transportation mode: bus duration: 767015\n",
      " user: 064 transportation mode: walk duration: 764698\n",
      " user: 065 transportation mode: bike duration: 779302\n",
      " user: 067 transportation mode: walk duration: 765774\n",
      " user: 067 transportation mode: subway duration: 768405\n",
      " user: 068 transportation mode: bus duration: 772273\n",
      " user: 068 transportation mode: bike duration: 765140\n",
      " user: 068 transportation mode: bike duration: 765450\n",
      " user: 068 transportation mode: bike duration: 765282\n",
      " user: 068 transportation mode: bike duration: 765398\n",
      " user: 068 transportation mode: bike duration: 765514\n",
      " user: 068 transportation mode: car duration: 769948\n",
      " user: 068 transportation mode: bike duration: 764374\n",
      " user: 068 transportation mode: bike duration: 764784\n",
      " user: 068 transportation mode: bike duration: 70766190\n",
      " user: 068 transportation mode: bike duration: 765538\n",
      " user: 068 transportation mode: bike duration: 765076\n",
      " user: 068 transportation mode: bike duration: 765452\n",
      " user: 068 transportation mode: bike duration: 766008\n",
      " user: 068 transportation mode: bike duration: 774736\n",
      " user: 068 transportation mode: bike duration: 765316\n",
      " user: 068 transportation mode: bike duration: 797084\n",
      " user: 068 transportation mode: bike duration: 766848\n",
      " user: 068 transportation mode: bike duration: 766492\n",
      " user: 068 transportation mode: walk duration: 765601\n",
      " user: 068 transportation mode: bike duration: 765822\n",
      " user: 068 transportation mode: bike duration: 766492\n",
      " user: 068 transportation mode: bike duration: 766708\n",
      " user: 068 transportation mode: bike duration: 766712\n",
      " user: 068 transportation mode: bike duration: 766478\n",
      " user: 068 transportation mode: bike duration: 767466\n",
      " user: 068 transportation mode: bike duration: 766100\n",
      " user: 068 transportation mode: bike duration: 766698\n",
      " user: 068 transportation mode: bike duration: 765756\n",
      " user: 068 transportation mode: bike duration: 766182\n",
      " user: 068 transportation mode: bike duration: 765552\n",
      " user: 068 transportation mode: bike duration: 766078\n",
      " user: 068 transportation mode: bike duration: 69766086\n",
      " user: 068 transportation mode: bike duration: 765632\n",
      " user: 068 transportation mode: bike duration: 765408\n",
      " user: 068 transportation mode: bike duration: 765682\n",
      " user: 068 transportation mode: bike duration: 765816\n",
      " user: 068 transportation mode: bike duration: 765730\n",
      " user: 068 transportation mode: bike duration: 766394\n",
      " user: 068 transportation mode: bike duration: 766326\n",
      " user: 068 transportation mode: bike duration: 765686\n",
      " user: 068 transportation mode: bike duration: 766250\n",
      " user: 068 transportation mode: bike duration: 765776\n",
      " user: 068 transportation mode: bike duration: 766964\n",
      " user: 068 transportation mode: bike duration: 767709\n",
      " user: 068 transportation mode: bike duration: 765474\n",
      " user: 068 transportation mode: bus duration: 768200\n",
      " user: 068 transportation mode: bus duration: 766612\n",
      " user: 068 transportation mode: bus duration: 766271\n",
      " user: 068 transportation mode: bus duration: 767448\n",
      " user: 068 transportation mode: bus duration: 766062\n",
      " user: 068 transportation mode: bike duration: 766080\n",
      " user: 068 transportation mode: bike duration: 765528\n",
      " user: 068 transportation mode: bike duration: 765492\n",
      " user: 068 transportation mode: bike duration: 70765828\n",
      " user: 068 transportation mode: bike duration: 766008\n",
      " user: 068 transportation mode: bike duration: 765700\n",
      " user: 068 transportation mode: bike duration: 766164\n",
      " user: 068 transportation mode: bike duration: 767407\n",
      " user: 068 transportation mode: bus duration: 776497\n",
      " user: 068 transportation mode: bike duration: 767328\n",
      " user: 068 transportation mode: bus duration: 775728\n",
      " user: 068 transportation mode: walk duration: 780100\n",
      " user: 068 transportation mode: bike duration: 765822\n",
      " user: 068 transportation mode: bike duration: 765770\n",
      " user: 075 transportation mode: train duration: 995959\n",
      " user: 075 transportation mode: train duration: 871311\n",
      " user: 075 transportation mode: train duration: 69830922\n",
      " user: 075 transportation mode: train duration: 881322\n",
      " user: 075 transportation mode: train duration: 873139\n",
      " user: 075 transportation mode: train duration: 852015\n",
      " user: 075 transportation mode: train duration: 779025\n",
      " user: 075 transportation mode: walk duration: 764698\n",
      " user: 075 transportation mode: bus duration: 764824\n",
      " user: 075 transportation mode: taxi duration: 768287\n",
      " user: 075 transportation mode: taxi duration: 765526\n",
      " user: 075 transportation mode: train duration: 767066\n",
      " user: 075 transportation mode: subway duration: 764896\n",
      " user: 075 transportation mode: taxi duration: 766575\n",
      " user: 075 transportation mode: taxi duration: 767060\n",
      " user: 075 transportation mode: train duration: 770115\n",
      " user: 075 transportation mode: train duration: 767011\n",
      " user: 075 transportation mode: train duration: 911606\n",
      " user: 075 transportation mode: walk duration: 765897\n",
      " user: 075 transportation mode: train duration: 70850862\n",
      " user: 075 transportation mode: train duration: 852453\n",
      " user: 075 transportation mode: taxi duration: 769812\n",
      " user: 075 transportation mode: train duration: 767066\n",
      " user: 075 transportation mode: taxi duration: 766713\n",
      " user: 075 transportation mode: taxi duration: 766701\n",
      " user: 075 transportation mode: taxi duration: 765821\n",
      " user: 075 transportation mode: taxi duration: 766101\n",
      " user: 075 transportation mode: walk duration: 871399\n",
      " user: 076 transportation mode: car duration: 849821\n",
      " user: 076 transportation mode: car duration: 920807\n",
      " user: 076 transportation mode: car duration: 995959\n",
      " user: 076 transportation mode: car duration: 995959\n",
      " user: 076 transportation mode: car duration: 985959\n",
      " user: 076 transportation mode: car duration: 985959\n",
      " user: 076 transportation mode: car duration: 985959\n",
      " user: 081 transportation mode: bike duration: 767097\n",
      " user: 084 transportation mode: bus duration: 770255\n",
      " user: 084 transportation mode: subway duration: 766804\n",
      " user: 084 transportation mode: bus duration: 769478\n",
      " user: 084 transportation mode: bus duration: 770079\n",
      " user: 084 transportation mode: walk duration: 765296\n",
      " user: 084 transportation mode: bus duration: 769598\n",
      " user: 084 transportation mode: bus duration: 776960\n",
      " user: 084 transportation mode: subway duration: 768266\n",
      " user: 084 transportation mode: bus duration: 770792\n",
      " user: 084 transportation mode: walk duration: 769378\n",
      " user: 084 transportation mode: bus duration: 770956\n",
      " user: 084 transportation mode: bus duration: 770852\n",
      " user: 084 transportation mode: bus duration: 770294\n",
      " user: 084 transportation mode: bus duration: 769674\n",
      " user: 084 transportation mode: subway duration: 768223\n",
      " user: 084 transportation mode: bus duration: 768648\n",
      " user: 084 transportation mode: bus duration: 770396\n",
      " user: 084 transportation mode: bus duration: 769786\n",
      " user: 084 transportation mode: bus duration: 769284\n",
      " user: 084 transportation mode: subway duration: 768013\n",
      " user: 084 transportation mode: walk duration: 764442\n",
      " user: 084 transportation mode: bus duration: 770308\n",
      " user: 084 transportation mode: bus duration: 768745\n",
      " user: 084 transportation mode: bus duration: 770405\n",
      " user: 084 transportation mode: bus duration: 768505\n",
      " user: 084 transportation mode: bus duration: 769835\n",
      " user: 084 transportation mode: bus duration: 769935\n",
      " user: 084 transportation mode: bus duration: 770400\n",
      " user: 084 transportation mode: bus duration: 769945\n",
      " user: 084 transportation mode: bus duration: 770670\n",
      " user: 084 transportation mode: bus duration: 769600\n",
      " user: 084 transportation mode: bus duration: 770031\n",
      " user: 084 transportation mode: bus duration: 770845\n",
      " user: 084 transportation mode: car duration: 767585\n",
      " user: 084 transportation mode: bus duration: 770423\n",
      " user: 084 transportation mode: bus duration: 772900\n",
      " user: 084 transportation mode: bus duration: 771850\n",
      " user: 085 transportation mode: bus duration: 768300\n",
      " user: 085 transportation mode: walk duration: 764615\n",
      " user: 085 transportation mode: walk duration: 801087\n",
      " user: 085 transportation mode: walk duration: 873503\n",
      " user: 085 transportation mode: bus duration: 768900\n",
      " user: 085 transportation mode: bus duration: 69768825\n",
      " user: 085 transportation mode: bus duration: 766079\n",
      " user: 085 transportation mode: walk duration: 765590\n",
      " user: 085 transportation mode: walk duration: 767346\n",
      " user: 085 transportation mode: walk duration: 764985\n",
      " user: 085 transportation mode: walk duration: 764932\n",
      " user: 085 transportation mode: walk duration: 764698\n",
      " user: 085 transportation mode: bus duration: 765362\n",
      " user: 085 transportation mode: walk duration: 765994\n",
      " user: 085 transportation mode: bus duration: 766140\n",
      " user: 085 transportation mode: bus duration: 769865\n",
      " user: 085 transportation mode: subway duration: 770073\n",
      " user: 085 transportation mode: subway duration: 766718\n",
      " user: 085 transportation mode: subway duration: 767448\n",
      " user: 085 transportation mode: subway duration: 769476\n",
      " user: 085 transportation mode: subway duration: 767778\n",
      " user: 085 transportation mode: subway duration: 767633\n",
      " user: 085 transportation mode: walk duration: 765684\n",
      " user: 085 transportation mode: walk duration: 764798\n",
      " user: 085 transportation mode: walk duration: 765185\n",
      " user: 085 transportation mode: subway duration: 768293\n",
      " user: 085 transportation mode: subway duration: 69766913\n",
      " user: 085 transportation mode: subway duration: 767099\n",
      " user: 085 transportation mode: subway duration: 766990\n",
      " user: 085 transportation mode: walk duration: 765048\n",
      " user: 085 transportation mode: subway duration: 766808\n",
      " user: 085 transportation mode: subway duration: 766808\n",
      " user: 086 transportation mode: car duration: 995959\n",
      " user: 089 transportation mode: car duration: 767772\n",
      " user: 091 transportation mode: walk duration: 764404\n",
      " user: 091 transportation mode: walk duration: 910051\n",
      " user: 092 transportation mode: walk duration: 764898\n",
      " user: 092 transportation mode: bus duration: 768737\n",
      " user: 097 transportation mode: bike duration: 995959\n",
      " user: 097 transportation mode: bike duration: 995959\n",
      " user: 097 transportation mode: bike duration: 995958\n",
      " user: 097 transportation mode: bike duration: 995958\n",
      " user: 097 transportation mode: bike duration: 995958\n",
      " user: 097 transportation mode: bike duration: 995958\n",
      " user: 097 transportation mode: bike duration: 995958\n",
      " user: 097 transportation mode: bike duration: 995958\n",
      " user: 098 transportation mode: taxi duration: 881032\n",
      " user: 098 transportation mode: walk duration: 886406\n",
      " user: 098 transportation mode: walk duration: 889273\n",
      " user: 104 transportation mode: bus duration: 766500\n",
      " user: 104 transportation mode: bus duration: 766300\n",
      " user: 104 transportation mode: bus duration: 767200\n",
      " user: 104 transportation mode: bus duration: 769800\n",
      " user: 105 transportation mode: bike duration: 889105\n",
      " user: 106 transportation mode: car duration: 995959\n",
      " user: 106 transportation mode: car duration: 995959\n",
      " user: 106 transportation mode: car duration: 995959\n",
      " user: 108 transportation mode: car duration: 804599\n",
      " user: 111 transportation mode: bike duration: 831400\n",
      " user: 111 transportation mode: car duration: 821600\n",
      " user: 111 transportation mode: car duration: 995959\n",
      " user: 112 transportation mode: walk duration: 788920\n",
      " user: 112 transportation mode: walk duration: 766493\n",
      " user: 112 transportation mode: walk duration: 990115\n",
      " user: 112 transportation mode: car duration: 766660\n",
      " user: 115 transportation mode: car duration: 767793\n",
      " user: 115 transportation mode: car duration: 865647\n",
      " user: 115 transportation mode: car duration: 776804\n",
      " user: 115 transportation mode: car duration: 776205\n",
      " user: 115 transportation mode: car duration: 908277\n",
      " user: 115 transportation mode: car duration: 770290\n",
      " user: 115 transportation mode: car duration: 774403\n",
      " user: 115 transportation mode: car duration: 770096\n",
      " user: 115 transportation mode: car duration: 770510\n",
      " user: 115 transportation mode: car duration: 772314\n",
      " user: 115 transportation mode: car duration: 769409\n",
      " user: 115 transportation mode: car duration: 770843\n",
      " user: 115 transportation mode: car duration: 770976\n",
      " user: 115 transportation mode: car duration: 770387\n",
      " user: 115 transportation mode: car duration: 774182\n",
      " user: 115 transportation mode: car duration: 769590\n",
      " user: 115 transportation mode: car duration: 772408\n",
      " user: 115 transportation mode: car duration: 771713\n",
      " user: 115 transportation mode: car duration: 770133\n",
      " user: 115 transportation mode: car duration: 770329\n",
      " user: 115 transportation mode: car duration: 769819\n",
      " user: 115 transportation mode: car duration: 885763\n",
      " user: 115 transportation mode: car duration: 874788\n",
      " user: 115 transportation mode: car duration: 886114\n",
      " user: 115 transportation mode: car duration: 887882\n",
      " user: 115 transportation mode: car duration: 916993\n",
      " user: 115 transportation mode: car duration: 880586\n",
      " user: 115 transportation mode: car duration: 838669\n",
      " user: 115 transportation mode: car duration: 774539\n",
      " user: 115 transportation mode: car duration: 769788\n",
      " user: 115 transportation mode: car duration: 779684\n",
      " user: 115 transportation mode: car duration: 770814\n",
      " user: 115 transportation mode: car duration: 769885\n",
      " user: 115 transportation mode: car duration: 770403\n",
      " user: 125 transportation mode: bike duration: 767097\n",
      " user: 126 transportation mode: bike duration: 70765887\n",
      " user: 126 transportation mode: train duration: 829500\n",
      " user: 126 transportation mode: walk duration: 767812\n",
      " user: 126 transportation mode: walk duration: 766065\n",
      " user: 126 transportation mode: walk duration: 764720\n",
      " user: 126 transportation mode: train duration: 779407\n",
      " user: 128 transportation mode: walk duration: 767500\n",
      " user: 128 transportation mode: walk duration: 769200\n",
      " user: 128 transportation mode: bus duration: 780000\n",
      " user: 128 transportation mode: walk duration: 69764700\n",
      " user: 128 transportation mode: bus duration: 784000\n",
      " user: 128 transportation mode: train duration: 773111\n",
      " user: 128 transportation mode: bike duration: 773310\n",
      " user: 128 transportation mode: car duration: 770459\n",
      " user: 128 transportation mode: walk duration: 816153\n",
      " user: 128 transportation mode: walk duration: 790712\n",
      " user: 128 transportation mode: car duration: 768411\n",
      " user: 128 transportation mode: bus duration: 769884\n",
      " user: 128 transportation mode: subway duration: 767097\n",
      " user: 128 transportation mode: car duration: 767308\n",
      " user: 128 transportation mode: car duration: 72860301\n",
      " user: 128 transportation mode: car duration: 778004\n",
      " user: 128 transportation mode: airplane duration: 817189\n",
      " user: 128 transportation mode: subway duration: 766766\n",
      " user: 138 transportation mode: bike duration: 765387\n",
      " user: 139 transportation mode: car duration: 804599\n",
      " user: 153 transportation mode: taxi duration: 851653\n",
      " user: 153 transportation mode: walk duration: 908400\n",
      " user: 153 transportation mode: taxi duration: 781790\n",
      " user: 153 transportation mode: walk duration: 864168\n",
      " user: 153 transportation mode: walk duration: 764292\n",
      " user: 153 transportation mode: bus duration: 765192\n",
      " user: 153 transportation mode: walk duration: 764196\n",
      " user: 153 transportation mode: bus duration: 764786\n",
      " user: 153 transportation mode: bus duration: 764742\n",
      " user: 153 transportation mode: bus duration: 765004\n",
      " user: 153 transportation mode: walk duration: 765390\n",
      " user: 153 transportation mode: walk duration: 765219\n",
      " user: 153 transportation mode: bus duration: 767044\n",
      " user: 153 transportation mode: bus duration: 766631\n",
      " user: 153 transportation mode: bus duration: 764972\n",
      " user: 153 transportation mode: bus duration: 765998\n",
      " user: 153 transportation mode: bus duration: 764922\n",
      " user: 153 transportation mode: walk duration: 764776\n",
      " user: 153 transportation mode: walk duration: 70765753\n",
      " user: 153 transportation mode: bus duration: 766400\n",
      " user: 153 transportation mode: bus duration: 764905\n",
      " user: 153 transportation mode: walk duration: 764612\n",
      " user: 163 transportation mode: walk duration: 800615\n",
      " user: 163 transportation mode: taxi duration: 842489\n",
      " user: 163 transportation mode: bike duration: 765225\n",
      " user: 163 transportation mode: bike duration: 69766480\n",
      " user: 163 transportation mode: car duration: 775764\n",
      " user: 163 transportation mode: walk duration: 766200\n",
      " user: 163 transportation mode: walk duration: 766298\n",
      " user: 163 transportation mode: taxi duration: 770380\n",
      " user: 163 transportation mode: taxi duration: 893207\n",
      " user: 163 transportation mode: bike duration: 912579\n",
      " user: 163 transportation mode: walk duration: 894749\n",
      " user: 163 transportation mode: car duration: 864995\n",
      " user: 163 transportation mode: car duration: 871219\n",
      " user: 163 transportation mode: walk duration: 852305\n",
      " user: 163 transportation mode: walk duration: 774348\n",
      " user: 163 transportation mode: bus duration: 765302\n",
      " user: 163 transportation mode: bike duration: 908929\n",
      " user: 163 transportation mode: walk duration: 766314\n",
      " user: 163 transportation mode: walk duration: 766411\n",
      " user: 163 transportation mode: bike duration: 765118\n",
      " user: 163 transportation mode: walk duration: 766598\n",
      " user: 163 transportation mode: bike duration: 898720\n",
      " user: 163 transportation mode: bus duration: 764796\n",
      " user: 163 transportation mode: walk duration: 764588\n",
      " user: 163 transportation mode: walk duration: 899001\n",
      " user: 163 transportation mode: bus duration: 764567\n",
      " user: 163 transportation mode: walk duration: 995959\n",
      " user: 163 transportation mode: walk duration: 767772\n",
      " user: 163 transportation mode: bus duration: 764935\n",
      " user: 163 transportation mode: walk duration: 839998\n",
      " user: 163 transportation mode: walk duration: 70764280\n",
      " user: 163 transportation mode: bus duration: 764753\n",
      " user: 163 transportation mode: car duration: 925900\n",
      " user: 163 transportation mode: car duration: 925900\n",
      " user: 163 transportation mode: car duration: 925900\n",
      " user: 163 transportation mode: car duration: 925900\n",
      " user: 163 transportation mode: car duration: 925900\n",
      " user: 163 transportation mode: car duration: 925900\n",
      " user: 163 transportation mode: car duration: 925900\n",
      " user: 163 transportation mode: car duration: 925900\n",
      " user: 163 transportation mode: car duration: 925900\n",
      " user: 163 transportation mode: car duration: 925900\n",
      " user: 163 transportation mode: car duration: 925900\n",
      " user: 163 transportation mode: car duration: 925900\n",
      " user: 163 transportation mode: car duration: 925900\n",
      " user: 163 transportation mode: car duration: 69935900\n",
      " user: 163 transportation mode: car duration: 935900\n",
      " user: 163 transportation mode: car duration: 935900\n",
      " user: 163 transportation mode: car duration: 925900\n",
      " user: 163 transportation mode: car duration: 925900\n",
      " user: 163 transportation mode: car duration: 925900\n",
      " user: 167 transportation mode: bike duration: 70765887\n",
      " user: 167 transportation mode: train duration: 829500\n",
      " user: 167 transportation mode: walk duration: 765202\n",
      " user: 167 transportation mode: taxi duration: 768370\n",
      " user: 167 transportation mode: train duration: 779407\n",
      " user: 167 transportation mode: walk duration: 880992\n",
      "\n",
      "\n"
     ]
    }
   ],
   "source": [
    "users = db.get_user_activity_over_a_day()\n",
    "\n",
    "users = \"\".join([f'\\n user: {user[0]} transportation mode: {user[1]} duration: {user[2]}' for user in users])\n",
    "print(f\"The user who have an end date one day after the start day: {users}\")"
   ]
  },
  {
   "cell_type": "markdown",
   "metadata": {},
   "source": [
    "### Task 9"
   ]
  },
  {
   "cell_type": "markdown",
   "metadata": {},
   "source": [
    "Find the top 15 users who have gained the most altitude meters."
   ]
  },
  {
   "cell_type": "code",
   "execution_count": null,
   "metadata": {},
   "outputs": [],
   "source": [
    "query = \"SELECT user_id, sum(activity_altitude)*0.304 as altitude_in_meters FROM Activity JOIN (SELECT activity_id, SUM(difference) AS activity_altitude FROM (SELECT activity_id, altitude - LAG(altitude) OVER (PARTITION BY activity_id ORDER BY date_time) AS difference FROM TrackPoint) AS altitude_difference WHERE difference > 0 GROUP BY activity_id) AS difference_table ON Activity.id = difference_table.activity_id GROUP BY user_id ORDER BY altitude_in_meters DESC LIMIT 15\"\n",
    "program.cursor.execute(query)\n",
    "rows = program.cursor.fetchall()\n",
    "text = \"Find the top 15 users who have gained the most altitude meters\\n\"\n",
    "for i in rows:\n",
    "    text += f\"User: {i[0]}, Altitude in meters: {i[1]}\\n\"\n",
    "print(text)"
   ]
  },
  {
   "cell_type": "markdown",
   "metadata": {},
   "source": [
    "### Task 10"
   ]
  },
  {
   "cell_type": "markdown",
   "metadata": {},
   "source": [
    "Find the users that have traveled the longest total distance in one day for each\n",
    "transportation mode."
   ]
  },
  {
   "cell_type": "code",
   "execution_count": null,
   "metadata": {},
   "outputs": [],
   "source": []
  },
  {
   "cell_type": "markdown",
   "metadata": {},
   "source": [
    "### Task 12"
   ]
  },
  {
   "cell_type": "markdown",
   "metadata": {},
   "source": [
    "Find all the users who have registered transportation_mode and their most used transportation_mode"
   ]
  },
  {
   "cell_type": "markdown",
   "metadata": {},
   "source": [
    "Comment on implementation: Although with this dataset, does not need to join User, however in cases where user does not have labels, but still has some activities in Activity with transportation_mode then a join is necessary. For users that have the same number of activities tagged on multiple transportation mode, we've decided to take the first transportation mode in alphabetical order."
   ]
  },
  {
   "cell_type": "code",
   "execution_count": null,
   "metadata": {},
   "outputs": [],
   "source": [
    "query = \"SELECT user_id, transportation_mode FROM ( SELECT user_id, transportation_mode, ROW_NUMBER() OVER (PARTITION BY user_id ORDER BY COUNT(*) DESC, transportation_mode ASC) AS rownum FROM Activity JOIN User ON Activity.user_id = User.id WHERE transportation_mode IS NOT NULL AND User.has_labels=TRUE GROUP BY user_id, transportation_mode) AS activity_grouped WHERE rownum=1 ORDER BY user_id\"\n",
    "program.cursor.execute(query)\n",
    "rows = program.cursor.fetchall()\n",
    "text = \"Find all the users who have registered transportation_mode and their most used transportation_mode\\n\"\n",
    "for row in rows:\n",
    "    text += f\"User {row[0]}, Transportation mode: {row[1]}\\n\"\n",
    "print(text)"
   ]
  },
  {
   "cell_type": "markdown",
   "metadata": {},
   "source": [
    "### End"
   ]
  },
  {
   "cell_type": "code",
   "execution_count": null,
   "metadata": {},
   "outputs": [],
   "source": [
    "# Closing the connection\n",
    "program.close_connection()"
   ]
  }
 ],
 "metadata": {
  "kernelspec": {
   "display_name": "Python 3",
   "language": "python",
   "name": "python3"
  },
  "language_info": {
   "codemirror_mode": {
    "name": "ipython",
    "version": 3
   },
   "file_extension": ".py",
   "mimetype": "text/x-python",
   "name": "python",
   "nbconvert_exporter": "python",
   "pygments_lexer": "ipython3",
   "version": "3.11.2"
  },
  "orig_nbformat": 4
 },
 "nbformat": 4,
 "nbformat_minor": 2
}
