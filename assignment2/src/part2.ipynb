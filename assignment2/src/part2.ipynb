{
 "cells": [
  {
   "cell_type": "code",
   "execution_count": 1,
   "metadata": {},
   "outputs": [
    {
     "name": "stdout",
     "output_type": "stream",
     "text": [
      "Using user:  common\n",
      "Connected to: 8.0.34-0ubuntu0.22.04.1\n",
      "You are connected to the database: ('assignment2',)\n",
      "-----------------------------------------------\n",
      "\n"
     ]
    }
   ],
   "source": [
    "from DbConnector import DbConnector\n",
    "#from part2 import Database\n",
    "from tabulate import tabulate\n",
    "\n",
    "# Set up the program\n",
    "from dotenv import load_dotenv\n",
    "import os\n",
    "import numpy as np\n",
    "from datetime import datetime, timedelta\n",
    "from haversine import haversine, Unit\n",
    "\n",
    "load_dotenv()\n",
    "\n",
    "db = DbConnector()"
   ]
  },
  {
   "cell_type": "markdown",
   "metadata": {},
   "source": [
    "### Task 1"
   ]
  },
  {
   "cell_type": "markdown",
   "metadata": {},
   "source": [
    "How many users, activities and trackpoints are there in the dataset (after it is inserted into the database)"
   ]
  },
  {
   "cell_type": "code",
   "execution_count": null,
   "metadata": {},
   "outputs": [],
   "source": [
    "result: list = []\n",
    "\n",
    "for table_name in [\"User\", \"Activity\", \"TrackPoint\"]:\n",
    "    query = \"SELECT COUNT(*) FROM %s\"\n",
    "    db.cursor.execute(query % table_name)\n",
    "    result.append(db.cursor.fetchone())\n",
    "\n",
    "print(\"Number of Users, Activities and TrackPoints after the dataset has been inserted into the database\")\n",
    "print(tabulate([[\"Users\", \"Activities\", \"TrackPoints\"], [result[0][0], result[1][0], result[2][0]]], headers=\"firstrow\"))"
   ]
  },
  {
   "cell_type": "markdown",
   "metadata": {},
   "source": [
    "### Task 2\n",
    "Find the average, maximum and minimum number of trackpoints per user"
   ]
  },
  {
   "cell_type": "markdown",
   "metadata": {},
   "source": [
    "##### Average"
   ]
  },
  {
   "cell_type": "code",
   "execution_count": null,
   "metadata": {},
   "outputs": [],
   "source": [
    "# Get the average number of trackpoints per user\n",
    "query = \"\"\"\n",
    "SELECT User.id, COALESCE(average, 0) AS average \n",
    "    FROM User LEFT JOIN (SELECT user_id, AVG(trackpoints) average \n",
    "    FROM (SELECT Activity.user_id , COUNT(t.id) AS trackpoints \n",
    "    FROM TrackPoint t JOIN Activity ON t.activity_id = Activity.id \n",
    "    JOIN User ON Activity.user_id = User.id GROUP BY Activity.id) \n",
    "AS Trackpoints GROUP BY user_id) a ON a.user_id = User.id\"\"\"\n",
    "db.cursor.execute(query)\n",
    "rows = db.cursor.fetchall()\n",
    "print(\"Average trackpoints per user\")\n",
    "print(tabulate(rows, headers=db.cursor.column_names))\n"
   ]
  },
  {
   "cell_type": "markdown",
   "metadata": {},
   "source": [
    "##### Maximum"
   ]
  },
  {
   "cell_type": "code",
   "execution_count": null,
   "metadata": {},
   "outputs": [],
   "source": [
    "# Get the maximum number of trackpoints per user\n",
    "query = \"\"\"SELECT User.id, COALESCE(maximum, 0) AS maximum \n",
    "                FROM User LEFT JOIN (SELECT user_id, MAX(trackpoints) AS maximum \n",
    "                FROM (SELECT Activity.user_id , COUNT(t.id) AS trackpoints FROM TrackPoint t \n",
    "                INNER JOIN Activity ON t.activity_id = Activity.id GROUP BY Activity.id) \n",
    "                AS Trackpoints GROUP BY user_id) a ON a.user_id = User.id\"\"\"\n",
    "db.cursor.execute(query)\n",
    "rows = db.cursor.fetchall()\n",
    "print(\"Maximum trackpoints per user\")\n",
    "print(tabulate(rows, headers=db.cursor.column_names))"
   ]
  },
  {
   "cell_type": "markdown",
   "metadata": {},
   "source": [
    "##### Minimum"
   ]
  },
  {
   "cell_type": "code",
   "execution_count": null,
   "metadata": {},
   "outputs": [],
   "source": [
    "# Get the minimum number of trackpoints per user\n",
    "query = \"\"\"\n",
    "        SELECT User.id, COALESCE(minimum, 0) AS minimum FROM User LEFT JOIN (SELECT user_id, MIN(trackpoints) AS minimum\n",
    "            FROM (SELECT Activity.user_id , COUNT(t.id) AS trackpoints \n",
    "            FROM TrackPoint t\n",
    "            INNER JOIN Activity ON t.activity_id = Activity.id \n",
    "            GROUP BY Activity.id) \n",
    "            AS Trackpoints \n",
    "            GROUP BY user_id) a ON a.user_id = User.id\n",
    "            \"\"\"\n",
    "db.cursor.execute(query)\n",
    "rows = db.cursor.fetchall()\n",
    "print(\"Minimum trackpoints per user\")\n",
    "print(tabulate(rows, headers=db.cursor.column_names))"
   ]
  },
  {
   "cell_type": "markdown",
   "metadata": {},
   "source": [
    "### Task 3"
   ]
  },
  {
   "cell_type": "markdown",
   "metadata": {},
   "source": [
    "Find the top 15 users with the highest number of activities."
   ]
  },
  {
   "cell_type": "code",
   "execution_count": null,
   "metadata": {},
   "outputs": [],
   "source": [
    "query = \"\"\"\n",
    "    SELECT RANK() OVER (\n",
    "        ORDER BY COUNT(*) DESC\n",
    "    ) Top, user_id, COUNT(*) as num_of_activities FROM Activity GROUP BY user_id ORDER BY COUNT(*) DESC LIMIT 15\n",
    "    \"\"\"\n",
    "db.cursor.execute(query)\n",
    "rows = db.cursor.fetchall()\n",
    "columns = db.cursor.column_names\n",
    "print(\"Top 15 users with the highest number of activities\")\n",
    "print(tabulate(rows, headers=columns))"
   ]
  },
  {
   "cell_type": "markdown",
   "metadata": {},
   "source": [
    "### Task 4"
   ]
  },
  {
   "cell_type": "markdown",
   "metadata": {},
   "source": [
    "Find all users who have taken a bus."
   ]
  },
  {
   "cell_type": "code",
   "execution_count": null,
   "metadata": {},
   "outputs": [],
   "source": [
    "# Get the users who have taken the bus\n",
    "query = \"\"\"\n",
    "SELECT DISTINCT user_id\n",
    "FROM Activity\n",
    "WHERE transportation_mode = 'bus'\n",
    "\"\"\"\n",
    "db.cursor.execute(query)\n",
    "users = db.cursor.fetchall()\n",
    "\n",
    "table = [[\"User id\"]]\n",
    "table.extend([user for user in users])\n",
    "print(\"All users who have taken a bus\")\n",
    "print(tabulate(table, headers=\"firstrow\"))"
   ]
  },
  {
   "cell_type": "markdown",
   "metadata": {},
   "source": [
    "### Task 5"
   ]
  },
  {
   "cell_type": "markdown",
   "metadata": {},
   "source": [
    "List the top 10 users by their amount of different transportation modes."
   ]
  },
  {
   "cell_type": "code",
   "execution_count": null,
   "metadata": {},
   "outputs": [],
   "source": [
    "query = \"\"\"SELECT RANK() OVER (\n",
    "        ORDER BY COUNT(DISTINCT(transportation_mode)) DESC\n",
    "        ) AS Top, user_id, COUNT(DISTINCT(transportation_mode)) as DifferentTransportation \n",
    "                    FROM Activity GROUP BY user_id ORDER BY DifferentTransportation DESC LIMIT 10;\"\"\"\n",
    "db.cursor.execute(query)\n",
    "rows = db.cursor.fetchall()\n",
    "print(\"Top 10 users by their amount of different transportation modes\")\n",
    "print(tabulate(rows, headers=db.cursor.column_names))"
   ]
  },
  {
   "cell_type": "markdown",
   "metadata": {},
   "source": [
    "### Task 6"
   ]
  },
  {
   "cell_type": "markdown",
   "metadata": {},
   "source": [
    "Find activities that are registered multiple times. You should find the query even\n",
    "if it gives zero result.\n",
    "\n",
    "Assumption: Registered multiple times, meaning duplicates with the same user_id, transportation_mode, start_date_time, end_date_time."
   ]
  },
  {
   "cell_type": "code",
   "execution_count": null,
   "metadata": {},
   "outputs": [],
   "source": [
    "query = \"\"\"\n",
    "    SELECT a.id FROM Activity AS a WHERE EXISTS \n",
    "        (SELECT b.id FROM Activity AS b WHERE a.user_id = b.user_id \n",
    "        AND a.transportation_mode = b.transportation_mode AND \n",
    "        a.start_date_time = b.start_date_time AND a.end_date_time = b.end_date_time \n",
    "        AND a.id != b.id)\n",
    "    \"\"\"\n",
    "db.cursor.execute(query)\n",
    "rows = db.cursor.fetchall()\n",
    "columns = db.cursor.column_names\n",
    "print(\"Activities that are registered multiple times\")\n",
    "print(tabulate(rows, headers=columns))"
   ]
  },
  {
   "cell_type": "markdown",
   "metadata": {},
   "source": [
    "### Task 7"
   ]
  },
  {
   "cell_type": "markdown",
   "metadata": {},
   "source": [
    "a) Find the number of users that have started an activity in one day and ended the activity the next day."
   ]
  },
  {
   "cell_type": "code",
   "execution_count": null,
   "metadata": {},
   "outputs": [],
   "source": [
    "query = \"\"\"\n",
    "SELECT COUNT(DISTINCT user_id) \n",
    "FROM Activity \n",
    "WHERE DATEDIFF(end_date_time, start_date_time) > 0;\n",
    "\"\"\"\n",
    "db.cursor.execute(query)\n",
    "num_users = db.cursor.fetchone()\n",
    "\n",
    "print(\"Number of users with activity that ends the next day\")\n",
    "print(tabulate([[\"Number of users\"], [num_users[0]]], headers=\"firstrow\"))"
   ]
  },
  {
   "cell_type": "markdown",
   "metadata": {},
   "source": [
    "b) List the transportation mode, user id and duration for these activities.\n",
    "\n",
    "Assumption: As the question explicitly mentions transportation mode we do not count the rows in the Activity table with transportation mode equals NULL as relevant to this question. Thus, there are less rows in this sub task."
   ]
  },
  {
   "cell_type": "code",
   "execution_count": null,
   "metadata": {},
   "outputs": [],
   "source": [
    "query = \"\"\"\n",
    "SELECT \n",
    "    user_id, \n",
    "    transportation_mode, \n",
    "    SEC_TO_TIME(TIMESTAMPDIFF(SECOND, start_date_time, end_date_time))\n",
    "FROM Activity \n",
    "WHERE DATEDIFF(end_date_time, start_date_time) > 0\n",
    "AND transportation_mode IS NOT NULL;\n",
    "\"\"\"\n",
    "db.cursor.execute(query)\n",
    "users_info = db.cursor.fetchall()\n",
    "\n",
    "table = [[\"User\", \"Transportation Mode\", \"Duration\"]]\n",
    "content = [[user[0], user[1], user[2]] for user in users_info]\n",
    "table.extend(content)\n",
    "\n",
    "print(tabulate(table, headers=\"firstrow\"))"
   ]
  },
  {
   "cell_type": "markdown",
   "metadata": {},
   "source": [
    "### Task 8"
   ]
  },
  {
   "cell_type": "markdown",
   "metadata": {},
   "source": [
    "Find the number of users which have been close to each other in time and space. Close is defined as the same space (50 meters) and for the same half minute (30 seconds)"
   ]
  },
  {
   "cell_type": "code",
   "execution_count": null,
   "metadata": {},
   "outputs": [],
   "source": [
    "# Sorting the trackpoints by date_time to make it fast to find the datepoints within 30 seconds\n",
    "query = \"\"\"SELECT a.user_id, date_time, lat,lon FROM TrackPoint t\n",
    "INNER JOIN Activity a\n",
    "ON a.id = t.activity_id\n",
    "ORDER BY date_time ASC\"\"\"\n",
    "\n",
    "# Looping through all the squares\n",
    "users = []\n",
    "db.cursor.execute(query)\n",
    "rows = db.cursor.fetchall()\n",
    "\n",
    "\n",
    "for i in range(len(rows)-1):\n",
    "    for j in range(i,len(rows)):\n",
    "        # Skip the rest of the loop if the time difference is more than 30 seconds and they are sorted\n",
    "        if rows[j][1] - rows[i][1] > timedelta(seconds=30):\n",
    "            break\n",
    "        # Dont do anything if the same user\n",
    "        if rows[i][0] == rows[j][0]:\n",
    "            continue\n",
    "        # Checking if the trackpoints are within 30 seconds of each other\n",
    "        if rows[j][1] - rows[i][1] <= timedelta(seconds=30):\n",
    "\n",
    "            # Checking if the trackpoints are within 50 meters of each other\n",
    "            distance = haversine((rows[i][2], rows[i][3]), (rows[j][2], rows[j][3]), unit=Unit.METERS)\n",
    "\n",
    "            if distance <= 50:\n",
    "                # Adding the users to the list\n",
    "                users.append(rows[i][0])\n",
    "                users.append(rows[j][0])\n",
    "\n",
    "\n",
    "# Removes duplicates\n",
    "users = np.unique(users)\n",
    "\n",
    "print(f\"{len(users)} have been close to each other in time and space\")"
   ]
  },
  {
   "cell_type": "markdown",
   "metadata": {},
   "source": [
    "### Task 9"
   ]
  },
  {
   "cell_type": "markdown",
   "metadata": {},
   "source": [
    "Find the top 15 users who have gained the most altitude meters."
   ]
  },
  {
   "cell_type": "code",
   "execution_count": null,
   "metadata": {},
   "outputs": [],
   "source": [
    "# 1. Retrieve all the trackpoints which is valid\n",
    "# 2. Calculate the difference between the current trackpoint's altitude and the previous one\n",
    "# 3. Calculate the sum of difference if the difference is postive based on the tip given in task for each activity\n",
    "# 4. Sum each user's altitude positive differences in feet with 0.304 to convert it to meters\n",
    "\n",
    "query = \"\"\"SELECT RANK() OVER (\n",
    "        ORDER BY SUM(activity_altitude)*0.304 DESC\n",
    "        ) AS Top, user_id, SUM(activity_altitude)*0.304 as altitude_in_meters FROM Activity JOIN \n",
    "        (SELECT activity_id, SUM(difference) AS activity_altitude FROM \n",
    "        (SELECT activity_id, altitude - LAG(altitude) OVER \n",
    "        (PARTITION BY activity_id ORDER BY date_time) AS difference FROM \n",
    "        (SELECT activity_id, altitude, date_time FROM TrackPoint WHERE altitude != -777) AS t) \n",
    "        AS altitude_difference WHERE difference > 0 GROUP BY activity_id) AS difference_table \n",
    "        ON Activity.id = difference_table.activity_id GROUP BY user_id ORDER BY altitude_in_meters DESC \n",
    "        LIMIT 15\"\"\"\n",
    "db.cursor.execute(query)\n",
    "rows = db.cursor.fetchall()\n",
    "print(\"Top 15 users who have gained the most altitude meters\")\n",
    "print(tabulate(rows, headers=db.cursor.column_names))"
   ]
  },
  {
   "cell_type": "markdown",
   "metadata": {},
   "source": [
    "### Task 10"
   ]
  },
  {
   "cell_type": "markdown",
   "metadata": {},
   "source": [
    "Find the users that have traveled the longest total distance in one day for each\n",
    "transportation mode."
   ]
  },
  {
   "cell_type": "markdown",
   "metadata": {},
   "source": [
    "The first approach, and the one we want to present, search for the longest distance by a user in one day (date, like in task 7 where it did not go over to the next day). However, it did not need to be continuous, so all the activities for a user that day (for a transportation mode) was summed up."
   ]
  },
  {
   "cell_type": "code",
   "execution_count": 5,
   "metadata": {},
   "outputs": [],
   "source": [
    "# Find the users that have traveld the longest total distance in one day for each transportation mode\n",
    "\n",
    "from haversine import haversine, Unit\n",
    " \n",
    "query = \"\"\"\n",
    "SELECT a.id, tp.lat, tp.lon, CAST(tp.date_time AS date) AS day, a.transportation_mode, a.user_id\n",
    "FROM Activity a\n",
    "INNER JOIN TrackPoint tp\n",
    "ON a.id = tp.activity_id\n",
    "WHERE a.transportation_mode IS NOT NULL\n",
    "ORDER BY a.user_id, a.transportation_mode, tp.date_time ASC\n",
    "\"\"\"\n",
    "\n",
    "db.cursor.execute(query)\n",
    "result = db.cursor.fetchall()"
   ]
  },
  {
   "cell_type": "code",
   "execution_count": 11,
   "metadata": {},
   "outputs": [
    {
     "name": "stdout",
     "output_type": "stream",
     "text": [
      "  User  Transportation mode      Distance (km)\n",
      "------  ---------------------  ---------------\n",
      "   128  bus                        207.413\n",
      "   128  taxi                        40.2233\n",
      "   128  bike                        63.1206\n",
      "   062  walk                        42.3526\n",
      "   128  car                       1613.73\n",
      "   062  run                          0.0332532\n",
      "   062  train                      277.258\n",
      "   128  subway                      38.8775\n",
      "   128  airplane                  2527.12\n",
      "   128  boat                        65.5548\n"
     ]
    }
   ],
   "source": [
    "activities = {} # This contains an overview of all the activities for each user for each date\n",
    "\n",
    "\"\"\"\n",
    "activities = {\n",
    "    user_id: {\n",
    "        transportation_mode: {\n",
    "            date: {\n",
    "                distance: int,\n",
    "                position: (lat, lon),\n",
    "            }\n",
    "        }\n",
    "    }\n",
    "}\n",
    "\"\"\"\n",
    "\n",
    "for res in result:\n",
    "    user_id = res[5]\n",
    "    transportation_mode = res[4]\n",
    "    date = res[3]\n",
    "    lat = res[1]\n",
    "    lon = res[2]\n",
    "\n",
    "    if user_id not in activities:\n",
    "        activities[user_id] = {}\n",
    "\n",
    "    if transportation_mode not in activities[user_id]:\n",
    "        activities[user_id][transportation_mode] = {}\n",
    "\n",
    "    if date not in activities[user_id][transportation_mode]:\n",
    "        activities[user_id][transportation_mode][date] = {\n",
    "            \"distance\": 0,\n",
    "            \"position\": (lat, lon),\n",
    "        }\n",
    "\n",
    "    if activities[user_id][transportation_mode][date][\"position\"] != (lat, lon):\n",
    "        activities[user_id][transportation_mode][date][\"distance\"] += haversine(\n",
    "            activities[user_id][transportation_mode][date][\"position\"], (lat, lon), unit=Unit.KILOMETERS)\n",
    "        activities[user_id][transportation_mode][date][\"position\"] = (lat, lon)\n",
    "\n",
    "longest_activities = {} # This contains the longest activity for each transportation mode \n",
    "\n",
    "for user_id in activities:\n",
    "    for transportation_mode in activities[user_id]:\n",
    "        for date in activities[user_id][transportation_mode]:\n",
    "            if transportation_mode not in longest_activities:\n",
    "                longest_activities[transportation_mode] = {\n",
    "                    \"distance\": activities[user_id][transportation_mode][date][\"distance\"],\n",
    "                    \"user_id\": user_id,\n",
    "                }\n",
    "            elif longest_activities[transportation_mode][\"distance\"] < activities[user_id][transportation_mode][date][\"distance\"]:\n",
    "                longest_activities[transportation_mode] = {\n",
    "                    \"distance\": activities[user_id][transportation_mode][date][\"distance\"],\n",
    "                    \"user_id\": user_id,\n",
    "                }\n",
    "\n",
    "# Create a table with the longest activity for each transportation mode\n",
    "users = []\n",
    "for transportation_mode in longest_activities:\n",
    "    distance = longest_activities[transportation_mode][\"distance\"]\n",
    "    user_id = longest_activities[transportation_mode][\"user_id\"]\n",
    "    users.append((user_id, transportation_mode, distance))\n",
    "\n",
    "table = [[\"User\", \"Transportation mode\", \"Distance (km)\"]]\n",
    "table.extend(users)\n",
    "\n",
    "print(tabulate(table, headers=\"firstrow\"))"
   ]
  },
  {
   "cell_type": "markdown",
   "metadata": {},
   "source": [
    "This is another approach to the exercise, where we take the longest distance where we look at the distance of one activity and ensure that it doesn't last for more than 24 hours. \n",
    "\n",
    "Note: When it comes to code, it was written a bit differently (with less for loops), reason being that the \"run\" transportation mode was suspiciously low, so did not want to use the same approach (or code wise with regards of for loops and dict inside dict inside dict etc.) to ensure that the code was correct (at least one of them)."
   ]
  },
  {
   "cell_type": "code",
   "execution_count": 12,
   "metadata": {},
   "outputs": [
    {
     "name": "stdout",
     "output_type": "stream",
     "text": [
      "  User  Transportation mode      Distance (km)\n",
      "------  ---------------------  ---------------\n",
      "   128  bus                        207.413\n",
      "   128  taxi                        40.2233\n",
      "   139  walk                        22.8074\n",
      "   128  bike                        52.5372\n",
      "   128  car                        331.418\n",
      "   062  run                          0.0332532\n",
      "   062  train                      277.258\n",
      "   128  subway                      23.2978\n",
      "   128  airplane                  4391.42\n",
      "   128  boat                        65.5548\n"
     ]
    }
   ],
   "source": [
    "from haversine import haversine, Unit\n",
    "\n",
    "query = \"\"\"\n",
    "SELECT a.id, tp.lat, tp.lon, a.transportation_mode, a.user_id\n",
    "FROM Activity a\n",
    "INNER JOIN TrackPoint tp ON a.id = tp.activity_id \n",
    "WHERE a.transportation_mode IS NOT NULL\n",
    "ORDER BY a.id, tp.date_time ASC;\n",
    "\"\"\"\n",
    "\n",
    "db.cursor.execute(query)\n",
    "result = db.cursor.fetchall()\n",
    "\n",
    "# Keeps track of the activities\n",
    "activity_information = {} # dict: activity_id: [user_id, transportation_mode, distance]\n",
    "previous_activity_position = {} # Keep track of the last position of each activity\n",
    "\n",
    "activity_distance = {} # Keep track of the distance of each activity\n",
    "transportation = {} # Keep track of the transportation mode of each activity\n",
    "activity_user = {} # Keep track of the user of each activity\n",
    "\n",
    "# Go through all the activities and calculate the distance between the current and last position\n",
    "for res in result:\n",
    "    # Read from query result\n",
    "    activity_id = res[0]\n",
    "    current_position = (res[1], res[2])\n",
    "    transportation_mode = res[3]\n",
    "    user_id = res[4]\n",
    "\n",
    "    # Set the previous positions\n",
    "    previous_position = previous_activity_position.get(activity_id, current_position)\n",
    "    previous_activity_position[activity_id] = current_position # Update the last position\n",
    "\n",
    "    # Calculate the distance\n",
    "    current_activity_information = activity_information.get(activity_id, [0,0,0])\n",
    "    distance = current_activity_information[2] + haversine(current_position, previous_position, unit=Unit.KILOMETERS)\n",
    "\n",
    "    # Update the activity information\n",
    "    activity_information[activity_id] = [user_id, transportation_mode, distance]\n",
    "\n",
    "# Find the longest activity for each transportation mode\n",
    "longest_activities = {} # dict: transportation_mode: [distance, user_id, activity_id]\n",
    "for activity_id, info in activity_information.items():\n",
    "    user_id, transportation_mode, distance = info\n",
    "    previous_longest_activity = longest_activities.get(transportation_mode, [0,0,0])\n",
    "\n",
    "    # Check if activity is longer\n",
    "    if previous_longest_activity[0] > distance:\n",
    "        continue\n",
    "\n",
    "    # Update longest activity\n",
    "    longest_activities[transportation_mode] = [distance, user_id, activity_id]\n",
    "\n",
    "\n",
    "# Create a table with the longest activity for each transportation mode\n",
    "users = []\n",
    "for transportation_mode, items in longest_activities.items():\n",
    "    distance, user_id, activity_id = items\n",
    "    users.append((user_id, transportation_mode, distance))\n",
    "\n",
    "table = [[\"User\", \"Transportation mode\", \"Distance (km)\"]]\n",
    "table.extend(users)\n",
    "\n",
    "print(tabulate(table, headers=\"firstrow\"))"
   ]
  },
  {
   "cell_type": "markdown",
   "metadata": {},
   "source": [
    "### Task 11"
   ]
  },
  {
   "cell_type": "markdown",
   "metadata": {},
   "source": [
    "Find all users who have invalid activities, and the number of invalid activities per user."
   ]
  },
  {
   "cell_type": "code",
   "execution_count": null,
   "metadata": {},
   "outputs": [],
   "source": [
    "\n",
    "query = \"\"\"SELECT a.user_id, count(*)\n",
    "                FROM Activity a\n",
    "                JOIN TrackPoint t1\n",
    "                ON a.id = t1.activity_id\n",
    "                JOIN TrackPoint t2\n",
    "                ON t1.id = t2.id-1\n",
    "                AND t1.activity_id = t2.activity_id\n",
    "                WHERE t2.date_time > t1.date_time + INTERVAL 5 MINUTE\n",
    "                AND t1.id != t2.id\n",
    "                GROUP BY a.user_id\n",
    "                ORDER BY a.user_id ASC\"\"\"\n",
    "\n",
    "db.cursor.execute(query)\n",
    "rows = db.cursor.fetchall()\n",
    "print(tabulate(rows, headers=db.cursor.column_names))"
   ]
  },
  {
   "cell_type": "markdown",
   "metadata": {},
   "source": [
    "### Task 12"
   ]
  },
  {
   "cell_type": "markdown",
   "metadata": {},
   "source": [
    "Find all the users who have registered transportation_mode and their most used transportation_mode"
   ]
  },
  {
   "cell_type": "markdown",
   "metadata": {},
   "source": [
    "Comment on implementation: Although with this dataset, does not need to join User, however in cases where user does not have labels, but still has some activities in Activity with transportation_mode then a join is necessary. For users that have the same number of activities tagged on multiple transportation mode, we've decided to take the first transportation mode in alphabetical order."
   ]
  },
  {
   "cell_type": "code",
   "execution_count": null,
   "metadata": {},
   "outputs": [],
   "source": [
    "query = \"\"\"SELECT user_id, transportation_mode FROM \n",
    "        (SELECT user_id, transportation_mode, ROW_NUMBER() OVER (PARTITION BY user_id ORDER BY COUNT(*) DESC, transportation_mode ASC) \n",
    "        AS rownum FROM Activity JOIN User ON Activity.user_id = User.id WHERE transportation_mode IS NOT NULL \n",
    "        AND User.has_labels=TRUE GROUP BY user_id, transportation_mode)\n",
    "        AS activity_grouped WHERE rownum=1 ORDER BY user_id\"\"\"\n",
    "db.cursor.execute(query)\n",
    "rows = db.cursor.fetchall()\n",
    "print(\"Find all the users who have registered transportation_mode and their most used transportation_mode\")\n",
    "print(tabulate(rows, headers=db.cursor.column_names))"
   ]
  },
  {
   "cell_type": "markdown",
   "metadata": {},
   "source": [
    "### End"
   ]
  },
  {
   "cell_type": "code",
   "execution_count": null,
   "metadata": {},
   "outputs": [],
   "source": [
    "# Closing the connection\n",
    "db.close_connection()"
   ]
  }
 ],
 "metadata": {
  "kernelspec": {
   "display_name": "Python 3",
   "language": "python",
   "name": "python3"
  },
  "language_info": {
   "codemirror_mode": {
    "name": "ipython",
    "version": 3
   },
   "file_extension": ".py",
   "mimetype": "text/x-python",
   "name": "python",
   "nbconvert_exporter": "python",
   "pygments_lexer": "ipython3",
   "version": "3.11.2"
  },
  "orig_nbformat": 4
 },
 "nbformat": 4,
 "nbformat_minor": 2
}
