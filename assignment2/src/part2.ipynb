{
 "cells": [
  {
   "cell_type": "code",
   "execution_count": null,
   "metadata": {},
   "outputs": [],
   "source": [
    "from DbConnector import DbConnector\n",
    "from part2 import Database \n",
    "from tabulate import tabulate\n",
    "\n",
    "# Set up the program\n",
    "from dotenv import load_dotenv\n",
    "import os\n",
    "\n",
    "load_dotenv()\n",
    "\n",
    "user = os.getenv('DB_USER')\n",
    "password = os.getenv('DB_PASSWORD')\n",
    "\n",
    "program = DbConnector(USER=user, PASSWORD=password)"
   ]
  },
  {
   "cell_type": "markdown",
   "metadata": {},
   "source": [
    "### Task 1"
   ]
  },
  {
   "cell_type": "markdown",
   "metadata": {},
   "source": [
    "How many users, activities and trackpoints are there in the dataset (after it is inserted into the database)"
   ]
  },
  {
   "cell_type": "code",
   "execution_count": null,
   "metadata": {},
   "outputs": [],
   "source": [
    "\n",
    "result: list = []\n",
    "\n",
    "for table_name in [\"User\", \"Activity\", \"TrackPoint\"]:\n",
    "    query = \"SELECT COUNT(*) FROM %s\"\n",
    "    program.cursor.execute(query % table_name)\n",
    "    result.append(program.cursor.fetchone())\n",
    "\n",
    "print(\"Number of Users, Activities and TrackPoints\")\n",
    "print(tabulate([[\"Users\", \"Activities\", \"TrackPoints\"], [result[0][0], result[1][0], result[2][0]]], headers=\"firstrow\"))"
   ]
  },
  {
   "cell_type": "markdown",
   "metadata": {},
   "source": [
    "### Task 3"
   ]
  },
  {
   "cell_type": "markdown",
   "metadata": {},
   "source": [
    "Find the top 15 users with the highest number of activities."
   ]
  },
  {
   "cell_type": "code",
   "execution_count": null,
   "metadata": {},
   "outputs": [],
   "source": [
    "query = \"SELECT user_id FROM Activity GROUP BY user_id ORDER BY COUNT(*) DESC LIMIT 15\"\n",
    "program.cursor.execute(query)\n",
    "rows = program.cursor.fetchall()\n",
    "text = \"Top 15 users with the highest number of activities:\\n\"\n",
    "\n",
    "for i, val in enumerate(rows):\n",
    "    text += f\"Top {i+1}. {val[0]}\\n\"\n",
    "print(text)"
   ]
  },
  {
   "cell_type": "markdown",
   "metadata": {},
   "source": [
    "### Task 4"
   ]
  },
  {
   "cell_type": "markdown",
   "metadata": {},
   "source": [
    "Find all users who have taken a bus."
   ]
  },
  {
   "cell_type": "code",
   "execution_count": null,
   "metadata": {},
   "outputs": [],
   "source": [
    "# Get the users who have taken the bus\n",
    "query = \"\"\"\n",
    "SELECT DISTINCT user_id\n",
    "FROM Activity\n",
    "WHERE transportation_mode = 'bus'\n",
    "\"\"\"\n",
    "program.cursor.execute(query)\n",
    "users = program.cursor.fetchall()\n",
    "\n",
    "table = [[\"User id\"]]\n",
    "table.extend([user for user in users])\n",
    "print(tabulate(table, headers=\"firstrow\"))"
   ]
  },
  {
   "cell_type": "markdown",
   "metadata": {},
   "source": [
    "### Task 6"
   ]
  },
  {
   "cell_type": "markdown",
   "metadata": {},
   "source": [
    "Find activities that are registered multiple times. You should find the query even\n",
    "if it gives zero result."
   ]
  },
  {
   "cell_type": "code",
   "execution_count": null,
   "metadata": {},
   "outputs": [],
   "source": [
    "query = \"\"\"\n",
    "SELECT a.id \n",
    "FROM Activity AS a \n",
    "WHERE EXISTS (\n",
    "    SELECT b.id \n",
    "    FROM Activity AS b \n",
    "    WHERE a.user_id = b.user_id \n",
    "    AND a.transportation_mode = b.transportation_mode \n",
    "    AND a.start_date_time = b.start_date_time \n",
    "    AND a.end_date_time = b.end_date_time \n",
    "    AND a.id != b.id)\"\"\"\n",
    "program.cursor.execute(query)\n",
    "rows = program.cursor.fetchall()\n",
    "print(\"Find activities that are registered multiple times:\\n\", rows)"
   ]
  },
  {
   "cell_type": "markdown",
   "metadata": {},
   "source": [
    "### Task 7"
   ]
  },
  {
   "cell_type": "markdown",
   "metadata": {},
   "source": [
    "a) Find the number of users that have started an activity in one day and ended the activity the next day."
   ]
  },
  {
   "cell_type": "code",
   "execution_count": null,
   "metadata": {},
   "outputs": [],
   "source": [
    "query = \"\"\"\n",
    "SELECT COUNT(DISTINCT user_id) \n",
    "FROM Activity \n",
    "WHERE DATEDIFF(end_date_time, start_date_time) > 0;\n",
    "\"\"\"\n",
    "program.cursor.execute(query)\n",
    "num_users = program.cursor.fetchone()\n",
    "\n",
    "print(\"Number of users with activity that ends the next day\")\n",
    "print(tabulate([[\"Number of users\"], [num_users[0]]], headers=\"firstrow\"))"
   ]
  },
  {
   "cell_type": "markdown",
   "metadata": {},
   "source": [
    "b) List the transportation mode, user id and duration for these activities."
   ]
  },
  {
   "cell_type": "code",
   "execution_count": null,
   "metadata": {},
   "outputs": [],
   "source": [
    "query = \"\"\"\n",
    "SELECT \n",
    "    user_id, \n",
    "    transportation_mode, \n",
    "    SEC_TO_TIME(TIMESTAMPDIFF(SECOND, start_date_time, end_date_time))\n",
    "FROM Activity \n",
    "WHERE DATEDIFF(end_date_time, start_date_time) > 0\n",
    "AND transportation_mode IS NOT NULL;\n",
    "\"\"\"\n",
    "program.cursor.execute(query)\n",
    "users_info = program.cursor.fetchall()\n",
    "\n",
    "table = [[\"User\", \"Transportation Mode\", \"Duration\"]]\n",
    "content = [[user[0], user[1], user[2]] for user in users_info]\n",
    "table.extend(content)\n",
    "\n",
    "print(tabulate(table, headers=\"firstrow\"))"
   ]
  },
  {
   "cell_type": "markdown",
   "metadata": {},
   "source": [
    "### Task 9"
   ]
  },
  {
   "cell_type": "markdown",
   "metadata": {},
   "source": [
    "Find the top 15 users who have gained the most altitude meters."
   ]
  },
  {
   "cell_type": "code",
   "execution_count": null,
   "metadata": {},
   "outputs": [],
   "source": [
    "query = \"SELECT user_id, sum(activity_altitude)*0.304 as altitude_in_meters FROM Activity JOIN (SELECT activity_id, SUM(difference) AS activity_altitude FROM (SELECT activity_id, altitude - LAG(altitude) OVER (PARTITION BY activity_id ORDER BY date_time) AS difference FROM TrackPoint) AS altitude_difference WHERE difference > 0 GROUP BY activity_id) AS difference_table ON Activity.id = difference_table.activity_id GROUP BY user_id ORDER BY altitude_in_meters DESC LIMIT 15\"\n",
    "program.cursor.execute(query)\n",
    "rows = program.cursor.fetchall()\n",
    "text = \"Find the top 15 users who have gained the most altitude meters\\n\"\n",
    "for i in rows:\n",
    "    text += f\"User: {i[0]}, Altitude in meters: {i[1]}\\n\"\n",
    "print(text)"
   ]
  },
  {
   "cell_type": "markdown",
   "metadata": {},
   "source": [
    "### Task 10"
   ]
  },
  {
   "cell_type": "markdown",
   "metadata": {},
   "source": [
    "Find the users that have traveled the longest total distance in one day for each\n",
    "transportation mode."
   ]
  },
  {
   "cell_type": "code",
   "execution_count": null,
   "metadata": {},
   "outputs": [],
   "source": [
    "from haversine import haversine, Unit\n",
    "\n",
    "query = \"\"\"\n",
    "SELECT a.id, tp.lat, tp.lon, a.transportation_mode, a.user_id\n",
    "FROM Activity a\n",
    "INNER JOIN TrackPoint tp ON a.id = tp.activity_id \n",
    "WHERE (TIMESTAMPDIFF(SECOND, a.start_date_time, a.end_date_time)) < 60 * 60 * 24\n",
    "AND a.transportation_mode IS NOT NULL;\n",
    "\"\"\"\n",
    "\n",
    "program.cursor.execute(query)\n",
    "result = program.cursor.fetchall()\n",
    "\n",
    "activity = {} # Keep track of the distance of each activity\n",
    "last_activity_position = {} # Keep track of the last position of each activity\n",
    "transportation = {} # Keep track of the transportation mode of each activity\n",
    "activity_user = {} # Keep track of the user of each activity\n",
    "\n",
    "# Go through all the activities and calculate the distance between the current and last position\n",
    "for res in result:\n",
    "    activity_id = res[0]\n",
    "    current_position = (res[1], res[2])\n",
    "    last_position = last_activity_position.get(activity_id, current_position)\n",
    "    last_activity_position[activity_id] = current_position # Update the last position\n",
    "    distance = haversine(current_position, last_position, unit=Unit.KILOMETERS)\n",
    "    activity[activity_id] = activity.get(activity_id, 0) + distance # Update the distance\n",
    "    transportation[activity_id] = res[3]\n",
    "    activity_user[activity_id] = res[4]\n",
    "\n",
    "# Find the longest activity for each transportation mode\n",
    "longest_activity = {}\n",
    "for act in activity.items():\n",
    "    transportation_mode = transportation[act[0]]\n",
    "    longest_activity[transportation_mode] = (\n",
    "        act[0],\n",
    "        max(act[1], longest_activity.get(transportation_mode, (0, 0))[1]),\n",
    "    ) # Update the longest activity\n",
    "\n",
    "# Create a table with the longest activity for each transportation mode\n",
    "users = []\n",
    "for longest in longest_activity.items():\n",
    "    activity_id = longest[1][0]\n",
    "    transportation_mode = longest[0]\n",
    "    user_id = activity_user[activity_id]\n",
    "    distance = activity[activity_id]\n",
    "    users.append((user_id, transportation_mode, distance))\n",
    "\n",
    "table = [[\"User\", \"Transportation mode\", \"Distance (km)\"]]\n",
    "table.extend(users)\n",
    "\n",
    "print(tabulate(table, headers=\"firstrow\"))"
   ]
  },
  {
   "cell_type": "markdown",
   "metadata": {},
   "source": [
    "### Task 12"
   ]
  },
  {
   "cell_type": "markdown",
   "metadata": {},
   "source": [
    "Find all the users who have registered transportation_mode and their most used transportation_mode"
   ]
  },
  {
   "cell_type": "markdown",
   "metadata": {},
   "source": [
    "Comment on implementation: Although with this dataset, does not need to join User, however in cases where user does not have labels, but still has some activities in Activity with transportation_mode then a join is necessary. For users that have the same number of activities tagged on multiple transportation mode, we've decided to take the first transportation mode in alphabetical order."
   ]
  },
  {
   "cell_type": "code",
   "execution_count": null,
   "metadata": {},
   "outputs": [],
   "source": [
    "query = \"SELECT user_id, transportation_mode FROM ( SELECT user_id, transportation_mode, ROW_NUMBER() OVER (PARTITION BY user_id ORDER BY COUNT(*) DESC, transportation_mode ASC) AS rownum FROM Activity JOIN User ON Activity.user_id = User.id WHERE transportation_mode IS NOT NULL AND User.has_labels=TRUE GROUP BY user_id, transportation_mode) AS activity_grouped WHERE rownum=1 ORDER BY user_id\"\n",
    "program.cursor.execute(query)\n",
    "rows = program.cursor.fetchall()\n",
    "text = \"Find all the users who have registered transportation_mode and their most used transportation_mode\\n\"\n",
    "for row in rows:\n",
    "    text += f\"User {row[0]}, Transportation mode: {row[1]}\\n\"\n",
    "print(tabulate(rows))"
   ]
  },
  {
   "cell_type": "markdown",
   "metadata": {},
   "source": [
    "### End"
   ]
  },
  {
   "cell_type": "code",
   "execution_count": null,
   "metadata": {},
   "outputs": [],
   "source": [
    "# Closing the connection\n",
    "program.close_connection()"
   ]
  }
 ],
 "metadata": {
  "kernelspec": {
   "display_name": "Python 3",
   "language": "python",
   "name": "python3"
  },
  "language_info": {
   "codemirror_mode": {
    "name": "ipython",
    "version": 3
   },
   "file_extension": ".py",
   "mimetype": "text/x-python",
   "name": "python",
   "nbconvert_exporter": "python",
   "pygments_lexer": "ipython3",
   "version": "3.11.2"
  },
  "orig_nbformat": 4
 },
 "nbformat": 4,
 "nbformat_minor": 2
}
