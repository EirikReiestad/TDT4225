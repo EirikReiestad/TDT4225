{
 "cells": [
  {
   "cell_type": "code",
   "execution_count": 1,
   "metadata": {},
   "outputs": [
    {
     "name": "stdout",
     "output_type": "stream",
     "text": [
      "Using user:  root\n",
      "Connected to: 8.0.29\n",
      "You are connected to the database: ('assignment2',)\n",
      "-----------------------------------------------\n",
      "\n",
      "Using user:  root\n",
      "Connected to: 8.0.29\n",
      "You are connected to the database: ('assignment2',)\n",
      "-----------------------------------------------\n",
      "\n"
     ]
    }
   ],
   "source": [
    "from DbConnector import DbConnector\n",
    "from part2 import Database \n",
    "from tabulate import tabulate\n",
    "\n",
    "# Set up the program\n",
    "from dotenv import load_dotenv\n",
    "import os\n",
    "\n",
    "load_dotenv()\n",
    "\n",
    "user = os.getenv('DB_USER')\n",
    "password = os.getenv('DB_PASSWORD')\n",
    "\n",
    "program = DbConnector(USER=user, PASSWORD=password)\n",
    "db = Database()"
   ]
  },
  {
   "cell_type": "markdown",
   "metadata": {},
   "source": [
    "### Task 1"
   ]
  },
  {
   "cell_type": "markdown",
   "metadata": {},
   "source": [
    "How many users, activities and trackpoints are there in the dataset (after it is inserted into the database)"
   ]
  },
  {
   "cell_type": "code",
   "execution_count": 10,
   "metadata": {},
   "outputs": [
    {
     "name": "stdout",
     "output_type": "stream",
     "text": [
      "Number of Users, Activities and TrackPoints\n",
      "  Users    Activities    TrackPoints\n",
      "-------  ------------  -------------\n",
      "    182          7877        5355109\n"
     ]
    }
   ],
   "source": [
    "# Get the number of Users\n",
    "users = db.get_table_size(\"User\")\n",
    "activities = db.get_table_size(\"Activity\")\n",
    "trackpoints = db.get_table_size(\"TrackPoint\")\n",
    "print(\"Number of Users, Activities and TrackPoints\")\n",
    "print(tabulate([[\"Users\", \"Activities\", \"TrackPoints\"], [users[0], activities[0], trackpoints[0]]], headers=\"firstrow\"))"
   ]
  },
  {
   "cell_type": "markdown",
   "metadata": {},
   "source": [
    "### Task2\n",
    "Find the average, maximum and minimum number of trackpoints per user"
   ]
  },
  {
   "cell_type": "markdown",
   "metadata": {},
   "source": [
    "##### Average"
   ]
  },
  {
   "cell_type": "code",
   "execution_count": 11,
   "metadata": {},
   "outputs": [
    {
     "name": "stdout",
     "output_type": "stream",
     "text": [
      "Average trackpoints per user\n",
      "  user_id    AVG(trackpoints)\n",
      "---------  ------------------\n",
      "      000            670.871\n",
      "      001            824.965\n",
      "      002            924.801\n",
      "      003            807.387\n",
      "      004            761.858\n",
      "      005            587.548\n",
      "      006            801.125\n",
      "      007            758.275\n",
      "      008           1376\n",
      "      009           1218.32\n",
      "      010           1107.5\n",
      "      011            451.756\n",
      "      012            629.783\n",
      "      013           1388.3\n",
      "      014            905.936\n",
      "      015            806.583\n",
      "      016            690.222\n",
      "      017            868.245\n",
      "      018            540.795\n",
      "      019            372.291\n",
      "      020            704.638\n",
      "      021            475\n",
      "      022            900.695\n",
      "      023            979.312\n",
      "      024            860.408\n",
      "      025            606.295\n",
      "      026           1034.71\n",
      "      027           2037\n",
      "      028           1195.36\n",
      "      029           1713.17\n",
      "      030            871.352\n",
      "      031            489.5\n",
      "      032           1190.43\n",
      "      033            735.25\n",
      "      034            558.678\n",
      "      035           1449.71\n",
      "      036            803.75\n",
      "      037            890.977\n",
      "      038           1071.51\n",
      "      039            756.51\n",
      "      040            953.55\n",
      "      041            797.416\n",
      "      042            555.946\n",
      "      043            795.094\n",
      "      044            628.492\n",
      "      045            752.125\n",
      "      046            703.807\n",
      "      047             65.8333\n",
      "      048           1118\n",
      "      050            760.833\n",
      "      051            231.3\n",
      "      052            177\n",
      "      054           1093\n",
      "      055            132.526\n",
      "      056             39.7333\n",
      "      057            127\n",
      "      058             38.5\n",
      "      060              8\n",
      "      061            140\n",
      "      062            439.054\n",
      "      063            709.857\n",
      "      064            695\n",
      "      065           1114.94\n",
      "      066            889.375\n",
      "      067           1729\n",
      "      069             12\n",
      "      070           1185\n",
      "      071            446.894\n",
      "      072             40.5\n",
      "      073            197.302\n",
      "      074            894.941\n",
      "      075            264\n",
      "      076             77.3333\n",
      "      077           1048\n",
      "      078            304.667\n",
      "      079            488.826\n",
      "      080             43.5\n",
      "      081            540.571\n",
      "      082            694.5\n",
      "      083            505.742\n",
      "      084            638.583\n",
      "      085            367.882\n",
      "      086             63.6667\n",
      "      087             19.8\n",
      "      089             74.75\n",
      "      090             40\n",
      "      091              9.5\n",
      "      092             53\n",
      "      093            290.227\n",
      "      094            127\n",
      "      095            971.121\n",
      "      097             27.7778\n",
      "      098            118\n",
      "      099             79.1875\n",
      "      101            323.667\n",
      "      102            148.692\n",
      "      103            709.362\n",
      "      107             81\n",
      "      108             14.6667\n",
      "      109            148.75\n",
      "      111             29\n",
      "      112            351.028\n",
      "      113            605.193\n",
      "      115            895.111\n",
      "      117             24\n",
      "      119            987.469\n",
      "      121           1073.4\n",
      "      122           1321.17\n",
      "      123           1438\n",
      "      125            659.25\n",
      "      126            437.182\n",
      "      127            335\n",
      "      128            474.102\n",
      "      130            771.714\n",
      "      131            858.4\n",
      "      132           1125.33\n",
      "      133            765.75\n",
      "      134             55.44\n",
      "      135            976.5\n",
      "      136             15.3333\n",
      "      138             98.5\n",
      "      139             21.6667\n",
      "      140            489.319\n",
      "      142            708.514\n",
      "      144            187.5\n",
      "      145           1075.2\n",
      "      146             27.2\n",
      "      150            127\n",
      "      151           1322\n",
      "      152            782\n",
      "      153            374.6\n",
      "      155            844.5\n",
      "      157            192.308\n",
      "      158            429.286\n",
      "      159            335.143\n",
      "      161             26\n",
      "      162             30.8182\n",
      "      163             95.2727\n",
      "      164             40.8571\n",
      "      165           1160.6\n",
      "      166            170\n",
      "      167            617.25\n",
      "      168           1537.19\n",
      "      169           1245.97\n",
      "      171             35.4\n",
      "      172            758.278\n",
      "      173            161.667\n",
      "      175              7\n",
      "      176             44\n",
      "      178             84\n",
      "      180            293.25\n",
      "      181             45.8\n"
     ]
    }
   ],
   "source": [
    "# Get the average number of trackpoints per user\n",
    "users, columns = db.find_avg_trackpoints()\n",
    "print(\"Average trackpoints per user\")\n",
    "print(tabulate(users, headers=columns))\n"
   ]
  },
  {
   "cell_type": "markdown",
   "metadata": {},
   "source": [
    "##### Maximum"
   ]
  },
  {
   "cell_type": "code",
   "execution_count": 12,
   "metadata": {},
   "outputs": [
    {
     "name": "stdout",
     "output_type": "stream",
     "text": [
      "Maximum trackpoints per user\n",
      "  user_id    MAX(trackpoints)\n",
      "---------  ------------------\n",
      "      000                2359\n",
      "      001                2472\n",
      "      002                2438\n",
      "      003                2485\n",
      "      004                2482\n",
      "      005                2058\n",
      "      006                2478\n",
      "      007                2228\n",
      "      008                2499\n",
      "      009                2396\n",
      "      010                1964\n",
      "      011                2306\n",
      "      012                2277\n",
      "      013                2486\n",
      "      014                2499\n",
      "      015                2411\n",
      "      016                2360\n",
      "      017                2471\n",
      "      018                2245\n",
      "      019                2276\n",
      "      020                2201\n",
      "      021                 475\n",
      "      022                2421\n",
      "      023                2215\n",
      "      024                2377\n",
      "      025                2464\n",
      "      026                2396\n",
      "      027                2480\n",
      "      028                2477\n",
      "      029                2440\n",
      "      030                2454\n",
      "      031                1254\n",
      "      032                2358\n",
      "      033                1205\n",
      "      034                2448\n",
      "      035                2493\n",
      "      036                2299\n",
      "      037                2421\n",
      "      038                2500\n",
      "      039                2464\n",
      "      040                2434\n",
      "      041                2491\n",
      "      042                2350\n",
      "      043                2005\n",
      "      044                2206\n",
      "      045                1932\n",
      "      046                2457\n",
      "      047                 227\n",
      "      048                1118\n",
      "      050                2484\n",
      "      051                 951\n",
      "      052                 177\n",
      "      054                1527\n",
      "      055                 670\n",
      "      056                 165\n",
      "      057                 510\n",
      "      058                 104\n",
      "      060                   8\n",
      "      061                 443\n",
      "      062                2447\n",
      "      063                1986\n",
      "      064                 695\n",
      "      065                2336\n",
      "      066                2009\n",
      "      067                1729\n",
      "      069                  12\n",
      "      070                2486\n",
      "      071                1840\n",
      "      072                  69\n",
      "      073                1214\n",
      "      074                2314\n",
      "      075                 264\n",
      "      076                 105\n",
      "      077                1728\n",
      "      078                1118\n",
      "      079                 897\n",
      "      080                  47\n",
      "      081                1047\n",
      "      082                 800\n",
      "      083                2444\n",
      "      084                2158\n",
      "      085                 993\n",
      "      086                  72\n",
      "      087                  36\n",
      "      089                 357\n",
      "      090                 132\n",
      "      091                  11\n",
      "      092                  54\n",
      "      093                1595\n",
      "      094                 510\n",
      "      095                1849\n",
      "      097                  52\n",
      "      098                 118\n",
      "      099                 648\n",
      "      101                 617\n",
      "      102                 859\n",
      "      103                1942\n",
      "      107                  81\n",
      "      108                  20\n",
      "      109                 307\n",
      "      111                  38\n",
      "      112                1155\n",
      "      113                 785\n",
      "      115                2262\n",
      "      117                  24\n",
      "      119                2442\n",
      "      121                2457\n",
      "      122                2328\n",
      "      123                2160\n",
      "      125                1047\n",
      "      126                1629\n",
      "      127                 565\n",
      "      128                2453\n",
      "      130                2106\n",
      "      131                2003\n",
      "      132                2119\n",
      "      133                1390\n",
      "      134                 599\n",
      "      135                2391\n",
      "      136                  18\n",
      "      138                 118\n",
      "      139                  47\n",
      "      140                2472\n",
      "      142                2482\n",
      "      144                 357\n",
      "      145                2227\n",
      "      146                  49\n",
      "      150                 510\n",
      "      151                1322\n",
      "      152                2069\n",
      "      153                1084\n",
      "      155                2153\n",
      "      157                 806\n",
      "      158                1832\n",
      "      159                 725\n",
      "      161                  26\n",
      "      162                 110\n",
      "      163                 672\n",
      "      164                  64\n",
      "      165                2463\n",
      "      166                 631\n",
      "      167                1331\n",
      "      168                2495\n",
      "      169                2325\n",
      "      171                  97\n",
      "      172                2456\n",
      "      173                 468\n",
      "      175                   7\n",
      "      176                 114\n",
      "      178                  84\n",
      "      180                1024\n",
      "      181                 110\n"
     ]
    }
   ],
   "source": [
    "# Get the maximum number of trackpoints per user\n",
    "users, columns = db.find_max_trackpoints()\n",
    "print(\"Maximum trackpoints per user\")\n",
    "print(tabulate(users, headers=columns))"
   ]
  },
  {
   "cell_type": "markdown",
   "metadata": {},
   "source": [
    "##### Minimum"
   ]
  },
  {
   "cell_type": "code",
   "execution_count": 13,
   "metadata": {},
   "outputs": [
    {
     "name": "stdout",
     "output_type": "stream",
     "text": [
      "Minimum trackpoints per user\n",
      "  user_id    MIN(trackpoints)\n",
      "---------  ------------------\n",
      "      000                   5\n",
      "      001                  33\n",
      "      002                   4\n",
      "      003                   3\n",
      "      004                   4\n",
      "      005                   5\n",
      "      006                  14\n",
      "      007                   6\n",
      "      008                 165\n",
      "      009                 134\n",
      "      010                 663\n",
      "      011                   3\n",
      "      012                  64\n",
      "      013                  13\n",
      "      014                   3\n",
      "      015                  22\n",
      "      016                   7\n",
      "      017                   4\n",
      "      018                   3\n",
      "      019                  11\n",
      "      020                  22\n",
      "      021                 475\n",
      "      022                  15\n",
      "      023                  31\n",
      "      024                   4\n",
      "      025                   3\n",
      "      026                   9\n",
      "      027                1760\n",
      "      028                  32\n",
      "      029                   4\n",
      "      030                   9\n",
      "      031                  23\n",
      "      032                  62\n",
      "      033                  39\n",
      "      034                   4\n",
      "      035                 200\n",
      "      036                  13\n",
      "      037                  14\n",
      "      038                   8\n",
      "      039                   7\n",
      "      040                  39\n",
      "      041                   3\n",
      "      042                   4\n",
      "      043                  26\n",
      "      044                   3\n",
      "      045                  71\n",
      "      046                 175\n",
      "      047                   4\n",
      "      048                1118\n",
      "      050                   3\n",
      "      051                   5\n",
      "      052                 177\n",
      "      054                 659\n",
      "      055                   5\n",
      "      056                  16\n",
      "      057                   9\n",
      "      058                   8\n",
      "      060                   8\n",
      "      061                  10\n",
      "      062                   4\n",
      "      063                  13\n",
      "      064                 695\n",
      "      065                 149\n",
      "      066                  17\n",
      "      067                1729\n",
      "      069                  12\n",
      "      070                  13\n",
      "      071                  56\n",
      "      072                  12\n",
      "      073                   3\n",
      "      074                   3\n",
      "      075                 264\n",
      "      076                  42\n",
      "      077                 437\n",
      "      078                  12\n",
      "      079                 193\n",
      "      080                  40\n",
      "      081                  56\n",
      "      082                 589\n",
      "      083                   5\n",
      "      084                 116\n",
      "      085                  10\n",
      "      086                  47\n",
      "      087                   6\n",
      "      089                  15\n",
      "      090                   4\n",
      "      091                   8\n",
      "      092                  52\n",
      "      093                   9\n",
      "      094                   9\n",
      "      095                  12\n",
      "      097                  16\n",
      "      098                 118\n",
      "      099                   3\n",
      "      101                 143\n",
      "      102                   6\n",
      "      103                   5\n",
      "      107                  81\n",
      "      108                  10\n",
      "      109                  26\n",
      "      111                  24\n",
      "      112                  46\n",
      "      113                 271\n",
      "      115                  29\n",
      "      117                  24\n",
      "      119                  26\n",
      "      121                 175\n",
      "      122                 161\n",
      "      123                  15\n",
      "      125                 106\n",
      "      126                  39\n",
      "      127                  90\n",
      "      128                   9\n",
      "      130                 212\n",
      "      131                 150\n",
      "      132                  59\n",
      "      133                 100\n",
      "      134                   4\n",
      "      135                  75\n",
      "      136                  13\n",
      "      138                  79\n",
      "      139                  10\n",
      "      140                   3\n",
      "      142                   4\n",
      "      144                  18\n",
      "      145                 128\n",
      "      146                   8\n",
      "      150                   9\n",
      "      151                1322\n",
      "      152                  66\n",
      "      153                  32\n",
      "      155                  28\n",
      "      157                  18\n",
      "      158                   6\n",
      "      159                  63\n",
      "      161                  26\n",
      "      162                   4\n",
      "      163                  15\n",
      "      164                  11\n",
      "      165                  32\n",
      "      166                   7\n",
      "      167                  63\n",
      "      168                  12\n",
      "      169                 384\n",
      "      171                   3\n",
      "      172                   5\n",
      "      173                  14\n",
      "      175                   7\n",
      "      176                   8\n",
      "      178                  84\n",
      "      180                  15\n",
      "      181                   3\n"
     ]
    }
   ],
   "source": [
    "# Get the minimum number of trackpoints per user\n",
    "users, columns = db.find_min_trackpoints()\n",
    "print(\"Minimum trackpoints per user\")\n",
    "print(tabulate(users, headers=columns))"
   ]
  },
  {
   "cell_type": "markdown",
   "metadata": {},
   "source": [
    "### Task 3"
   ]
  },
  {
   "cell_type": "markdown",
   "metadata": {},
   "source": [
    "Find the top 15 users with the highest number of activities."
   ]
  },
  {
   "cell_type": "code",
   "execution_count": 7,
   "metadata": {},
   "outputs": [
    {
     "name": "stdout",
     "output_type": "stream",
     "text": [
      "Top 15 users with the highest number of activities\n",
      "  Top    user_id    num_of_activities\n",
      "-----  ---------  -------------------\n",
      "    1        025                  715\n",
      "    2        128                  519\n",
      "    3        062                  406\n",
      "    4        041                  399\n",
      "    5        004                  346\n",
      "    6        140                  345\n",
      "    7        017                  265\n",
      "    8        003                  261\n",
      "    9        014                  236\n",
      "   10        030                  210\n",
      "   11        011                  201\n",
      "   12        039                  198\n",
      "   13        034                  180\n",
      "   14        000                  155\n",
      "   15        002                  146\n"
     ]
    }
   ],
   "source": [
    "query = \"\"\"\n",
    "    SELECT RANK() OVER (\n",
    "        ORDER BY COUNT(*) DESC\n",
    "    ) Top, user_id, COUNT(*) as num_of_activities FROM Activity GROUP BY user_id ORDER BY COUNT(*) DESC LIMIT 15\n",
    "    \"\"\"\n",
    "db.cursor.execute(query)\n",
    "rows = db.cursor.fetchall()\n",
    "columns = db.cursor.column_names\n",
    "print(\"Top 15 users with the highest number of activities\")\n",
    "print(tabulate(rows, headers=columns))"
   ]
  },
  {
   "cell_type": "markdown",
   "metadata": {},
   "source": [
    "### Task 4"
   ]
  },
  {
   "cell_type": "markdown",
   "metadata": {},
   "source": [
    "Find all users who have taken a bus."
   ]
  },
  {
   "cell_type": "code",
   "execution_count": 2,
   "metadata": {},
   "outputs": [
    {
     "name": "stdout",
     "output_type": "stream",
     "text": [
      "All users who have taken a bus\n",
      "  user_id\n",
      "---------\n",
      "      010\n",
      "      052\n",
      "      062\n",
      "      073\n",
      "      081\n",
      "      084\n",
      "      085\n",
      "      091\n",
      "      092\n",
      "      112\n",
      "      125\n",
      "      128\n",
      "      175\n"
     ]
    }
   ],
   "source": [
    "# Get the users who have taken the bus\n",
    "users, columns = db.get_user_taken_bus()\n",
    "print(\"All users who have taken a bus\")\n",
    "print(tabulate(users, headers=columns))"
   ]
  },
  {
   "cell_type": "markdown",
   "metadata": {},
   "source": [
    "### Task 5"
   ]
  },
  {
   "cell_type": "markdown",
   "metadata": {},
   "source": [
    "List the top 10 users by their amount of different transportation modes."
   ]
  },
  {
   "cell_type": "code",
   "execution_count": 3,
   "metadata": {},
   "outputs": [
    {
     "name": "stdout",
     "output_type": "stream",
     "text": [
      "Top 10 users by their amount of different transportation modes\n",
      "  user_id    DifferentTransportation\n",
      "---------  -------------------------\n",
      "      128                          9\n",
      "      062                          7\n",
      "      085                          4\n",
      "      084                          3\n",
      "      058                          3\n",
      "      163                          3\n",
      "      078                          3\n",
      "      081                          3\n",
      "      112                          3\n",
      "      065                          2\n"
     ]
    }
   ],
   "source": [
    "users, columns = db.find_top10_transportations_users()\n",
    "print(\"Top 10 users by their amount of different transportation modes\")\n",
    "print(tabulate(users, headers=columns))"
   ]
  },
  {
   "cell_type": "markdown",
   "metadata": {},
   "source": [
    "### Task 6"
   ]
  },
  {
   "cell_type": "markdown",
   "metadata": {},
   "source": [
    "Find activities that are registered multiple times. You should find the query even\n",
    "if it gives zero result."
   ]
  },
  {
   "cell_type": "code",
   "execution_count": 4,
   "metadata": {},
   "outputs": [
    {
     "name": "stdout",
     "output_type": "stream",
     "text": [
      "Find activities that are registered multiple times:\n",
      " []\n"
     ]
    }
   ],
   "source": [
    "query = \"\"\"\n",
    "    SELECT a.id FROM Activity AS a WHERE EXISTS \n",
    "        (SELECT b.id FROM Activity AS b WHERE a.user_id = b.user_id \n",
    "        AND a.transportation_mode = b.transportation_mode AND \n",
    "        a.start_date_time = b.start_date_time AND a.end_date_time = b.end_date_time \n",
    "        AND a.id != b.id)\n",
    "    \"\"\"\n",
    "program.cursor.execute(query)\n",
    "rows = program.cursor.fetchall()\n",
    "print(\"Find activities that are registered multiple times:\\n\", rows)"
   ]
  },
  {
   "cell_type": "markdown",
   "metadata": {},
   "source": [
    "### Task 7"
   ]
  },
  {
   "cell_type": "markdown",
   "metadata": {},
   "source": [
    "a) Find the number of users that have started an activity in one day and ended the activity the next day."
   ]
  },
  {
   "cell_type": "code",
   "execution_count": 17,
   "metadata": {},
   "outputs": [
    {
     "name": "stdout",
     "output_type": "stream",
     "text": [
      "Number of users with activity that ends the next day\n",
      "╒═══════════════════╕\n",
      "│   Number of users │\n",
      "╞═══════════════════╡\n",
      "│                66 │\n",
      "╘═══════════════════╛\n"
     ]
    }
   ],
   "source": [
    "num_users = db.get_num_user_activity_over_a_day()\n",
    "\n",
    "print(\"Number of users with activity that ends the next day\")\n",
    "print(tabulate([[\"Number of users\"], [num_users[0]]], headers=\"firstrow\", tablefmt=\"fancy_grid\"))"
   ]
  },
  {
   "cell_type": "markdown",
   "metadata": {},
   "source": [
    "b) List the transportation mode, user id and duration for these activities."
   ]
  },
  {
   "cell_type": "code",
   "execution_count": 18,
   "metadata": {},
   "outputs": [
    {
     "name": "stdout",
     "output_type": "stream",
     "text": [
      "╒════════╤═══════════════════════╤════════════╕\n",
      "│   User │ Transportation Mode   │ Duration   │\n",
      "╞════════╪═══════════════════════╪════════════╡\n",
      "│    020 │ bike                  │ 10:10:01   │\n",
      "├────────┼───────────────────────┼────────────┤\n",
      "│    021 │ walk                  │ 3:57:13    │\n",
      "├────────┼───────────────────────┼────────────┤\n",
      "│    058 │ car                   │ 0:36:12    │\n",
      "├────────┼───────────────────────┼────────────┤\n",
      "│    062 │ walk                  │ 1:23:44    │\n",
      "├────────┼───────────────────────┼────────────┤\n",
      "│    085 │ bus                   │ 0:58:25    │\n",
      "├────────┼───────────────────────┼────────────┤\n",
      "│    115 │ car                   │ 1:28:04    │\n",
      "├────────┼───────────────────────┼────────────┤\n",
      "│    115 │ car                   │ 1:02:50    │\n",
      "├────────┼───────────────────────┼────────────┤\n",
      "│    115 │ car                   │ 1:00:56    │\n",
      "├────────┼───────────────────────┼────────────┤\n",
      "│    115 │ car                   │ 1:05:10    │\n",
      "├────────┼───────────────────────┼────────────┤\n",
      "│    115 │ car                   │ 1:23:14    │\n",
      "├────────┼───────────────────────┼────────────┤\n",
      "│    115 │ car                   │ 0:54:09    │\n",
      "├────────┼───────────────────────┼────────────┤\n",
      "│    115 │ car                   │ 1:08:43    │\n",
      "├────────┼───────────────────────┼────────────┤\n",
      "│    115 │ car                   │ 1:09:36    │\n",
      "├────────┼───────────────────────┼────────────┤\n",
      "│    115 │ car                   │ 1:03:47    │\n",
      "├────────┼───────────────────────┼────────────┤\n",
      "│    115 │ car                   │ 1:01:42    │\n",
      "├────────┼───────────────────────┼────────────┤\n",
      "│    115 │ car                   │ 0:55:50    │\n",
      "├────────┼───────────────────────┼────────────┤\n",
      "│    115 │ car                   │ 1:24:08    │\n",
      "├────────┼───────────────────────┼────────────┤\n",
      "│    115 │ car                   │ 1:17:13    │\n",
      "├────────┼───────────────────────┼────────────┤\n",
      "│    115 │ car                   │ 1:01:33    │\n",
      "├────────┼───────────────────────┼────────────┤\n",
      "│    115 │ car                   │ 1:03:29    │\n",
      "├────────┼───────────────────────┼────────────┤\n",
      "│    115 │ car                   │ 0:58:19    │\n",
      "├────────┼───────────────────────┼────────────┤\n",
      "│    115 │ car                   │ 7:46:29    │\n",
      "├────────┼───────────────────────┼────────────┤\n",
      "│    115 │ car                   │ 1:05:39    │\n",
      "├────────┼───────────────────────┼────────────┤\n",
      "│    115 │ car                   │ 0:57:48    │\n",
      "├────────┼───────────────────────┼────────────┤\n",
      "│    115 │ car                   │ 1:08:14    │\n",
      "├────────┼───────────────────────┼────────────┤\n",
      "│    126 │ walk                  │ 0:07:20    │\n",
      "├────────┼───────────────────────┼────────────┤\n",
      "│    128 │ car                   │ 1:04:19    │\n",
      "├────────┼───────────────────────┼────────────┤\n",
      "│    128 │ car                   │ 0:44:11    │\n",
      "├────────┼───────────────────────┼────────────┤\n",
      "│    128 │ bus                   │ 0:58:44    │\n",
      "├────────┼───────────────────────┼────────────┤\n",
      "│    128 │ subway                │ 0:30:57    │\n",
      "├────────┼───────────────────────┼────────────┤\n",
      "│    128 │ car                   │ 0:33:08    │\n",
      "├────────┼───────────────────────┼────────────┤\n",
      "│    128 │ car                   │ 1:40:04    │\n",
      "├────────┼───────────────────────┼────────────┤\n",
      "│    128 │ airplane              │ 5:31:49    │\n",
      "├────────┼───────────────────────┼────────────┤\n",
      "│    128 │ subway                │ 0:27:26    │\n",
      "├────────┼───────────────────────┼────────────┤\n",
      "│    163 │ bike                  │ 0:11:18    │\n",
      "╘════════╧═══════════════════════╧════════════╛\n"
     ]
    }
   ],
   "source": [
    "users_info = db.get_user_activity_over_a_day()\n",
    "\n",
    "table = [[\"User\", \"Transportation Mode\", \"Duration\"]]\n",
    "content = [[user[0], user[1], user[2]] for user in users_info]\n",
    "table.extend(content)\n",
    "\n",
    "print(tabulate(table, headers=\"firstrow\", tablefmt=\"fancy_grid\"))"
   ]
  },
  {
   "cell_type": "markdown",
   "metadata": {},
   "source": [
    "### Task 9"
   ]
  },
  {
   "cell_type": "markdown",
   "metadata": {},
   "source": [
    "Find the top 15 users who have gained the most altitude meters."
   ]
  },
  {
   "cell_type": "code",
   "execution_count": 19,
   "metadata": {},
   "outputs": [],
   "source": [
    "query = \"SELECT user_id, sum(activity_altitude)*0.304 as altitude_in_meters FROM Activity JOIN (SELECT activity_id, SUM(difference) AS activity_altitude FROM (SELECT activity_id, altitude - LAG(altitude) OVER (PARTITION BY activity_id ORDER BY date_time) AS difference FROM TrackPoint) AS altitude_difference WHERE difference > 0 GROUP BY activity_id) AS difference_table ON Activity.id = difference_table.activity_id GROUP BY user_id ORDER BY altitude_in_meters DESC LIMIT 15\"\n",
    "program.cursor.execute(query)\n",
    "rows = program.cursor.fetchall()\n",
    "text = \"Find the top 15 users who have gained the most altitude meters\\n\"\n",
    "for i in rows:\n",
    "    text += f\"User: {i[0]}, Altitude in meters: {i[1]}\\n\"\n",
    "print(text)"
   ]
  },
  {
   "cell_type": "markdown",
   "metadata": {},
   "source": [
    "### Task 10"
   ]
  },
  {
   "cell_type": "markdown",
   "metadata": {},
   "source": [
    "Find the users that have traveled the longest total distance in one day for each\n",
    "transportation mode."
   ]
  },
  {
   "cell_type": "code",
   "execution_count": null,
   "metadata": {},
   "outputs": [
    {
     "name": "stdout",
     "output_type": "stream",
     "text": [
      "╒════════╤═══════════════════════╤═════════════════╕\n",
      "│   User │ Transportation mode   │   Distance (km) │\n",
      "╞════════╪═══════════════════════╪═════════════════╡\n",
      "│    175 │ bus                   │       1.80771   │\n",
      "├────────┼───────────────────────┼─────────────────┤\n",
      "│    163 │ taxi                  │      11.3794    │\n",
      "├────────┼───────────────────────┼─────────────────┤\n",
      "│    167 │ walk                  │       0.455136  │\n",
      "├────────┼───────────────────────┼─────────────────┤\n",
      "│    167 │ bike                  │       4.0598    │\n",
      "├────────┼───────────────────────┼─────────────────┤\n",
      "│    128 │ car                   │      18.5745    │\n",
      "├────────┼───────────────────────┼─────────────────┤\n",
      "│    062 │ run                   │       0.0332532 │\n",
      "├────────┼───────────────────────┼─────────────────┤\n",
      "│    128 │ train                 │      19.0923    │\n",
      "├────────┼───────────────────────┼─────────────────┤\n",
      "│    128 │ subway                │      10.8537    │\n",
      "├────────┼───────────────────────┼─────────────────┤\n",
      "│    128 │ airplane              │    4391.42      │\n",
      "├────────┼───────────────────────┼─────────────────┤\n",
      "│    128 │ boat                  │      65.5548    │\n",
      "╘════════╧═══════════════════════╧═════════════════╛\n"
     ]
    }
   ],
   "source": [
    "users = db.get_user_with_max_distance()\n",
    "\n",
    "table = [[\"User\", \"Transportation mode\", \"Distance (km)\"]]\n",
    "table.extend(users)\n",
    "\n",
    "print(tabulate(table, headers=\"firstrow\", tablefmt=\"fancy_grid\"))"
   ]
  },
  {
   "cell_type": "markdown",
   "metadata": {},
   "source": [
    "### Task 12"
   ]
  },
  {
   "cell_type": "markdown",
   "metadata": {},
   "source": [
    "Find all the users who have registered transportation_mode and their most used transportation_mode"
   ]
  },
  {
   "cell_type": "markdown",
   "metadata": {},
   "source": [
    "Comment on implementation: Although with this dataset, does not need to join User, however in cases where user does not have labels, but still has some activities in Activity with transportation_mode then a join is necessary. For users that have the same number of activities tagged on multiple transportation mode, we've decided to take the first transportation mode in alphabetical order."
   ]
  },
  {
   "cell_type": "code",
   "execution_count": null,
   "metadata": {},
   "outputs": [],
   "source": [
    "query = \"SELECT user_id, transportation_mode FROM ( SELECT user_id, transportation_mode, ROW_NUMBER() OVER (PARTITION BY user_id ORDER BY COUNT(*) DESC, transportation_mode ASC) AS rownum FROM Activity JOIN User ON Activity.user_id = User.id WHERE transportation_mode IS NOT NULL AND User.has_labels=TRUE GROUP BY user_id, transportation_mode) AS activity_grouped WHERE rownum=1 ORDER BY user_id\"\n",
    "program.cursor.execute(query)\n",
    "rows = program.cursor.fetchall()\n",
    "text = \"Find all the users who have registered transportation_mode and their most used transportation_mode\\n\"\n",
    "for row in rows:\n",
    "    text += f\"User {row[0]}, Transportation mode: {row[1]}\\n\"\n",
    "print(text)"
   ]
  },
  {
   "cell_type": "markdown",
   "metadata": {},
   "source": [
    "### End"
   ]
  },
  {
   "cell_type": "code",
   "execution_count": null,
   "metadata": {},
   "outputs": [],
   "source": [
    "# Closing the connection\n",
    "program.close_connection()"
   ]
  }
 ],
 "metadata": {
  "kernelspec": {
   "display_name": "Python 3",
   "language": "python",
   "name": "python3"
  },
  "language_info": {
   "codemirror_mode": {
    "name": "ipython",
    "version": 3
   },
   "file_extension": ".py",
   "mimetype": "text/x-python",
   "name": "python",
   "nbconvert_exporter": "python",
   "pygments_lexer": "ipython3",
   "version": "3.9.13"
  },
  "orig_nbformat": 4
 },
 "nbformat": 4,
 "nbformat_minor": 2
}
