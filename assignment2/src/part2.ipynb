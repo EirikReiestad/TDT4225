{
 "cells": [
  {
   "cell_type": "code",
   "execution_count": null,
   "metadata": {},
   "outputs": [],
   "source": [
    "from DbConnector import DbConnector\n",
    "from part2 import Database \n",
    "from tabulate import tabulate\n",
    "\n",
    "# Set up the program\n",
    "from dotenv import load_dotenv\n",
    "import os\n",
    "\n",
    "load_dotenv()\n",
    "\n",
    "user = os.getenv('DB_USER')\n",
    "password = os.getenv('DB_PASSWORD')\n",
    "\n",
    "program = DbConnector(USER=user, PASSWORD=password)\n",
    "db = Database()"
   ]
  },
  {
   "cell_type": "markdown",
   "metadata": {},
   "source": [
    "### Task 1"
   ]
  },
  {
   "cell_type": "markdown",
   "metadata": {},
   "source": [
    "How many users, activities and trackpoints are there in the dataset (after it is inserted into the database)"
   ]
  },
  {
   "cell_type": "code",
   "execution_count": null,
   "metadata": {},
   "outputs": [],
   "source": [
    "# Get the number of Users\n",
    "users = db.get_table_size(\"User\")\n",
    "activities = db.get_table_size(\"Activity\")\n",
    "trackpoints = db.get_table_size(\"TrackPoint\")\n",
    "print(\"Number of Users, Activities and TrackPoints\")\n",
    "print(tabulate([[\"Users\", \"Activities\", \"TrackPoints\"], [users[0], activities[0], trackpoints[0]]], headers=\"firstrow\"))"
   ]
  },
  {
   "cell_type": "markdown",
   "metadata": {},
   "source": [
    "### Task2\n",
    "Find the average, maximum and minimum number of trackpoints per user"
   ]
  },
  {
   "cell_type": "markdown",
   "metadata": {},
   "source": [
    "##### Average"
   ]
  },
  {
   "cell_type": "code",
   "execution_count": null,
   "metadata": {},
   "outputs": [],
   "source": [
    "# Get the average number of trackpoints per user\n",
    "query = \"\"\"\n",
    "SELECT User.id, COALESCE(average, 0) AS average \n",
    "FROM User \n",
    "LEFT JOIN (\n",
    "    SELECT user_id, AVG(trackpoints) average \n",
    "    FROM (\n",
    "        SELECT Activity.user_id , COUNT(t.id) AS trackpoints \n",
    "        FROM TrackPoint t \n",
    "        JOIN Activity ON t.activity_id = Activity.id \n",
    "        JOIN User ON Activity.user_id = User.id \n",
    "        GROUP BY Activity.id\n",
    "    ) AS Trackpoints GROUP BY user_id\n",
    ") a ON a.user_id = User.id\n",
    "\"\"\"\n",
    "program.cursor.execute(query)\n",
    "rows = program.cursor.fetchall()\n",
    "columns = program.cursor.column_names\n",
    "\n",
    "print(\"Average trackpoints per user\")\n",
    "print(tabulate(users, headers=columns))\n"
   ]
  },
  {
   "cell_type": "markdown",
   "metadata": {},
   "source": [
    "##### Maximum"
   ]
  },
  {
   "cell_type": "code",
   "execution_count": null,
   "metadata": {},
   "outputs": [],
   "source": [
    "# Get the maximum number of trackpoints per user\n",
    "query = \"\"\"\n",
    "SELECT User.id, COALESCE(maximum, 0) AS maximum \n",
    "FROM User \n",
    "LEFT JOIN (\n",
    "    SELECT user_id, MAX(trackpoints) AS maximum \n",
    "    FROM (\n",
    "        SELECT Activity.user_id , COUNT(t.id) AS trackpoints \n",
    "        FROM TrackPoint t \n",
    "        INNER JOIN Activity ON t.activity_id = Activity.id \n",
    "        GROUP BY Activity.id\n",
    "    ) AS Trackpoints GROUP BY user_id\n",
    ") a ON a.user_id = User.id\n",
    "\"\"\"\n",
    "program.cursor.execute(query)\n",
    "rows = program.cursor.fetchall()\n",
    "columns = program.cursor.column_names\n",
    "print(\"Maximum trackpoints per user\")\n",
    "print(tabulate(users, headers=columns))"
   ]
  },
  {
   "cell_type": "markdown",
   "metadata": {},
   "source": [
    "##### Minimum"
   ]
  },
  {
   "cell_type": "code",
   "execution_count": null,
   "metadata": {},
   "outputs": [],
   "source": [
    "# Get the minimum number of trackpoints per user\n",
    "query = \"\"\"\n",
    "    SELECT User.id, COALESCE(minimum, 0) AS minimum \n",
    "    FROM User LEFT JOIN (\n",
    "        SELECT user_id, MIN(trackpoints) AS minimum\n",
    "        FROM (\n",
    "            SELECT Activity.user_id , COUNT(t.id) AS trackpoints \n",
    "            FROM TrackPoint t\n",
    "            INNER JOIN Activity ON t.activity_id = Activity.id \n",
    "            GROUP BY Activity.id\n",
    "        ) AS Trackpoints \n",
    "        GROUP BY user_id\n",
    ") a ON a.user_id = User.id\n",
    "\"\"\"\n",
    "program.cursor.execute(query)\n",
    "rows = program.cursor.fetchall()\n",
    "columns = program.cursor.column_names\n",
    "print(\"Minimum trackpoints per user\")\n",
    "print(tabulate(users, headers=columns))"
   ]
  },
  {
   "cell_type": "markdown",
   "metadata": {},
   "source": [
    "### Task 3"
   ]
  },
  {
   "cell_type": "markdown",
   "metadata": {},
   "source": [
    "Find the top 15 users with the highest number of activities."
   ]
  },
  {
   "cell_type": "code",
   "execution_count": null,
   "metadata": {},
   "outputs": [],
   "source": [
    "query = \"\"\"\n",
    "SELECT RANK() OVER (\n",
    "    ORDER BY COUNT(*) DESC\n",
    ") Top, user_id, COUNT(*) as num_of_activities \n",
    "FROM Activity GROUP BY user_id \n",
    "ORDER BY COUNT(*) DESC LIMIT 15\n",
    "\"\"\"\n",
    "db.cursor.execute(query)\n",
    "rows = db.cursor.fetchall()\n",
    "columns = db.cursor.column_names\n",
    "print(\"Top 15 users with the highest number of activities\")\n",
    "print(tabulate(rows, headers=columns))"
   ]
  },
  {
   "cell_type": "markdown",
   "metadata": {},
   "source": [
    "### Task 4"
   ]
  },
  {
   "cell_type": "markdown",
   "metadata": {},
   "source": [
    "Find all users who have taken a bus."
   ]
  },
  {
   "cell_type": "code",
   "execution_count": null,
   "metadata": {},
   "outputs": [],
   "source": [
    "# Get the users who have taken the bus\n",
    "users, columns = db.get_user_taken_bus()\n",
    "print(\"All users who have taken a bus\")\n",
    "print(tabulate(users, headers=columns))"
   ]
  },
  {
   "cell_type": "markdown",
   "metadata": {},
   "source": [
    "### Task 5"
   ]
  },
  {
   "cell_type": "markdown",
   "metadata": {},
   "source": [
    "List the top 10 users by their amount of different transportation modes."
   ]
  },
  {
   "cell_type": "code",
   "execution_count": 6,
   "metadata": {},
   "outputs": [
    {
     "name": "stdout",
     "output_type": "stream",
     "text": [
      "Top 10 users by their amount of different transportation modes\n",
      "  user_id    DifferentTransportation\n",
      "---------  -------------------------\n",
      "      000                   670.871\n",
      "      001                   824.965\n",
      "      002                   924.801\n",
      "      003                   807.387\n",
      "      004                   761.858\n",
      "      005                   587.548\n",
      "      006                   801.125\n",
      "      007                   758.275\n",
      "      008                  1376\n",
      "      009                  1218.32\n",
      "      010                  1107.5\n",
      "      011                   451.756\n",
      "      012                   629.783\n",
      "      013                  1388.3\n",
      "      014                   905.936\n",
      "      015                   806.583\n",
      "      016                   690.222\n",
      "      017                   868.245\n",
      "      018                   540.795\n",
      "      019                   372.291\n",
      "      020                   704.638\n",
      "      021                   475\n",
      "      022                   900.695\n",
      "      023                   979.312\n",
      "      024                   860.408\n",
      "      025                   606.295\n",
      "      026                  1034.71\n",
      "      027                  2037\n",
      "      028                  1195.36\n",
      "      029                  1713.17\n",
      "      030                   871.352\n",
      "      031                   489.5\n",
      "      032                  1190.43\n",
      "      033                   735.25\n",
      "      034                   558.678\n",
      "      035                  1449.71\n",
      "      036                   803.75\n",
      "      037                   890.977\n",
      "      038                  1071.51\n",
      "      039                   756.51\n",
      "      040                   953.55\n",
      "      041                   797.416\n",
      "      042                   555.946\n",
      "      043                   795.094\n",
      "      044                   628.492\n",
      "      045                   752.125\n",
      "      046                   703.807\n",
      "      047                    65.8333\n",
      "      048                  1118\n",
      "      049                     0\n",
      "      050                   760.833\n",
      "      051                   231.3\n",
      "      052                   177\n",
      "      053                     0\n",
      "      054                  1093\n",
      "      055                   132.526\n",
      "      056                    39.7333\n",
      "      057                   127\n",
      "      058                    38.5\n",
      "      059                     0\n",
      "      060                     8\n",
      "      061                   140\n",
      "      062                   439.054\n",
      "      063                   709.857\n",
      "      064                   695\n",
      "      065                  1114.94\n",
      "      066                   889.375\n",
      "      067                  1729\n",
      "      068                     0\n",
      "      069                    12\n",
      "      070                  1185\n",
      "      071                   446.894\n",
      "      072                    40.5\n",
      "      073                   197.302\n",
      "      074                   894.941\n",
      "      075                   264\n",
      "      076                    77.3333\n",
      "      077                  1048\n",
      "      078                   304.667\n",
      "      079                   488.826\n",
      "      080                    43.5\n",
      "      081                   540.571\n",
      "      082                   694.5\n",
      "      083                   505.742\n",
      "      084                   638.583\n",
      "      085                   367.882\n",
      "      086                    63.6667\n",
      "      087                    19.8\n",
      "      088                     0\n",
      "      089                    74.75\n",
      "      090                    40\n",
      "      091                     9.5\n",
      "      092                    53\n",
      "      093                   290.227\n",
      "      094                   127\n",
      "      095                   971.121\n",
      "      096                     0\n",
      "      097                    27.7778\n",
      "      098                   118\n",
      "      099                    79.1875\n",
      "      100                     0\n",
      "      101                   323.667\n",
      "      102                   148.692\n",
      "      103                   709.362\n",
      "      104                     0\n",
      "      105                     0\n",
      "      106                     0\n",
      "      107                    81\n",
      "      108                    14.6667\n",
      "      109                   148.75\n",
      "      110                     0\n",
      "      111                    29\n",
      "      112                   351.028\n",
      "      113                   605.193\n",
      "      114                     0\n",
      "      115                   895.111\n",
      "      116                     0\n",
      "      117                    24\n",
      "      118                     0\n",
      "      119                   987.469\n",
      "      120                     0\n",
      "      121                  1073.4\n",
      "      122                  1321.17\n",
      "      123                  1438\n",
      "      124                     0\n",
      "      125                   659.25\n",
      "      126                   437.182\n",
      "      127                   335\n",
      "      128                   474.102\n",
      "      129                     0\n",
      "      130                   771.714\n",
      "      131                   858.4\n",
      "      132                  1125.33\n",
      "      133                   765.75\n",
      "      134                    55.44\n",
      "      135                   976.5\n",
      "      136                    15.3333\n",
      "      137                     0\n",
      "      138                    98.5\n",
      "      139                    21.6667\n",
      "      140                   489.319\n",
      "      141                     0\n",
      "      142                   708.514\n",
      "      143                     0\n",
      "      144                   187.5\n",
      "      145                  1075.2\n",
      "      146                    27.2\n",
      "      147                     0\n",
      "      148                     0\n",
      "      149                     0\n",
      "      150                   127\n",
      "      151                  1322\n",
      "      152                   782\n",
      "      153                   374.6\n",
      "      154                     0\n",
      "      155                   844.5\n",
      "      156                     0\n",
      "      157                   192.308\n",
      "      158                   429.286\n",
      "      159                   335.143\n",
      "      160                     0\n",
      "      161                    26\n",
      "      162                    30.8182\n",
      "      163                    95.2727\n",
      "      164                    40.8571\n",
      "      165                  1160.6\n",
      "      166                   170\n",
      "      167                   617.25\n",
      "      168                  1537.19\n",
      "      169                  1245.97\n",
      "      170                     0\n",
      "      171                    35.4\n",
      "      172                   758.278\n",
      "      173                   161.667\n",
      "      174                     0\n",
      "      175                     7\n",
      "      176                    44\n",
      "      177                     0\n",
      "      178                    84\n",
      "      179                     0\n",
      "      180                   293.25\n",
      "      181                    45.8\n"
     ]
    }
   ],
   "source": [
    "query = \"\"\"\n",
    "SELECT user_id, COUNT(DISTINCT(transportation_mode)) as DifferentTransportation \n",
    "FROM Activity \n",
    "GROUP BY user_id \n",
    "ORDER BY DifferentTransportation DESC LIMIT 10;\"\"\"\n",
    "program.cursor.execute(query)\n",
    "rows = program.cursor.fetchall()\n",
    "columns = program.cursor.column_names\n",
    "print(\"Top 10 users by their amount of different transportation modes\")\n",
    "print(tabulate(users, headers=columns))"
   ]
  },
  {
   "cell_type": "markdown",
   "metadata": {},
   "source": [
    "### Task 6"
   ]
  },
  {
   "cell_type": "markdown",
   "metadata": {},
   "source": [
    "Find activities that are registered multiple times. You should find the query even\n",
    "if it gives zero result."
   ]
  },
  {
   "cell_type": "code",
   "execution_count": 7,
   "metadata": {},
   "outputs": [
    {
     "name": "stdout",
     "output_type": "stream",
     "text": [
      "Find activities that are registered multiple times:\n",
      " []\n"
     ]
    }
   ],
   "source": [
    "query = \"\"\"\n",
    "SELECT a.id FROM Activity AS a WHERE EXISTS (\n",
    "    SELECT b.id FROM Activity AS b \n",
    "    WHERE a.user_id = b.user_id \n",
    "    AND a.transportation_mode = b.transportation_mode \n",
    "    AND a.start_date_time = b.start_date_time \n",
    "    AND a.end_date_time = b.end_date_time \n",
    "    AND a.id != b.id)\n",
    "\"\"\"\n",
    "program.cursor.execute(query)\n",
    "rows = program.cursor.fetchall()\n",
    "print(\"Find activities that are registered multiple times:\\n\", rows)"
   ]
  },
  {
   "cell_type": "markdown",
   "metadata": {},
   "source": [
    "### Task 7"
   ]
  },
  {
   "cell_type": "markdown",
   "metadata": {},
   "source": [
    "a) Find the number of users that have started an activity in one day and ended the activity the next day."
   ]
  },
  {
   "cell_type": "code",
   "execution_count": null,
   "metadata": {},
   "outputs": [],
   "source": [
    "num_users = db.get_num_user_activity_over_a_day()\n",
    "\n",
    "print(\"Number of users with activity that ends the next day\")\n",
    "print(tabulate([[\"Number of users\"], [num_users[0]]], headers=\"firstrow\", tablefmt=\"fancy_grid\"))"
   ]
  },
  {
   "cell_type": "markdown",
   "metadata": {},
   "source": [
    "b) List the transportation mode, user id and duration for these activities."
   ]
  },
  {
   "cell_type": "code",
   "execution_count": null,
   "metadata": {},
   "outputs": [],
   "source": [
    "users_info = db.get_user_activity_over_a_day()\n",
    "\n",
    "table = [[\"User\", \"Transportation Mode\", \"Duration\"]]\n",
    "content = [[user[0], user[1], user[2]] for user in users_info]\n",
    "table.extend(content)\n",
    "\n",
    "print(tabulate(table, headers=\"firstrow\", tablefmt=\"fancy_grid\"))"
   ]
  },
  {
   "cell_type": "markdown",
   "metadata": {},
   "source": [
    "### Task 9"
   ]
  },
  {
   "cell_type": "markdown",
   "metadata": {},
   "source": [
    "Find the top 15 users who have gained the most altitude meters."
   ]
  },
  {
   "cell_type": "code",
   "execution_count": null,
   "metadata": {},
   "outputs": [],
   "source": [
    "query = \"SELECT user_id, sum(activity_altitude)*0.304 as altitude_in_meters FROM Activity JOIN (SELECT activity_id, SUM(difference) AS activity_altitude FROM (SELECT activity_id, altitude - LAG(altitude) OVER (PARTITION BY activity_id ORDER BY date_time) AS difference FROM TrackPoint) AS altitude_difference WHERE difference > 0 GROUP BY activity_id) AS difference_table ON Activity.id = difference_table.activity_id GROUP BY user_id ORDER BY altitude_in_meters DESC LIMIT 15\"\n",
    "program.cursor.execute(query)\n",
    "rows = program.cursor.fetchall()\n",
    "text = \"Find the top 15 users who have gained the most altitude meters\\n\"\n",
    "for i in rows:\n",
    "    text += f\"User: {i[0]}, Altitude in meters: {i[1]}\\n\"\n",
    "print(text)"
   ]
  },
  {
   "cell_type": "markdown",
   "metadata": {},
   "source": [
    "### Task 10"
   ]
  },
  {
   "cell_type": "markdown",
   "metadata": {},
   "source": [
    "Find the users that have traveled the longest total distance in one day for each\n",
    "transportation mode."
   ]
  },
  {
   "cell_type": "code",
   "execution_count": null,
   "metadata": {},
   "outputs": [],
   "source": [
    "users = db.get_user_with_max_distance()\n",
    "\n",
    "table = [[\"User\", \"Transportation mode\", \"Distance (km)\"]]\n",
    "table.extend(users)\n",
    "\n",
    "print(tabulate(table, headers=\"firstrow\", tablefmt=\"fancy_grid\"))"
   ]
  },
  {
   "cell_type": "markdown",
   "metadata": {},
   "source": [
    "### Task 12"
   ]
  },
  {
   "cell_type": "markdown",
   "metadata": {},
   "source": [
    "Find all the users who have registered transportation_mode and their most used transportation_mode"
   ]
  },
  {
   "cell_type": "markdown",
   "metadata": {},
   "source": [
    "Comment on implementation: Although with this dataset, does not need to join User, however in cases where user does not have labels, but still has some activities in Activity with transportation_mode then a join is necessary. For users that have the same number of activities tagged on multiple transportation mode, we've decided to take the first transportation mode in alphabetical order."
   ]
  },
  {
   "cell_type": "code",
   "execution_count": null,
   "metadata": {},
   "outputs": [],
   "source": [
    "query = \"SELECT user_id, transportation_mode FROM ( SELECT user_id, transportation_mode, ROW_NUMBER() OVER (PARTITION BY user_id ORDER BY COUNT(*) DESC, transportation_mode ASC) AS rownum FROM Activity JOIN User ON Activity.user_id = User.id WHERE transportation_mode IS NOT NULL AND User.has_labels=TRUE GROUP BY user_id, transportation_mode) AS activity_grouped WHERE rownum=1 ORDER BY user_id\"\n",
    "program.cursor.execute(query)\n",
    "rows = program.cursor.fetchall()\n",
    "text = \"Find all the users who have registered transportation_mode and their most used transportation_mode\\n\"\n",
    "for row in rows:\n",
    "    text += f\"User {row[0]}, Transportation mode: {row[1]}\\n\"\n",
    "print(text)"
   ]
  },
  {
   "cell_type": "markdown",
   "metadata": {},
   "source": [
    "### End"
   ]
  },
  {
   "cell_type": "code",
   "execution_count": null,
   "metadata": {},
   "outputs": [],
   "source": [
    "# Closing the connection\n",
    "program.close_connection()"
   ]
  }
 ],
 "metadata": {
  "kernelspec": {
   "display_name": "Python 3",
   "language": "python",
   "name": "python3"
  },
  "language_info": {
   "codemirror_mode": {
    "name": "ipython",
    "version": 3
   },
   "file_extension": ".py",
   "mimetype": "text/x-python",
   "name": "python",
   "nbconvert_exporter": "python",
   "pygments_lexer": "ipython3",
   "version": "3.11.2"
  },
  "orig_nbformat": 4
 },
 "nbformat": 4,
 "nbformat_minor": 2
}
