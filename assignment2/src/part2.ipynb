{
 "cells": [
  {
   "cell_type": "code",
   "execution_count": 92,
   "metadata": {},
   "outputs": [],
   "source": [
    "from DbConnector import DbConnector\n",
    "from part2 import DbExecutor"
   ]
  },
  {
   "cell_type": "code",
   "execution_count": 93,
   "metadata": {},
   "outputs": [
    {
     "name": "stdout",
     "output_type": "stream",
     "text": [
      "Connected to: 8.0.34-0ubuntu0.22.04.1\n",
      "You are connected to the database: ('assignment2',)\n",
      "-----------------------------------------------\n",
      "\n",
      "Connected to: 8.0.34-0ubuntu0.22.04.1\n",
      "You are connected to the database: ('assignment2',)\n",
      "-----------------------------------------------\n",
      "\n"
     ]
    }
   ],
   "source": [
    "# Set up the program\n",
    "program = DbConnector()\n",
    "executor = DbExecutor()"
   ]
  },
  {
   "cell_type": "markdown",
   "metadata": {},
   "source": [
    "### Task 1"
   ]
  },
  {
   "cell_type": "markdown",
   "metadata": {},
   "source": [
    "How many users, activities and trackpoints are there in the dataset (after it is inserted into the database)"
   ]
  },
  {
   "cell_type": "code",
   "execution_count": 94,
   "metadata": {},
   "outputs": [
    {
     "name": "stdout",
     "output_type": "stream",
     "text": [
      "There are (182,) users\n",
      "There are (14718,) activities\n"
     ]
    }
   ],
   "source": [
    "# Get the number of Users\n",
    "users = executor.get_table_size(\"User\")\n",
    "print(f\"There are {users[0]} users\")\n",
    "\n",
    "# Get the number of Activities\n",
    "activities = executor.get_table_size(\"Activity\")\n",
    "print(f\"There are {activities[0]} activities\")\n",
    "\n",
    "# Get the number of TrackPoints\n",
    "trackpoints = executor.get_table_size(\"TrackPoint\")\n",
    "print(f\"There are {trackpoints[0]} trackpoints\")\n"
   ]
  },
  {
   "cell_type": "markdown",
   "metadata": {},
   "source": [
    "### Task 3"
   ]
  },
  {
   "cell_type": "markdown",
   "metadata": {},
   "source": [
    "Find the top 15 users with the highest number of activities."
   ]
  },
  {
   "cell_type": "code",
   "execution_count": null,
   "metadata": {},
   "outputs": [
    {
     "name": "stdout",
     "output_type": "stream",
     "text": [
      "Top 15 users with the highest number of activities:\n",
      "1. 163\n",
      "2. 085\n",
      "3. 153\n",
      "4. 068\n",
      "5. 167\n",
      "6. 128\n",
      "7. 062\n",
      "8. 075\n",
      "9. 126\n",
      "10. 010\n",
      "11. 052\n",
      "12. 084\n",
      "13. 179\n",
      "14. 020\n",
      "15. 112\n",
      "\n"
     ]
    }
   ],
   "source": [
    "query = \"SELECT user_id FROM Activity GROUP BY user_id ORDER BY COUNT(*) DESC LIMIT 15\"\n",
    "program.cursor.execute(query)\n",
    "rows = program.cursor.fetchall()\n",
    "text = \"Top 15 users with the highest number of activities:\\n\"\n",
    "\n",
    "for i, val in enumerate(rows):\n",
    "    text += f\"Top {i+1}. {val[0]}\\n\"\n",
    "print(text)"
   ]
  },
  {
   "cell_type": "markdown",
   "metadata": {},
   "source": [
    "### Task 4"
   ]
  },
  {
   "cell_type": "markdown",
   "metadata": {},
   "source": [
    "Find all users who have taken a bus."
   ]
  },
  {
   "cell_type": "code",
   "execution_count": null,
   "metadata": {},
   "outputs": [
    {
     "name": "stdout",
     "output_type": "stream",
     "text": [
      "The user ids for user that have taken the bus: \n",
      " user: 010\n",
      " user: 020\n",
      " user: 052\n",
      " user: 053\n",
      " user: 058\n",
      " user: 062\n",
      " user: 064\n",
      " user: 065\n",
      " user: 067\n",
      " user: 068\n",
      " user: 069\n",
      " user: 073\n",
      " user: 075\n",
      " user: 078\n",
      " user: 080\n",
      " user: 081\n",
      " user: 082\n",
      " user: 084\n",
      " user: 085\n",
      " user: 088\n",
      " user: 091\n",
      " user: 092\n",
      " user: 096\n",
      " user: 098\n",
      " user: 100\n",
      " user: 101\n",
      " user: 102\n",
      " user: 104\n",
      " user: 105\n",
      " user: 108\n",
      " user: 110\n",
      " user: 111\n",
      " user: 112\n",
      " user: 114\n",
      " user: 124\n",
      " user: 125\n",
      " user: 126\n",
      " user: 128\n",
      " user: 129\n",
      " user: 138\n",
      " user: 139\n",
      " user: 141\n",
      " user: 147\n",
      " user: 153\n",
      " user: 154\n",
      " user: 161\n",
      " user: 163\n",
      " user: 167\n",
      " user: 174\n",
      " user: 175\n",
      " user: 179\n"
     ]
    }
   ],
   "source": [
    "# Get the users who have taken the bus\n",
    "users = executor.get_user_taken_bus()\n",
    "users = \"\".join([f'\\n user: {user[0]}' for user in users[0]])\n",
    "print(f\"The user ids for user that have taken the bus: {users}\")"
   ]
  },
  {
   "cell_type": "markdown",
   "metadata": {},
   "source": [
    "### Task 6"
   ]
  },
  {
   "cell_type": "markdown",
   "metadata": {},
   "source": [
    "Find activities that are registered multiple times. You should find the query even\n",
    "if it gives zero result."
   ]
  },
  {
   "cell_type": "code",
   "execution_count": null,
   "metadata": {},
   "outputs": [],
   "source": [
    "query = \"SELECT * FROM Activity AS a WHERE EXISTS (SELECT b.id FROM Activity AS b WHERE a.user_id = b.user_id AND a.transportation_mode = b.transportation_mode AND a.start_date_time = b.start_date_time AND a.end_date_time = b.end_date_time AND a.id != b.id)\"\n",
    "program.cursor.execute(query)\n",
    "rows = program.cursor.fetchall()\n",
    "print(\"Find activities that are registered multiple times:\\n\", rows)"
   ]
  },
  {
   "cell_type": "markdown",
   "metadata": {},
   "source": [
    "### Task 7"
   ]
  },
  {
   "cell_type": "markdown",
   "metadata": {},
   "source": [
    "a) Find the number of users that have started an activity in one day and ended the activity the next day."
   ]
  },
  {
   "cell_type": "code",
   "execution_count": null,
   "metadata": {},
   "outputs": [
    {
     "name": "stdout",
     "output_type": "stream",
     "text": [
      "Number of users with activity that ends the next day: 38\n"
     ]
    }
   ],
   "source": [
    "users = executor.get_user_activity_over_a_day()\n",
    "\n",
    "num = set()\n",
    "for user in users[0]:\n",
    "    num.add(user[0])\n",
    "\n",
    "count = len(num)\n",
    "\n",
    "print(f\"Number of users with activity that ends the next day: {count}\")"
   ]
  },
  {
   "cell_type": "markdown",
   "metadata": {},
   "source": [
    "b) List the transportation mode, user id and duration for these activities."
   ]
  },
  {
   "cell_type": "code",
   "execution_count": null,
   "metadata": {},
   "outputs": [
    {
     "name": "stdout",
     "output_type": "stream",
     "text": [
      "The user who have an end date one day after the start day: \n",
      " user: 010 transportation mode: train duration: 23:59:59\n",
      " user: 010 transportation mode: train duration: 11:13:11\n",
      " user: 010 transportation mode: train duration: 7:09:22\n",
      " user: 010 transportation mode: train duration: 12:13:22\n",
      " user: 010 transportation mode: train duration: 11:31:39\n",
      " user: 010 transportation mode: train duration: 9:20:15\n",
      " user: 010 transportation mode: train duration: 1:50:25\n",
      " user: 010 transportation mode: bus duration: 0:08:24\n",
      " user: 010 transportation mode: taxi duration: 0:42:47\n",
      " user: 010 transportation mode: taxi duration: 0:15:26\n",
      " user: 010 transportation mode: train duration: 0:30:26\n",
      " user: 010 transportation mode: subway duration: 0:08:56\n",
      " user: 010 transportation mode: taxi duration: 0:25:35\n",
      " user: 010 transportation mode: taxi duration: 0:30:20\n",
      " user: 010 transportation mode: train duration: 1:01:15\n",
      " user: 010 transportation mode: train duration: 0:30:11\n",
      " user: 010 transportation mode: train duration: 15:16:06\n",
      " user: 010 transportation mode: walk duration: 0:18:57\n",
      " user: 010 transportation mode: train duration: 9:08:22\n",
      " user: 010 transportation mode: train duration: 9:24:53\n",
      " user: 010 transportation mode: taxi duration: 0:58:12\n",
      " user: 010 transportation mode: train duration: 0:30:26\n",
      " user: 010 transportation mode: taxi duration: 0:27:13\n",
      " user: 010 transportation mode: taxi duration: 0:27:01\n",
      " user: 010 transportation mode: taxi duration: 0:18:21\n",
      " user: 010 transportation mode: taxi duration: 0:21:01\n",
      " user: 020 transportation mode: bike duration: 10:10:01\n",
      " user: 021 transportation mode: car duration: 6:00:49\n",
      " user: 021 transportation mode: walk duration: 3:57:13\n",
      " user: 052 transportation mode: airplane duration: 2:18:26\n",
      " user: 052 transportation mode: bus duration: 0:54:55\n",
      " user: 052 transportation mode: bus duration: 0:18:55\n",
      " user: 052 transportation mode: bus duration: 0:06:16\n",
      " user: 052 transportation mode: walk duration: 0:48:25\n",
      " user: 052 transportation mode: bus duration: 7:37:50\n",
      " user: 052 transportation mode: bus duration: 0:11:35\n",
      " user: 053 transportation mode: walk duration: 0:11:42\n",
      " user: 056 transportation mode: bike duration: 16:59:59\n",
      " user: 056 transportation mode: bike duration: 16:59:59\n",
      " user: 058 transportation mode: car duration: 0:36:12\n",
      " user: 062 transportation mode: walk duration: 1:23:44\n",
      " user: 062 transportation mode: bus duration: 2:02:48\n",
      " user: 062 transportation mode: train duration: 4:02:55\n",
      " user: 062 transportation mode: bus duration: 0:58:26\n",
      " user: 062 transportation mode: train duration: 13:32:30\n",
      " user: 062 transportation mode: train duration: 9:46:02\n",
      " user: 062 transportation mode: bus duration: 12:50:04\n",
      " user: 062 transportation mode: bus duration: 1:24:15\n",
      " user: 062 transportation mode: bus duration: 1:12:46\n",
      " user: 062 transportation mode: walk duration: 7:57:31\n",
      " user: 062 transportation mode: bus duration: 0:35:29\n",
      " user: 062 transportation mode: bus duration: 0:33:19\n",
      " user: 062 transportation mode: car duration: 12:25:30\n",
      " user: 062 transportation mode: bus duration: 0:32:16\n",
      " user: 062 transportation mode: bus duration: 0:23:27\n",
      " user: 062 transportation mode: bus duration: 0:30:15\n",
      " user: 064 transportation mode: walk duration: 0:06:58\n",
      " user: 065 transportation mode: bike duration: 1:53:02\n",
      " user: 067 transportation mode: walk duration: 0:17:34\n",
      " user: 067 transportation mode: subway duration: 0:44:05\n",
      " user: 068 transportation mode: bus duration: 1:22:33\n",
      " user: 068 transportation mode: bike duration: 0:11:40\n",
      " user: 068 transportation mode: bike duration: 0:14:50\n",
      " user: 068 transportation mode: bike duration: 0:12:42\n",
      " user: 068 transportation mode: bike duration: 0:13:58\n",
      " user: 068 transportation mode: bike duration: 0:15:14\n",
      " user: 068 transportation mode: car duration: 0:59:48\n",
      " user: 068 transportation mode: bike duration: 0:03:34\n",
      " user: 068 transportation mode: bike duration: 0:07:44\n",
      " user: 068 transportation mode: bike duration: 0:21:50\n",
      " user: 068 transportation mode: bike duration: 0:15:38\n",
      " user: 068 transportation mode: bike duration: 0:10:36\n",
      " user: 068 transportation mode: bike duration: 0:14:12\n",
      " user: 068 transportation mode: bike duration: 0:20:08\n",
      " user: 068 transportation mode: bike duration: 1:07:36\n",
      " user: 068 transportation mode: bike duration: 0:13:16\n",
      " user: 068 transportation mode: bike duration: 3:30:44\n",
      " user: 068 transportation mode: bike duration: 0:28:48\n",
      " user: 068 transportation mode: bike duration: 0:24:52\n",
      " user: 068 transportation mode: walk duration: 0:16:01\n",
      " user: 068 transportation mode: bike duration: 0:18:22\n",
      " user: 068 transportation mode: bike duration: 0:24:52\n",
      " user: 068 transportation mode: bike duration: 0:27:08\n",
      " user: 068 transportation mode: bike duration: 0:27:12\n",
      " user: 068 transportation mode: bike duration: 0:24:38\n",
      " user: 068 transportation mode: bike duration: 0:34:26\n",
      " user: 068 transportation mode: bike duration: 0:21:00\n",
      " user: 068 transportation mode: bike duration: 0:26:58\n",
      " user: 068 transportation mode: bike duration: 0:17:56\n",
      " user: 068 transportation mode: bike duration: 0:21:42\n",
      " user: 068 transportation mode: bike duration: 0:15:52\n",
      " user: 068 transportation mode: bike duration: 0:20:38\n",
      " user: 068 transportation mode: bike duration: 0:20:46\n",
      " user: 068 transportation mode: bike duration: 0:16:32\n",
      " user: 068 transportation mode: bike duration: 0:14:08\n",
      " user: 068 transportation mode: bike duration: 0:16:42\n",
      " user: 068 transportation mode: bike duration: 0:18:16\n",
      " user: 068 transportation mode: bike duration: 0:17:30\n",
      " user: 068 transportation mode: bike duration: 0:23:54\n",
      " user: 068 transportation mode: bike duration: 0:23:26\n",
      " user: 068 transportation mode: bike duration: 0:16:46\n",
      " user: 068 transportation mode: bike duration: 0:22:10\n",
      " user: 068 transportation mode: bike duration: 0:17:36\n",
      " user: 068 transportation mode: bike duration: 0:29:24\n",
      " user: 068 transportation mode: bike duration: 0:37:09\n",
      " user: 068 transportation mode: bike duration: 0:14:34\n",
      " user: 068 transportation mode: bus duration: 0:42:00\n",
      " user: 068 transportation mode: bus duration: 0:26:12\n",
      " user: 068 transportation mode: bus duration: 0:22:31\n",
      " user: 068 transportation mode: bus duration: 0:34:08\n",
      " user: 068 transportation mode: bus duration: 0:20:22\n",
      " user: 068 transportation mode: bike duration: 0:20:40\n",
      " user: 068 transportation mode: bike duration: 0:15:28\n",
      " user: 068 transportation mode: bike duration: 0:14:52\n",
      " user: 068 transportation mode: bike duration: 0:18:28\n",
      " user: 068 transportation mode: bike duration: 0:20:08\n",
      " user: 068 transportation mode: bike duration: 0:17:00\n",
      " user: 068 transportation mode: bike duration: 0:21:24\n",
      " user: 068 transportation mode: bike duration: 0:34:07\n",
      " user: 068 transportation mode: bus duration: 1:24:57\n",
      " user: 068 transportation mode: bike duration: 0:33:28\n",
      " user: 068 transportation mode: bus duration: 1:17:28\n",
      " user: 068 transportation mode: walk duration: 2:01:00\n",
      " user: 068 transportation mode: bike duration: 0:18:22\n",
      " user: 068 transportation mode: bike duration: 0:17:30\n",
      " user: 075 transportation mode: train duration: 23:59:59\n",
      " user: 075 transportation mode: train duration: 11:13:11\n",
      " user: 075 transportation mode: train duration: 7:09:22\n",
      " user: 075 transportation mode: train duration: 12:13:22\n",
      " user: 075 transportation mode: train duration: 11:31:39\n",
      " user: 075 transportation mode: train duration: 9:20:15\n",
      " user: 075 transportation mode: train duration: 1:50:25\n",
      " user: 075 transportation mode: walk duration: 0:06:58\n",
      " user: 075 transportation mode: bus duration: 0:08:24\n",
      " user: 075 transportation mode: taxi duration: 0:42:47\n",
      " user: 075 transportation mode: taxi duration: 0:15:26\n",
      " user: 075 transportation mode: train duration: 0:30:26\n",
      " user: 075 transportation mode: subway duration: 0:08:56\n",
      " user: 075 transportation mode: taxi duration: 0:25:35\n",
      " user: 075 transportation mode: taxi duration: 0:30:20\n",
      " user: 075 transportation mode: train duration: 1:01:15\n",
      " user: 075 transportation mode: train duration: 0:30:11\n",
      " user: 075 transportation mode: train duration: 15:16:06\n",
      " user: 075 transportation mode: walk duration: 0:18:57\n",
      " user: 075 transportation mode: train duration: 9:08:22\n",
      " user: 075 transportation mode: train duration: 9:24:53\n",
      " user: 075 transportation mode: taxi duration: 0:58:12\n",
      " user: 075 transportation mode: train duration: 0:30:26\n",
      " user: 075 transportation mode: taxi duration: 0:27:13\n",
      " user: 075 transportation mode: taxi duration: 0:27:01\n",
      " user: 075 transportation mode: taxi duration: 0:18:21\n",
      " user: 075 transportation mode: taxi duration: 0:21:01\n",
      " user: 075 transportation mode: walk duration: 11:13:59\n",
      " user: 076 transportation mode: car duration: 8:58:21\n",
      " user: 076 transportation mode: car duration: 16:08:07\n",
      " user: 076 transportation mode: car duration: 23:59:59\n",
      " user: 076 transportation mode: car duration: 23:59:59\n",
      " user: 076 transportation mode: car duration: 22:59:59\n",
      " user: 076 transportation mode: car duration: 22:59:59\n",
      " user: 076 transportation mode: car duration: 22:59:59\n",
      " user: 081 transportation mode: bike duration: 0:30:57\n",
      " user: 084 transportation mode: bus duration: 1:02:15\n",
      " user: 084 transportation mode: subway duration: 0:28:04\n",
      " user: 084 transportation mode: bus duration: 0:54:38\n",
      " user: 084 transportation mode: bus duration: 1:00:39\n",
      " user: 084 transportation mode: walk duration: 0:12:56\n",
      " user: 084 transportation mode: bus duration: 0:55:58\n",
      " user: 084 transportation mode: bus duration: 1:29:20\n",
      " user: 084 transportation mode: subway duration: 0:42:26\n",
      " user: 084 transportation mode: bus duration: 1:07:52\n",
      " user: 084 transportation mode: walk duration: 0:53:38\n",
      " user: 084 transportation mode: bus duration: 1:09:56\n",
      " user: 084 transportation mode: bus duration: 1:08:12\n",
      " user: 084 transportation mode: bus duration: 1:02:54\n",
      " user: 084 transportation mode: bus duration: 0:56:34\n",
      " user: 084 transportation mode: subway duration: 0:42:23\n",
      " user: 084 transportation mode: bus duration: 0:46:48\n",
      " user: 084 transportation mode: bus duration: 1:03:56\n",
      " user: 084 transportation mode: bus duration: 0:57:46\n",
      " user: 084 transportation mode: bus duration: 0:52:44\n",
      " user: 084 transportation mode: subway duration: 0:40:13\n",
      " user: 084 transportation mode: walk duration: 0:04:42\n",
      " user: 084 transportation mode: bus duration: 1:03:08\n",
      " user: 084 transportation mode: bus duration: 0:47:45\n",
      " user: 084 transportation mode: bus duration: 1:04:05\n",
      " user: 084 transportation mode: bus duration: 0:45:05\n",
      " user: 084 transportation mode: bus duration: 0:58:35\n",
      " user: 084 transportation mode: bus duration: 0:59:35\n",
      " user: 084 transportation mode: bus duration: 1:04:00\n",
      " user: 084 transportation mode: bus duration: 0:59:05\n",
      " user: 084 transportation mode: bus duration: 1:06:30\n",
      " user: 084 transportation mode: bus duration: 0:56:00\n",
      " user: 084 transportation mode: bus duration: 1:00:31\n",
      " user: 084 transportation mode: bus duration: 1:08:45\n",
      " user: 084 transportation mode: car duration: 0:35:45\n",
      " user: 084 transportation mode: bus duration: 1:04:23\n",
      " user: 084 transportation mode: bus duration: 1:29:00\n",
      " user: 084 transportation mode: bus duration: 1:18:50\n",
      " user: 085 transportation mode: bus duration: 0:43:00\n",
      " user: 085 transportation mode: walk duration: 0:06:15\n",
      " user: 085 transportation mode: walk duration: 4:10:47\n",
      " user: 085 transportation mode: walk duration: 11:35:03\n",
      " user: 085 transportation mode: bus duration: 0:49:00\n",
      " user: 085 transportation mode: bus duration: 0:48:25\n",
      " user: 085 transportation mode: bus duration: 0:20:39\n",
      " user: 085 transportation mode: walk duration: 0:15:50\n",
      " user: 085 transportation mode: walk duration: 0:33:46\n",
      " user: 085 transportation mode: walk duration: 0:09:45\n",
      " user: 085 transportation mode: walk duration: 0:09:32\n",
      " user: 085 transportation mode: walk duration: 0:06:58\n",
      " user: 085 transportation mode: bus duration: 0:13:22\n",
      " user: 085 transportation mode: walk duration: 0:19:54\n",
      " user: 085 transportation mode: bus duration: 0:21:40\n",
      " user: 085 transportation mode: bus duration: 0:58:25\n",
      " user: 085 transportation mode: subway duration: 1:00:33\n",
      " user: 085 transportation mode: subway duration: 0:27:18\n",
      " user: 085 transportation mode: subway duration: 0:34:48\n",
      " user: 085 transportation mode: subway duration: 0:54:36\n",
      " user: 085 transportation mode: subway duration: 0:37:38\n",
      " user: 085 transportation mode: subway duration: 0:36:33\n",
      " user: 085 transportation mode: walk duration: 0:16:44\n",
      " user: 085 transportation mode: walk duration: 0:07:58\n",
      " user: 085 transportation mode: walk duration: 0:11:45\n",
      " user: 085 transportation mode: subway duration: 0:42:53\n",
      " user: 085 transportation mode: subway duration: 0:29:13\n",
      " user: 085 transportation mode: subway duration: 0:30:59\n",
      " user: 085 transportation mode: subway duration: 0:29:50\n",
      " user: 085 transportation mode: walk duration: 0:10:48\n",
      " user: 085 transportation mode: subway duration: 0:28:08\n",
      " user: 085 transportation mode: subway duration: 0:28:08\n",
      " user: 086 transportation mode: car duration: 23:59:59\n",
      " user: 089 transportation mode: car duration: 0:37:32\n",
      " user: 091 transportation mode: walk duration: 0:04:04\n",
      " user: 091 transportation mode: walk duration: 15:00:11\n",
      " user: 092 transportation mode: walk duration: 0:08:58\n",
      " user: 092 transportation mode: bus duration: 0:47:37\n",
      " user: 097 transportation mode: bike duration: 23:59:59\n",
      " user: 097 transportation mode: bike duration: 23:59:59\n",
      " user: 097 transportation mode: bike duration: 23:59:58\n",
      " user: 097 transportation mode: bike duration: 23:59:58\n",
      " user: 097 transportation mode: bike duration: 23:59:58\n",
      " user: 097 transportation mode: bike duration: 23:59:58\n",
      " user: 097 transportation mode: bike duration: 23:59:58\n",
      " user: 097 transportation mode: bike duration: 23:59:58\n",
      " user: 098 transportation mode: taxi duration: 12:10:32\n",
      " user: 098 transportation mode: walk duration: 12:24:06\n",
      " user: 098 transportation mode: walk duration: 12:52:33\n",
      " user: 104 transportation mode: bus duration: 0:25:00\n",
      " user: 104 transportation mode: bus duration: 0:23:00\n",
      " user: 104 transportation mode: bus duration: 0:32:00\n",
      " user: 104 transportation mode: bus duration: 0:58:00\n",
      " user: 105 transportation mode: bike duration: 12:51:05\n",
      " user: 106 transportation mode: car duration: 23:59:59\n",
      " user: 106 transportation mode: car duration: 23:59:59\n",
      " user: 106 transportation mode: car duration: 23:59:59\n",
      " user: 108 transportation mode: car duration: 4:45:59\n",
      " user: 111 transportation mode: bike duration: 7:14:00\n",
      " user: 111 transportation mode: car duration: 6:16:00\n",
      " user: 111 transportation mode: car duration: 23:59:59\n",
      " user: 112 transportation mode: walk duration: 2:49:20\n",
      " user: 112 transportation mode: walk duration: 0:24:53\n",
      " user: 112 transportation mode: walk duration: 23:01:15\n",
      " user: 112 transportation mode: car duration: 0:26:20\n",
      " user: 115 transportation mode: car duration: 0:37:53\n",
      " user: 115 transportation mode: car duration: 10:56:47\n",
      " user: 115 transportation mode: car duration: 1:28:04\n",
      " user: 115 transportation mode: car duration: 1:22:05\n",
      " user: 115 transportation mode: car duration: 14:42:37\n",
      " user: 115 transportation mode: car duration: 1:02:50\n",
      " user: 115 transportation mode: car duration: 1:44:03\n",
      " user: 115 transportation mode: car duration: 1:00:56\n",
      " user: 115 transportation mode: car duration: 1:05:10\n",
      " user: 115 transportation mode: car duration: 1:23:14\n",
      " user: 115 transportation mode: car duration: 0:54:09\n",
      " user: 115 transportation mode: car duration: 1:08:43\n",
      " user: 115 transportation mode: car duration: 1:09:36\n",
      " user: 115 transportation mode: car duration: 1:03:47\n",
      " user: 115 transportation mode: car duration: 1:01:42\n",
      " user: 115 transportation mode: car duration: 0:55:50\n",
      " user: 115 transportation mode: car duration: 1:24:08\n",
      " user: 115 transportation mode: car duration: 1:17:13\n",
      " user: 115 transportation mode: car duration: 1:01:33\n",
      " user: 115 transportation mode: car duration: 1:03:29\n",
      " user: 115 transportation mode: car duration: 0:58:19\n",
      " user: 115 transportation mode: car duration: 12:17:23\n",
      " user: 115 transportation mode: car duration: 11:47:48\n",
      " user: 115 transportation mode: car duration: 12:21:14\n",
      " user: 115 transportation mode: car duration: 12:38:42\n",
      " user: 115 transportation mode: car duration: 15:29:53\n",
      " user: 115 transportation mode: car duration: 12:05:46\n",
      " user: 115 transportation mode: car duration: 7:46:29\n",
      " user: 115 transportation mode: car duration: 1:05:39\n",
      " user: 115 transportation mode: car duration: 0:57:48\n",
      " user: 115 transportation mode: car duration: 1:56:44\n",
      " user: 115 transportation mode: car duration: 1:08:14\n",
      " user: 115 transportation mode: car duration: 0:58:45\n",
      " user: 115 transportation mode: car duration: 1:04:03\n",
      " user: 125 transportation mode: bike duration: 0:30:57\n",
      " user: 126 transportation mode: bike duration: 0:18:47\n",
      " user: 126 transportation mode: train duration: 6:55:00\n",
      " user: 126 transportation mode: walk duration: 0:38:12\n",
      " user: 126 transportation mode: walk duration: 0:20:25\n",
      " user: 126 transportation mode: walk duration: 0:07:20\n",
      " user: 126 transportation mode: train duration: 1:54:07\n",
      " user: 128 transportation mode: walk duration: 0:35:00\n",
      " user: 128 transportation mode: walk duration: 0:52:00\n",
      " user: 128 transportation mode: bus duration: 2:00:00\n",
      " user: 128 transportation mode: walk duration: 0:07:00\n",
      " user: 128 transportation mode: bus duration: 2:40:00\n",
      " user: 128 transportation mode: train duration: 1:31:11\n",
      " user: 128 transportation mode: bike duration: 1:33:10\n",
      " user: 128 transportation mode: car duration: 1:04:19\n",
      " user: 128 transportation mode: walk duration: 5:21:53\n",
      " user: 128 transportation mode: walk duration: 3:07:12\n",
      " user: 128 transportation mode: car duration: 0:44:11\n",
      " user: 128 transportation mode: bus duration: 0:58:44\n",
      " user: 128 transportation mode: subway duration: 0:30:57\n",
      " user: 128 transportation mode: car duration: 0:33:08\n",
      " user: 128 transportation mode: car duration: 10:03:01\n",
      " user: 128 transportation mode: car duration: 1:40:04\n",
      " user: 128 transportation mode: airplane duration: 5:31:49\n",
      " user: 128 transportation mode: subway duration: 0:27:26\n",
      " user: 138 transportation mode: bike duration: 0:13:47\n",
      " user: 139 transportation mode: car duration: 4:45:59\n",
      " user: 153 transportation mode: taxi duration: 9:16:53\n",
      " user: 153 transportation mode: walk duration: 14:44:00\n",
      " user: 153 transportation mode: taxi duration: 2:17:50\n",
      " user: 153 transportation mode: walk duration: 10:01:28\n",
      " user: 153 transportation mode: walk duration: 0:02:52\n",
      " user: 153 transportation mode: bus duration: 0:11:52\n",
      " user: 153 transportation mode: walk duration: 0:01:56\n",
      " user: 153 transportation mode: bus duration: 0:07:46\n",
      " user: 153 transportation mode: bus duration: 0:07:42\n",
      " user: 153 transportation mode: bus duration: 0:10:04\n",
      " user: 153 transportation mode: walk duration: 0:13:50\n",
      " user: 153 transportation mode: walk duration: 0:12:19\n",
      " user: 153 transportation mode: bus duration: 0:30:04\n",
      " user: 153 transportation mode: bus duration: 0:26:31\n",
      " user: 153 transportation mode: bus duration: 0:09:32\n",
      " user: 153 transportation mode: bus duration: 0:19:58\n",
      " user: 153 transportation mode: bus duration: 0:09:22\n",
      " user: 153 transportation mode: walk duration: 0:07:36\n",
      " user: 153 transportation mode: walk duration: 0:17:53\n",
      " user: 153 transportation mode: bus duration: 0:24:00\n",
      " user: 153 transportation mode: bus duration: 0:09:05\n",
      " user: 153 transportation mode: walk duration: 0:06:12\n",
      " user: 163 transportation mode: walk duration: 4:06:15\n",
      " user: 163 transportation mode: taxi duration: 8:24:49\n",
      " user: 163 transportation mode: bike duration: 0:12:25\n",
      " user: 163 transportation mode: bike duration: 0:24:40\n",
      " user: 163 transportation mode: car duration: 1:17:24\n",
      " user: 163 transportation mode: walk duration: 0:22:00\n",
      " user: 163 transportation mode: walk duration: 0:22:58\n",
      " user: 163 transportation mode: taxi duration: 1:03:40\n",
      " user: 163 transportation mode: taxi duration: 13:32:07\n",
      " user: 163 transportation mode: bike duration: 15:25:39\n",
      " user: 163 transportation mode: walk duration: 13:07:49\n",
      " user: 163 transportation mode: car duration: 10:49:55\n",
      " user: 163 transportation mode: car duration: 11:12:19\n",
      " user: 163 transportation mode: walk duration: 9:23:05\n",
      " user: 163 transportation mode: walk duration: 1:43:48\n",
      " user: 163 transportation mode: bus duration: 0:13:02\n",
      " user: 163 transportation mode: bike duration: 14:49:29\n",
      " user: 163 transportation mode: walk duration: 0:23:14\n",
      " user: 163 transportation mode: walk duration: 0:24:11\n",
      " user: 163 transportation mode: bike duration: 0:11:18\n",
      " user: 163 transportation mode: walk duration: 0:25:58\n",
      " user: 163 transportation mode: bike duration: 13:47:20\n",
      " user: 163 transportation mode: bus duration: 0:07:56\n",
      " user: 163 transportation mode: walk duration: 0:05:48\n",
      " user: 163 transportation mode: walk duration: 13:50:01\n",
      " user: 163 transportation mode: bus duration: 0:05:27\n",
      " user: 163 transportation mode: walk duration: 23:59:59\n",
      " user: 163 transportation mode: walk duration: 0:37:32\n",
      " user: 163 transportation mode: bus duration: 0:09:35\n",
      " user: 163 transportation mode: walk duration: 7:59:58\n",
      " user: 163 transportation mode: walk duration: 0:02:40\n",
      " user: 163 transportation mode: bus duration: 0:07:53\n",
      " user: 163 transportation mode: car duration: 16:59:00\n",
      " user: 163 transportation mode: car duration: 16:59:00\n",
      " user: 163 transportation mode: car duration: 16:59:00\n",
      " user: 163 transportation mode: car duration: 16:59:00\n",
      " user: 163 transportation mode: car duration: 16:59:00\n",
      " user: 163 transportation mode: car duration: 16:59:00\n",
      " user: 163 transportation mode: car duration: 16:59:00\n",
      " user: 163 transportation mode: car duration: 16:59:00\n",
      " user: 163 transportation mode: car duration: 16:59:00\n",
      " user: 163 transportation mode: car duration: 16:59:00\n",
      " user: 163 transportation mode: car duration: 16:59:00\n",
      " user: 163 transportation mode: car duration: 16:59:00\n",
      " user: 163 transportation mode: car duration: 16:59:00\n",
      " user: 163 transportation mode: car duration: 17:59:00\n",
      " user: 163 transportation mode: car duration: 17:59:00\n",
      " user: 163 transportation mode: car duration: 17:59:00\n",
      " user: 163 transportation mode: car duration: 16:59:00\n",
      " user: 163 transportation mode: car duration: 16:59:00\n",
      " user: 163 transportation mode: car duration: 16:59:00\n",
      " user: 167 transportation mode: bike duration: 0:18:47\n",
      " user: 167 transportation mode: train duration: 6:55:00\n",
      " user: 167 transportation mode: walk duration: 0:12:02\n",
      " user: 167 transportation mode: taxi duration: 0:43:30\n",
      " user: 167 transportation mode: train duration: 1:54:07\n",
      " user: 167 transportation mode: walk duration: 12:09:52\n",
      "\n",
      "\n"
     ]
    }
   ],
   "source": [
    "users = \"\".join([f'\\n user: {user[0]} transportation mode: {user[1]} duration: {user[2]}' for user in users[0]])\n",
    "print(f\"The user who have an end date one day after the start day: {users}\")\n",
    "print(users[0])"
   ]
  },
  {
   "cell_type": "markdown",
   "metadata": {},
   "source": [
    "### Task 9"
   ]
  },
  {
   "cell_type": "markdown",
   "metadata": {},
   "source": [
    "Find the top 15 users who have gained the most altitude meters."
   ]
  },
  {
   "cell_type": "code",
   "execution_count": null,
   "metadata": {},
   "outputs": [],
   "source": [
    "query = \"SELECT user_id, sum(activity_altitude)*0.304 as altitude_in_meters FROM Activity JOIN (SELECT activity_id, SUM(difference) AS activity_altitude FROM (SELECT activity_id, altitude - LAG(altitude) OVER (PARTITION BY activity_id ORDER BY date_time) AS difference FROM TrackPoint) AS altitude_difference WHERE difference > 0 GROUP BY activity_id) AS difference_table ON Activity.id = difference_table.activity_id GROUP BY user_id ORDER BY altitude_in_meters DESC LIMIT 15\"\n",
    "program.cursor.execute(query)\n",
    "rows = program.cursor.fetchall()\n",
    "text = \"Find the top 15 users who have gained the most altitude meters\\n\"\n",
    "for i in rows:\n",
    "    text += f\"User: {i[0]}, Altitude in meters: {i[1]}\"\n",
    "print(text)"
   ]
  },
  {
   "cell_type": "markdown",
   "metadata": {},
   "source": [
    "### Task 10"
   ]
  },
  {
   "cell_type": "markdown",
   "metadata": {},
   "source": [
    "Find the users that have traveled the longest total distance in one day for each\n",
    "transportation mode."
   ]
  },
  {
   "cell_type": "code",
   "execution_count": null,
   "metadata": {},
   "outputs": [
    {
     "name": "stdout",
     "output_type": "stream",
     "text": [
      "\n",
      "-----------------------------------------------\n",
      "Connection to 8.0.34-0ubuntu0.22.04.1 is closed\n"
     ]
    }
   ],
   "source": [
    "# Closing the connection\n",
    "program.close_connection()"
   ]
  },
  {
   "cell_type": "markdown",
   "metadata": {},
   "source": [
    "### Task 12"
   ]
  },
  {
   "cell_type": "markdown",
   "metadata": {},
   "source": [
    "Find all the users who have registered transportation_mode and their most used transportation_mode"
   ]
  },
  {
   "cell_type": "code",
   "execution_count": null,
   "metadata": {},
   "outputs": [],
   "source": [
    "query = \"SELECT user_id, transportation_mode FROM ( SELECT user_id, transportation_mode, ROW_NUMBER() OVER (PARTITION BY user_id ORDER BY COUNT(*) DESC, transportation_mode ASC) AS rownum FROM Activity JOIN User ON Activity.user_id = User.id WHERE transportation_mode IS NOT NULL AND User.has_labels=TRUE GROUP BY user_id, transportation_mode) AS activity_grouped WHERE rownum=1 ORDER BY user_id\"\n",
    "program.cursor.execute(query)\n",
    "rows = program.cursor.fetchall()\n",
    "print(\"Find all the users who have registered transportation_mode and their most used transportation_mode\")"
   ]
  }
 ],
 "metadata": {
  "kernelspec": {
   "display_name": "Python 3",
   "language": "python",
   "name": "python3"
  },
  "language_info": {
   "codemirror_mode": {
    "name": "ipython",
    "version": 3
   },
   "file_extension": ".py",
   "mimetype": "text/x-python",
   "name": "python",
   "nbconvert_exporter": "python",
   "pygments_lexer": "ipython3",
   "version": "3.9.13"
  },
  "orig_nbformat": 4
 },
 "nbformat": 4,
 "nbformat_minor": 2
}
