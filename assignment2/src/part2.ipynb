{
 "cells": [
  {
   "cell_type": "code",
   "execution_count": 1,
   "metadata": {},
   "outputs": [],
   "source": [
    "from DbConnector import DbConnector\n",
    "from part2 import DbExecutor"
   ]
  },
  {
   "cell_type": "code",
   "execution_count": 2,
   "metadata": {},
   "outputs": [
    {
     "name": "stdout",
     "output_type": "stream",
     "text": [
      "Connected to: 8.0.34-0ubuntu0.22.04.1\n",
      "You are connected to the database: ('assignment2',)\n",
      "-----------------------------------------------\n",
      "\n",
      "Connected to: 8.0.34-0ubuntu0.22.04.1\n",
      "You are connected to the database: ('assignment2',)\n",
      "-----------------------------------------------\n",
      "\n"
     ]
    }
   ],
   "source": [
    "# Set up the program\n",
    "program = DbConnector()\n",
    "executor = DbExecutor()"
   ]
  },
  {
   "cell_type": "markdown",
   "metadata": {},
   "source": [
    "### Task 1"
   ]
  },
  {
   "cell_type": "markdown",
   "metadata": {},
   "source": [
    "How many users, activities and trackpoints are there in the dataset (after it is inserted into the database)"
   ]
  },
  {
   "cell_type": "code",
   "execution_count": 3,
   "metadata": {},
   "outputs": [
    {
     "name": "stdout",
     "output_type": "stream",
     "text": [
      "There are (182,) users\n",
      "There are (14718,) activities\n",
      "There are (704781,) trackpoints\n"
     ]
    }
   ],
   "source": [
    "# Get the number of Users\n",
    "users = executor.get_table_size(\"User\")\n",
    "print(f\"There are {users[0]} users\")\n",
    "\n",
    "# Get the number of Activities\n",
    "activities = executor.get_table_size(\"Activity\")\n",
    "print(f\"There are {activities[0]} activities\")\n",
    "\n",
    "# Get the number of TrackPoints\n",
    "trackpoints = executor.get_table_size(\"TrackPoint\")\n",
    "print(f\"There are {trackpoints[0]} trackpoints\")\n"
   ]
  },
  {
   "cell_type": "markdown",
   "metadata": {},
   "source": [
    "### Task 4"
   ]
  },
  {
   "cell_type": "markdown",
   "metadata": {},
   "source": [
    "Find all users who have taken a bus."
   ]
  },
  {
   "cell_type": "code",
   "execution_count": 14,
   "metadata": {},
   "outputs": [
    {
     "name": "stdout",
     "output_type": "stream",
     "text": [
      "The user ids for user that have taken the bus: \n",
      " user: 010\n",
      " user: 020\n",
      " user: 052\n",
      " user: 053\n",
      " user: 058\n",
      " user: 062\n",
      " user: 064\n",
      " user: 065\n",
      " user: 067\n",
      " user: 068\n",
      " user: 069\n",
      " user: 073\n",
      " user: 075\n",
      " user: 078\n",
      " user: 080\n",
      " user: 081\n",
      " user: 082\n",
      " user: 084\n",
      " user: 085\n",
      " user: 088\n",
      " user: 091\n",
      " user: 092\n",
      " user: 096\n",
      " user: 098\n",
      " user: 100\n",
      " user: 101\n",
      " user: 102\n",
      " user: 104\n",
      " user: 105\n",
      " user: 108\n",
      " user: 110\n",
      " user: 111\n",
      " user: 112\n",
      " user: 114\n",
      " user: 124\n",
      " user: 125\n",
      " user: 126\n",
      " user: 128\n",
      " user: 129\n",
      " user: 138\n",
      " user: 139\n",
      " user: 141\n",
      " user: 147\n",
      " user: 153\n",
      " user: 154\n",
      " user: 161\n",
      " user: 163\n",
      " user: 167\n",
      " user: 174\n",
      " user: 175\n",
      " user: 179\n"
     ]
    }
   ],
   "source": [
    "# Get the users who have taken the bus\n",
    "users = executor.get_user_taken_bus()\n",
    "users = \"\".join([f'\\n user: {user[0]}' for user in users[0]])\n",
    "print(f\"The user ids for user that have taken the bus: {users}\")"
   ]
  },
  {
   "cell_type": "markdown",
   "metadata": {},
   "source": [
    "### Task 7"
   ]
  },
  {
   "cell_type": "markdown",
   "metadata": {},
   "source": [
    "a) Find the number of users that have started an activity in one day and ended the activity the next day."
   ]
  },
  {
   "cell_type": "code",
   "execution_count": null,
   "metadata": {},
   "outputs": [],
   "source": []
  },
  {
   "cell_type": "markdown",
   "metadata": {},
   "source": [
    "b) List the transportation mode, user id and duration for these activities."
   ]
  },
  {
   "cell_type": "code",
   "execution_count": null,
   "metadata": {},
   "outputs": [],
   "source": []
  },
  {
   "cell_type": "code",
   "execution_count": 5,
   "metadata": {},
   "outputs": [
    {
     "name": "stdout",
     "output_type": "stream",
     "text": [
      "\n",
      "-----------------------------------------------\n",
      "Connection to 8.0.34-0ubuntu0.22.04.1 is closed\n"
     ]
    }
   ],
   "source": [
    "# Closing the connection\n",
    "program.close_connection()"
   ]
  }
 ],
 "metadata": {
  "kernelspec": {
   "display_name": "Python 3",
   "language": "python",
   "name": "python3"
  },
  "language_info": {
   "codemirror_mode": {
    "name": "ipython",
    "version": 3
   },
   "file_extension": ".py",
   "mimetype": "text/x-python",
   "name": "python",
   "nbconvert_exporter": "python",
   "pygments_lexer": "ipython3",
   "version": "3.11.2"
  },
  "orig_nbformat": 4
 },
 "nbformat": 4,
 "nbformat_minor": 2
}
