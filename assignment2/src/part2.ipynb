{
 "cells": [
  {
   "cell_type": "code",
   "execution_count": 1,
   "metadata": {},
   "outputs": [],
   "source": [
    "from DbConnector import DbConnector\n",
    "from part2 import DbExecutor"
   ]
  },
  {
   "cell_type": "code",
   "execution_count": 2,
   "metadata": {},
   "outputs": [
    {
     "name": "stdout",
     "output_type": "stream",
     "text": [
      "Connected to: 8.0.34\n",
      "You are connected to the database: ('test_db',)\n",
      "-----------------------------------------------\n",
      "\n",
      "Connected to: 8.0.34\n",
      "You are connected to the database: ('test_db',)\n",
      "-----------------------------------------------\n",
      "\n"
     ]
    }
   ],
   "source": [
    "# Set up the program\n",
    "program = DbConnector()\n",
    "executor = DbExecutor()"
   ]
  },
  {
   "cell_type": "markdown",
   "metadata": {},
   "source": [
    "### Task 1"
   ]
  },
  {
   "cell_type": "markdown",
   "metadata": {},
   "source": [
    "How many users, activities and trackpoints are there in the dataset (after it is inserted into the database)"
   ]
  },
  {
   "cell_type": "code",
   "execution_count": 3,
   "metadata": {},
   "outputs": [
    {
     "ename": "AttributeError",
     "evalue": "'DbExecutor' object has no attribute 'get_table_size'",
     "output_type": "error",
     "traceback": [
      "\u001B[1;31m---------------------------------------------------------------------------\u001B[0m",
      "\u001B[1;31mAttributeError\u001B[0m                            Traceback (most recent call last)",
      "Input \u001B[1;32mIn [3]\u001B[0m, in \u001B[0;36m<cell line: 2>\u001B[1;34m()\u001B[0m\n\u001B[0;32m      1\u001B[0m \u001B[38;5;66;03m# Get the number of Users\u001B[39;00m\n\u001B[1;32m----> 2\u001B[0m users \u001B[38;5;241m=\u001B[39m \u001B[43mexecutor\u001B[49m\u001B[38;5;241;43m.\u001B[39;49m\u001B[43mget_table_size\u001B[49m(\u001B[38;5;124m\"\u001B[39m\u001B[38;5;124mUser\u001B[39m\u001B[38;5;124m\"\u001B[39m)\n\u001B[0;32m      3\u001B[0m \u001B[38;5;28mprint\u001B[39m(\u001B[38;5;124mf\u001B[39m\u001B[38;5;124m\"\u001B[39m\u001B[38;5;124mThere are \u001B[39m\u001B[38;5;132;01m{\u001B[39;00musers[\u001B[38;5;241m0\u001B[39m]\u001B[38;5;132;01m}\u001B[39;00m\u001B[38;5;124m users\u001B[39m\u001B[38;5;124m\"\u001B[39m)\n\u001B[0;32m      5\u001B[0m \u001B[38;5;66;03m# Get the number of Activities\u001B[39;00m\n",
      "\u001B[1;31mAttributeError\u001B[0m: 'DbExecutor' object has no attribute 'get_table_size'"
     ]
    }
   ],
   "source": [
    "# Get the number of Users\n",
    "users = executor.get_table_size(\"User\")\n",
    "print(f\"There are {users[0]} users\")\n",
    "\n",
    "# Get the number of Activities\n",
    "activities = executor.get_table_size(\"Activity\")\n",
    "print(f\"There are {activities[0]} activities\")\n",
    "\n",
    "# Get the number of TrackPoints\n",
    "trackpoints = executor.get_table_size(\"TrackPoint\")\n",
    "print(f\"There are {trackpoints[0]} trackpoints\")\n"
   ]
  },
  {
   "cell_type": "markdown",
   "source": [
    "### Task 2"
   ],
   "metadata": {
    "collapsed": false
   }
  },
  {
   "cell_type": "code",
   "execution_count": null,
   "outputs": [],
   "source": [
    "# Get The average number of trackpoints for an activity\n",
    "trackpoints = executor.findAvgTrackpoints()\n",
    "\n",
    "print(f\"Average number of trackpoins: {trackpoints[0]}\")"
   ],
   "metadata": {
    "collapsed": false,
    "pycharm": {
     "name": "#%%\n"
    }
   }
  },
  {
   "cell_type": "markdown",
   "metadata": {},
   "source": [
    "### Task 4"
   ]
  },
  {
   "cell_type": "markdown",
   "metadata": {},
   "source": [
    "Find all users who have taken a bus."
   ]
  },
  {
   "cell_type": "code",
   "execution_count": null,
   "metadata": {},
   "outputs": [],
   "source": [
    "# Get the users who have taken the bus\n",
    "users = executor.get_user_taken_bus()\n",
    "users = \"\".join([f'\\n user: {user[0]}' for user in users[0]])\n",
    "print(f\"The user ids for user that have taken the bus: {users}\")"
   ]
  },
  {
   "cell_type": "markdown",
   "metadata": {},
   "source": [
    "### Task 7"
   ]
  },
  {
   "cell_type": "markdown",
   "metadata": {},
   "source": [
    "a) Find the number of users that have started an activity in one day and ended the activity the next day."
   ]
  },
  {
   "cell_type": "code",
   "execution_count": null,
   "metadata": {},
   "outputs": [],
   "source": [
    "users = executor.get_user_activity_over_a_day()\n",
    "\n",
    "num = set()\n",
    "for user in users[0]:\n",
    "    num.add(user[0])\n",
    "\n",
    "count = len(num)\n",
    "\n",
    "print(f\"Number of users with activity that ends the next day: {count}\")"
   ]
  },
  {
   "cell_type": "markdown",
   "metadata": {},
   "source": [
    "b) List the transportation mode, user id and duration for these activities."
   ]
  },
  {
   "cell_type": "code",
   "execution_count": null,
   "metadata": {},
   "outputs": [],
   "source": [
    "users = \"\".join([f'\\n user: {user[0]} transportation mode: {user[1]} duration: {user[2]}' for user in users[0]])\n",
    "print(f\"The user who have an end date one day after the start day: {users}\")\n",
    "print(users[0])"
   ]
  },
  {
   "cell_type": "markdown",
   "metadata": {},
   "source": [
    "### Task 10"
   ]
  },
  {
   "cell_type": "markdown",
   "metadata": {},
   "source": [
    "Find the users that have traveled the longest total distance in one day for each\n",
    "transportation mode."
   ]
  },
  {
   "cell_type": "code",
   "execution_count": null,
   "metadata": {},
   "outputs": [],
   "source": [
    "# Closing the connection\n",
    "program.close_connection()"
   ]
  }
 ],
 "metadata": {
  "kernelspec": {
   "display_name": "Python 3",
   "language": "python",
   "name": "python3"
  },
  "language_info": {
   "codemirror_mode": {
    "name": "ipython",
    "version": 3
   },
   "file_extension": ".py",
   "mimetype": "text/x-python",
   "name": "python",
   "nbconvert_exporter": "python",
   "pygments_lexer": "ipython3",
   "version": "3.11.2"
  },
  "orig_nbformat": 4
 },
 "nbformat": 4,
 "nbformat_minor": 2
}