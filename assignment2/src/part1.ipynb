{
 "cells": [
  {
   "cell_type": "code",
   "execution_count": 1,
   "metadata": {},
   "outputs": [
    {
     "name": "stdout",
     "output_type": "stream",
     "text": [
      "Using user:  common\n",
      "Connected to: 8.0.34-0ubuntu0.22.04.1\n",
      "You are connected to the database: ('assignment2',)\n",
      "-----------------------------------------------\n",
      "\n",
      "Using user:  common\n",
      "Connected to: 8.0.34-0ubuntu0.22.04.1\n",
      "You are connected to the database: ('assignment2',)\n",
      "-----------------------------------------------\n",
      "\n"
     ]
    }
   ],
   "source": [
    "from DbConnector import DbConnector\n",
    "from part2 import Database \n",
    "from tabulate import tabulate\n",
    "\n",
    "# Set up the program\n",
    "from dotenv import load_dotenv\n",
    "import os\n",
    "\n",
    "load_dotenv()\n",
    "\n",
    "user = os.getenv('DB_USER')\n",
    "password = os.getenv('DB_PASSWORD')\n",
    "\n",
    "program = DbConnector(USER=user, PASSWORD=password)\n",
    "db = Database()"
   ]
  },
  {
   "cell_type": "markdown",
   "metadata": {},
   "source": [
    "### User table"
   ]
  },
  {
   "cell_type": "code",
   "execution_count": 2,
   "metadata": {},
   "outputs": [
    {
     "name": "stdout",
     "output_type": "stream",
     "text": [
      "  id    has_labels\n",
      "----  ------------\n",
      " 000             0\n",
      " 001             0\n",
      " 002             0\n",
      " 003             0\n",
      " 004             0\n",
      " 005             0\n",
      " 006             0\n",
      " 007             0\n",
      " 008             0\n",
      " 009             0\n"
     ]
    }
   ],
   "source": [
    "columns_query =\"\"\"\n",
    "SELECT COLUMN_NAME\n",
    "  FROM INFORMATION_SCHEMA.COLUMNS\n",
    "  WHERE TABLE_SCHEMA = 'assignment2' AND TABLE_NAME = 'User'\n",
    "  ORDER BY ORDINAL_POSITION;\n",
    "\"\"\" \n",
    "db.cursor.execute(columns_query)\n",
    "columns = db.cursor.fetchall()\n",
    "query = \"\"\"SELECT * FROM User LIMIT 10\"\"\"\n",
    "db.cursor.execute(query)\n",
    "rows = db.cursor.fetchall()\n",
    "print(tabulate(rows , headers=[ i[0] for i in columns]))"
   ]
  },
  {
   "cell_type": "markdown",
   "metadata": {},
   "source": [
    "### Activity table"
   ]
  },
  {
   "cell_type": "code",
   "execution_count": 3,
   "metadata": {},
   "outputs": [
    {
     "name": "stdout",
     "output_type": "stream",
     "text": [
      "  id    user_id  transportation_mode    start_date_time      end_date_time\n",
      "----  ---------  ---------------------  -------------------  -------------------\n",
      "   1        000                         2008-10-23 02:53:04  2008-10-23 11:11:12\n",
      "   2        000                         2008-10-24 02:09:59  2008-10-24 02:47:06\n",
      "   3        000                         2008-10-26 13:44:07  2008-10-26 15:04:07\n",
      "   4        000                         2008-10-27 11:54:49  2008-10-27 12:05:54\n",
      "   5        000                         2008-10-28 00:38:26  2008-10-28 05:03:42\n",
      "   6        000                         2008-10-29 09:21:38  2008-10-29 09:30:28\n",
      "   7        000                         2008-10-29 09:30:38  2008-10-29 09:46:43\n",
      "   8        000                         2008-11-03 10:13:36  2008-11-03 10:16:01\n",
      "   9        000                         2008-11-03 23:21:53  2008-11-04 03:31:08\n",
      "  10        000                         2008-11-10 01:36:37  2008-11-10 03:46:12\n"
     ]
    }
   ],
   "source": [
    "columns_query =\"\"\"\n",
    "SELECT COLUMN_NAME\n",
    "  FROM INFORMATION_SCHEMA.COLUMNS\n",
    "  WHERE TABLE_SCHEMA = 'assignment2' AND TABLE_NAME = 'Activity'\n",
    "  ORDER BY ORDINAL_POSITION;\n",
    "\"\"\" \n",
    "db.cursor.execute(columns_query)\n",
    "columns = db.cursor.fetchall()\n",
    "query = \"\"\"SELECT * FROM Activity LIMIT 10\"\"\"\n",
    "db.cursor.execute(query)\n",
    "rows = db.cursor.fetchall()\n",
    "print(tabulate(rows , headers=[ i[0] for i in columns]))"
   ]
  },
  {
   "cell_type": "markdown",
   "metadata": {},
   "source": [
    "### TrackPoint table"
   ]
  },
  {
   "cell_type": "code",
   "execution_count": 4,
   "metadata": {},
   "outputs": [
    {
     "name": "stdout",
     "output_type": "stream",
     "text": [
      "  id    activity_id      lat      lon    altitude    date_days  date_time\n",
      "----  -------------  -------  -------  ----------  -----------  -------------------\n",
      "   1              1  39.9847  116.318         492      39744.1  2008-10-23 02:53:04\n",
      "   2              1  39.9847  116.318         492      39744.1  2008-10-23 02:53:10\n",
      "   3              1  39.9847  116.318         492      39744.1  2008-10-23 02:53:15\n",
      "   4              1  39.9847  116.318         492      39744.1  2008-10-23 02:53:20\n",
      "   5              1  39.9847  116.318         492      39744.1  2008-10-23 02:53:25\n",
      "   6              1  39.9846  116.318         493      39744.1  2008-10-23 02:53:30\n",
      "   7              1  39.9846  116.318         493      39744.1  2008-10-23 02:53:35\n",
      "   8              1  39.9846  116.318         496      39744.1  2008-10-23 02:53:40\n",
      "   9              1  39.9845  116.317         500      39744.1  2008-10-23 02:53:45\n",
      "  10              1  39.9846  116.317         505      39744.1  2008-10-23 02:53:50\n"
     ]
    }
   ],
   "source": [
    "columns_query =\"\"\"\n",
    "SELECT COLUMN_NAME\n",
    "  FROM INFORMATION_SCHEMA.COLUMNS\n",
    "  WHERE TABLE_SCHEMA = 'assignment2' AND TABLE_NAME = 'TrackPoint'\n",
    "  ORDER BY ORDINAL_POSITION;\n",
    "\"\"\" \n",
    "db.cursor.execute(columns_query)\n",
    "columns = db.cursor.fetchall()\n",
    "query = \"\"\"SELECT * FROM TrackPoint LIMIT 10\"\"\"\n",
    "db.cursor.execute(query)\n",
    "rows = db.cursor.fetchall()\n",
    "print(tabulate(rows , headers=[i[0] for i in columns]))"
   ]
  }
 ],
 "metadata": {
  "kernelspec": {
   "display_name": "venv",
   "language": "python",
   "name": "python3"
  },
  "language_info": {
   "codemirror_mode": {
    "name": "ipython",
    "version": 3
   },
   "file_extension": ".py",
   "mimetype": "text/x-python",
   "name": "python",
   "nbconvert_exporter": "python",
   "pygments_lexer": "ipython3",
   "version": "3.9.13"
  },
  "orig_nbformat": 4
 },
 "nbformat": 4,
 "nbformat_minor": 2
}
