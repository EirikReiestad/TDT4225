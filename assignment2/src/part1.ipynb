{
 "cells": [
  {
   "cell_type": "code",
   "execution_count": 5,
   "metadata": {},
   "outputs": [
    {
     "name": "stdout",
     "output_type": "stream",
     "text": [
      "ERROR: Failed to connect to db: 2003 (HY000): Can't connect to MySQL server on 'tdt4225-35.idi.ntnu.no:3306' (10060)\n"
     ]
    },
    {
     "ename": "AttributeError",
     "evalue": "'DbConnector' object has no attribute 'db_connection'",
     "output_type": "error",
     "traceback": [
      "\u001b[1;31m---------------------------------------------------------------------------\u001b[0m",
      "\u001b[1;31mAttributeError\u001b[0m                            Traceback (most recent call last)",
      "\u001b[1;32mc:\\Users\\TONY\\Documents\\ntnu\\H23\\TDT4225\\assignment2\\src\\part1.ipynb Cell 1\u001b[0m line \u001b[0;36m1\n\u001b[0;32m     <a href='vscode-notebook-cell:/c%3A/Users/TONY/Documents/ntnu/H23/TDT4225/assignment2/src/part1.ipynb#W0sZmlsZQ%3D%3D?line=10'>11</a>\u001b[0m user \u001b[39m=\u001b[39m os\u001b[39m.\u001b[39mgetenv(\u001b[39m'\u001b[39m\u001b[39mDB_USER\u001b[39m\u001b[39m'\u001b[39m)\n\u001b[0;32m     <a href='vscode-notebook-cell:/c%3A/Users/TONY/Documents/ntnu/H23/TDT4225/assignment2/src/part1.ipynb#W0sZmlsZQ%3D%3D?line=11'>12</a>\u001b[0m password \u001b[39m=\u001b[39m os\u001b[39m.\u001b[39mgetenv(\u001b[39m'\u001b[39m\u001b[39mDB_PASSWORD\u001b[39m\u001b[39m'\u001b[39m)\n\u001b[1;32m---> <a href='vscode-notebook-cell:/c%3A/Users/TONY/Documents/ntnu/H23/TDT4225/assignment2/src/part1.ipynb#W0sZmlsZQ%3D%3D?line=13'>14</a>\u001b[0m program \u001b[39m=\u001b[39m DbConnector(USER\u001b[39m=\u001b[39;49muser, PASSWORD\u001b[39m=\u001b[39;49mpassword)\n\u001b[0;32m     <a href='vscode-notebook-cell:/c%3A/Users/TONY/Documents/ntnu/H23/TDT4225/assignment2/src/part1.ipynb#W0sZmlsZQ%3D%3D?line=14'>15</a>\u001b[0m db \u001b[39m=\u001b[39m Database()\n",
      "File \u001b[1;32mc:\\Users\\TONY\\Documents\\ntnu\\H23\\TDT4225\\assignment2\\src\\DbConnector.py:41\u001b[0m, in \u001b[0;36mDbConnector.__init__\u001b[1;34m(self, HOST, DATABASE, USER, PASSWORD)\u001b[0m\n\u001b[0;32m     38\u001b[0m     \u001b[39mprint\u001b[39m(\u001b[39m\"\u001b[39m\u001b[39mERROR: Failed to connect to db:\u001b[39m\u001b[39m\"\u001b[39m, error)\n\u001b[0;32m     40\u001b[0m \u001b[39m# Get the db cursor\u001b[39;00m\n\u001b[1;32m---> 41\u001b[0m \u001b[39mself\u001b[39m\u001b[39m.\u001b[39mcursor \u001b[39m=\u001b[39m \u001b[39mself\u001b[39;49m\u001b[39m.\u001b[39;49mdb_connection\u001b[39m.\u001b[39mcursor()\n\u001b[0;32m     43\u001b[0m \u001b[39mprint\u001b[39m(\u001b[39m\"\u001b[39m\u001b[39mUsing user: \u001b[39m\u001b[39m\"\u001b[39m, \u001b[39mself\u001b[39m\u001b[39m.\u001b[39mdb_connection\u001b[39m.\u001b[39muser)\n\u001b[0;32m     44\u001b[0m \u001b[39mprint\u001b[39m(\u001b[39m\"\u001b[39m\u001b[39mConnected to:\u001b[39m\u001b[39m\"\u001b[39m, \u001b[39mself\u001b[39m\u001b[39m.\u001b[39mdb_connection\u001b[39m.\u001b[39mget_server_info())\n",
      "\u001b[1;31mAttributeError\u001b[0m: 'DbConnector' object has no attribute 'db_connection'"
     ]
    }
   ],
   "source": [
    "from DbConnector import DbConnector\n",
    "from part2 import Database \n",
    "from tabulate import tabulate\n",
    "\n",
    "# Set up the program\n",
    "from dotenv import load_dotenv\n",
    "import os\n",
    "\n",
    "load_dotenv()\n",
    "\n",
    "user = os.getenv('DB_USER')\n",
    "password = os.getenv('DB_PASSWORD')\n",
    "\n",
    "program = DbConnector(USER=user, PASSWORD=password)\n",
    "db = Database()"
   ]
  },
  {
   "cell_type": "markdown",
   "metadata": {},
   "source": [
    "### User table"
   ]
  },
  {
   "cell_type": "code",
   "execution_count": null,
   "metadata": {},
   "outputs": [],
   "source": [
    "columns_query =\"\"\"\n",
    "SELECT COLUMN_NAME\n",
    "  FROM INFORMATION_SCHEMA.COLUMNS\n",
    "  WHERE TABLE_SCHEMA = 'assignment2' AND TABLE_NAME = 'User'\n",
    "  ORDER BY ORDINAL_POSITION;\n",
    "\"\"\" \n",
    "db.cursor.execute(columns_query)\n",
    "columns = db.cursor.fetchall()\n",
    "query = \"\"\"SELECT * FROM User LIMIT 10\"\"\"\n",
    "db.cursor.execute(query)\n",
    "rows = db.cursor.fetchall()\n",
    "print(tabulate(rows , headers=[ i[0] for i in columns]))"
   ]
  },
  {
   "cell_type": "markdown",
   "metadata": {},
   "source": [
    "### Activity table"
   ]
  },
  {
   "cell_type": "code",
   "execution_count": null,
   "metadata": {},
   "outputs": [],
   "source": [
    "columns_query =\"\"\"\n",
    "SELECT COLUMN_NAME\n",
    "  FROM INFORMATION_SCHEMA.COLUMNS\n",
    "  WHERE TABLE_SCHEMA = 'assignment2' AND TABLE_NAME = 'Activity'\n",
    "  ORDER BY ORDINAL_POSITION;\n",
    "\"\"\" \n",
    "db.cursor.execute(columns_query)\n",
    "columns = db.cursor.fetchall()\n",
    "query = \"\"\"SELECT * FROM Activity LIMIT 10\"\"\"\n",
    "db.cursor.execute(query)\n",
    "rows = db.cursor.fetchall()\n",
    "print(tabulate(rows , headers=[ i[0] for i in columns]))"
   ]
  },
  {
   "cell_type": "markdown",
   "metadata": {},
   "source": [
    "### TrackPoint table"
   ]
  },
  {
   "cell_type": "code",
   "execution_count": null,
   "metadata": {},
   "outputs": [],
   "source": [
    "columns_query =\"\"\"\n",
    "SELECT COLUMN_NAME\n",
    "  FROM INFORMATION_SCHEMA.COLUMNS\n",
    "  WHERE TABLE_SCHEMA = 'assignment2' AND TABLE_NAME = 'TrackPoint'\n",
    "  ORDER BY ORDINAL_POSITION;\n",
    "\"\"\" \n",
    "db.cursor.execute(columns_query)\n",
    "columns = db.cursor.fetchall()\n",
    "query = \"\"\"SELECT * FROM TrackPoint LIMIT 10\"\"\"\n",
    "db.cursor.execute(query)\n",
    "rows = db.cursor.fetchall()\n",
    "print(tabulate(rows , headers=[ i[0] for i in columns]))"
   ]
  }
 ],
 "metadata": {
  "kernelspec": {
   "display_name": "venv",
   "language": "python",
   "name": "python3"
  },
  "language_info": {
   "codemirror_mode": {
    "name": "ipython",
    "version": 3
   },
   "file_extension": ".py",
   "mimetype": "text/x-python",
   "name": "python",
   "nbconvert_exporter": "python",
   "pygments_lexer": "ipython3",
   "version": "3.9.13"
  },
  "orig_nbformat": 4
 },
 "nbformat": 4,
 "nbformat_minor": 2
}
