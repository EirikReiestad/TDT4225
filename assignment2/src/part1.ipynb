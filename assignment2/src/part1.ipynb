{
 "cells": [
  {
   "cell_type": "code",
   "execution_count": null,
   "metadata": {},
   "outputs": [],
   "source": [
    "from DbConnector import DbConnector\n",
    "from part2 import Database \n",
    "from tabulate import tabulate\n",
    "\n",
    "# Set up the program\n",
    "from dotenv import load_dotenv\n",
    "import os\n",
    "\n",
    "load_dotenv()\n",
    "\n",
    "user = os.getenv('DB_USER')\n",
    "password = os.getenv('DB_PASSWORD')\n",
    "\n",
    "program = DbConnector(USER=user, PASSWORD=password)\n",
    "db = Database()"
   ]
  },
  {
   "cell_type": "markdown",
   "metadata": {},
   "source": [
    "### User table"
   ]
  },
  {
   "cell_type": "code",
   "execution_count": null,
   "metadata": {},
   "outputs": [],
   "source": [
    "columns_query =\"\"\"\n",
    "SELECT COLUMN_NAME\n",
    "  FROM INFORMATION_SCHEMA.COLUMNS\n",
    "  WHERE TABLE_SCHEMA = 'assignment2' AND TABLE_NAME = 'User'\n",
    "  ORDER BY ORDINAL_POSITION;\n",
    "\"\"\" \n",
    "db.cursor.execute(columns_query)\n",
    "columns = db.cursor.fetchall()\n",
    "query = \"\"\"SELECT * FROM User LIMIT 10\"\"\"\n",
    "db.cursor.execute(query)\n",
    "rows = db.cursor.fetchall()\n",
    "print(tabulate(rows , headers=[ i[0] for i in columns]))"
   ]
  },
  {
   "cell_type": "markdown",
   "metadata": {},
   "source": [
    "### Activity table"
   ]
  },
  {
   "cell_type": "code",
   "execution_count": null,
   "metadata": {},
   "outputs": [],
   "source": [
    "columns_query =\"\"\"\n",
    "SELECT COLUMN_NAME\n",
    "  FROM INFORMATION_SCHEMA.COLUMNS\n",
    "  WHERE TABLE_SCHEMA = 'assignment2' AND TABLE_NAME = 'Activity'\n",
    "  ORDER BY ORDINAL_POSITION;\n",
    "\"\"\" \n",
    "db.cursor.execute(columns_query)\n",
    "columns = db.cursor.fetchall()\n",
    "query = \"\"\"SELECT * FROM Activity LIMIT 10\"\"\"\n",
    "db.cursor.execute(query)\n",
    "rows = db.cursor.fetchall()\n",
    "print(tabulate(rows , headers=[ i[0] for i in columns]))"
   ]
  },
  {
   "cell_type": "markdown",
   "metadata": {},
   "source": [
    "### TrackPoint table"
   ]
  },
  {
   "cell_type": "code",
   "execution_count": null,
   "metadata": {},
   "outputs": [],
   "source": [
    "columns_query =\"\"\"\n",
    "SELECT COLUMN_NAME\n",
    "  FROM INFORMATION_SCHEMA.COLUMNS\n",
    "  WHERE TABLE_SCHEMA = 'assignment2' AND TABLE_NAME = 'TrackPoint'\n",
    "  ORDER BY ORDINAL_POSITION;\n",
    "\"\"\" \n",
    "db.cursor.execute(columns_query)\n",
    "columns = db.cursor.fetchall()\n",
    "query = \"\"\"SELECT * FROM TrackPoint LIMIT 10\"\"\"\n",
    "db.cursor.execute(query)\n",
    "rows = db.cursor.fetchall()\n",
    "print(tabulate(rows , headers=[ i[0] for i in columns]))"
   ]
  }
 ],
 "metadata": {
  "kernelspec": {
   "display_name": "venv",
   "language": "python",
   "name": "python3"
  },
  "language_info": {
   "codemirror_mode": {
    "name": "ipython",
    "version": 3
   },
   "file_extension": ".py",
   "mimetype": "text/x-python",
   "name": "python",
   "nbconvert_exporter": "python",
   "pygments_lexer": "ipython3",
   "version": "3.9.13"
  },
  "orig_nbformat": 4
 },
 "nbformat": 4,
 "nbformat_minor": 2
}
